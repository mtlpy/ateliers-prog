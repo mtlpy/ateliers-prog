{
 "cells": [
  {
   "cell_type": "markdown",
   "metadata": {
    "id": "XzG5b4b7byNu"
   },
   "source": [
    "# Agregateur-Web Pas-à-pas"
   ]
  },
  {
   "cell_type": "markdown",
   "metadata": {
    "id": "ZGdWZdbJej_a"
   },
   "source": [
    "## But\n",
    "\n",
    "Extraire les URLs et les formats de download des jeux de données relatifs à l'eau des données ouvertes de la ville de Montréal."
   ]
  },
  {
   "cell_type": "markdown",
   "metadata": {
    "id": "hSGBpTZrcBjJ"
   },
   "source": [
    "## Approche\n",
    "\n",
    "1. comprendre les données avant de coder\n",
    "    * HTML, css\n",
    "2. trouver _library_ de _scraping_ (HTML) de Python\n",
    "    * beautifulsoup (recommandé): https://pypi.org/project/beautifulsoup4/\n",
    "    * scrapy (plus compliqué, pour les dévelopeurs avancés): https://pypi.org/project/Scrapy/\n",
    "3. regarder la doc\n",
    "    * https://www.crummy.com/software/BeautifulSoup/bs4/doc/\n",
    "4. install\n",
    "    * colab `%pip install beautifulsoup4`\n",
    "    * machine locale `pip install beautifulsoup4`\n",
    "5. explorer\n",
    "    * `type()`\n",
    "    * introspection: `objet.` + tab\n",
    "        * méthodes: `objet.method()`\n",
    "        * attributs: `objet.attribute`\n",
    "        * list des méthodes et attributs: `dir(objet)`\n",
    "        * documentation de l'objet: `objet?` ou `help(objet)`\n",
    "        \n",
    "6. conserver code final (code qui marche)"
   ]
  },
  {
   "cell_type": "markdown",
   "metadata": {
    "id": "8_JIVCZ9ezZH"
   },
   "source": [
    "## Installer"
   ]
  },
  {
   "cell_type": "code",
   "execution_count": 1,
   "metadata": {
    "colab": {
     "base_uri": "https://localhost:8080/"
    },
    "executionInfo": {
     "elapsed": 6724,
     "status": "ok",
     "timestamp": 1649743480562,
     "user": {
      "displayName": "Ivan Savov",
      "userId": "13320182563968762712"
     },
     "user_tz": 240
    },
    "id": "lNh-J0CPe2qN",
    "outputId": "b1d86cef-23cf-415e-e3cc-50614b7309c2"
   },
   "outputs": [
    {
     "name": "stdout",
     "output_type": "stream",
     "text": [
      "Requirement already satisfied: beautifulsoup4 in /usr/local/lib/python3.7/dist-packages (4.6.3)\n"
     ]
    }
   ],
   "source": [
    "%pip install beautifulsoup4"
   ]
  },
  {
   "cell_type": "markdown",
   "metadata": {
    "id": "mA36q0AMe6YL"
   },
   "source": [
    "## Imports\n",
    "\n",
    "Le nom d'import n'est pas toujours le même que celui du _package_... :("
   ]
  },
  {
   "cell_type": "code",
   "execution_count": 2,
   "metadata": {
    "executionInfo": {
     "elapsed": 181,
     "status": "ok",
     "timestamp": 1649743480738,
     "user": {
      "displayName": "Ivan Savov",
      "userId": "13320182563968762712"
     },
     "user_tz": 240
    },
    "id": "CFbSYHNMe-_e"
   },
   "outputs": [],
   "source": [
    "import requests\n",
    "import bs4"
   ]
  },
  {
   "cell_type": "markdown",
   "metadata": {
    "id": "LGbSDA5GfW4E"
   },
   "source": [
    "## Explorer"
   ]
  },
  {
   "cell_type": "code",
   "execution_count": 3,
   "metadata": {
    "executionInfo": {
     "elapsed": 693,
     "status": "ok",
     "timestamp": 1649743481428,
     "user": {
      "displayName": "Ivan Savov",
      "userId": "13320182563968762712"
     },
     "user_tz": 240
    },
    "id": "HUbruHnrfwMU"
   },
   "outputs": [],
   "source": [
    "# tag eau avec org ville mtl\n",
    "# constante\n",
    "EAU_URL = \"https://donnees.montreal.ca/search?q=tags:Eau%20organization:ville-de-montreal&from=0\"\n",
    "\n",
    "# request, response\n",
    "response = requests.get(EAU_URL)"
   ]
  },
  {
   "cell_type": "code",
   "execution_count": 4,
   "metadata": {
    "colab": {
     "base_uri": "https://localhost:8080/"
    },
    "executionInfo": {
     "elapsed": 8,
     "status": "ok",
     "timestamp": 1649743481429,
     "user": {
      "displayName": "Ivan Savov",
      "userId": "13320182563968762712"
     },
     "user_tz": 240
    },
    "id": "JxOk2Ot3iicD",
    "outputId": "989b1b88-ac57-48ae-d631-1e30961d33e8"
   },
   "outputs": [
    {
     "data": {
      "text/plain": [
       "<Response [200]>"
      ]
     },
     "execution_count": 4,
     "metadata": {},
     "output_type": "execute_result"
    }
   ],
   "source": [
    "# explorer response\n",
    "response"
   ]
  },
  {
   "cell_type": "code",
   "execution_count": 5,
   "metadata": {
    "executionInfo": {
     "elapsed": 6,
     "status": "ok",
     "timestamp": 1649743481430,
     "user": {
      "displayName": "Ivan Savov",
      "userId": "13320182563968762712"
     },
     "user_tz": 240
    },
    "id": "KGPTuZt_icb2"
   },
   "outputs": [],
   "source": [
    "# instance de classe principale\n",
    "# type + introspection (namespace, attributes, methods)\n",
    "soup = bs4.BeautifulSoup(response.text)"
   ]
  },
  {
   "cell_type": "code",
   "execution_count": 19,
   "metadata": {
    "colab": {
     "base_uri": "https://localhost:8080/"
    },
    "executionInfo": {
     "elapsed": 5,
     "status": "ok",
     "timestamp": 1649743514141,
     "user": {
      "displayName": "Ivan Savov",
      "userId": "13320182563968762712"
     },
     "user_tz": 240
    },
    "id": "XEy6rffRirCQ",
    "outputId": "7b58ce23-14cf-43f5-c767-c0fa040f3de0"
   },
   "outputs": [
    {
     "name": "stdout",
     "output_type": "stream",
     "text": [
      "<!DOCTYPE html>\n",
      "<html lang=\"en\">\n",
      "<head>\n",
      "<meta charset=\"utf-8\"/>\n",
      "<title>\n",
      "    \n",
      "Search\n",
      "\n",
      "  </title>\n",
      "<meta content=\"https://donnees.montreal.ca/static/img/donnees-montreal-opengraph.jpg\" property=\"og:image\"/>\n",
      "<meta content=\"Datopian\" name=\"author\"/>\n",
      "<link href=\"/static/img/favicon.png\" rel=\"icon\" type=\"image/png\"/>\n",
      "<meta content=\"width=device-width, initial-scale=1.0, maximum-scale=1.0, user-scalable=no\" name=\"viewport\"/>\n",
      "<link href=\"/static/stylesheets/app.css\" rel=\"stylesheet\"/>\n",
      "<link href=\"/static/stylesheets/montreal.css\" rel=\"stylesheet\"/>\n",
      "<link href=\"/static/font-icon/_icons.css\" rel=\"stylesh\n"
     ]
    }
   ],
   "source": [
    "# explorer soup\n",
    "print(str(soup)[0:600])"
   ]
  },
  {
   "cell_type": "code",
   "execution_count": 7,
   "metadata": {
    "executionInfo": {
     "elapsed": 4,
     "status": "ok",
     "timestamp": 1649743481684,
     "user": {
      "displayName": "Ivan Savov",
      "userId": "13320182563968762712"
     },
     "user_tz": 240
    },
    "id": "urOXEtKxin01"
   },
   "outputs": [],
   "source": [
    "# DOM\n",
    "# element (tags): elem\n",
    "# contenu (text): elem.text\n",
    "# attribut: elem['attr'] ou mieux, elem.get('attr')\n",
    "# tree\n",
    "html = soup.find('html')"
   ]
  },
  {
   "cell_type": "code",
   "execution_count": 20,
   "metadata": {
    "executionInfo": {
     "elapsed": 285,
     "status": "ok",
     "timestamp": 1649743528862,
     "user": {
      "displayName": "Ivan Savov",
      "userId": "13320182563968762712"
     },
     "user_tz": 240
    },
    "id": "RHwzku5_iytc"
   },
   "outputs": [],
   "source": [
    "# explorer élément\n",
    "# html"
   ]
  },
  {
   "cell_type": "code",
   "execution_count": 9,
   "metadata": {
    "executionInfo": {
     "elapsed": 22,
     "status": "ok",
     "timestamp": 1649743481919,
     "user": {
      "displayName": "Ivan Savov",
      "userId": "13320182563968762712"
     },
     "user_tz": 240
    },
    "id": "mXFakvwmi1GQ"
   },
   "outputs": [],
   "source": [
    "# scraping\n",
    "h3_links = soup.select(\"h3.text-lg a\")"
   ]
  },
  {
   "cell_type": "code",
   "execution_count": 10,
   "metadata": {
    "colab": {
     "base_uri": "https://localhost:8080/"
    },
    "executionInfo": {
     "elapsed": 21,
     "status": "ok",
     "timestamp": 1649743481919,
     "user": {
      "displayName": "Ivan Savov",
      "userId": "13320182563968762712"
     },
     "user_tz": 240
    },
    "id": "GuRq4Drwi5w8",
    "outputId": "6ece3ebf-b75a-4a75-ca8c-bd922cd8439d"
   },
   "outputs": [
    {
     "data": {
      "text/plain": [
       "[<a class=\"text-gray-900 hover:text-primary\" href=\"/ville-de-montreal/compteurs-eau\">Compteurs d'eau exploités par la Ville de Montréal</a>,\n",
       " <a class=\"text-gray-900 hover:text-primary\" href=\"/ville-de-montreal/depistage-entrees-service-plomb\">Résultats du dépistage des entrées de service en plomb réalisé par un Palintest</a>,\n",
       " <a class=\"text-gray-900 hover:text-primary\" href=\"/ville-de-montreal/installations-recreatives-sportives-et-culturelles\">Installations récréatives, sportives et culturelles extérieures</a>,\n",
       " <a class=\"text-gray-900 hover:text-primary\" href=\"/ville-de-montreal/hydrographie\">Hydrographie</a>,\n",
       " <a class=\"text-gray-900 hover:text-primary\" href=\"/ville-de-montreal/cours-d-eau-et-fosse\">Cours d'eau et fossés</a>,\n",
       " <a class=\"text-gray-900 hover:text-primary\" href=\"/ville-de-montreal/rsma-donnees-courdo-speciales\">RSMA - Données COURDO spéciales</a>,\n",
       " <a class=\"text-gray-900 hover:text-primary\" href=\"/ville-de-montreal/geolocalisation-des-bornes-fontaines\">Bornes d'incendie</a>,\n",
       " <a class=\"text-gray-900 hover:text-primary\" href=\"/ville-de-montreal/debit-station-epuration\">Débit aux affluent et effluent de la station d’épuration (saison estival 2015)</a>,\n",
       " <a class=\"text-gray-900 hover:text-primary\" href=\"/ville-de-montreal/concentration-mes-station-epuration\">Concentration en MES à l'affluent et à l'effluent de la station d’épuration (période estivale 2015)</a>,\n",
       " <a class=\"text-gray-900 hover:text-primary\" href=\"/ville-de-montreal/pluviometrie\">Pluviométrie dans le bassin de l'intercepteur sud-est  (période estivale 2015)</a>]"
      ]
     },
     "execution_count": 10,
     "metadata": {},
     "output_type": "execute_result"
    }
   ],
   "source": [
    "# explorer list d'éléments scrapés\n",
    "h3_links"
   ]
  },
  {
   "cell_type": "markdown",
   "metadata": {
    "id": "_HOPUH7IfxTI"
   },
   "source": [
    "## Exercice 1: liste des jeux de données"
   ]
  },
  {
   "cell_type": "code",
   "execution_count": 11,
   "metadata": {
    "colab": {
     "base_uri": "https://localhost:8080/"
    },
    "executionInfo": {
     "elapsed": 154,
     "status": "ok",
     "timestamp": 1649743482064,
     "user": {
      "displayName": "Ivan Savov",
      "userId": "13320182563968762712"
     },
     "user_tz": 240
    },
    "id": "pl_cNp9Ff2x7",
    "outputId": "cd7190cb-1610-4afa-dd21-8f92f7adb049"
   },
   "outputs": [
    {
     "name": "stdout",
     "output_type": "stream",
     "text": [
      "Compteurs d'eau exploités par la Ville de Montréal: https://donnees.montreal.ca/ville-de-montreal/compteurs-eau\n",
      "Résultats du dépistage des entrées de service en plomb réalisé par un Palintest: https://donnees.montreal.ca/ville-de-montreal/depistage-entrees-service-plomb\n",
      "Installations récréatives, sportives et culturelles extérieures: https://donnees.montreal.ca/ville-de-montreal/installations-recreatives-sportives-et-culturelles\n",
      "Hydrographie: https://donnees.montreal.ca/ville-de-montreal/hydrographie\n",
      "Cours d'eau et fossés: https://donnees.montreal.ca/ville-de-montreal/cours-d-eau-et-fosse\n",
      "RSMA - Données COURDO spéciales: https://donnees.montreal.ca/ville-de-montreal/rsma-donnees-courdo-speciales\n",
      "Bornes d'incendie: https://donnees.montreal.ca/ville-de-montreal/geolocalisation-des-bornes-fontaines\n",
      "Débit aux affluent et effluent de la station d’épuration (saison estival 2015): https://donnees.montreal.ca/ville-de-montreal/debit-station-epuration\n",
      "Concentration en MES à l'affluent et à l'effluent de la station d’épuration (période estivale 2015): https://donnees.montreal.ca/ville-de-montreal/concentration-mes-station-epuration\n",
      "Pluviométrie dans le bassin de l'intercepteur sud-est  (période estivale 2015): https://donnees.montreal.ca/ville-de-montreal/pluviometrie\n"
     ]
    }
   ],
   "source": [
    "# liens relatifs... et slashes (faut striper?)\n",
    "base_url = 'https://donnees.montreal.ca'\n",
    "# for loop\n",
    "for a in h3_links:\n",
    "    # string formatting: f-string\n",
    "    print(f\"{a.text}: {base_url}{a.get('href')}\")"
   ]
  },
  {
   "cell_type": "markdown",
   "metadata": {
    "id": "nPVGfHoof87c"
   },
   "source": [
    "## Exercice 2: formats de fichier disponibles"
   ]
  },
  {
   "cell_type": "code",
   "execution_count": 12,
   "metadata": {
    "colab": {
     "base_uri": "https://localhost:8080/"
    },
    "executionInfo": {
     "elapsed": 15,
     "status": "ok",
     "timestamp": 1649743482065,
     "user": {
      "displayName": "Ivan Savov",
      "userId": "13320182563968762712"
     },
     "user_tz": 240
    },
    "id": "utslVnjyf_vF",
    "outputId": "c1a4759c-c3e7-4de1-8e33-cb6b7c6bfcaf"
   },
   "outputs": [
    {
     "name": "stdout",
     "output_type": "stream",
     "text": [
      "Compteurs d'eau exploités par la Ville de Montréal (CSV,GeoJSON,SHP): https://donnees.montreal.ca/ville-de-montreal/compteurs-eau\n",
      "Résultats du dépistage des entrées de service en plomb réalisé par un Palintest (WEB,CSV): https://donnees.montreal.ca/ville-de-montreal/depistage-entrees-service-plomb\n",
      "Installations récréatives, sportives et culturelles extérieures (CSV,GeoJSON,SHP): https://donnees.montreal.ca/ville-de-montreal/installations-recreatives-sportives-et-culturelles\n",
      "Hydrographie (SHP,PDF): https://donnees.montreal.ca/ville-de-montreal/hydrographie\n",
      "Cours d'eau et fossés (SHP,GeoJSON,KML): https://donnees.montreal.ca/ville-de-montreal/cours-d-eau-et-fosse\n",
      "RSMA - Données COURDO spéciales (CSV): https://donnees.montreal.ca/ville-de-montreal/rsma-donnees-courdo-speciales\n",
      "Bornes d'incendie (JSON,SHP): https://donnees.montreal.ca/ville-de-montreal/geolocalisation-des-bornes-fontaines\n",
      "Débit aux affluent et effluent de la station d’épuration (saison estival 2015) (XLS,PDF): https://donnees.montreal.ca/ville-de-montreal/debit-station-epuration\n",
      "Concentration en MES à l'affluent et à l'effluent de la station d’épuration (période estivale 2015) (XLS,PDF): https://donnees.montreal.ca/ville-de-montreal/concentration-mes-station-epuration\n",
      "Pluviométrie dans le bassin de l'intercepteur sud-est  (période estivale 2015) (XLS,PDF): https://donnees.montreal.ca/ville-de-montreal/pluviometrie\n"
     ]
    }
   ],
   "source": [
    "## Exercice: formats de fichier disponible\n",
    "results = soup.select(\"ul.pt-gutter li.mt-2\")\n",
    "for result in results:\n",
    "    links = result.select(\"h3.text-lg a\")\n",
    "    if len(links) == 1:\n",
    "        a = links[0]\n",
    "        formats_as = result.select(\"ul.mt-2 li a\")\n",
    "        # list comprehension\n",
    "        formats_texts = [a.text for a in formats_as]\n",
    "        # join\n",
    "        formats_str = ','.join(formats_texts)\n",
    "        print(f\"{a.text} ({formats_str}): {base_url}{a.get('href')}\")\n",
    "    else:\n",
    "        print(\"aucun résultat trouvé\")"
   ]
  },
  {
   "cell_type": "markdown",
   "metadata": {
    "id": "PCDbQrr6g6fN"
   },
   "source": [
    "## Exercice 3: pagination"
   ]
  },
  {
   "cell_type": "code",
   "execution_count": 13,
   "metadata": {
    "colab": {
     "base_uri": "https://localhost:8080/"
    },
    "executionInfo": {
     "elapsed": 12,
     "status": "ok",
     "timestamp": 1649743482065,
     "user": {
      "displayName": "Ivan Savov",
      "userId": "13320182563968762712"
     },
     "user_tz": 240
    },
    "id": "wtGXXOgzhDRS",
    "outputId": "faf26989-48ec-40a6-e50c-e99b9d767552"
   },
   "outputs": [
    {
     "data": {
      "text/plain": [
       "10"
      ]
     },
     "execution_count": 13,
     "metadata": {},
     "output_type": "execute_result"
    }
   ],
   "source": [
    "# la page web dit qu'il y a 24 résultats\n",
    "len(results)\n",
    "# mais on n'en a que 10... car pagination\n"
   ]
  },
  {
   "cell_type": "code",
   "execution_count": 14,
   "metadata": {
    "colab": {
     "base_uri": "https://localhost:8080/"
    },
    "executionInfo": {
     "elapsed": 2073,
     "status": "ok",
     "timestamp": 1649743484132,
     "user": {
      "displayName": "Ivan Savov",
      "userId": "13320182563968762712"
     },
     "user_tz": 240
    },
    "id": "0kfZkOpBhcos",
    "outputId": "f8e85c0b-3c17-4429-f256-a73f6786f3f8"
   },
   "outputs": [
    {
     "name": "stdout",
     "output_type": "stream",
     "text": [
      "Calling: https://donnees.montreal.ca/search?q=tags:Eau%20organization:ville-de-montreal&from=0\n",
      "next = 10\n",
      "Calling: https://donnees.montreal.ca/search?q=tags:Eau%20organization:ville-de-montreal&from=10\n",
      "next = 20\n",
      "Calling: https://donnees.montreal.ca/search?q=tags:Eau%20organization:ville-de-montreal&from=20\n",
      "next = 30\n",
      "Calling: https://donnees.montreal.ca/search?q=tags:Eau%20organization:ville-de-montreal&from=30\n",
      "Stop it...\n"
     ]
    }
   ],
   "source": [
    "# get all pages\n",
    "results_per_page = 10\n",
    "results_from = 0    # from = reserved names\n",
    "has_results = True\n",
    "pages = []\n",
    "\n",
    "# while loop\n",
    "while has_results:\n",
    "    # get page with a specific \"from\" parameter\n",
    "    url = f\"https://donnees.montreal.ca/search?q=tags:Eau%20organization:ville-de-montreal&from={results_from}\"\n",
    "    print(f\"Calling: {url}\")  # print permits infinite loop troubleshooting\n",
    "    response = requests.get(url)\n",
    "    soup = bs4.BeautifulSoup(response.text)\n",
    "\n",
    "    # test if there is results\n",
    "    h3 = soup.select(\"h3.text-lg\")\n",
    "    if len(h3) > 0:\n",
    "        # ok this page has results\n",
    "        # add to list of pages (append! because ordered)\n",
    "        pages.append(soup)\n",
    "        # increment from for next page\n",
    "        results_from += results_per_page\n",
    "        print(f\"next = {results_from}\")\n",
    "    else:\n",
    "        # no more results\n",
    "        # exit condition\n",
    "        has_results = False\n",
    "        print(\"Stop it...\")"
   ]
  },
  {
   "cell_type": "code",
   "execution_count": 15,
   "metadata": {
    "colab": {
     "base_uri": "https://localhost:8080/"
    },
    "executionInfo": {
     "elapsed": 9,
     "status": "ok",
     "timestamp": 1649743484273,
     "user": {
      "displayName": "Ivan Savov",
      "userId": "13320182563968762712"
     },
     "user_tz": 240
    },
    "id": "3XLiL_gfhhTN",
    "outputId": "7dc9d5d2-069d-4af8-cce7-f45131c22ac8"
   },
   "outputs": [
    {
     "data": {
      "text/plain": [
       "25"
      ]
     },
     "execution_count": 15,
     "metadata": {},
     "output_type": "execute_result"
    }
   ],
   "source": [
    "# get all results\n",
    "all_results = []\n",
    "for soup in pages:\n",
    "    results = soup.select(\"ul.pt-gutter li.mt-2\")\n",
    "    all_results.extend(results)\n",
    "len(all_results)\n",
    "# 24, voilaaaa"
   ]
  },
  {
   "cell_type": "code",
   "execution_count": 16,
   "metadata": {
    "colab": {
     "base_uri": "https://localhost:8080/"
    },
    "executionInfo": {
     "elapsed": 8,
     "status": "ok",
     "timestamp": 1649743484274,
     "user": {
      "displayName": "Ivan Savov",
      "userId": "13320182563968762712"
     },
     "user_tz": 240
    },
    "id": "viGntVs3hnil",
    "outputId": "990f0ef9-1578-441f-9f68-1b134e647fe1"
   },
   "outputs": [
    {
     "name": "stdout",
     "output_type": "stream",
     "text": [
      "Compteurs d'eau exploités par la Ville de Montréal (CSV,GeoJSON,SHP): https://donnees.montreal.ca/ville-de-montreal/compteurs-eau\n",
      "Résultats du dépistage des entrées de service en plomb réalisé par un Palintest (WEB,CSV): https://donnees.montreal.ca/ville-de-montreal/depistage-entrees-service-plomb\n",
      "Installations récréatives, sportives et culturelles extérieures (CSV,GeoJSON,SHP): https://donnees.montreal.ca/ville-de-montreal/installations-recreatives-sportives-et-culturelles\n",
      "Hydrographie (SHP,PDF): https://donnees.montreal.ca/ville-de-montreal/hydrographie\n",
      "Cours d'eau et fossés (SHP,GeoJSON,KML): https://donnees.montreal.ca/ville-de-montreal/cours-d-eau-et-fosse\n",
      "RSMA - Données COURDO spéciales (CSV): https://donnees.montreal.ca/ville-de-montreal/rsma-donnees-courdo-speciales\n",
      "Bornes d'incendie (JSON,SHP): https://donnees.montreal.ca/ville-de-montreal/geolocalisation-des-bornes-fontaines\n",
      "Débit aux affluent et effluent de la station d’épuration (saison estival 2015) (XLS,PDF): https://donnees.montreal.ca/ville-de-montreal/debit-station-epuration\n",
      "Concentration en MES à l'affluent et à l'effluent de la station d’épuration (période estivale 2015) (XLS,PDF): https://donnees.montreal.ca/ville-de-montreal/concentration-mes-station-epuration\n",
      "Pluviométrie dans le bassin de l'intercepteur sud-est  (période estivale 2015) (XLS,PDF): https://donnees.montreal.ca/ville-de-montreal/pluviometrie\n",
      "Génotoxicité de l'eau de surface, rives des l'île des Sœurs et de Sorel, travaux intercepteur sud-est, Nov. 2015 (XLSX,CSV): https://donnees.montreal.ca/ville-de-montreal/genotoxicite-de-l-eau-de-surface-nov-2015\n",
      "Pluviomètre (SHP,GeoJSON,CSV): https://donnees.montreal.ca/ville-de-montreal/pluviometre\n",
      "Qualité physico-chimique des eaux usées non traitées, travaux intercepteur sud-est, Nov. 2015 (XLSX,CSV): https://donnees.montreal.ca/ville-de-montreal/qualite-physico-chimique-des-eaux-usees-non-traitees-de-l-intercepteur-sud-est\n",
      "Concentration en métaux et métalloïdes des plantes prélevées, travaux intercepteur sud-est, Nov. 2015 (XLSX,CSV): https://donnees.montreal.ca/ville-de-montreal/concentration-en-metaux-et-metalloides-des-plantes-prelevees-nov-2015\n",
      "Rive publique (SHP,GeoJSON,KMZ): https://donnees.montreal.ca/ville-de-montreal/rive-publique\n",
      "Résultats du Plan d'intervention des actifs des réseaux d'eau potable, d'égouts et de voirie de la Ville de Montréal (GeoJSON,SHP,XLSX,PDF): https://donnees.montreal.ca/ville-de-montreal/resultats-plan-intervention-actifs-eau-voirie\n",
      "Toxicité aiguë de l'eau de surface du Fleuve, travaux intercepteur sud-est, Nov. 2015 (XLSX,CSV): https://donnees.montreal.ca/ville-de-montreal/toxicite-aigue-de-l-eau-de-surface-du-fleuve-travaux-intercepteur-sud-est-nov-2015\n",
      "Essais de létalité aiguë sur la truite arc-en-ciel effectués sur les eaux usées non traitées, travaux intercepteur sud-est, Nov. 2015 (XLSX,CSV): https://donnees.montreal.ca/ville-de-montreal/essais-de-letalite-aigue-sur-la-truite-novembre-2015\n",
      "Paramètres physico-chimique et toxicité des sédiments, travaux intercepteur sud-est, Nov. 2015 (XLSX,CSV): https://donnees.montreal.ca/ville-de-montreal/essais-de-toxicite-des-sediments-intercepteur-sud-est-novembre-2015\n",
      "Bilan des contingences (CSV,XLS): https://donnees.montreal.ca/ville-de-montreal/bilan-des-contingences\n",
      "Regards d'égouts (SHP,GeoJSON): https://donnees.montreal.ca/ville-de-montreal/regards-egouts\n",
      "Puisards d'égouts (SHP,GeoJSON): https://donnees.montreal.ca/ville-de-montreal/puisards-egouts\n",
      "Fontaines à boire extérieures (CSV): https://donnees.montreal.ca/ville-de-montreal/fontaines-a-boire-eau-exterieures\n",
      "Suivi de la qualité de l'eau des effluents industriels, travaux intercepteur sud-est, Nov. 2015 (CSV): https://donnees.montreal.ca/ville-de-montreal/cri-suivi-effluents-industriels-travaux-intercepteur-s-e-automne-2015\n",
      "Étendus d'eau sur l'île de Montréal (lac et cours d'eau) (SHP): https://donnees.montreal.ca/ville-de-montreal/limites-cours-eau\n"
     ]
    }
   ],
   "source": [
    "# format results (previous code)\n",
    "for result in all_results:\n",
    "    links = result.select(\"h3.text-lg a\")\n",
    "    # if else dans un oneliner\n",
    "    a = links[0] if len(links) == 1 else None\n",
    "    formats_as = result.select(\"ul.mt-2 li a\")\n",
    "    formats_texts = [a.text for a in formats_as]\n",
    "    formats_str = ','.join(formats_texts)\n",
    "    print(f\"{a.text} ({formats_str}): {base_url}{a['href']}\")"
   ]
  },
  {
   "cell_type": "markdown",
   "metadata": {
    "id": "K1aOuCbXhqx0"
   },
   "source": [
    "## Conclusion\n",
    "\n",
    "* pas de magie: scraping très sensible à structure de page(s)...\n",
    "* faut la connaître\n",
    "* peut changer\n",
    "* pour ça qu'on préfère des APIs...\n"
   ]
  },
  {
   "cell_type": "markdown",
   "metadata": {
    "id": "ky2qiB1B6ESZ"
   },
   "source": [
    "# Licence"
   ]
  },
  {
   "cell_type": "markdown",
   "metadata": {
    "id": "fkOckSXf6FkN"
   },
   "source": [
    "Copyright 2021 Montréal-Python\n",
    "\n",
    "Permission is hereby granted, free of charge, to any person obtaining a copy of this software and associated documentation files (the \"Software\"), to deal in the Software without restriction, including without limitation the rights to use, copy, modify, merge, publish, distribute, sublicense, and/or sell copies of the Software, and to permit persons to whom the Software is furnished to do so, subject to the following conditions:\n",
    "\n",
    "The above copyright notice and this permission notice shall be included in all copies or substantial portions of the Software.\n",
    "\n",
    "THE SOFTWARE IS PROVIDED \"AS IS\", WITHOUT WARRANTY OF ANY KIND, EXPRESS OR IMPLIED, INCLUDING BUT NOT LIMITED TO THE WARRANTIES OF MERCHANTABILITY, FITNESS FOR A PARTICULAR PURPOSE AND NONINFRINGEMENT. IN NO EVENT SHALL THE AUTHORS OR COPYRIGHT HOLDERS BE LIABLE FOR ANY CLAIM, DAMAGES OR OTHER LIABILITY, WHETHER IN AN ACTION OF CONTRACT, TORT OR OTHERWISE, ARISING FROM, OUT OF OR IN CONNECTION WITH THE SOFTWARE OR THE USE OR OTHER DEALINGS IN THE SOFTWARE.\n"
   ]
  }
 ],
 "metadata": {
  "colab": {
   "collapsed_sections": [],
   "name": "Agregateur-Web_solution.ipynb",
   "provenance": []
  },
  "kernelspec": {
   "display_name": "Python 3",
   "name": "python3"
  },
  "language_info": {
   "name": "python"
  }
 },
 "nbformat": 4,
 "nbformat_minor": 0
}
