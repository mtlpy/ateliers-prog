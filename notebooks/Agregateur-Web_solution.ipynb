{
 "cells": [
  {
   "cell_type": "markdown",
   "metadata": {
    "id": "eLWj7owzMM1A"
   },
   "source": [
    "# Agrégateur Web\n",
    "\n",
    "Grâce à Python, on peut extraire des informations d'un site web et les structurer pour en faire l'analyse plus facilement. L'agrégation web (web scraping en anglais) est une habileté qui vaut la peine d'apprendre pour pouvoir extraire le texte, donées, et telécharger les fichiers de toute sortes de sites.\n",
    "\n",
    "Nous utiliserons le site web de la ville de Montréal: https://donnees.montreal.ca/ville-de-montreal comme source pour cet atelier.\n",
    "\n",
    "### Questions:\n",
    "- Quels sont les jeux de données disponibles en rapport à l'eau de Montréal ?  \n",
    "  (ceci correspond aux résultats de la recherche pour le `tag` Eau, [voir ici](https://donnees.montreal.ca/search?q=tags:Eau))\n",
    "- Quels sont les formats de fichiers offerts pour chaque jeu de donnée ?\n",
    "\n",
    "### Libraries:\n",
    "Nous allons utiliser:\n",
    "- le module `requests` pour fire les requètes HTTP\n",
    "- le module Beautiful Soup (`bs4`) pour acceder au contenu des page web de façon structurée"
   ]
  },
  {
   "cell_type": "markdown",
   "metadata": {
    "id": "UzNZBQS34zJ7"
   },
   "source": [
    "## Approche\n",
    "\n",
    "1. comprendre les données avant de coder\n",
    "    * HTML, CSS \n",
    "2. trouver _library_ de _scraping_ (HTML) de Python\n",
    "    * beautifulsoup (recommandé): https://pypi.org/project/beautifulsoup4/\n",
    "    * scrapy (plus compliqué, pour les dévelopeurs avancés): https://pypi.org/project/Scrapy/\n",
    "3. regarder la doc\n",
    "    * https://www.crummy.com/software/BeautifulSoup/bs4/doc/\n",
    "4. install\n",
    "    * notebook ou colab `%pip install requests beautifulsoup4 `\n",
    "    * command line `pip install requests beautifulsoup4`\n",
    "5. explorer\n",
    "    * `type()`\n",
    "    * introspection: `objet.` + TAB\n",
    "        * méthodes: `objet.method()`\n",
    "        * attributs: `objet.attribute`\n",
    "        * list des méthodes et attributs: `dir(objet)`\n",
    "        * documentation de l'objet: `objet?` ou `help(objet)`\n",
    "        \n",
    "6. conserver code final (code qui marche)"
   ]
  },
  {
   "cell_type": "markdown",
   "metadata": {
    "id": "Vd_mtpiCdBFb"
   },
   "source": [
    "## 1. Téléchargement de la page\n",
    "\n",
    "Nous voulons télécharger le contenu de la page suivante: https://donnees.montreal.ca/search?q=tags:Eau&from=0 \n",
    "\n",
    "Pour ce faire, nous utiliserons le module `requests`:"
   ]
  },
  {
   "cell_type": "code",
   "execution_count": null,
   "metadata": {
    "id": "JB8Oj2uF4p3d"
   },
   "outputs": [],
   "source": [
    "## si besoin\n",
    "# %pip install requests"
   ]
  },
  {
   "cell_type": "markdown",
   "metadata": {
    "id": "KK83gTee4p3e"
   },
   "source": [
    "Le module `requests` agit un peu comme votre furteur web, ça GET des pages web."
   ]
  },
  {
   "cell_type": "code",
   "execution_count": null,
   "metadata": {
    "id": "qhy3lufLMTaI"
   },
   "outputs": [],
   "source": [
    "import requests\n",
    "\n",
    "HOST = \"https://donnees.montreal.ca\"\n",
    "PATH = \"/search\"\n",
    "QUERY_STRING = \"?q=tags:Eau&from=0\"\n",
    "EAU_URL = HOST + PATH + QUERY_STRING\n",
    "\n",
    "response = requests.get(EAU_URL)"
   ]
  },
  {
   "cell_type": "code",
   "execution_count": null,
   "metadata": {
    "id": "cLixLfjZHeTD",
    "outputId": "4df44478-2a12-4ddc-edcc-f55f6d260767"
   },
   "outputs": [
    {
     "data": {
      "text/plain": [
       "requests.models.Response"
      ]
     },
     "execution_count": 3,
     "metadata": {},
     "output_type": "execute_result"
    }
   ],
   "source": [
    "type(response)"
   ]
  },
  {
   "cell_type": "code",
   "execution_count": null,
   "metadata": {
    "id": "hPwxTJHWHgg6",
    "outputId": "4dc31cda-18d4-4d65-f664-7b24d40d4382"
   },
   "outputs": [
    {
     "data": {
      "text/plain": [
       "54225"
      ]
     },
     "execution_count": 4,
     "metadata": {},
     "output_type": "execute_result"
    }
   ],
   "source": [
    "len(response.text)"
   ]
  },
  {
   "cell_type": "code",
   "execution_count": null,
   "metadata": {
    "id": "VivNxhRmHp4S",
    "outputId": "54573514-3e47-4867-aca1-c5ebf4b20541"
   },
   "outputs": [
    {
     "name": "stdout",
     "output_type": "stream",
     "text": [
      "<!DOCTYPE html>\n",
      "<html lang=\"en\">\n",
      "<head>\n",
      "  <meta charset=\"utf-8\">\n",
      "  <title>\n",
      "    \n",
      "Search\n",
      "\n",
      "  </title>\n",
      " \n"
     ]
    }
   ],
   "source": [
    "# premiers 100 charactères du contenu de la page\n",
    "print(response.text[0:100])"
   ]
  },
  {
   "cell_type": "code",
   "execution_count": null,
   "metadata": {
    "id": "MPxxBy-IH84k"
   },
   "outputs": [],
   "source": [
    "# le contenu de la page au complet\n",
    "# response.text"
   ]
  },
  {
   "cell_type": "code",
   "execution_count": null,
   "metadata": {
    "id": "VmDHPTRhG_bE"
   },
   "outputs": [],
   "source": []
  },
  {
   "cell_type": "markdown",
   "metadata": {
    "id": "yHP0wZa6GYBx"
   },
   "source": [
    "Nou avons le contenu de la [page web](https://donnees.montreal.ca/search?q=tags:Eau) sous forme de text dans `response.text`, mais ce n'est pas très utile par soi.\n",
    "\n",
    "## 2. Analyse structurelle du contenu HTML de la page\n",
    "\n",
    "La librairie Python Beautiful Soup nous permet de comprendre la structure de la page HTML ce qui est très utile."
   ]
  },
  {
   "cell_type": "code",
   "execution_count": null,
   "metadata": {
    "id": "T8s0eqST4p3l"
   },
   "outputs": [],
   "source": [
    "## si besoin\n",
    "# %pip install beautifulsoup4"
   ]
  },
  {
   "cell_type": "code",
   "execution_count": null,
   "metadata": {
    "id": "cd5tw7qFGW64"
   },
   "outputs": [],
   "source": [
    "import bs4\n",
    "soup = bs4.BeautifulSoup(response.text)"
   ]
  },
  {
   "cell_type": "code",
   "execution_count": null,
   "metadata": {
    "id": "N8d0dfIqI3oR",
    "outputId": "50bd5719-db83-4e10-ddfb-88a143843821"
   },
   "outputs": [
    {
     "data": {
      "text/plain": [
       "bs4.BeautifulSoup"
      ]
     },
     "execution_count": 9,
     "metadata": {},
     "output_type": "execute_result"
    }
   ],
   "source": [
    "type(soup)"
   ]
  },
  {
   "cell_type": "markdown",
   "metadata": {
    "id": "s1mrkqV5dhqS"
   },
   "source": [
    "Voici un aperçu de comment on peut accéder aux éléments dans notre soupe."
   ]
  },
  {
   "cell_type": "code",
   "execution_count": null,
   "metadata": {
    "id": "cuwGtIlqIHKE",
    "outputId": "e86f0a19-e061-4c8d-aae6-d61074f2dc27"
   },
   "outputs": [
    {
     "name": "stdout",
     "output_type": "stream",
     "text": [
      "<a class=\"logo\" href=\"/\">\n",
      "<img alt=\"City of Montreal\" src=\"/static/img/logo.svg\" title=\"City of Montreal\" width=\"190px\"/>\n",
      "</a>\n"
     ]
    }
   ],
   "source": [
    "# imprimer le contenu du premier lien dans la page\n",
    "html = soup.find(\"html\")\n",
    "link = html.find(\"a\")\n",
    "print(link)"
   ]
  },
  {
   "cell_type": "code",
   "execution_count": null,
   "metadata": {
    "id": "FGuHykvnP9ar",
    "outputId": "0c076a48-b40d-44de-ee09-1d58d22d3a30"
   },
   "outputs": [
    {
     "name": "stdout",
     "output_type": "stream",
     "text": [
      "text = Organisations\n",
      "len(text) = 1\n",
      "CSS classes = ['pb-4', 'font-semibold', 'text-2xl', 'text-gray-900']\n",
      "children= ['Organisations']\n"
     ]
    }
   ],
   "source": [
    "# trouver le premier titre H3 dans le grand-grand-grand-parent du premier lien\n",
    "titre_h3 = link.parent.parent.parent.parent.find(\"h3\")\n",
    "print(\"text =\", titre_h3.text)\n",
    "print(\"len(text) =\", len(titre_h3))\n",
    "print(\"CSS classes =\", titre_h3[\"class\"])\n",
    "print(\"children=\", list(titre_h3.children))"
   ]
  },
  {
   "cell_type": "markdown",
   "metadata": {
    "id": "GvoAzHqEJyE6"
   },
   "source": [
    "On voit qu'on peut naviguer le document HTML comme un arbre avec les attributs `parent` et `children`. On voit aussi qu'on peut trouver des éléments spécifiques par nom de balises (en anglais: \"tag\"). \n",
    "\n",
    "Vous pouvez imaginer une page Web comme un arbre de balises. Prennont le document suivant:"
   ]
  },
  {
   "cell_type": "code",
   "execution_count": null,
   "metadata": {
    "id": "eRl74WkJJ1mJ"
   },
   "outputs": [],
   "source": [
    "html1 = \"\"\"\n",
    "<html>\n",
    "  <head>\n",
    "    <title>Titre de la page</title>\n",
    "  </head>\n",
    "  <body>\n",
    "    <h1>Gros Titre de Section</h1>\n",
    "    <p>Premier paragraphe de la section</p>\n",
    "    <p>Second pragraphe de la section</p>\n",
    "  </body>\n",
    "</html>\n",
    "\"\"\""
   ]
  },
  {
   "cell_type": "markdown",
   "metadata": {
    "id": "xzGOHG7DJ2jf"
   },
   "source": [
    "On peut facilement l'imaginer comme une série de liste imbriquées, mais on peut aussi voir la relation conteneur/conetnu comme une relation parent/enfant.\n",
    "\n",
    "![Arbre de éléments HTML](https://github.com/mtlpy/ateliers-prog/raw/main/assets/html-as-tree.png)"
   ]
  },
  {
   "cell_type": "code",
   "execution_count": null,
   "metadata": {
    "id": "ge39TP0fJDX8"
   },
   "outputs": [],
   "source": [
    "# pour pouvoir traverser l'arbre de balises...\n",
    "soup1 = bs4.BeautifulSoup(html1)"
   ]
  },
  {
   "cell_type": "code",
   "execution_count": null,
   "metadata": {
    "id": "MFr3LAYKKCis",
    "outputId": "591597ad-a745-48a9-8463-e95ef782de30"
   },
   "outputs": [
    {
     "data": {
      "text/plain": [
       "'Titre de la page'"
      ]
     },
     "execution_count": 14,
     "metadata": {},
     "output_type": "execute_result"
    }
   ],
   "source": [
    "# texte_1\n",
    "soup1.head.title.text"
   ]
  },
  {
   "cell_type": "code",
   "execution_count": null,
   "metadata": {
    "id": "-7HQYkXAKFhY",
    "outputId": "bfac7d12-ca05-49c5-86aa-7497c35113b1"
   },
   "outputs": [
    {
     "data": {
      "text/plain": [
       "'Gros Titre de Section'"
      ]
     },
     "execution_count": 15,
     "metadata": {},
     "output_type": "execute_result"
    }
   ],
   "source": [
    "# texte_2\n",
    "soup1.body.h1.text"
   ]
  },
  {
   "cell_type": "code",
   "execution_count": null,
   "metadata": {
    "id": "-j8S3-N7KLYB",
    "outputId": "67d5b713-53c5-49b4-c840-0ecc9748de2c"
   },
   "outputs": [
    {
     "data": {
      "text/plain": [
       "'Premier paragraphe de la section'"
      ]
     },
     "execution_count": 16,
     "metadata": {},
     "output_type": "execute_result"
    }
   ],
   "source": [
    "# texte_3\n",
    "soup1.body.find_all(\"p\")[0].text"
   ]
  },
  {
   "cell_type": "code",
   "execution_count": null,
   "metadata": {
    "id": "qMo-zv4gJwgK",
    "outputId": "5b6d553e-fb32-4532-b1d1-d2a2f63168d3"
   },
   "outputs": [
    {
     "data": {
      "text/plain": [
       "'Second pragraphe de la section'"
      ]
     },
     "execution_count": 17,
     "metadata": {},
     "output_type": "execute_result"
    }
   ],
   "source": [
    "# texte_4\n",
    "soup1.body.find_all(\"p\")[1].text"
   ]
  },
  {
   "cell_type": "markdown",
   "metadata": {
    "id": "9RxXcCGtIygV"
   },
   "source": [
    "Pour ce qui suit, on va appeler \"élément\" le bloc complet qui commence à la balise ouvrante et qui se termine à la fin de la balise fermante.  L'élément peut posséder des attributs comme `id` et `class` qu'on accède avec la notation des dictionnaires Python. Les enfants d'un élément peuvent être des blocs de texte ou d'autres éléments.\n",
    "\n",
    "Pour mieux comprendre, visitez la même page web et faites \"inspect element\" sur un des titres de sections dans votre navigateur. Notez le parallèle entre le code de la page web et la vue offerte par BeautifulSoup.  Si vous n'avez pas l'option \"inspect element\", installez l'extension \"Web Developer\" dans Firefox ou dans Chrome faites clique contextuel et choisissez \"Inspect\"."
   ]
  },
  {
   "cell_type": "markdown",
   "metadata": {
    "id": "6CyfTaKHJW6z"
   },
   "source": [
    "## 3. Sélection d'éléments avec la notation CSS"
   ]
  },
  {
   "cell_type": "markdown",
   "metadata": {
    "id": "S3E2LBQfLiuo"
   },
   "source": [
    "On peut prendre un raccourci pour trouver les éléments dans une page Web avec la méthode `select()` qui prend en argument un sélecteur CSS. La [notation des sélecteurs CSS](https://en.wikipedia.org/wiki/CSS#Selector) est très expressive et très compacte. \n",
    "\n",
    "Par exemple, considéron la page web suivante:"
   ]
  },
  {
   "cell_type": "code",
   "execution_count": null,
   "metadata": {
    "id": "NroK7UK_Lrhp"
   },
   "outputs": [],
   "source": [
    "html2 = \"\"\"\n",
    "<html>\n",
    "  <body>\n",
    "    <h1 class=\"big\">Gros Titre de Section</h1>\n",
    "    <p id=\"first_para\">Premier paragraphe de la section</p>\n",
    "    <p id=\"second_para\">Second pragraphe de la section</p>\n",
    "  </body>\n",
    "</html>\n",
    "\"\"\"\n",
    "soup2 = bs4.BeautifulSoup(html2)"
   ]
  },
  {
   "cell_type": "markdown",
   "metadata": {
    "id": "WJQG0E6mMaFE"
   },
   "source": [
    "Dans la notation des sélecteurs CSS, on peut référencer des élements par leur imbracage (par exemple `\"body h1\"`), par leur classes (ex.: `\"h1.big\"`), par leur identifiant (ex.: `\"p#first_para\"`) ou une combinaison arbitraire de ces options."
   ]
  },
  {
   "cell_type": "code",
   "execution_count": null,
   "metadata": {
    "id": "QscJDHCmMf4C",
    "outputId": "222ab422-fd67-4aaf-dd8b-e4e69e88febe"
   },
   "outputs": [
    {
     "data": {
      "text/plain": [
       "<p id=\"second_para\">Second pragraphe de la section</p>"
      ]
     },
     "execution_count": 19,
     "metadata": {},
     "output_type": "execute_result"
    }
   ],
   "source": [
    "# exemple: selectionner le premier paragraphe\n",
    "el = soup2.select(\"#first_para\")[0]\n",
    "type(el)\n",
    "el.parent\n",
    "soup2.select(\"p\")[-1]"
   ]
  },
  {
   "cell_type": "code",
   "execution_count": null,
   "metadata": {
    "id": "HuXtufywNkDy"
   },
   "outputs": [],
   "source": [
    "# à vous de jouer : selectionnez le texte du second paragraphe\n"
   ]
  },
  {
   "cell_type": "markdown",
   "metadata": {
    "id": "4VMbuKRYvzBY"
   },
   "source": [
    "$ $  \n",
    "\n",
    "---\n",
    "\n"
   ]
  },
  {
   "cell_type": "markdown",
   "metadata": {
    "id": "f15pzGVJNlQp"
   },
   "source": [
    "Dans le contexte de notre [page web](https://donnees.montreal.ca/search?q=tags:Eau), on peut utiliser les selecteurs CSS suivants:"
   ]
  },
  {
   "cell_type": "code",
   "execution_count": null,
   "metadata": {
    "id": "h6D31Q56KSSS",
    "outputId": "116107c6-055f-4358-e85e-d061caf226cf"
   },
   "outputs": [
    {
     "data": {
      "text/plain": [
       "[]"
      ]
     },
     "execution_count": 28,
     "metadata": {},
     "output_type": "execute_result"
    }
   ],
   "source": [
    "# selectionner tous le liens qui sont des titres de jeux de données\n",
    "# tous les éléments <a> qui sont enfants d'éléments <h3> avec la classe \"text-lg\"\n",
    "soup.select(\"h3.text-lg a\")"
   ]
  },
  {
   "cell_type": "code",
   "execution_count": null,
   "metadata": {
    "id": "YJAtm7tzO-xr"
   },
   "outputs": [],
   "source": []
  },
  {
   "cell_type": "code",
   "execution_count": null,
   "metadata": {
    "id": "1k1PpK9PRVEi"
   },
   "outputs": [],
   "source": []
  },
  {
   "cell_type": "markdown",
   "metadata": {
    "id": "S0iqI8D8RVpa"
   },
   "source": [
    "____\n",
    "\n",
    "## 4. Exercices\n",
    "\n",
    "Rappelez vous que `soup` est l'objet BeautifulSoup crée à partid du code HTML de la [page web](https://donnees.montreal.ca/search?q=tags:Eau).\n",
    "\n",
    "```Python\n",
    "response = requests.get(EAU_URL)\n",
    "soup = bs4.BeautifulSoup(response.text)\n",
    "```"
   ]
  },
  {
   "cell_type": "markdown",
   "metadata": {
    "id": "whBSlQyzLq6C"
   },
   "source": [
    "### Exercice 1: liste des jeux de données\n",
    "\n",
    "Utilisez la méthode `select()` pour extraire la liste des jeux de données. Affichez les résultats dans les format \"titre: url\". Par exemple:\n",
    "\n",
    "    Bornes d'incendie: https://donnees.montreal.ca/...\n",
    "    Hydrographie: https://donnees.montreal.ca/...\n",
    "    ...[link text](https://)"
   ]
  },
  {
   "cell_type": "code",
   "execution_count": null,
   "metadata": {
    "id": "HVU5MCcEtV4P",
    "outputId": "492587f9-cb01-409b-cdcc-d7f28cbfee22"
   },
   "outputs": [
    {
     "name": "stdout",
     "output_type": "stream",
     "text": [
      "Compteurs d'eau exploités par la Ville de Montréal: https://donnees.montreal.cahttps://donnees.montreal.ca/ville-de-montreal/compteurs-eau\n",
      "Résultats du dépistage des entrées de service en plomb réalisé par un Palintest: https://donnees.montreal.cahttps://donnees.montreal.ca/ville-de-montreal/depistage-entrees-service-plomb\n",
      "Regards d'égouts: https://donnees.montreal.cahttps://donnees.montreal.ca/ville-de-montreal/regards-egouts\n",
      "Puisards d'égouts: https://donnees.montreal.cahttps://donnees.montreal.ca/ville-de-montreal/puisards-egouts\n",
      "Installations récréatives, sportives et culturelles extérieures: https://donnees.montreal.cahttps://donnees.montreal.ca/ville-de-montreal/installations-recreatives-sportives-et-culturelles\n",
      "Bornes d'incendie: https://donnees.montreal.cahttps://donnees.montreal.ca/ville-de-montreal/geolocalisation-des-bornes-fontaines\n",
      "Hydrographie: https://donnees.montreal.cahttps://donnees.montreal.ca/ville-de-montreal/hydrographie\n",
      "Cours d'eau et fossés: https://donnees.montreal.cahttps://donnees.montreal.ca/ville-de-montreal/cours-d-eau-et-fosse\n",
      "RSMA - Données COURDO spéciales: https://donnees.montreal.cahttps://donnees.montreal.ca/ville-de-montreal/rsma-donnees-courdo-speciales\n",
      "Débit aux affluent et effluent de la station d’épuration (saison estival 2015): https://donnees.montreal.cahttps://donnees.montreal.ca/ville-de-montreal/debit-station-epuration\n"
     ]
    }
   ],
   "source": [
    "# tapper votre solution ici\n",
    "# indice: soup.???\n",
    "links = soup.select(\"h3.text-lg a\")\n",
    "for link in links:\n",
    "    text = link.text\n",
    "    fin_url = link[\"href\"]\n",
    "    url = HOST + fin_url\n",
    "    url = \"%s%s\" % (HOST, url)\n",
    "    print(f\"{text}: {url}\")\n"
   ]
  },
  {
   "cell_type": "code",
   "execution_count": null,
   "metadata": {
    "id": "Va7_u4Ut4p32",
    "outputId": "dab7e7d5-1973-4513-9f81-244d3835c311"
   },
   "outputs": [
    {
     "data": {
      "text/plain": [
       "\u001b[0;31mSignature:\u001b[0m \u001b[0mel\u001b[0m\u001b[0;34m.\u001b[0m\u001b[0mselect_one\u001b[0m\u001b[0;34m(\u001b[0m\u001b[0mselector\u001b[0m\u001b[0;34m,\u001b[0m \u001b[0mnamespaces\u001b[0m\u001b[0;34m=\u001b[0m\u001b[0;32mNone\u001b[0m\u001b[0;34m,\u001b[0m \u001b[0;34m**\u001b[0m\u001b[0mkwargs\u001b[0m\u001b[0;34m)\u001b[0m\u001b[0;34m\u001b[0m\u001b[0;34m\u001b[0m\u001b[0m\n",
       "\u001b[0;31mDocstring:\u001b[0m\n",
       "Perform a CSS selection operation on the current element.\n",
       "\n",
       ":param selector: A CSS selector.\n",
       "\n",
       ":param namespaces: A dictionary mapping namespace prefixes\n",
       "   used in the CSS selector to namespace URIs. By default,\n",
       "   Beautiful Soup will use the prefixes it encountered while\n",
       "   parsing the document.\n",
       "\n",
       ":param kwargs: Keyword arguments to be passed into SoupSieve's \n",
       "   soupsieve.select() method.\n",
       "\n",
       ":return: A Tag.\n",
       ":rtype: bs4.element.Tag\n",
       "\u001b[0;31mFile:\u001b[0m      ~/.local/lib/python3.8/site-packages/bs4/element.py\n",
       "\u001b[0;31mType:\u001b[0m      method\n"
      ]
     },
     "metadata": {},
     "output_type": "display_data"
    }
   ],
   "source": [
    "el.select_one?"
   ]
  },
  {
   "cell_type": "markdown",
   "metadata": {
    "id": "RF8PiEDVPvOZ"
   },
   "source": [
    "### Exercice 2: formats de fichier disponibles\n",
    "\n",
    "Modifiez le code précédent pour inclure les formats disponibles avant l'URL. Par exemple:\n",
    "\n",
    "    Bornes d'incendie (JSON,SHP): https://donnees.montreal.ca/...\n",
    "    Hydrographie (SHP,KML,PDF): https://donnees.montreal.ca/...\n",
    "    ..."
   ]
  },
  {
   "cell_type": "code",
   "execution_count": null,
   "metadata": {
    "id": "AqRNGC1tte1g",
    "outputId": "e672ea95-2273-48eb-cf72-bd7bda6e6d74"
   },
   "outputs": [
    {
     "name": "stdout",
     "output_type": "stream",
     "text": [
      "Compteurs d'eau exploités par la Ville de Montréal (CSV, GeoJSON, SHP): https://donnees.montreal.ca/ville-de-montreal/compteurs-eau\n",
      "Résultats du dépistage des entrées de service en plomb réalisé par un Palintest (WEB, CSV): https://donnees.montreal.ca/ville-de-montreal/depistage-entrees-service-plomb\n",
      "Regards d'égouts (SHP, GeoJSON): https://donnees.montreal.ca/ville-de-montreal/regards-egouts\n",
      "Puisards d'égouts (SHP, GeoJSON): https://donnees.montreal.ca/ville-de-montreal/puisards-egouts\n",
      "Installations récréatives, sportives et culturelles extérieures (CSV, GeoJSON, SHP): https://donnees.montreal.ca/ville-de-montreal/installations-recreatives-sportives-et-culturelles\n",
      "Bornes d'incendie (JSON, SHP): https://donnees.montreal.ca/ville-de-montreal/geolocalisation-des-bornes-fontaines\n",
      "Hydrographie (SHP, PDF): https://donnees.montreal.ca/ville-de-montreal/hydrographie\n",
      "Cours d'eau et fossés (SHP, GeoJSON, KML): https://donnees.montreal.ca/ville-de-montreal/cours-d-eau-et-fosse\n",
      "RSMA - Données COURDO spéciales (CSV): https://donnees.montreal.ca/ville-de-montreal/rsma-donnees-courdo-speciales\n",
      "Débit aux affluent et effluent de la station d’épuration (saison estival 2015) (XLS, PDF): https://donnees.montreal.ca/ville-de-montreal/debit-station-epuration\n"
     ]
    }
   ],
   "source": [
    "# Solution\n",
    "links = soup.select(\"h3.text-lg a\")\n",
    "\n",
    "for link in links:\n",
    "    text = link.text\n",
    "    fin_url = link[\"href\"]\n",
    "    url = HOST + fin_url\n",
    "    spans = link.parent.parent.select(\"ul li span.text-sm.text-primary.border-1\")\n",
    "    formats = [span.text for span in spans]\n",
    "    print(f\"{text} ({', '.join(formats)}): {url}\")"
   ]
  },
  {
   "cell_type": "code",
   "execution_count": null,
   "metadata": {
    "id": "iji8sCdO4p32",
    "outputId": "9b2539d5-50a9-49c8-cd45-e4fc3317aa64"
   },
   "outputs": [
    {
     "data": {
      "text/plain": [
       "10"
      ]
     },
     "execution_count": 25,
     "metadata": {},
     "output_type": "execute_result"
    }
   ],
   "source": [
    "len(soup.select(\"h3.text-lg a\"))"
   ]
  },
  {
   "cell_type": "code",
   "execution_count": null,
   "metadata": {
    "id": "2l7DP0BU4p33"
   },
   "outputs": [],
   "source": []
  },
  {
   "cell_type": "code",
   "execution_count": null,
   "metadata": {
    "id": "FCpuEDxb4p33"
   },
   "outputs": [],
   "source": []
  },
  {
   "cell_type": "markdown",
   "metadata": {
    "id": "FrqBga-YQrOg"
   },
   "source": [
    "### Exercice 3: pagination\n",
    "\n",
    "Trouvez sur combien de pages les résultats sont répartis, téléchargez toutes les pages, puis combinez les résultats dans une seule liste.\n",
    "\n",
    "Par exemple:\n",
    "\n",
    "    Bornes d'incendie (JSON, SHP): https://donnees.montreal.ca/...\n",
    "    Hydrographie (SHP, KML, PDF): https://donnees.montreal.ca/...\n",
    "    ...\n",
    "    Regards d'égouts (SHP, GeoJSON): https://donnees.montreal.ca/...\n",
    "    ..."
   ]
  },
  {
   "cell_type": "code",
   "execution_count": null,
   "metadata": {
    "id": "Igvkt_W94p33"
   },
   "outputs": [],
   "source": [
    "\n"
   ]
  },
  {
   "cell_type": "markdown",
   "metadata": {
    "id": "whbCPT1m4p34"
   },
   "source": [
    "Nous voulons utiliser le code plus haut sur les trois pages de résultats:\n",
    "- https://donnees.montreal.ca/search?q=tags:Eau&from=0\n",
    "- https://donnees.montreal.ca/search?q=tags:Eau&from=10\n",
    "- https://donnees.montreal.ca/search?q=tags:Eau&from=20"
   ]
  },
  {
   "cell_type": "markdown",
   "metadata": {
    "id": "MVr-ZrBg4p35"
   },
   "source": []
  },
  {
   "cell_type": "code",
   "execution_count": null,
   "metadata": {
    "id": "Ja5vlD5euAnj",
    "outputId": "638050f9-ad49-4e51-a2e1-dcd4aa072ed8"
   },
   "outputs": [
    {
     "name": "stdout",
     "output_type": "stream",
     "text": [
      "Compteurs d'eau exploités par la Ville de Montréal (CSV, GeoJSON, SHP): https://donnees.montreal.ca/ville-de-montreal/compteurs-eau\n",
      "Résultats du dépistage des entrées de service en plomb réalisé par un Palintest (WEB, CSV): https://donnees.montreal.ca/ville-de-montreal/depistage-entrees-service-plomb\n",
      "Regards d'égouts (SHP, GeoJSON): https://donnees.montreal.ca/ville-de-montreal/regards-egouts\n",
      "Puisards d'égouts (SHP, GeoJSON): https://donnees.montreal.ca/ville-de-montreal/puisards-egouts\n",
      "Installations récréatives, sportives et culturelles extérieures (CSV, GeoJSON, SHP): https://donnees.montreal.ca/ville-de-montreal/installations-recreatives-sportives-et-culturelles\n",
      "Bornes d'incendie (JSON, SHP): https://donnees.montreal.ca/ville-de-montreal/geolocalisation-des-bornes-fontaines\n",
      "Hydrographie (SHP, PDF): https://donnees.montreal.ca/ville-de-montreal/hydrographie\n",
      "Cours d'eau et fossés (SHP, GeoJSON, KML): https://donnees.montreal.ca/ville-de-montreal/cours-d-eau-et-fosse\n",
      "RSMA - Données COURDO spéciales (CSV): https://donnees.montreal.ca/ville-de-montreal/rsma-donnees-courdo-speciales\n",
      "Débit aux affluent et effluent de la station d’épuration (saison estival 2015) (XLS, PDF): https://donnees.montreal.ca/ville-de-montreal/debit-station-epuration\n",
      "Concentration en MES à l'affluent et à l'effluent de la station d’épuration (période estivale 2015) (XLS, PDF): https://donnees.montreal.ca/ville-de-montreal/concentration-mes-station-epuration\n",
      "Pluviométrie dans le bassin de l'intercepteur sud-est  (période estivale 2015) (XLS, PDF): https://donnees.montreal.ca/ville-de-montreal/pluviometrie\n",
      "Génotoxicité de l'eau de surface, rives des l'île des Sœurs et de Sorel, travaux intercepteur sud-est, Nov. 2015 (XLSX, CSV): https://donnees.montreal.ca/ville-de-montreal/genotoxicite-de-l-eau-de-surface-nov-2015\n",
      "Pluviomètre (SHP, GeoJSON, CSV): https://donnees.montreal.ca/ville-de-montreal/pluviometre\n",
      "Qualité physico-chimique des eaux usées non traitées, travaux intercepteur sud-est, Nov. 2015 (XLSX, CSV): https://donnees.montreal.ca/ville-de-montreal/qualite-physico-chimique-des-eaux-usees-non-traitees-de-l-intercepteur-sud-est\n",
      "Concentration en métaux et métalloïdes des plantes prélevées, travaux intercepteur sud-est, Nov. 2015 (XLSX, CSV): https://donnees.montreal.ca/ville-de-montreal/concentration-en-metaux-et-metalloides-des-plantes-prelevees-nov-2015\n",
      "Rive publique (SHP, GeoJSON, KMZ): https://donnees.montreal.ca/ville-de-montreal/rive-publique\n",
      "Résultats du Plan d'intervention des actifs des réseaux d'eau potable, d'égouts et de voirie de la Ville de Montréal (GeoJSON, SHP, XLSX, PDF): https://donnees.montreal.ca/ville-de-montreal/resultats-plan-intervention-actifs-eau-voirie\n",
      "Toxicité aiguë de l'eau de surface du Fleuve, travaux intercepteur sud-est, Nov. 2015 (XLSX, CSV): https://donnees.montreal.ca/ville-de-montreal/toxicite-aigue-de-l-eau-de-surface-du-fleuve-travaux-intercepteur-sud-est-nov-2015\n",
      "Essais de létalité aiguë sur la truite arc-en-ciel effectués sur les eaux usées non traitées, travaux intercepteur sud-est, Nov. 2015 (XLSX, CSV): https://donnees.montreal.ca/ville-de-montreal/essais-de-letalite-aigue-sur-la-truite-novembre-2015\n",
      "Paramètres physico-chimique et toxicité des sédiments, travaux intercepteur sud-est, Nov. 2015 (XLSX, CSV): https://donnees.montreal.ca/ville-de-montreal/essais-de-toxicite-des-sediments-intercepteur-sud-est-novembre-2015\n",
      "Bilan des contingences (CSV, XLS): https://donnees.montreal.ca/ville-de-montreal/bilan-des-contingences\n",
      "Fontaines à boire extérieures (CSV): https://donnees.montreal.ca/ville-de-montreal/fontaines-a-boire-eau-exterieures\n",
      "Suivi de la qualité de l'eau des effluents industriels, travaux intercepteur sud-est, Nov. 2015 (CSV): https://donnees.montreal.ca/ville-de-montreal/cri-suivi-effluents-industriels-travaux-intercepteur-s-e-automne-2015\n",
      "Étendus d'eau sur l'île de Montréal (lac et cours d'eau) (SHP): https://donnees.montreal.ca/ville-de-montreal/limites-cours-eau\n",
      "Finished\n"
     ]
    }
   ],
   "source": [
    "# Solution\n",
    "\n",
    "import time  # pour insered des pauses (and be good internet citizens)\n",
    "\n",
    "url_base = \"https://donnees.montreal.ca/search?q=tags:Eau\"\n",
    "start_at = 0\n",
    "\n",
    "while True:\n",
    "    url_courant = url_base + \"&from=\" + str(start_at)\n",
    "    response = requests.get(url_courant)\n",
    "    soup = bs4.BeautifulSoup(response.text)\n",
    "\n",
    "    links = soup.select(\"h3.text-lg a\")\n",
    "    if links:\n",
    "        for link in links:\n",
    "            text = link.text\n",
    "            fin_url = link[\"href\"]\n",
    "            url = HOST + fin_url\n",
    "            spans = link.parent.parent.select(\"ul li span.text-sm.text-primary.border-1\")\n",
    "            formats = [span.text for span in spans]\n",
    "            print(f\"{text} ({', '.join(formats)}): {url}\")\n",
    "    else:\n",
    "        print(\"Finished\")\n",
    "        break\n",
    "\n",
    "    time.sleep(1)\n",
    "    start_at += 10\n"
   ]
  },
  {
   "cell_type": "markdown",
   "metadata": {
    "id": "j_1JlZQq5WTu"
   },
   "source": [
    "## Conclusion\n",
    "\n",
    "* pas de magie: scraping très sensible à structure de page(s)...\n",
    "* faut la connaître\n",
    "* peut changer\n",
    "* pour ça qu'on préfère des APIs...\n"
   ]
  },
  {
   "cell_type": "markdown",
   "metadata": {
    "id": "NC1k04o3OUIS"
   },
   "source": [
    "# Autres resources"
   ]
  },
  {
   "cell_type": "markdown",
   "metadata": {
    "id": "695Xqz7iOesK"
   },
   "source": [
    "Sites où vous pouvez pratiquer le scraping:\n",
    "\n",
    "- Livres ou quotes: http://toscrape.com/\n",
    "- Pays du monde: https://www.scrapethissite.com/pages/simple/\n",
    "\n",
    "\n",
    "Exemples:\n",
    "- [Tutoriel video](http://35.196.115.213/en/learn/#/topics/c/73470ad1a3015769ace455fbfdf17d48) qui montre comment télécharger un [site de contenu éducatif](https://shls.rescue.org/). Voir [ici](https://github.com/learningequality/sushi-chef-shls/blob/master/sushichef.py#L226-L336) pour le code final."
   ]
  },
  {
   "cell_type": "markdown",
   "metadata": {
    "id": "-shgXT3vnKxW"
   },
   "source": [
    "# License"
   ]
  },
  {
   "cell_type": "markdown",
   "metadata": {
    "id": "DQDRMYMKnOVi"
   },
   "source": [
    "Copyright 2021–2022 Montréal-Python\n",
    "\n",
    "Permission is hereby granted, free of charge, to any person obtaining a copy of this software and associated documentation files (the \"Software\"), to deal in the Software without restriction, including without limitation the rights to use, copy, modify, merge, publish, distribute, sublicense, and/or sell copies of the Software, and to permit persons to whom the Software is furnished to do so, subject to the following conditions:\n",
    "\n",
    "The above copyright notice and this permission notice shall be included in all copies or substantial portions of the Software.\n",
    "\n",
    "THE SOFTWARE IS PROVIDED \"AS IS\", WITHOUT WARRANTY OF ANY KIND, EXPRESS OR IMPLIED, INCLUDING BUT NOT LIMITED TO THE WARRANTIES OF MERCHANTABILITY, FITNESS FOR A PARTICULAR PURPOSE AND NONINFRINGEMENT. IN NO EVENT SHALL THE AUTHORS OR COPYRIGHT HOLDERS BE LIABLE FOR ANY CLAIM, DAMAGES OR OTHER LIABILITY, WHETHER IN AN ACTION OF CONTRACT, TORT OR OTHERWISE, ARISING FROM, OUT OF OR IN CONNECTION WITH THE SOFTWARE OR THE USE OR OTHER DEALINGS IN THE SOFTWARE.\n"
   ]
  }
 ],
 "metadata": {
  "colab": {
   "collapsed_sections": [],
   "name": "Agregateur-Web_solution.ipynb",
   "provenance": [
    {
     "file_id": "1R2xh_tflIp0zVU19M9yTmNpWiJ__pRbG",
     "timestamp": 1619400545210
    },
    {
     "file_id": "https://github.com/mtlpy/mp-84-atelier/blob/main/Arbres-1.0.ipynb",
     "timestamp": 1618189545748
    }
   ]
  },
  "kernelspec": {
   "display_name": "Python 3 (ipykernel)",
   "language": "python",
   "name": "python3"
  },
  "language_info": {
   "codemirror_mode": {
    "name": "ipython",
    "version": 3
   },
   "file_extension": ".py",
   "mimetype": "text/x-python",
   "name": "python",
   "nbconvert_exporter": "python",
   "pygments_lexer": "ipython3",
   "version": "3.8.12"
  }
 },
 "nbformat": 4,
 "nbformat_minor": 0
}
