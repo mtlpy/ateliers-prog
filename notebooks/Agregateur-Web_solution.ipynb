{
 "cells": [
  {
   "cell_type": "markdown",
   "metadata": {
    "id": "XzG5b4b7byNu"
   },
   "source": [
    "# Agregateur-Web Pas-à-pas"
   ]
  },
  {
   "cell_type": "markdown",
   "metadata": {
    "id": "ZGdWZdbJej_a"
   },
   "source": [
    "## But\n",
    "\n",
    "Extraire les URLs et les formats de download des jeux de données relatifs à l'eau des données ouvertes de la ville de Montréal."
   ]
  },
  {
   "cell_type": "markdown",
   "metadata": {
    "id": "hSGBpTZrcBjJ"
   },
   "source": [
    "## Approche\n",
    "\n",
    "1. comprendre les données avant de coder\n",
    "    * HTML, css\n",
    "2. trouver _library_ de _scraping_ (HTML) de Python\n",
    "    * scrapy: https://pypi.org/project/Scrapy/\n",
    "    * beautifulsoup: https://pypi.org/project/beautifulsoup4/\n",
    "3. regarder la doc\n",
    "    * https://www.crummy.com/software/BeautifulSoup/bs4/doc/\n",
    "4. install\n",
    "    * colab `!pip install beautifulsoup4`\n",
    "    * machine locale `pip install beautifulsoup4`\n",
    "5. explorer\n",
    "    * `type()`\n",
    "    * introspection: `objet.` + tab\n",
    "        * méthodes: `objet.method()`\n",
    "        * attributs: `objet.attribute`\n",
    "        \n",
    "6. conserver code final (code qui marche)"
   ]
  },
  {
   "cell_type": "markdown",
   "metadata": {
    "id": "8_JIVCZ9ezZH"
   },
   "source": [
    "## Installer"
   ]
  },
  {
   "cell_type": "code",
   "execution_count": null,
   "metadata": {
    "id": "lNh-J0CPe2qN"
   },
   "outputs": [],
   "source": [
    "!pip install beautifulsoup4"
   ]
  },
  {
   "cell_type": "markdown",
   "metadata": {
    "id": "mA36q0AMe6YL"
   },
   "source": [
    "## Imports\n",
    "\n",
    "Le nom d'import n'est pas toujours le même que celui du _package_... :("
   ]
  },
  {
   "cell_type": "code",
   "execution_count": null,
   "metadata": {
    "id": "CFbSYHNMe-_e"
   },
   "outputs": [],
   "source": [
    "import requests\n",
    "import bs4"
   ]
  },
  {
   "cell_type": "markdown",
   "metadata": {
    "id": "LGbSDA5GfW4E"
   },
   "source": [
    "## Explorer"
   ]
  },
  {
   "cell_type": "code",
   "execution_count": null,
   "metadata": {
    "id": "HUbruHnrfwMU"
   },
   "outputs": [],
   "source": [
    "# tag eau avec org ville mtl\n",
    "# constante\n",
    "EAU_URL = \"https://donnees.montreal.ca/search?q=tags:Eau%20organization:ville-de-montreal&from=0\"\n",
    "\n",
    "# request, response\n",
    "response = requests.get(EAU_URL)"
   ]
  },
  {
   "cell_type": "code",
   "execution_count": null,
   "metadata": {
    "id": "JxOk2Ot3iicD"
   },
   "outputs": [],
   "source": [
    "# explorer response\n",
    "response"
   ]
  },
  {
   "cell_type": "code",
   "execution_count": null,
   "metadata": {
    "id": "KGPTuZt_icb2"
   },
   "outputs": [],
   "source": [
    "# instance de classe principale\n",
    "# type + introspection (namespace, attributes, methods)\n",
    "soup = bs4.BeautifulSoup(response.text)"
   ]
  },
  {
   "cell_type": "code",
   "execution_count": null,
   "metadata": {
    "id": "XEy6rffRirCQ"
   },
   "outputs": [],
   "source": [
    "# explorer soup\n",
    "soup"
   ]
  },
  {
   "cell_type": "code",
   "execution_count": null,
   "metadata": {
    "id": "urOXEtKxin01"
   },
   "outputs": [],
   "source": [
    "# DOM\n",
    "# element (tags): elem\n",
    "# contenu (text): elem.text\n",
    "# attribut: elem['attr'] ou mieux, elem.get('attr')\n",
    "# tree\n",
    "html = soup.find('html')"
   ]
  },
  {
   "cell_type": "code",
   "execution_count": null,
   "metadata": {
    "id": "RHwzku5_iytc"
   },
   "outputs": [],
   "source": [
    "# explorer élément\n",
    "html"
   ]
  },
  {
   "cell_type": "code",
   "execution_count": null,
   "metadata": {
    "id": "mXFakvwmi1GQ"
   },
   "outputs": [],
   "source": [
    "# scraping\n",
    "h3_links = soup.select(\"h3.text-lg a\")"
   ]
  },
  {
   "cell_type": "code",
   "execution_count": null,
   "metadata": {
    "id": "GuRq4Drwi5w8"
   },
   "outputs": [],
   "source": [
    "# explorer list d'éléments scrapés\n",
    "h3_links"
   ]
  },
  {
   "cell_type": "markdown",
   "metadata": {
    "id": "_HOPUH7IfxTI"
   },
   "source": [
    "## Exercice: liste des jeux de données"
   ]
  },
  {
   "cell_type": "code",
   "execution_count": null,
   "metadata": {
    "id": "pl_cNp9Ff2x7"
   },
   "outputs": [],
   "source": [
    "# liens relatifs... et slashes (faut striper?)\n",
    "base_url = 'https://donnees.montreal.ca'\n",
    "# for loop\n",
    "for a in h3_links:\n",
    "    # string formatting: f-string\n",
    "    print(f\"{a.text}: {base_url}{a.get('href')}\")"
   ]
  },
  {
   "cell_type": "markdown",
   "metadata": {
    "id": "nPVGfHoof87c"
   },
   "source": [
    "## Exercice: formats de fichier disponibles"
   ]
  },
  {
   "cell_type": "code",
   "execution_count": null,
   "metadata": {
    "id": "utslVnjyf_vF"
   },
   "outputs": [],
   "source": [
    "## Exercice: formats de fichier disponible\n",
    "results = soup.select(\"ul.pt-gutter li.mt-2\")\n",
    "for result in results:\n",
    "    links = result.select(\"h3.text-lg a\")\n",
    "    # if else dans un oneliner\n",
    "    a = links[0] if len(links) == 1 else None\n",
    "    formats_as = result.select(\"ul.mt-2 li a\")\n",
    "    # list comprehension\n",
    "    formats_texts = [a.text for a in formats_as]\n",
    "    # join\n",
    "    formats_str = ','.join(formats_texts)\n",
    "    print(f\"{a.text} ({formats_str}): {base_url}{a.get('href')}\")"
   ]
  },
  {
   "cell_type": "markdown",
   "metadata": {
    "id": "PCDbQrr6g6fN"
   },
   "source": [
    "## Exercice: pagination"
   ]
  },
  {
   "cell_type": "code",
   "execution_count": null,
   "metadata": {
    "id": "wtGXXOgzhDRS"
   },
   "outputs": [],
   "source": [
    "# la page web dit qu'il y a 24 résultats\n",
    "len(results)\n",
    "# mais on n'en a que 10... car pagination\n"
   ]
  },
  {
   "cell_type": "code",
   "execution_count": null,
   "metadata": {
    "id": "0kfZkOpBhcos"
   },
   "outputs": [],
   "source": [
    "# get all pages\n",
    "results_per_page = 10\n",
    "results_from = 0    # from = reserved names\n",
    "has_results = True\n",
    "pages = []\n",
    "\n",
    "# while loop\n",
    "while has_results:\n",
    "    # get page with a specific \"from\" parameter\n",
    "    url = f\"https://donnees.montreal.ca/search?q=tags:Eau%20organization:ville-de-montreal&from={results_from}\"\n",
    "    print(f\"Calling: {url}\")  # print permits infinite loop troubleshooting\n",
    "    response = requests.get(url)\n",
    "    soup = bs4.BeautifulSoup(response.text)\n",
    "\n",
    "    # test if there is results\n",
    "    h3 = soup.select(\"h3.text-lg\")\n",
    "    if len(h3) > 0:\n",
    "        # ok this page has results\n",
    "        # add to list of pages (append! because ordered)\n",
    "        pages.append(soup)\n",
    "        # increment from for next page\n",
    "        results_from += results_per_page\n",
    "        print(f\"next = {results_from}\")\n",
    "    else:\n",
    "        # no more results\n",
    "        # exit condition\n",
    "        has_results = False\n",
    "        print(\"Stop it...\")"
   ]
  },
  {
   "cell_type": "code",
   "execution_count": null,
   "metadata": {
    "id": "3XLiL_gfhhTN"
   },
   "outputs": [],
   "source": [
    "# get all results\n",
    "all_results = []\n",
    "for soup in pages:\n",
    "    results = soup.select(\"ul.pt-gutter li.mt-2\")\n",
    "    all_results.extend(results)\n",
    "len(all_results)\n",
    "# 24, voilaaaa"
   ]
  },
  {
   "cell_type": "code",
   "execution_count": null,
   "metadata": {
    "id": "viGntVs3hnil"
   },
   "outputs": [],
   "source": [
    "# format results (previous code)\n",
    "for result in all_results:\n",
    "    links = result.select(\"h3.text-lg a\")\n",
    "    # if else dans un oneliner\n",
    "    a = links[0] if len(links) == 1 else None\n",
    "    formats_as = result.select(\"ul.mt-2 li a\")\n",
    "    formats_texts = [a.text for a in formats_as]\n",
    "    formats_str = ','.join(formats_texts)\n",
    "    print(f\"{a.text} ({formats_str}): {base_url}{a['href']}\")"
   ]
  },
  {
   "cell_type": "markdown",
   "metadata": {
    "id": "K1aOuCbXhqx0"
   },
   "source": [
    "## Conclusion\n",
    "\n",
    "* pas de magie: scraping très sensible à structure de page(s)...\n",
    "* faut la connaître\n",
    "* peut changer\n",
    "* pour ça qu'on préfère des APIs...\n"
   ]
  },
  {
   "cell_type": "markdown",
   "metadata": {
    "id": "ky2qiB1B6ESZ"
   },
   "source": [
    "# Licence"
   ]
  },
  {
   "cell_type": "markdown",
   "metadata": {
    "id": "fkOckSXf6FkN"
   },
   "source": [
    "Copyright 2021 Montréal-Python\n",
    "\n",
    "Permission is hereby granted, free of charge, to any person obtaining a copy of this software and associated documentation files (the \"Software\"), to deal in the Software without restriction, including without limitation the rights to use, copy, modify, merge, publish, distribute, sublicense, and/or sell copies of the Software, and to permit persons to whom the Software is furnished to do so, subject to the following conditions:\n",
    "\n",
    "The above copyright notice and this permission notice shall be included in all copies or substantial portions of the Software.\n",
    "\n",
    "THE SOFTWARE IS PROVIDED \"AS IS\", WITHOUT WARRANTY OF ANY KIND, EXPRESS OR IMPLIED, INCLUDING BUT NOT LIMITED TO THE WARRANTIES OF MERCHANTABILITY, FITNESS FOR A PARTICULAR PURPOSE AND NONINFRINGEMENT. IN NO EVENT SHALL THE AUTHORS OR COPYRIGHT HOLDERS BE LIABLE FOR ANY CLAIM, DAMAGES OR OTHER LIABILITY, WHETHER IN AN ACTION OF CONTRACT, TORT OR OTHERWISE, ARISING FROM, OUT OF OR IN CONNECTION WITH THE SOFTWARE OR THE USE OR OTHER DEALINGS IN THE SOFTWARE.\n"
   ]
  }
 ],
 "metadata": {
  "colab": {
   "collapsed_sections": [],
   "name": "Agregateur-Web_solution.ipynb",
   "provenance": []
  },
  "kernelspec": {
   "display_name": "Python 3",
   "name": "python3"
  },
  "language_info": {
   "name": "python"
  }
 },
 "nbformat": 4,
 "nbformat_minor": 0
}
