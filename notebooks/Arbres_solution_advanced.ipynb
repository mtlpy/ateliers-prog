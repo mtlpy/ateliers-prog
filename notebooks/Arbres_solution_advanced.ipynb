{
 "cells": [
  {
   "cell_type": "markdown",
   "metadata": {
    "id": "EnwKTevG02QP"
   },
   "source": [
    "# Arbres - Version avancée\n",
    "\n",
    "L'exercice original visait à s'exercer avec les types de base Python.\n",
    "\n",
    "Dans la vraie vie, quand on veut faire de l'analyse de données (à partir d'un fichier CSV, par exemple), on utilise des _libraries_ conçues pour ça.\n",
    "\n",
    "Ici, dans la version avancée, on va utiliser `pandas`.\n",
    "\n",
    "Voir [Murales - Version avancée](https://colab.research.google.com/drive/1ml1fkVBqb1mkUQYZPvIuJxIIQBu9PFec?usp=sharing) pour une intro à `pandas`.\n",
    "\n",
    "Au besoin, se référer au [Guide de base Pandas](https://colab.research.google.com/drive/193iDeAjPXpwVoSZAHaZG_wQleAie7wrq?usp=sharing) de Montréal-Python."
   ]
  },
  {
   "cell_type": "markdown",
   "metadata": {
    "id": "gGE_AplI4bKf"
   },
   "source": [
    "## Load data"
   ]
  },
  {
   "cell_type": "code",
   "execution_count": null,
   "metadata": {
    "id": "KjDURDzj3aBn"
   },
   "outputs": [],
   "source": [
    "import pandas as pd"
   ]
  },
  {
   "cell_type": "code",
   "execution_count": null,
   "metadata": {
    "id": "XBRe_-vZ2zVH"
   },
   "outputs": [],
   "source": [
    "url = \"https://raw.githubusercontent.com/mtlpy/mp-84-atelier/master/arbres_montreal_2021.csv\"\n",
    "data = pd.read_csv(url)"
   ]
  },
  {
   "cell_type": "markdown",
   "metadata": {
    "id": "wiu2ti5R4iNq"
   },
   "source": [
    "## Explore data"
   ]
  },
  {
   "cell_type": "code",
   "execution_count": null,
   "metadata": {
    "colab": {
     "base_uri": "https://localhost:8080/"
    },
    "executionInfo": {
     "elapsed": 176,
     "status": "ok",
     "timestamp": 1632923519621,
     "user": {
      "displayName": "Davin Baragiotta",
      "photoUrl": "https://lh3.googleusercontent.com/a-/AOh14Gg6DfnEVWWgyS_Ai1m5Tgy-moL9KpBUeBN0kZE3Gg=s64",
      "userId": "13717336720242547762"
     },
     "user_tz": 240
    },
    "id": "RjHxiqqj3c3L",
    "outputId": "350cf16e-2c55-43cb-8787-9f449e994d21"
   },
   "outputs": [
    {
     "data": {
      "text/plain": [
       "834"
      ]
     },
     "execution_count": 3,
     "metadata": {},
     "output_type": "execute_result"
    }
   ],
   "source": [
    "data.columns\n",
    "\n",
    "len(data['essence_fr'].unique())\n",
    "# 829 essences en français\n",
    "\n",
    "len(data['essence_lat'].unique())\n",
    "# 834 essences en latin"
   ]
  },
  {
   "cell_type": "markdown",
   "metadata": {
    "id": "oiiMmU0x4pHC"
   },
   "source": [
    "Bon, on voit que\n",
    "* on a un bon volume de données\n",
    "* on a des minuscules, majuscules dans les champs `essence_*`\n",
    "* on n'a pas la même volumétrie d'essence en fr et en lat\n",
    "\n",
    "On va devoir faire des requêtes pour explorer les données."
   ]
  },
  {
   "cell_type": "markdown",
   "metadata": {
    "id": "FVVv6EzI5HJs"
   },
   "source": [
    "### Subset\n",
    "\n",
    "On peut sélectionner un sous-ensemble de données un peu à la manière de requêtes SQL grâce à `query()` du DataFrame (direct sur le jeu de données, pas sur une colonne ni sur une rangée).\n",
    "\n",
    "Aussi, les colonnes ayant des valeurs de type strings donnent accès à des fonctions derrière `.str`\n",
    "* https://pandas.pydata.org/pandas-docs/stable/user_guide/text.html\n",
    "\n",
    "Pour introspecter les opérations possibles, stockez une colonne dans une variable et introspectez\n",
    "```\n",
    "colonne = data['essence_fr']\n",
    "colonne.str. (+ tab)\n",
    "```\n"
   ]
  },
  {
   "cell_type": "code",
   "execution_count": null,
   "metadata": {
    "id": "HjfgaHuE5KZ1"
   },
   "outputs": [],
   "source": [
    "# requête (query) sur le jeu de données pour savoir si essence_fr en minuscule contient 'bouleau'\n",
    "bouleaux = data.query(\"essence_fr.str.lower().str.contains('bouleau')\", engine=\"python\")\n",
    "\n",
    "# essence_fr.str.lower() retourne une colonne avec valeurs en string tout en minuscule\n",
    "# sur cette colonne, aussi en string, on peut utiliser encore `.str` pour d'autres opérations sur string\n",
    "# on peut donc tester si la chaîne en minuscule contient 'bouleau'\n",
    "# (note engine=\"python\" pas nécessaire en local, nécessaire pour .ipynb de Colab car default engine est numexpr: merci Ivan!)"
   ]
  },
  {
   "cell_type": "code",
   "execution_count": null,
   "metadata": {
    "colab": {
     "base_uri": "https://localhost:8080/"
    },
    "executionInfo": {
     "elapsed": 142,
     "status": "ok",
     "timestamp": 1632923549764,
     "user": {
      "displayName": "Davin Baragiotta",
      "photoUrl": "https://lh3.googleusercontent.com/a-/AOh14Gg6DfnEVWWgyS_Ai1m5Tgy-moL9KpBUeBN0kZE3Gg=s64",
      "userId": "13717336720242547762"
     },
     "user_tz": 240
    },
    "id": "ZfQi1-Eb0-L8",
    "outputId": "cda568c8-73e5-455f-fae1-ec0c71a55c31"
   },
   "outputs": [
    {
     "data": {
      "text/plain": [
       "1910"
      ]
     },
     "execution_count": 6,
     "metadata": {},
     "output_type": "execute_result"
    }
   ],
   "source": [
    "len(bouleaux)"
   ]
  },
  {
   "cell_type": "markdown",
   "metadata": {
    "id": "kNLdjqM32cMe"
   },
   "source": [
    "## Exercice: arrondissement avec moins de bouleaux"
   ]
  },
  {
   "cell_type": "code",
   "execution_count": null,
   "metadata": {
    "colab": {
     "base_uri": "https://localhost:8080/"
    },
    "executionInfo": {
     "elapsed": 181,
     "status": "ok",
     "timestamp": 1632923534471,
     "user": {
      "displayName": "Davin Baragiotta",
      "photoUrl": "https://lh3.googleusercontent.com/a-/AOh14Gg6DfnEVWWgyS_Ai1m5Tgy-moL9KpBUeBN0kZE3Gg=s64",
      "userId": "13717336720242547762"
     },
     "user_tz": 240
    },
    "id": "mhXKUOaTBgkr",
    "outputId": "566ab908-cf4c-4155-8e8c-ff51c26b18e9"
   },
   "outputs": [
    {
     "data": {
      "text/plain": [
       "Rivière-des-Prairies-Pointe-aux-Trembles    267\n",
       "Côte-des-Neiges-Notre-Dame-de-Grâce         242\n",
       "Rosemont-La Petite-Patrie                   231\n",
       "Pierrefonds-Roxboro                         229\n",
       "Ahuntsic-Cartierville                       206\n",
       "LaSalle                                     190\n",
       "Le Sud-Ouest                                110\n",
       "Verdun                                      103\n",
       "Mercier-Hochelaga-Maisonneuve                79\n",
       "Montréal-Nord                                68\n",
       "Villeray-Saint-Michel-Parc-Extension         57\n",
       "Saint-Laurent                                54\n",
       "Saint-Léonard                                35\n",
       "Le Plateau-Mont-Royal                        27\n",
       "Ville-Marie                                  12\n",
       "Name: nom_arrond, dtype: int64"
      ]
     },
     "execution_count": 5,
     "metadata": {},
     "output_type": "execute_result"
    }
   ],
   "source": [
    "bouleaux['nom_arrond'].value_counts()"
   ]
  },
  {
   "cell_type": "markdown",
   "metadata": {
    "id": "jt5VMtIIBp90"
   },
   "source": [
    "## Exercice: 3 premiers résultats dans un format agréable à lire\n"
   ]
  },
  {
   "cell_type": "code",
   "execution_count": null,
   "metadata": {
    "id": "d2y5o65-Bt5X"
   },
   "outputs": [],
   "source": [
    "bouleaux['nom_arrond'].value_counts().iloc[0:3]"
   ]
  },
  {
   "cell_type": "markdown",
   "metadata": {
    "id": "mCt5smmWCBDA"
   },
   "source": [
    "## Exercice bonus: trier sur nom d'arrondissement"
   ]
  },
  {
   "cell_type": "code",
   "execution_count": null,
   "metadata": {
    "id": "g71NxpvxCECX"
   },
   "outputs": [],
   "source": [
    "bouleaux['nom_arrond'].value_counts().sort_index()"
   ]
  },
  {
   "cell_type": "markdown",
   "metadata": {
    "id": "Uryzv0gw9XrN"
   },
   "source": [
    "## Conclusion\n",
    "\n",
    "Pandas c'est bon\n",
    "* mais c'est meilleur avec `.query()` pour requêtes sur données\n",
    "* et `.str` pour opérations sur les strings"
   ]
  },
  {
   "cell_type": "markdown",
   "metadata": {
    "id": "zDdM5oPw6P_I"
   },
   "source": [
    "# Licence"
   ]
  },
  {
   "cell_type": "markdown",
   "metadata": {
    "id": "-d8-joWz6RGO"
   },
   "source": [
    "Copyright 2021 Montréal-Python\n",
    "\n",
    "Permission is hereby granted, free of charge, to any person obtaining a copy of this software and associated documentation files (the \"Software\"), to deal in the Software without restriction, including without limitation the rights to use, copy, modify, merge, publish, distribute, sublicense, and/or sell copies of the Software, and to permit persons to whom the Software is furnished to do so, subject to the following conditions:\n",
    "\n",
    "The above copyright notice and this permission notice shall be included in all copies or substantial portions of the Software.\n",
    "\n",
    "THE SOFTWARE IS PROVIDED \"AS IS\", WITHOUT WARRANTY OF ANY KIND, EXPRESS OR IMPLIED, INCLUDING BUT NOT LIMITED TO THE WARRANTIES OF MERCHANTABILITY, FITNESS FOR A PARTICULAR PURPOSE AND NONINFRINGEMENT. IN NO EVENT SHALL THE AUTHORS OR COPYRIGHT HOLDERS BE LIABLE FOR ANY CLAIM, DAMAGES OR OTHER LIABILITY, WHETHER IN AN ACTION OF CONTRACT, TORT OR OTHERWISE, ARISING FROM, OUT OF OR IN CONNECTION WITH THE SOFTWARE OR THE USE OR OTHER DEALINGS IN THE SOFTWARE.\n"
   ]
  }
 ],
 "metadata": {
  "colab": {
   "collapsed_sections": [],
   "name": "Arbres_solution_advanced.ipynb",
   "provenance": [],
   "toc_visible": true
  },
  "kernelspec": {
   "display_name": "Python 3",
   "name": "python3"
  },
  "language_info": {
   "name": "python"
  }
 },
 "nbformat": 4,
 "nbformat_minor": 0
}
