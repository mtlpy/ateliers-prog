{
 "cells": [
  {
   "cell_type": "markdown",
   "id": "rGyvVtpvlwpA",
   "metadata": {
    "id": "rGyvVtpvlwpA"
   },
   "source": [
    "Ceci est une liste d'exercice d'introduction à `numpy`.\n",
    "\n",
    "numpy est une librarie de calcul numérique avec des tableaux (arrays).\n",
    "\n",
    "Pour que vous puissiez bien apprendre les fonctionalité de `numpy`, essayer de faire tout les exercices sans utiliser de boucles ou de compréhension de liste. Cela vous montrera les fonctionalités de `numpy`.\n",
    "\n",
    "Nous suppossons que les participant n'ont pas de conaissance de `numpy`. Par conséquent, pour pouvoir répondre au question, il faut aller chercher sur internet."
   ]
  },
  {
   "cell_type": "markdown",
   "id": "Md3YAuk1lwpD",
   "metadata": {
    "id": "Md3YAuk1lwpD"
   },
   "source": [
    " # Question 1 \n",
    "\n",
    "Est-ce que vous pouvez importer la librairie numpy avec l'alias traditionel pour numpy"
   ]
  },
  {
   "cell_type": "code",
   "execution_count": null,
   "id": "ufEjIl2BlwpD",
   "metadata": {
    "id": "ufEjIl2BlwpD"
   },
   "outputs": [],
   "source": [
    "import numpy as np"
   ]
  },
  {
   "cell_type": "markdown",
   "id": "J89rgi5llwpE",
   "metadata": {
    "id": "J89rgi5llwpE"
   },
   "source": [
    "# Question 2\n",
    "\n",
    "soit la liste des notes d'étudiant pour l'exament 1 : examen_1\n",
    "\n",
    "soit la liste des notes d'étudiant pour l'exament 2 : examen_2"
   ]
  },
  {
   "cell_type": "code",
   "execution_count": null,
   "id": "Zf7XJJs6lwpE",
   "metadata": {
    "id": "Zf7XJJs6lwpE"
   },
   "outputs": [],
   "source": [
    "examen_1_liste = [67, 89, 73, 65, 75, 95, 62]\n",
    "examen_2_liste = [65, 78, 87, 98, 67, 67, 71]"
   ]
  },
  {
   "cell_type": "markdown",
   "id": "1bim_gMSlwpE",
   "metadata": {
    "id": "1bim_gMSlwpE"
   },
   "source": [
    "Calculer la liste des notes moyenne des deux examens pour chaque étudiant\n",
    "\n",
    "Vous devriez avoir quelque chose qui ressemble à \n",
    "\n",
    "66. , 83.5, 80. , 81.5, 71. , 81. , 66.5"
   ]
  },
  {
   "cell_type": "code",
   "execution_count": null,
   "id": "PCE2KO1RlwpF",
   "metadata": {
    "id": "PCE2KO1RlwpF"
   },
   "outputs": [],
   "source": [
    "examen_1 = np.array(examen_1_liste)\n",
    "examen_2 = np.array(examen_2_liste)\n",
    "\n",
    "# calculez la moyenne de examen_1 et examen_2 ici..."
   ]
  },
  {
   "cell_type": "markdown",
   "id": "EjpU96m5lwpF",
   "metadata": {
    "id": "EjpU96m5lwpF"
   },
   "source": [
    "# Question 3\n",
    "\n",
    "Est-ce que vous pouvez calculer la moyenne  et l'écart type des notes de chaque examen"
   ]
  },
  {
   "cell_type": "code",
   "execution_count": null,
   "id": "aDTp61HalwpG",
   "metadata": {
    "id": "aDTp61HalwpG"
   },
   "outputs": [],
   "source": []
  },
  {
   "cell_type": "markdown",
   "id": "LOnpgxarlwpG",
   "metadata": {
    "id": "LOnpgxarlwpG"
   },
   "source": [
    "# Question 4\n",
    "\n",
    "Est-ce que vous pouvez calculer l'écart type des résultats de chaque élève(i.e. chaque étudiant a son écart type)"
   ]
  },
  {
   "cell_type": "code",
   "execution_count": null,
   "id": "_yq7ULEOlwpG",
   "metadata": {
    "id": "_yq7ULEOlwpG"
   },
   "outputs": [],
   "source": []
  },
  {
   "cell_type": "markdown",
   "id": "Uuyq4yXklwpG",
   "metadata": {
    "id": "Uuyq4yXklwpG"
   },
   "source": [
    "# Question 5\n",
    "\n",
    "Est-ce que vous pouvez changez le résultat de l'examen 1 en ajoutant 3 points à tous les étudiants."
   ]
  },
  {
   "cell_type": "code",
   "execution_count": null,
   "id": "vphGffQIlwpH",
   "metadata": {
    "id": "vphGffQIlwpH"
   },
   "outputs": [],
   "source": []
  },
  {
   "cell_type": "markdown",
   "id": "b6wIO9JclwpH",
   "metadata": {
    "id": "b6wIO9JclwpH"
   },
   "source": [
    "# Question 6\n",
    "\n",
    "Quelle est la note maximale et minimale de l'examen 1 ?\n"
   ]
  },
  {
   "cell_type": "code",
   "execution_count": null,
   "id": "C_PKCCvolwpH",
   "metadata": {
    "id": "C_PKCCvolwpH"
   },
   "outputs": [],
   "source": []
  },
  {
   "cell_type": "markdown",
   "id": "emt-mt8ulwpH",
   "metadata": {
    "id": "emt-mt8ulwpH"
   },
   "source": [
    "# Question 7\n",
    "\n",
    "Enlever une valeur alléatoire variant de 1 à 5 pour chaque note de l'examen 1.\n"
   ]
  },
  {
   "cell_type": "code",
   "execution_count": null,
   "id": "bPZ2qc6dlwpI",
   "metadata": {
    "id": "bPZ2qc6dlwpI"
   },
   "outputs": [],
   "source": []
  },
  {
   "cell_type": "markdown",
   "id": "uoLv5HWrlwpI",
   "metadata": {
    "id": "uoLv5HWrlwpI"
   },
   "source": [
    "# Question 8\n",
    "\n",
    "Enlever un valeur alléatoir variant de 1 à 15 pour chaque note de l'examen 1. Par contre, enlever toujours la même valeur à chaque étudiant, mais créer un colonne différente pour chaque valeurs enveler. Enlver en tout 4 valeurs. (donc vous devriez avoir un tableau de dimension (7,4))\n"
   ]
  },
  {
   "cell_type": "code",
   "execution_count": null,
   "id": "XvB2jq4BlwpI",
   "metadata": {
    "id": "XvB2jq4BlwpI"
   },
   "outputs": [],
   "source": []
  },
  {
   "cell_type": "code",
   "execution_count": null,
   "id": "vjLXLicPlwpI",
   "metadata": {
    "id": "vjLXLicPlwpI"
   },
   "outputs": [],
   "source": []
  },
  {
   "cell_type": "markdown",
   "id": "YBB7BBT9lwpI",
   "metadata": {
    "id": "YBB7BBT9lwpI"
   },
   "source": [
    "# Question 9\n",
    "\n",
    "Est-ce que vous pouvez calculez la moyenne des notes de l'examen 1 qui sont au dessus de 70"
   ]
  },
  {
   "cell_type": "code",
   "execution_count": null,
   "id": "a1L0xW0KlwpJ",
   "metadata": {
    "id": "a1L0xW0KlwpJ"
   },
   "outputs": [],
   "source": []
  },
  {
   "cell_type": "markdown",
   "id": "qg7Ixc8TlwpJ",
   "metadata": {
    "id": "qg7Ixc8TlwpJ"
   },
   "source": [
    "# Question 10\n",
    "\n",
    "Est-ce que vous pouvez remplacer les note plus base de 75 par une note de 75 pour l'examen 1."
   ]
  },
  {
   "cell_type": "code",
   "execution_count": null,
   "id": "BS5NOajZlwpJ",
   "metadata": {
    "id": "BS5NOajZlwpJ"
   },
   "outputs": [],
   "source": []
  },
  {
   "cell_type": "markdown",
   "id": "Yq7qddNylwpJ",
   "metadata": {
    "id": "Yq7qddNylwpJ"
   },
   "source": [
    "# Question 11\n",
    "\n",
    "Est-ce que vous pouvez ajouter 5 aux notes plus basses que 75 pour l'examen 2, mais les mettre dans un autre array sans modifer le tableau de examen 2.\n"
   ]
  },
  {
   "cell_type": "code",
   "execution_count": null,
   "id": "DFsjqevRlwpJ",
   "metadata": {
    "id": "DFsjqevRlwpJ"
   },
   "outputs": [],
   "source": []
  },
  {
   "cell_type": "code",
   "execution_count": null,
   "id": "vhF3Hn9glwpK",
   "metadata": {
    "id": "vhF3Hn9glwpK"
   },
   "outputs": [],
   "source": []
  },
  {
   "cell_type": "markdown",
   "id": "UF1BKV0qlwpK",
   "metadata": {
    "id": "UF1BKV0qlwpK"
   },
   "source": [
    "# Question 12\n",
    "\n",
    "Rajouter à examen_2 une valeur de 2 aux notes qui sont plus élevées que 60, mais plus basses que 75. Encore une fois ne modifié pas le tableau de examen_2\n"
   ]
  },
  {
   "cell_type": "code",
   "execution_count": null,
   "id": "z8XN6wdzlwpK",
   "metadata": {
    "id": "z8XN6wdzlwpK"
   },
   "outputs": [],
   "source": []
  },
  {
   "cell_type": "markdown",
   "id": "MJerT02MlwpK",
   "metadata": {
    "id": "MJerT02MlwpK"
   },
   "source": [
    "# Question 13\n",
    "\n",
    "soit les reésultat de l'examen 3"
   ]
  },
  {
   "cell_type": "code",
   "execution_count": null,
   "id": "UaxRtAeUlwpK",
   "metadata": {
    "id": "UaxRtAeUlwpK"
   },
   "outputs": [],
   "source": [
    "examen_3 = np.random.randint(55,101, size = 15)"
   ]
  },
  {
   "cell_type": "markdown",
   "id": "CiN-kWxflwpK",
   "metadata": {
    "id": "CiN-kWxflwpK"
   },
   "source": [
    "Modifier le tableau pour que les résultats pour les indexe pair soit 75 et que la dernière valeur soit 65"
   ]
  },
  {
   "cell_type": "code",
   "execution_count": null,
   "id": "XuEY7yiSlwpL",
   "metadata": {
    "id": "XuEY7yiSlwpL"
   },
   "outputs": [],
   "source": []
  },
  {
   "cell_type": "markdown",
   "id": "xHEUHOlGlwpL",
   "metadata": {
    "id": "xHEUHOlGlwpL"
   },
   "source": [
    "# Question 14\n",
    "\n",
    "Soit les résultats des étudiants à l'examen 4"
   ]
  },
  {
   "cell_type": "code",
   "execution_count": null,
   "id": "_nB-iNqtlwpL",
   "metadata": {
    "id": "_nB-iNqtlwpL"
   },
   "outputs": [],
   "source": [
    "examen_4 = np.random.randint(55,101, size = (250,1))"
   ]
  },
  {
   "cell_type": "markdown",
   "id": "ic6rmj04lwpL",
   "metadata": {
    "id": "ic6rmj04lwpL"
   },
   "source": [
    "Est-ce que vous pouvez trouver calculer dans une matrice 250x250 la valeur absolue de la différence entre les résultats entre les étudiant."
   ]
  },
  {
   "cell_type": "code",
   "execution_count": null,
   "id": "avFZ19JvlwpL",
   "metadata": {
    "id": "avFZ19JvlwpL"
   },
   "outputs": [],
   "source": []
  },
  {
   "cell_type": "markdown",
   "id": "Dvilby1YlwpL",
   "metadata": {
    "id": "Dvilby1YlwpL"
   },
   "source": [
    "# Question 15\n",
    "\n",
    "Est-ce que vous pouvez dire quel est la pair d'étudiant dont la différence est la plus grande pour que l'on puisse les pairé ensemble pour l'étudiant le plus faible puisse aider l'étudiant le plus faible."
   ]
  },
  {
   "cell_type": "code",
   "execution_count": null,
   "id": "e1hedLlalwpM",
   "metadata": {
    "id": "e1hedLlalwpM"
   },
   "outputs": [],
   "source": []
  },
  {
   "cell_type": "markdown",
   "id": "Srcp-8vJlwpM",
   "metadata": {
    "id": "Srcp-8vJlwpM"
   },
   "source": [
    "# Question 16\n",
    "\n",
    "Est-ce que vous pouvez sauvegarder l'array de la différence entre les élèves dans un fichier txt. Ensuite, est-ce que vous pouvez lire ce fichier pour en faire un nouvel array."
   ]
  },
  {
   "cell_type": "code",
   "execution_count": null,
   "id": "0BOSKTf4lwpM",
   "metadata": {
    "id": "0BOSKTf4lwpM"
   },
   "outputs": [],
   "source": []
  },
  {
   "cell_type": "markdown",
   "id": "Xst2mLQ4lwpM",
   "metadata": {
    "id": "Xst2mLQ4lwpM"
   },
   "source": [
    "# Question 17\n",
    "\n",
    "Est-ce que vous pouvez contruire une fonction qui prend un tableau et retourne la série de Fourier de la fonction carré pour chaque élément du tableau\n",
    "\n",
    "$$\n",
    "  f(x) = \\frac{4}{\\pi} \\sum_{n= 1,3,5 ...}^{N} \\frac{1}{n} \\; \\sin(n\\pi x )\n",
    "$$\n",
    "\n",
    "Prenez N=50 et n'utiliser pas de boucle. Vous devez prendre x comme entré de la fonction."
   ]
  },
  {
   "cell_type": "code",
   "execution_count": null,
   "id": "ZZ7xi5GslwpM",
   "metadata": {
    "id": "ZZ7xi5GslwpM"
   },
   "outputs": [],
   "source": [
    "x = np.arange(0,3, 0.01)"
   ]
  },
  {
   "cell_type": "code",
   "execution_count": null,
   "id": "CRkpApqplwpM",
   "metadata": {
    "id": "CRkpApqplwpM"
   },
   "outputs": [],
   "source": []
  },
  {
   "cell_type": "markdown",
   "id": "-yRG2A9hlwpN",
   "metadata": {
    "id": "-yRG2A9hlwpN"
   },
   "source": [
    "Vous pouvez regarder le résultat en utilisant le code qui suit."
   ]
  },
  {
   "cell_type": "code",
   "execution_count": null,
   "id": "y0ECt_GilwpN",
   "metadata": {
    "id": "y0ECt_GilwpN"
   },
   "outputs": [],
   "source": [
    "import matplotlib.pyplot as plt\n",
    "\n",
    "y = fourier(x, N=50)\n",
    "\n",
    "plt.scatter(x,y)"
   ]
  },
  {
   "cell_type": "markdown",
   "id": "lczsiYKtlwpN",
   "metadata": {
    "id": "lczsiYKtlwpN"
   },
   "source": [
    "# Question bonus 1\n",
    "\n",
    "Calculer la valeur de $\\pi$  à l'aide de la méthode Monte-Carlo.\n",
    "\n",
    "Créer des valeurs alléatoires entre -1 et 1 pour x et y. Pour calculer $\\pi$ utiliser le ratio des point à l'intérieur d'un d'un cercle de rayon 1 avec le ratio de la surface du cercle de rayon 1 avec le carré d'où les coordonnée sont choisi de manière aléatoires. Faite le pour 100, 1000, 10000 coordonnées."
   ]
  },
  {
   "cell_type": "code",
   "execution_count": null,
   "id": "TvuTP-vllwpN",
   "metadata": {
    "id": "TvuTP-vllwpN"
   },
   "outputs": [],
   "source": []
  },
  {
   "cell_type": "code",
   "execution_count": null,
   "id": "xlFn7-vslwpN",
   "metadata": {
    "id": "xlFn7-vslwpN"
   },
   "outputs": [],
   "source": []
  },
  {
   "cell_type": "code",
   "execution_count": null,
   "id": "Bbv9qJ_0lwpN",
   "metadata": {
    "id": "Bbv9qJ_0lwpN"
   },
   "outputs": [],
   "source": []
  },
  {
   "cell_type": "markdown",
   "id": "dClZZFzVlwpO",
   "metadata": {
    "id": "dClZZFzVlwpO"
   },
   "source": [
    "# Question bonus 2\n",
    "\n",
    "Calculer la valeur de $\\pi$ à l'aide de la formule de Leibniz. Faite la somme jusqu'à N = 1 000 000.\n",
    "\n",
    "\n",
    "$$\n",
    " -4\\sum_{i=1}^{N} \\frac{ (-1)^i}{ (2i-1) }\n",
    "$$"
   ]
  },
  {
   "cell_type": "code",
   "execution_count": null,
   "id": "xLoo6f-llwpO",
   "metadata": {
    "id": "xLoo6f-llwpO"
   },
   "outputs": [],
   "source": []
  },
  {
   "cell_type": "markdown",
   "id": "ZvkuE_FVlwpO",
   "metadata": {
    "id": "ZvkuE_FVlwpO"
   },
   "source": [
    "# Question bonus 3\n",
    "\n",
    "À l'aide de %%time calculer le temps d'exécution de votre solution en numpy de la question précédente.\n",
    "\n",
    "Ensuite, calculer le temps d'exécution si vous utiliser des compréhension de liste plutôt que numpy.\n",
    "\n",
    "Finisez par calculer le temps d'exécution si vous utiliser une boucle for à la place d'une compréhension de liste."
   ]
  },
  {
   "cell_type": "code",
   "execution_count": null,
   "id": "gmniQQ0klwpP",
   "metadata": {
    "id": "gmniQQ0klwpP"
   },
   "outputs": [],
   "source": []
  },
  {
   "cell_type": "markdown",
   "id": "G1zPVC_e666x",
   "metadata": {
    "id": "G1zPVC_e666x"
   },
   "source": [
    "# Licence"
   ]
  },
  {
   "cell_type": "markdown",
   "id": "WgRxXRdu68sU",
   "metadata": {
    "id": "WgRxXRdu68sU"
   },
   "source": [
    "Copyright 2021 Montréal-Python\n",
    "\n",
    "Permission is hereby granted, free of charge, to any person obtaining a copy of this software and associated documentation files (the \"Software\"), to deal in the Software without restriction, including without limitation the rights to use, copy, modify, merge, publish, distribute, sublicense, and/or sell copies of the Software, and to permit persons to whom the Software is furnished to do so, subject to the following conditions:\n",
    "\n",
    "The above copyright notice and this permission notice shall be included in all copies or substantial portions of the Software.\n",
    "\n",
    "THE SOFTWARE IS PROVIDED \"AS IS\", WITHOUT WARRANTY OF ANY KIND, EXPRESS OR IMPLIED, INCLUDING BUT NOT LIMITED TO THE WARRANTIES OF MERCHANTABILITY, FITNESS FOR A PARTICULAR PURPOSE AND NONINFRINGEMENT. IN NO EVENT SHALL THE AUTHORS OR COPYRIGHT HOLDERS BE LIABLE FOR ANY CLAIM, DAMAGES OR OTHER LIABILITY, WHETHER IN AN ACTION OF CONTRACT, TORT OR OTHERWISE, ARISING FROM, OUT OF OR IN CONNECTION WITH THE SOFTWARE OR THE USE OR OTHER DEALINGS IN THE SOFTWARE.\n"
   ]
  }
 ],
 "metadata": {
  "colab": {
   "collapsed_sections": [],
   "name": "numpy.ipynb",
   "provenance": [],
   "toc_visible": true
  },
  "kernelspec": {
   "display_name": "Python 3",
   "language": "python",
   "name": "python3"
  },
  "language_info": {
   "codemirror_mode": {
    "name": "ipython",
    "version": 3
   },
   "file_extension": ".py",
   "mimetype": "text/x-python",
   "name": "python",
   "nbconvert_exporter": "python",
   "pygments_lexer": "ipython3",
   "version": "3.8.5"
  }
 },
 "nbformat": 4,
 "nbformat_minor": 5
}
