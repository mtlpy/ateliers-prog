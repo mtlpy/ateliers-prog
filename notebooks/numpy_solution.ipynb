{
 "cells": [
  {
   "cell_type": "markdown",
   "id": "jMo__TrUTuRy",
   "metadata": {
    "id": "jMo__TrUTuRy"
   },
   "source": [
    "Ceci est une liste d'exercice d'introduction à numpy.\n",
    "\n",
    "numpy est une librarie de calcul numérique avec des tableaux(arrays).\n",
    "\n",
    "Pour que vous puissiez bien apprendre les fonctionalité de numpy, essayer de faire tout les exercices sans utiliser de boucles ou de compréhension de liste. Cela vous montrera les fonctionalités de numpy.\n",
    "\n",
    "Nous suppossons que les participant n'ont pas de conaissance de numpy. Par conséquent, pour pouvoir répondre au question, il faut aller chercher sur internet."
   ]
  },
  {
   "cell_type": "markdown",
   "id": "yXt9_gIeTuR1",
   "metadata": {
    "id": "yXt9_gIeTuR1"
   },
   "source": [
    " # Question 1 \n",
    "\n",
    "Est-ce que vous pouvez importer la librairie numpy avec l'alias traditionel pour numpy"
   ]
  },
  {
   "cell_type": "code",
   "execution_count": null,
   "id": "T_wIPRO3TuR1",
   "metadata": {
    "id": "T_wIPRO3TuR1"
   },
   "outputs": [],
   "source": [
    "import numpy as np"
   ]
  },
  {
   "cell_type": "markdown",
   "id": "VHkJu-sSTuR2",
   "metadata": {
    "id": "VHkJu-sSTuR2"
   },
   "source": [
    "# Question 2\n",
    "\n",
    "soit la liste des notes d'étudiant pour l'exament 1 : examen_1\n",
    "\n",
    "soit la liste des notes d'étudiant pour l'exament 2 : examen_2"
   ]
  },
  {
   "cell_type": "code",
   "execution_count": null,
   "id": "w8663O-jTuR2",
   "metadata": {
    "id": "w8663O-jTuR2"
   },
   "outputs": [],
   "source": [
    "examen_1_liste = [67, 89, 73, 65, 75, 95, 62]\n",
    "examen_2_liste = [65, 78, 87, 98, 67, 67, 71]"
   ]
  },
  {
   "cell_type": "markdown",
   "id": "qS6wITGOTuR2",
   "metadata": {
    "id": "qS6wITGOTuR2"
   },
   "source": [
    "Calculer la liste des notes moyenne des deux examens pour chaque étudiant\n",
    "\n",
    "Vous devriez avoir quelque chose qui ressemble à \n",
    "\n",
    "66. , 83.5, 80. , 81.5, 71. , 81. , 66.5"
   ]
  },
  {
   "cell_type": "code",
   "execution_count": null,
   "id": "jFbyNOI9TuR3",
   "metadata": {
    "colab": {
     "base_uri": "https://localhost:8080/"
    },
    "executionInfo": {
     "elapsed": 28,
     "status": "ok",
     "timestamp": 1623171944574,
     "user": {
      "displayName": "Ivan Savov",
      "photoUrl": "https://lh3.googleusercontent.com/a-/AOh14GgM13MuJiia2gUK23ZS4gJbjbYEAe1_3dxb5acpnQ=s64",
      "userId": "13320182563968762712"
     },
     "user_tz": 240
    },
    "id": "jFbyNOI9TuR3",
    "outputId": "4f8d48dd-b7a6-4cad-842e-95b54ed67931"
   },
   "outputs": [
    {
     "data": {
      "text/plain": [
       "array([66. , 83.5, 80. , 81.5, 71. , 81. , 66.5])"
      ]
     },
     "execution_count": 3,
     "metadata": {
      "tags": []
     },
     "output_type": "execute_result"
    }
   ],
   "source": [
    "examen_1 = np.array(examen_1_liste)\n",
    "examen_2 = np.array(examen_2_liste)\n",
    "\n",
    "(examen_1+examen_2)/2"
   ]
  },
  {
   "cell_type": "markdown",
   "id": "UVfuSk-PTuR4",
   "metadata": {
    "id": "UVfuSk-PTuR4"
   },
   "source": [
    "# Question 3\n",
    "\n",
    "Est-ce que vous pouvez calculer la moyenne  et l'écart type des notes de chaque examen"
   ]
  },
  {
   "cell_type": "code",
   "execution_count": null,
   "id": "VXJE2rfRTuR4",
   "metadata": {
    "colab": {
     "base_uri": "https://localhost:8080/"
    },
    "executionInfo": {
     "elapsed": 23,
     "status": "ok",
     "timestamp": 1623171944574,
     "user": {
      "displayName": "Ivan Savov",
      "photoUrl": "https://lh3.googleusercontent.com/a-/AOh14GgM13MuJiia2gUK23ZS4gJbjbYEAe1_3dxb5acpnQ=s64",
      "userId": "13320182563968762712"
     },
     "user_tz": 240
    },
    "id": "VXJE2rfRTuR4",
    "outputId": "586a1f8e-e1a1-46a2-a77a-7eb2246c9c58"
   },
   "outputs": [
    {
     "name": "stdout",
     "output_type": "stream",
     "text": [
      "75.14285714285714\n",
      "11.544059343335384\n",
      "76.14285714285714\n",
      "11.444631572782702\n"
     ]
    }
   ],
   "source": [
    "print(examen_1.mean())\n",
    "print(examen_1.std())\n",
    "print(examen_2.mean())\n",
    "print(examen_2.std())"
   ]
  },
  {
   "cell_type": "markdown",
   "id": "1AyQR3PDTuR5",
   "metadata": {
    "id": "1AyQR3PDTuR5"
   },
   "source": [
    "# Question 4\n",
    "\n",
    "Est-ce que vous pouvez calculer l'écart type des résultats de chaque élève(i.e. chaque étudiant a son écart type)"
   ]
  },
  {
   "cell_type": "code",
   "execution_count": null,
   "id": "G_HBk5Z8TuR5",
   "metadata": {
    "colab": {
     "base_uri": "https://localhost:8080/"
    },
    "executionInfo": {
     "elapsed": 23,
     "status": "ok",
     "timestamp": 1623171944575,
     "user": {
      "displayName": "Ivan Savov",
      "photoUrl": "https://lh3.googleusercontent.com/a-/AOh14GgM13MuJiia2gUK23ZS4gJbjbYEAe1_3dxb5acpnQ=s64",
      "userId": "13320182563968762712"
     },
     "user_tz": 240
    },
    "id": "G_HBk5Z8TuR5",
    "outputId": "a0f61694-eea9-4930-aa72-fda8b3f4eef5"
   },
   "outputs": [
    {
     "data": {
      "text/plain": [
       "array([ 1. ,  5.5,  7. , 16.5,  4. , 14. ,  4.5])"
      ]
     },
     "execution_count": 5,
     "metadata": {
      "tags": []
     },
     "output_type": "execute_result"
    }
   ],
   "source": [
    "resultat = np.concatenate((examen_1.reshape(-1,1), examen_2.reshape(-1,1)), axis=1)\n",
    "resultat.std(axis=1)"
   ]
  },
  {
   "cell_type": "markdown",
   "id": "QA7AmAebTuR5",
   "metadata": {
    "id": "QA7AmAebTuR5"
   },
   "source": [
    "# Question 5\n",
    "\n",
    "Est-ce que vous pouvez changez le résultat de l'examen 1 en ajoutant 3 points à tous les étudiants."
   ]
  },
  {
   "cell_type": "code",
   "execution_count": null,
   "id": "V60hbBh0TuR5",
   "metadata": {
    "colab": {
     "base_uri": "https://localhost:8080/"
    },
    "executionInfo": {
     "elapsed": 21,
     "status": "ok",
     "timestamp": 1623171944575,
     "user": {
      "displayName": "Ivan Savov",
      "photoUrl": "https://lh3.googleusercontent.com/a-/AOh14GgM13MuJiia2gUK23ZS4gJbjbYEAe1_3dxb5acpnQ=s64",
      "userId": "13320182563968762712"
     },
     "user_tz": 240
    },
    "id": "V60hbBh0TuR5",
    "outputId": "f6e7d43b-7129-489c-ba15-2ef9dcabfbe7"
   },
   "outputs": [
    {
     "data": {
      "text/plain": [
       "array([70, 92, 76, 68, 78, 98, 65])"
      ]
     },
     "execution_count": 6,
     "metadata": {
      "tags": []
     },
     "output_type": "execute_result"
    }
   ],
   "source": [
    "examen_1+3"
   ]
  },
  {
   "cell_type": "markdown",
   "id": "UYXHy6K1TuR6",
   "metadata": {
    "id": "UYXHy6K1TuR6"
   },
   "source": [
    "# Question 6\n",
    "\n",
    "Quelle est la note maximale et minimale de l'examen 1 ?\n"
   ]
  },
  {
   "cell_type": "code",
   "execution_count": null,
   "id": "hvWcLKsZTuR6",
   "metadata": {
    "colab": {
     "base_uri": "https://localhost:8080/"
    },
    "executionInfo": {
     "elapsed": 20,
     "status": "ok",
     "timestamp": 1623171944576,
     "user": {
      "displayName": "Ivan Savov",
      "photoUrl": "https://lh3.googleusercontent.com/a-/AOh14GgM13MuJiia2gUK23ZS4gJbjbYEAe1_3dxb5acpnQ=s64",
      "userId": "13320182563968762712"
     },
     "user_tz": 240
    },
    "id": "hvWcLKsZTuR6",
    "outputId": "c7925964-0081-4555-a0d2-2bbc43366f46"
   },
   "outputs": [
    {
     "name": "stdout",
     "output_type": "stream",
     "text": [
      "95\n",
      "62\n"
     ]
    }
   ],
   "source": [
    "print(examen_1.max())\n",
    "print(examen_1.min())"
   ]
  },
  {
   "cell_type": "markdown",
   "id": "dmPANDRiTuR6",
   "metadata": {
    "id": "dmPANDRiTuR6"
   },
   "source": [
    "# Question 7\n",
    "\n",
    "Enlever une valeur alléatoire variant de 1 à 5 pour chaque note de l'examen 1.\n"
   ]
  },
  {
   "cell_type": "code",
   "execution_count": null,
   "id": "H8q40aorTuR6",
   "metadata": {
    "colab": {
     "base_uri": "https://localhost:8080/"
    },
    "executionInfo": {
     "elapsed": 18,
     "status": "ok",
     "timestamp": 1623171944576,
     "user": {
      "displayName": "Ivan Savov",
      "photoUrl": "https://lh3.googleusercontent.com/a-/AOh14GgM13MuJiia2gUK23ZS4gJbjbYEAe1_3dxb5acpnQ=s64",
      "userId": "13320182563968762712"
     },
     "user_tz": 240
    },
    "id": "H8q40aorTuR6",
    "outputId": "fb6a7c10-c9ba-4c44-89c7-40f6c946f8c6"
   },
   "outputs": [
    {
     "data": {
      "text/plain": [
       "array([66, 86, 72, 64, 74, 91, 57])"
      ]
     },
     "execution_count": 8,
     "metadata": {
      "tags": []
     },
     "output_type": "execute_result"
    }
   ],
   "source": [
    "examen_1 - np.random.randint(1,5+1, size = examen_1.shape)"
   ]
  },
  {
   "cell_type": "markdown",
   "id": "3Px_TuOMTuR7",
   "metadata": {
    "id": "3Px_TuOMTuR7"
   },
   "source": [
    "# Question 8\n",
    "\n",
    "Enlever une valeur alléatoire variant de 1 à 15 pour chaque note de l'examen 1. Par contre, enlever toujours la même valeur à chaque étudiant, mais créer un colonne différente pour chaque valeur envelée. Enlver en tout 4 valeurs. (donc vous devriez avoir un tableau de dimension (7,4))\n"
   ]
  },
  {
   "cell_type": "code",
   "execution_count": null,
   "id": "4QHpzlhiTuR7",
   "metadata": {
    "colab": {
     "base_uri": "https://localhost:8080/"
    },
    "executionInfo": {
     "elapsed": 16,
     "status": "ok",
     "timestamp": 1623171944577,
     "user": {
      "displayName": "Ivan Savov",
      "photoUrl": "https://lh3.googleusercontent.com/a-/AOh14GgM13MuJiia2gUK23ZS4gJbjbYEAe1_3dxb5acpnQ=s64",
      "userId": "13320182563968762712"
     },
     "user_tz": 240
    },
    "id": "4QHpzlhiTuR7",
    "outputId": "9d0dfce3-18d8-4522-ffa0-35a14ef2a370"
   },
   "outputs": [
    {
     "data": {
      "text/plain": [
       "array([[52, 52, 66, 53],\n",
       "       [74, 74, 88, 75],\n",
       "       [58, 58, 72, 59],\n",
       "       [50, 50, 64, 51],\n",
       "       [60, 60, 74, 61],\n",
       "       [80, 80, 94, 81],\n",
       "       [47, 47, 61, 48]])"
      ]
     },
     "execution_count": 9,
     "metadata": {
      "tags": []
     },
     "output_type": "execute_result"
    }
   ],
   "source": [
    "resultat = examen_1[:,np.newaxis] - np.random.randint(1,15+1, size = (1,4))\n",
    "resultat"
   ]
  },
  {
   "cell_type": "code",
   "execution_count": null,
   "id": "YEzA0CekTuR7",
   "metadata": {
    "colab": {
     "base_uri": "https://localhost:8080/"
    },
    "executionInfo": {
     "elapsed": 15,
     "status": "ok",
     "timestamp": 1623171944577,
     "user": {
      "displayName": "Ivan Savov",
      "photoUrl": "https://lh3.googleusercontent.com/a-/AOh14GgM13MuJiia2gUK23ZS4gJbjbYEAe1_3dxb5acpnQ=s64",
      "userId": "13320182563968762712"
     },
     "user_tz": 240
    },
    "id": "YEzA0CekTuR7",
    "outputId": "333194ca-1a01-4272-c89b-547007754fcb"
   },
   "outputs": [
    {
     "data": {
      "text/plain": [
       "(7, 4)"
      ]
     },
     "execution_count": 10,
     "metadata": {
      "tags": []
     },
     "output_type": "execute_result"
    }
   ],
   "source": [
    "resultat.shape"
   ]
  },
  {
   "cell_type": "markdown",
   "id": "ijBzmBx7TuR7",
   "metadata": {
    "id": "ijBzmBx7TuR7"
   },
   "source": [
    "# Question 9\n",
    "\n",
    "Est-ce que vous pouvez calculez la moyenne des notes de l'examen 1 qui sont au dessus de 70"
   ]
  },
  {
   "cell_type": "code",
   "execution_count": null,
   "id": "NkVLBgqkTuR8",
   "metadata": {
    "colab": {
     "base_uri": "https://localhost:8080/"
    },
    "executionInfo": {
     "elapsed": 14,
     "status": "ok",
     "timestamp": 1623171944578,
     "user": {
      "displayName": "Ivan Savov",
      "photoUrl": "https://lh3.googleusercontent.com/a-/AOh14GgM13MuJiia2gUK23ZS4gJbjbYEAe1_3dxb5acpnQ=s64",
      "userId": "13320182563968762712"
     },
     "user_tz": 240
    },
    "id": "NkVLBgqkTuR8",
    "outputId": "721d05e5-fef9-44a7-a161-017fd713e2e1"
   },
   "outputs": [
    {
     "data": {
      "text/plain": [
       "83.0"
      ]
     },
     "execution_count": 11,
     "metadata": {
      "tags": []
     },
     "output_type": "execute_result"
    }
   ],
   "source": [
    "examen_1[examen_1>70].mean()"
   ]
  },
  {
   "cell_type": "markdown",
   "id": "xsXjjxiATuR8",
   "metadata": {
    "id": "xsXjjxiATuR8"
   },
   "source": [
    "# Question 10\n",
    "\n",
    "Est-ce que vous pouvez remplacer les note plus base de 75 par une note de 75 pour l'examen 1."
   ]
  },
  {
   "cell_type": "code",
   "execution_count": null,
   "id": "-MSb3fBCTuR8",
   "metadata": {
    "colab": {
     "base_uri": "https://localhost:8080/"
    },
    "executionInfo": {
     "elapsed": 13,
     "status": "ok",
     "timestamp": 1623171944579,
     "user": {
      "displayName": "Ivan Savov",
      "photoUrl": "https://lh3.googleusercontent.com/a-/AOh14GgM13MuJiia2gUK23ZS4gJbjbYEAe1_3dxb5acpnQ=s64",
      "userId": "13320182563968762712"
     },
     "user_tz": 240
    },
    "id": "-MSb3fBCTuR8",
    "outputId": "af180f80-019f-42b3-ff7b-8b0d4c87d63d"
   },
   "outputs": [
    {
     "data": {
      "text/plain": [
       "array([75, 89, 75, 75, 75, 95, 75])"
      ]
     },
     "execution_count": 12,
     "metadata": {
      "tags": []
     },
     "output_type": "execute_result"
    }
   ],
   "source": [
    "examen_1[examen_1<75]=75\n",
    "examen_1"
   ]
  },
  {
   "cell_type": "markdown",
   "id": "RPsmC89oTuR8",
   "metadata": {
    "id": "RPsmC89oTuR8"
   },
   "source": [
    "# Question 11\n",
    "\n",
    "Est-ce que vous pouvez ajouter 5 aux notes plus basses que 75 pour l'examen 2, mais les mettre dans un autre array sans modifer le tableau de examen 2."
   ]
  },
  {
   "cell_type": "code",
   "execution_count": null,
   "id": "5XmTTxscTuR9",
   "metadata": {
    "colab": {
     "base_uri": "https://localhost:8080/"
    },
    "executionInfo": {
     "elapsed": 25,
     "status": "ok",
     "timestamp": 1623171944835,
     "user": {
      "displayName": "Ivan Savov",
      "photoUrl": "https://lh3.googleusercontent.com/a-/AOh14GgM13MuJiia2gUK23ZS4gJbjbYEAe1_3dxb5acpnQ=s64",
      "userId": "13320182563968762712"
     },
     "user_tz": 240
    },
    "id": "5XmTTxscTuR9",
    "outputId": "569aac06-6fae-4e06-fb0b-80bafe3b7028"
   },
   "outputs": [
    {
     "data": {
      "text/plain": [
       "array([70, 78, 87, 98, 72, 72, 76])"
      ]
     },
     "execution_count": 13,
     "metadata": {
      "tags": []
     },
     "output_type": "execute_result"
    }
   ],
   "source": [
    "new_value = examen_2.copy()\n",
    "new_value[new_value<75]=new_value[new_value<75]+5\n",
    "new_value"
   ]
  },
  {
   "cell_type": "code",
   "execution_count": null,
   "id": "C6nW3Xi9TuR9",
   "metadata": {
    "colab": {
     "base_uri": "https://localhost:8080/"
    },
    "executionInfo": {
     "elapsed": 16,
     "status": "ok",
     "timestamp": 1623171944837,
     "user": {
      "displayName": "Ivan Savov",
      "photoUrl": "https://lh3.googleusercontent.com/a-/AOh14GgM13MuJiia2gUK23ZS4gJbjbYEAe1_3dxb5acpnQ=s64",
      "userId": "13320182563968762712"
     },
     "user_tz": 240
    },
    "id": "C6nW3Xi9TuR9",
    "outputId": "8680381f-3b20-4d23-e40e-960d016ab89d"
   },
   "outputs": [
    {
     "data": {
      "text/plain": [
       "array([65, 78, 87, 98, 67, 67, 71])"
      ]
     },
     "execution_count": 14,
     "metadata": {
      "tags": []
     },
     "output_type": "execute_result"
    }
   ],
   "source": [
    "examen_2"
   ]
  },
  {
   "cell_type": "markdown",
   "id": "5KhLhqP0TuR9",
   "metadata": {
    "id": "5KhLhqP0TuR9"
   },
   "source": [
    "# Question 12\n",
    "\n",
    "Rajouter à examen_2 une valeur de 2 aux notes qui sont plus élevées que 60, mais plus basses que 75. Encore une fois ne modifié pas le tableau de examen_2"
   ]
  },
  {
   "cell_type": "code",
   "execution_count": null,
   "id": "uHkor_llTuR9",
   "metadata": {
    "colab": {
     "base_uri": "https://localhost:8080/"
    },
    "executionInfo": {
     "elapsed": 15,
     "status": "ok",
     "timestamp": 1623171944837,
     "user": {
      "displayName": "Ivan Savov",
      "photoUrl": "https://lh3.googleusercontent.com/a-/AOh14GgM13MuJiia2gUK23ZS4gJbjbYEAe1_3dxb5acpnQ=s64",
      "userId": "13320182563968762712"
     },
     "user_tz": 240
    },
    "id": "uHkor_llTuR9",
    "outputId": "9f1d47a8-b30d-4939-f083-93cc906f2f93"
   },
   "outputs": [
    {
     "data": {
      "text/plain": [
       "array([67, 78, 87, 98, 69, 69, 73])"
      ]
     },
     "execution_count": 15,
     "metadata": {
      "tags": []
     },
     "output_type": "execute_result"
    }
   ],
   "source": [
    "new_value = examen_2.copy()\n",
    "\n",
    "condition = np.logical_and(new_value<75, new_value>60)\n",
    "new_value[condition] = new_value[condition] + 2\n",
    "new_value"
   ]
  },
  {
   "cell_type": "markdown",
   "id": "KBmpp2WxTuR-",
   "metadata": {
    "id": "KBmpp2WxTuR-"
   },
   "source": [
    "# Question 13\n",
    "\n",
    "soit les reésultat de l'examen 3"
   ]
  },
  {
   "cell_type": "code",
   "execution_count": null,
   "id": "EHIpXwIeTuR-",
   "metadata": {
    "id": "EHIpXwIeTuR-"
   },
   "outputs": [],
   "source": [
    "examen_3 = np.random.randint(55, 101, size=15)"
   ]
  },
  {
   "cell_type": "markdown",
   "id": "1vMTvua-TuR-",
   "metadata": {
    "id": "1vMTvua-TuR-"
   },
   "source": [
    "Modifier le tableau pour que les résultats pour les indexe pair soit 75 et que la dernière valeur soit 65"
   ]
  },
  {
   "cell_type": "code",
   "execution_count": null,
   "id": "MVpPJaddTuR-",
   "metadata": {
    "colab": {
     "base_uri": "https://localhost:8080/"
    },
    "executionInfo": {
     "elapsed": 15,
     "status": "ok",
     "timestamp": 1623171944838,
     "user": {
      "displayName": "Ivan Savov",
      "photoUrl": "https://lh3.googleusercontent.com/a-/AOh14GgM13MuJiia2gUK23ZS4gJbjbYEAe1_3dxb5acpnQ=s64",
      "userId": "13320182563968762712"
     },
     "user_tz": 240
    },
    "id": "MVpPJaddTuR-",
    "outputId": "f1659120-18f0-471d-c0ae-02232bfaf005"
   },
   "outputs": [
    {
     "data": {
      "text/plain": [
       "array([75, 55, 75, 57, 75, 83, 75, 77, 75, 92, 75, 82, 75, 70, 65])"
      ]
     },
     "execution_count": 17,
     "metadata": {
      "tags": []
     },
     "output_type": "execute_result"
    }
   ],
   "source": [
    "examen_3[::2] = 75\n",
    "examen_3[-1] = 65\n",
    "examen_3"
   ]
  },
  {
   "cell_type": "markdown",
   "id": "ZkWeBr5XTuR-",
   "metadata": {
    "id": "ZkWeBr5XTuR-"
   },
   "source": [
    "# Question 14\n",
    "\n",
    "Soit les résultats des étudiants à l'examen 4"
   ]
  },
  {
   "cell_type": "code",
   "execution_count": null,
   "id": "ULEFhyS7TuR_",
   "metadata": {
    "id": "ULEFhyS7TuR_"
   },
   "outputs": [],
   "source": [
    "examen_4 = np.random.randint(55, 101, size=(250,1))"
   ]
  },
  {
   "cell_type": "markdown",
   "id": "2lBKrhd_TuR_",
   "metadata": {
    "id": "2lBKrhd_TuR_"
   },
   "source": [
    "Est-ce que vous pouvez trouver calculer dans une matrice 250x250 la valeur absolue de la différence entre les résultats entre les étudiant."
   ]
  },
  {
   "cell_type": "code",
   "execution_count": null,
   "id": "7_KaVba-TuR_",
   "metadata": {
    "colab": {
     "base_uri": "https://localhost:8080/"
    },
    "executionInfo": {
     "elapsed": 14,
     "status": "ok",
     "timestamp": 1623171944839,
     "user": {
      "displayName": "Ivan Savov",
      "photoUrl": "https://lh3.googleusercontent.com/a-/AOh14GgM13MuJiia2gUK23ZS4gJbjbYEAe1_3dxb5acpnQ=s64",
      "userId": "13320182563968762712"
     },
     "user_tz": 240
    },
    "id": "7_KaVba-TuR_",
    "outputId": "a7a4beed-86c4-41ad-ae7a-6ba9dbf64b6e"
   },
   "outputs": [
    {
     "data": {
      "text/plain": [
       "array([[ 0, 12, 36, ..., 16, 36, 24],\n",
       "       [12,  0, 24, ...,  4, 24, 12],\n",
       "       [36, 24,  0, ..., 20,  0, 12],\n",
       "       ...,\n",
       "       [16,  4, 20, ...,  0, 20,  8],\n",
       "       [36, 24,  0, ..., 20,  0, 12],\n",
       "       [24, 12, 12, ...,  8, 12,  0]])"
      ]
     },
     "execution_count": 19,
     "metadata": {
      "tags": []
     },
     "output_type": "execute_result"
    }
   ],
   "source": [
    "result = np.abs(examen_4 - examen_4.T)\n",
    "result"
   ]
  },
  {
   "cell_type": "markdown",
   "id": "r6UL1dFdTuR_",
   "metadata": {
    "id": "r6UL1dFdTuR_"
   },
   "source": [
    "# Question 15\n",
    "\n",
    "Est-ce que vous pouvez dire quel est la pair d'étudiant dont la différence est la plus grande pour que l'on puisse les pairé ensemble pour l'étudiant le plus faible puisse aider l'étudiant le plus faible."
   ]
  },
  {
   "cell_type": "code",
   "execution_count": null,
   "id": "CXeMk28BTuR_",
   "metadata": {
    "colab": {
     "base_uri": "https://localhost:8080/"
    },
    "executionInfo": {
     "elapsed": 226,
     "status": "ok",
     "timestamp": 1623172523250,
     "user": {
      "displayName": "Ivan Savov",
      "photoUrl": "https://lh3.googleusercontent.com/a-/AOh14GgM13MuJiia2gUK23ZS4gJbjbYEAe1_3dxb5acpnQ=s64",
      "userId": "13320182563968762712"
     },
     "user_tz": 240
    },
    "id": "CXeMk28BTuR_",
    "outputId": "56d32be9-5b45-44e0-f788-5eef928df177"
   },
   "outputs": [
    {
     "data": {
      "text/plain": [
       "(29, 65)"
      ]
     },
     "execution_count": 33,
     "metadata": {
      "tags": []
     },
     "output_type": "execute_result"
    }
   ],
   "source": [
    "np.unravel_index(result.argmax(), result.shape)"
   ]
  },
  {
   "cell_type": "markdown",
   "id": "X4tPVLu-TuSA",
   "metadata": {
    "id": "X4tPVLu-TuSA"
   },
   "source": [
    "# Question 16\n",
    "\n",
    "Est-ce que vous pouvez sauvegarder l'array de la différence entre les élèves dans un fichier txt. Ensuite, est-ce que vous pouvez lire ce fichier pour en faire un nouvel array."
   ]
  },
  {
   "cell_type": "code",
   "execution_count": null,
   "id": "SVrJ9OBtTuSA",
   "metadata": {
    "colab": {
     "base_uri": "https://localhost:8080/"
    },
    "executionInfo": {
     "elapsed": 14,
     "status": "ok",
     "timestamp": 1623171944840,
     "user": {
      "displayName": "Ivan Savov",
      "photoUrl": "https://lh3.googleusercontent.com/a-/AOh14GgM13MuJiia2gUK23ZS4gJbjbYEAe1_3dxb5acpnQ=s64",
      "userId": "13320182563968762712"
     },
     "user_tz": 240
    },
    "id": "SVrJ9OBtTuSA",
    "outputId": "72745352-1cba-419c-d727-8152e1fdc1ec"
   },
   "outputs": [
    {
     "data": {
      "text/plain": [
       "array([[ 0., 12., 36., ..., 16., 36., 24.],\n",
       "       [12.,  0., 24., ...,  4., 24., 12.],\n",
       "       [36., 24.,  0., ..., 20.,  0., 12.],\n",
       "       ...,\n",
       "       [16.,  4., 20., ...,  0., 20.,  8.],\n",
       "       [36., 24.,  0., ..., 20.,  0., 12.],\n",
       "       [24., 12., 12., ...,  8., 12.,  0.]])"
      ]
     },
     "execution_count": 21,
     "metadata": {
      "tags": []
     },
     "output_type": "execute_result"
    }
   ],
   "source": [
    "np.savetxt('resultat.txt', result)\n",
    "nouveau_resultat = np.loadtxt('resultat.txt')\n",
    "nouveau_resultat"
   ]
  },
  {
   "cell_type": "markdown",
   "id": "6DRkPd9ETuSA",
   "metadata": {
    "id": "6DRkPd9ETuSA"
   },
   "source": [
    "# Question 17\n",
    "\n",
    "Est-ce que vous pouvez contruire une fonction qui prend un tableau et retourne la série de Fourier de la fonction carré pour chaque élément du tableau\n",
    "\n",
    "$$\n",
    "  f(x) = \\frac{4}{\\pi} \\sum_{n= 1,3,5 ...}^{N} \\frac{1}{n} \\sin(n\\pi x )\n",
    "$$\n",
    "\n",
    "Prenez N=50 et n'utiliser pas de boucle. Vous devez prendre x comme entré de la fonction."
   ]
  },
  {
   "cell_type": "code",
   "execution_count": null,
   "id": "TYs5ylXHTuSA",
   "metadata": {
    "id": "TYs5ylXHTuSA"
   },
   "outputs": [],
   "source": [
    "x = np.arange(0,3, 0.01)"
   ]
  },
  {
   "cell_type": "code",
   "execution_count": null,
   "id": "JlwMt7A7TuSA",
   "metadata": {
    "id": "JlwMt7A7TuSA"
   },
   "outputs": [],
   "source": [
    "def fourier(x, N=50):\n",
    "    x = x.reshape(-1,1)\n",
    "    n = np.arange(1,N+1, 2).reshape(1,-1)\n",
    "    resultat = 4/np.pi*np.sin(n*x*np.pi)/n\n",
    "    resultat = resultat.sum(axis=1)\n",
    "    return resultat"
   ]
  },
  {
   "cell_type": "markdown",
   "id": "cYcj0uzjTuSB",
   "metadata": {
    "id": "cYcj0uzjTuSB"
   },
   "source": [
    "Vous pouvez regarder le résultat en utilisant le code qui suit."
   ]
  },
  {
   "cell_type": "code",
   "execution_count": null,
   "id": "abX0o96ETuSB",
   "metadata": {
    "colab": {
     "base_uri": "https://localhost:8080/",
     "height": 281
    },
    "executionInfo": {
     "elapsed": 315,
     "status": "ok",
     "timestamp": 1623171945143,
     "user": {
      "displayName": "Ivan Savov",
      "photoUrl": "https://lh3.googleusercontent.com/a-/AOh14GgM13MuJiia2gUK23ZS4gJbjbYEAe1_3dxb5acpnQ=s64",
      "userId": "13320182563968762712"
     },
     "user_tz": 240
    },
    "id": "abX0o96ETuSB",
    "outputId": "8887d60d-5b1c-4985-deb6-d83929ec1db7"
   },
   "outputs": [
    {
     "data": {
      "text/plain": [
       "<matplotlib.collections.PathCollection at 0x7f5402694550>"
      ]
     },
     "execution_count": 24,
     "metadata": {
      "tags": []
     },
     "output_type": "execute_result"
    },
    {
     "data": {
      "image/png": "[encoded data removed]",
      "text/plain": [
       "<Figure size 432x288 with 1 Axes>"
      ]
     },
     "metadata": {
      "needs_background": "light",
      "tags": []
     },
     "output_type": "display_data"
    }
   ],
   "source": [
    "import matplotlib.pyplot as plt\n",
    "\n",
    "y = fourier(x, N=50)\n",
    "\n",
    "plt.scatter(x,y)"
   ]
  },
  {
   "cell_type": "markdown",
   "id": "sCHzF6zDTuSB",
   "metadata": {
    "id": "sCHzF6zDTuSB"
   },
   "source": [
    "# Question bonus 1\n",
    "\n",
    "Calculer la valeur de $\\pi$  à l'aide de la méthode Monte-Carlo.\n",
    "\n",
    "Créer des valeurs alléatoires entre -1 et 1 pour x et y. Pour calculer $\\pi$ utiliser le ratio des point à l'intérieur d'un d'un cercle de rayon 1 avec le ratio de la surface du cercle de rayon 1 avec le carré d'où les coordonnée sont choisi de manière aléatoires. Faite le pour 100, 1000, 10000 coordonnées."
   ]
  },
  {
   "cell_type": "code",
   "execution_count": null,
   "id": "qz5hmZkoTuSC",
   "metadata": {
    "colab": {
     "base_uri": "https://localhost:8080/"
    },
    "executionInfo": {
     "elapsed": 13,
     "status": "ok",
     "timestamp": 1623171945144,
     "user": {
      "displayName": "Ivan Savov",
      "photoUrl": "https://lh3.googleusercontent.com/a-/AOh14GgM13MuJiia2gUK23ZS4gJbjbYEAe1_3dxb5acpnQ=s64",
      "userId": "13320182563968762712"
     },
     "user_tz": 240
    },
    "id": "qz5hmZkoTuSC",
    "outputId": "625ccca1-0f01-41b2-e605-1410b6f5f996"
   },
   "outputs": [
    {
     "data": {
      "text/plain": [
       "3.12"
      ]
     },
     "execution_count": 25,
     "metadata": {
      "tags": []
     },
     "output_type": "execute_result"
    }
   ],
   "source": [
    "x = np.random.uniform(low=-1, high=1, size=(2,100))\n",
    "np.mean(np.sum(x*x,axis=0)<1)*4"
   ]
  },
  {
   "cell_type": "code",
   "execution_count": null,
   "id": "e7vhNs4UTuSC",
   "metadata": {
    "colab": {
     "base_uri": "https://localhost:8080/"
    },
    "executionInfo": {
     "elapsed": 10,
     "status": "ok",
     "timestamp": 1623171945145,
     "user": {
      "displayName": "Ivan Savov",
      "photoUrl": "https://lh3.googleusercontent.com/a-/AOh14GgM13MuJiia2gUK23ZS4gJbjbYEAe1_3dxb5acpnQ=s64",
      "userId": "13320182563968762712"
     },
     "user_tz": 240
    },
    "id": "e7vhNs4UTuSC",
    "outputId": "f0d94233-4ea1-4b09-96a0-52057f3d63f3"
   },
   "outputs": [
    {
     "data": {
      "text/plain": [
       "3.176"
      ]
     },
     "execution_count": 26,
     "metadata": {
      "tags": []
     },
     "output_type": "execute_result"
    }
   ],
   "source": [
    "x = np.random.uniform(low=-1, high=1, size = (2,1000))\n",
    "np.mean(np.sum(x*x,axis=0)<1)*4"
   ]
  },
  {
   "cell_type": "code",
   "execution_count": null,
   "id": "7MOLwwufTuSC",
   "metadata": {
    "colab": {
     "base_uri": "https://localhost:8080/"
    },
    "executionInfo": {
     "elapsed": 10,
     "status": "ok",
     "timestamp": 1623171945146,
     "user": {
      "displayName": "Ivan Savov",
      "photoUrl": "https://lh3.googleusercontent.com/a-/AOh14GgM13MuJiia2gUK23ZS4gJbjbYEAe1_3dxb5acpnQ=s64",
      "userId": "13320182563968762712"
     },
     "user_tz": 240
    },
    "id": "7MOLwwufTuSC",
    "outputId": "ea024723-1ee6-480d-aaea-cd612c0f621d"
   },
   "outputs": [
    {
     "data": {
      "text/plain": [
       "3.1528"
      ]
     },
     "execution_count": 27,
     "metadata": {
      "tags": []
     },
     "output_type": "execute_result"
    }
   ],
   "source": [
    "x = np.random.uniform(low=-1, high=1, size = (2,10000))\n",
    "np.mean(np.sum(x*x,axis=0)<1)*4"
   ]
  },
  {
   "cell_type": "markdown",
   "id": "JpCj3w4yTuSC",
   "metadata": {
    "id": "JpCj3w4yTuSC"
   },
   "source": [
    "# Question bonus 2\n",
    "\n",
    "Calculer la valeur de $\\pi$ à l'aide de la formule de Leibniz. Faite la somme jusqu'à N = 1 000 000.\n",
    "\n",
    "$$\n",
    " -4\\sum_{i=1}^{N} \\frac{ (-1)^i}{ (2i-1) }\n",
    "$$"
   ]
  },
  {
   "cell_type": "code",
   "execution_count": null,
   "id": "Vd_ObW-rTuSD",
   "metadata": {
    "colab": {
     "base_uri": "https://localhost:8080/"
    },
    "executionInfo": {
     "elapsed": 232,
     "status": "ok",
     "timestamp": 1623172633115,
     "user": {
      "displayName": "Ivan Savov",
      "photoUrl": "https://lh3.googleusercontent.com/a-/AOh14GgM13MuJiia2gUK23ZS4gJbjbYEAe1_3dxb5acpnQ=s64",
      "userId": "13320182563968762712"
     },
     "user_tz": 240
    },
    "id": "Vd_ObW-rTuSD",
    "outputId": "de248ab0-5d0a-42e0-991b-e5fab470f001"
   },
   "outputs": [
    {
     "data": {
      "text/plain": [
       "3.141593653590794"
      ]
     },
     "execution_count": 34,
     "metadata": {
      "tags": []
     },
     "output_type": "execute_result"
    }
   ],
   "source": [
    "x = np.arange(1, 1000000)\n",
    "serie = -4*(-1)**x/(2*x-1)\n",
    "serie.sum()"
   ]
  },
  {
   "cell_type": "markdown",
   "id": "zzcwhe8eTuSD",
   "metadata": {
    "id": "zzcwhe8eTuSD"
   },
   "source": [
    "# Question bonus 3\n",
    "\n",
    "À l'aide de %%time calculer le temps d'exécution de votre solution en numpy de la question précédente.\n",
    "\n",
    "Ensuite, calculer le temps d'exécution si vous utiliser des compréhension de liste plutôt que numpy.\n",
    "\n",
    "Finisez par calculer le temps d'exécution si vous utiliser une boucle for à la place d'une compréhension de liste."
   ]
  },
  {
   "cell_type": "code",
   "execution_count": null,
   "id": "RPHoIGIzTuSD",
   "metadata": {
    "colab": {
     "base_uri": "https://localhost:8080/"
    },
    "executionInfo": {
     "elapsed": 235,
     "status": "ok",
     "timestamp": 1623171945373,
     "user": {
      "displayName": "Ivan Savov",
      "photoUrl": "https://lh3.googleusercontent.com/a-/AOh14GgM13MuJiia2gUK23ZS4gJbjbYEAe1_3dxb5acpnQ=s64",
      "userId": "13320182563968762712"
     },
     "user_tz": 240
    },
    "id": "RPHoIGIzTuSD",
    "outputId": "d3eca8ff-3551-4da5-da14-2559943e71ed"
   },
   "outputs": [
    {
     "name": "stdout",
     "output_type": "stream",
     "text": [
      "CPU times: user 57.9 ms, sys: 2.99 ms, total: 60.9 ms\n",
      "Wall time: 63.1 ms\n"
     ]
    }
   ],
   "source": [
    "%%time\n",
    "x = np.arange(1,1000000)\n",
    "serie = -4/(2*x-1)*(-1)**x\n",
    "serie.sum()"
   ]
  },
  {
   "cell_type": "code",
   "execution_count": null,
   "id": "OQA0irQ5TuSE",
   "metadata": {
    "colab": {
     "base_uri": "https://localhost:8080/"
    },
    "executionInfo": {
     "elapsed": 312,
     "status": "ok",
     "timestamp": 1623171945683,
     "user": {
      "displayName": "Ivan Savov",
      "photoUrl": "https://lh3.googleusercontent.com/a-/AOh14GgM13MuJiia2gUK23ZS4gJbjbYEAe1_3dxb5acpnQ=s64",
      "userId": "13320182563968762712"
     },
     "user_tz": 240
    },
    "id": "OQA0irQ5TuSE",
    "outputId": "29539f38-2c0a-458c-ecd7-9acd43de4119"
   },
   "outputs": [
    {
     "name": "stdout",
     "output_type": "stream",
     "text": [
      "CPU times: user 435 ms, sys: 29.9 ms, total: 465 ms\n",
      "Wall time: 472 ms\n"
     ]
    },
    {
     "data": {
      "text/plain": [
       "3.1415936535907742"
      ]
     },
     "execution_count": 30,
     "metadata": {
      "tags": []
     },
     "output_type": "execute_result"
    }
   ],
   "source": [
    "%%time\n",
    "sum([-4/(2*x-1)*(-1)**x for x in range(1,1000000)])"
   ]
  },
  {
   "cell_type": "code",
   "execution_count": null,
   "id": "ZnHbcwHlTuSE",
   "metadata": {
    "colab": {
     "base_uri": "https://localhost:8080/"
    },
    "executionInfo": {
     "elapsed": 637,
     "status": "ok",
     "timestamp": 1623171946319,
     "user": {
      "displayName": "Ivan Savov",
      "photoUrl": "https://lh3.googleusercontent.com/a-/AOh14GgM13MuJiia2gUK23ZS4gJbjbYEAe1_3dxb5acpnQ=s64",
      "userId": "13320182563968762712"
     },
     "user_tz": 240
    },
    "id": "ZnHbcwHlTuSE",
    "outputId": "4341d3ed-5157-42ca-f180-dcbdfb519dd2"
   },
   "outputs": [
    {
     "name": "stdout",
     "output_type": "stream",
     "text": [
      "CPU times: user 502 ms, sys: 4.29 ms, total: 506 ms\n",
      "Wall time: 516 ms\n"
     ]
    }
   ],
   "source": [
    "%%time\n",
    "somme = 0\n",
    "for x in range(1,1000000):\n",
    "    somme+=-4/(2*x-1)*(-1)**x\n",
    "somme"
   ]
  },
  {
   "cell_type": "markdown",
   "id": "DpxtAxOzTuSE",
   "metadata": {
    "id": "DpxtAxOzTuSE"
   },
   "source": [
    "Par contre, on peut quand même faire plus rapide malgré tout en numpy si on ajuste de la bonne manière\n"
   ]
  },
  {
   "cell_type": "code",
   "execution_count": null,
   "id": "yGwwLtBOTuSE",
   "metadata": {
    "colab": {
     "base_uri": "https://localhost:8080/"
    },
    "executionInfo": {
     "elapsed": 12,
     "status": "ok",
     "timestamp": 1623171946320,
     "user": {
      "displayName": "Ivan Savov",
      "photoUrl": "https://lh3.googleusercontent.com/a-/AOh14GgM13MuJiia2gUK23ZS4gJbjbYEAe1_3dxb5acpnQ=s64",
      "userId": "13320182563968762712"
     },
     "user_tz": 240
    },
    "id": "yGwwLtBOTuSE",
    "outputId": "1e19cd46-dc20-438e-cdde-0c86d25d5cda"
   },
   "outputs": [
    {
     "name": "stdout",
     "output_type": "stream",
     "text": [
      "CPU times: user 7.52 ms, sys: 61 µs, total: 7.58 ms\n",
      "Wall time: 7.28 ms\n"
     ]
    }
   ],
   "source": [
    "%%time\n",
    "x = np.arange(1,1000000)\n",
    "serie = 4/(2*x-1)\n",
    "serie[1::2]= - serie[1::2]\n",
    "serie.sum()"
   ]
  },
  {
   "cell_type": "code",
   "execution_count": null,
   "id": "JmHC-Rt0TuSF",
   "metadata": {
    "id": "JmHC-Rt0TuSF"
   },
   "outputs": [],
   "source": []
  },
  {
   "cell_type": "code",
   "execution_count": null,
   "id": "MwIAtlPDTuSF",
   "metadata": {
    "id": "MwIAtlPDTuSF"
   },
   "outputs": [],
   "source": []
  },
  {
   "cell_type": "code",
   "execution_count": null,
   "id": "kA7QYrF-TuSF",
   "metadata": {
    "id": "kA7QYrF-TuSF"
   },
   "outputs": [],
   "source": []
  },
  {
   "cell_type": "code",
   "execution_count": null,
   "id": "u_enzpMsTuSF",
   "metadata": {
    "id": "u_enzpMsTuSF"
   },
   "outputs": [],
   "source": []
  },
  {
   "cell_type": "markdown",
   "id": "rCzIqk646yem",
   "metadata": {
    "id": "rCzIqk646yem"
   },
   "source": [
    "# Licence"
   ]
  },
  {
   "cell_type": "markdown",
   "id": "H0SZmgf160Vr",
   "metadata": {
    "id": "H0SZmgf160Vr"
   },
   "source": [
    "Copyright 2021 Montréal-Python\n",
    "\n",
    "Permission is hereby granted, free of charge, to any person obtaining a copy of this software and associated documentation files (the \"Software\"), to deal in the Software without restriction, including without limitation the rights to use, copy, modify, merge, publish, distribute, sublicense, and/or sell copies of the Software, and to permit persons to whom the Software is furnished to do so, subject to the following conditions:\n",
    "\n",
    "The above copyright notice and this permission notice shall be included in all copies or substantial portions of the Software.\n",
    "\n",
    "THE SOFTWARE IS PROVIDED \"AS IS\", WITHOUT WARRANTY OF ANY KIND, EXPRESS OR IMPLIED, INCLUDING BUT NOT LIMITED TO THE WARRANTIES OF MERCHANTABILITY, FITNESS FOR A PARTICULAR PURPOSE AND NONINFRINGEMENT. IN NO EVENT SHALL THE AUTHORS OR COPYRIGHT HOLDERS BE LIABLE FOR ANY CLAIM, DAMAGES OR OTHER LIABILITY, WHETHER IN AN ACTION OF CONTRACT, TORT OR OTHERWISE, ARISING FROM, OUT OF OR IN CONNECTION WITH THE SOFTWARE OR THE USE OR OTHER DEALINGS IN THE SOFTWARE.\n"
   ]
  }
 ],
 "metadata": {
  "colab": {
   "collapsed_sections": [],
   "name": "numpy_solution.ipynb",
   "provenance": [],
   "toc_visible": true
  },
  "kernelspec": {
   "display_name": "Python 3",
   "language": "python",
   "name": "python3"
  },
  "language_info": {
   "codemirror_mode": {
    "name": "ipython",
    "version": 3
   },
   "file_extension": ".py",
   "mimetype": "text/x-python",
   "name": "python",
   "nbconvert_exporter": "python",
   "pygments_lexer": "ipython3",
   "version": "3.8.5"
  }
 },
 "nbformat": 4,
 "nbformat_minor": 5
}
