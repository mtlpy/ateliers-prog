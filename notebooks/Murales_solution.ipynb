{
 "cells": [
  {
   "cell_type": "markdown",
   "metadata": {
    "id": "Z7RAKUYtfh8f"
   },
   "source": [
    "# Murales : solutionnaire"
   ]
  },
  {
   "cell_type": "markdown",
   "metadata": {
    "id": "f1cEPrUHrfNY"
   },
   "source": [
    "_Note:  \n",
    "Ce solutionnaire utilise le **jeu de données de Montréal-Python** car les données sources de la Ville de Montréal peuvent changer dans le temps (structure et données). Le jeu de données de Montréal-Python assure la pérennité du solutionnaire (pas besoin de changer le nom des colonnes, par exemple :) )._"
   ]
  },
  {
   "cell_type": "markdown",
   "metadata": {
    "id": "TYr2p_ODfk2f"
   },
   "source": [
    "## Installer pandas\n",
    "\n",
    "`pandas` n'est pas dans la _Standard Library_ (ne vient pas par défaut avec Python), faut donc l'installer\n",
    "* Pour Colab, c'est installé par défaut, pas besoin d'installer, sinon on pourrait le faire avec `!pip install pandas`\n",
    "* Machine locale `pip install pandas`"
   ]
  },
  {
   "cell_type": "markdown",
   "metadata": {
    "id": "rUK4UyOsijoZ"
   },
   "source": [
    "## Charger vos données"
   ]
  },
  {
   "cell_type": "markdown",
   "metadata": {
    "id": "_tSAU4Wfhu7h"
   },
   "source": [
    "### Import\n",
    "\n",
    "Par convention, on renomme `pd`."
   ]
  },
  {
   "cell_type": "code",
   "execution_count": null,
   "metadata": {
    "id": "m1VdMywGiJHz"
   },
   "outputs": [],
   "source": [
    "import pandas as pd"
   ]
  },
  {
   "cell_type": "markdown",
   "metadata": {
    "id": "Xl3EbyHeiMDf"
   },
   "source": [
    "### Charger\n",
    "\n",
    "Pandas a des readers pour différents formats de données, incluant CSV."
   ]
  },
  {
   "cell_type": "code",
   "execution_count": null,
   "metadata": {
    "id": "6HA2H8myiTjr"
   },
   "outputs": [],
   "source": [
    "url = \"https://raw.githubusercontent.com/mtlpy/mtlpy-exercises/main/mtl/murales/murales.csv\"\n",
    "data = pd.read_csv(url)"
   ]
  },
  {
   "cell_type": "markdown",
   "metadata": {
    "id": "4XSXVFl3iaWq"
   },
   "source": [
    "## Explorer et préparer les données\n"
   ]
  },
  {
   "cell_type": "markdown",
   "metadata": {
    "id": "uUD5Za_TtyWN"
   },
   "source": [
    "### Vue d'ensemble"
   ]
  },
  {
   "cell_type": "markdown",
   "metadata": {
    "id": "azilX_JNid-a"
   },
   "source": [
    "Les données sont chargées dans une structure de données appelée un `DataFrame`. C'est en quelque sorte un tableau avec colonnes et rangées (indexées: donc appelables par leurs index)."
   ]
  },
  {
   "cell_type": "code",
   "execution_count": null,
   "metadata": {
    "colab": {
     "base_uri": "https://localhost:8080/"
    },
    "executionInfo": {
     "elapsed": 222,
     "status": "ok",
     "timestamp": 1632933127661,
     "user": {
      "displayName": "Davin Baragiotta",
      "photoUrl": "https://lh3.googleusercontent.com/a-/AOh14Gg6DfnEVWWgyS_Ai1m5Tgy-moL9KpBUeBN0kZE3Gg=s64",
      "userId": "13717336720242547762"
     },
     "user_tz": 240
    },
    "id": "gvUF5XdOrQXX",
    "outputId": "a7b656a7-a1a9-4024-ca36-808915ec038b"
   },
   "outputs": [
    {
     "data": {
      "text/plain": [
       "pandas.core.frame.DataFrame"
      ]
     },
     "execution_count": 3,
     "metadata": {},
     "output_type": "execute_result"
    }
   ],
   "source": [
    "type(data)"
   ]
  },
  {
   "cell_type": "code",
   "execution_count": null,
   "metadata": {
    "colab": {
     "base_uri": "https://localhost:8080/",
     "height": 841
    },
    "executionInfo": {
     "elapsed": 235,
     "status": "ok",
     "timestamp": 1632933129579,
     "user": {
      "displayName": "Davin Baragiotta",
      "photoUrl": "https://lh3.googleusercontent.com/a-/AOh14Gg6DfnEVWWgyS_Ai1m5Tgy-moL9KpBUeBN0kZE3Gg=s64",
      "userId": "13717336720242547762"
     },
     "user_tz": 240
    },
    "id": "BVYf5B3Mre4u",
    "outputId": "63228ddf-b647-4a8b-a24e-5b80095e2893"
   },
   "outputs": [
    {
     "data": {
      "text/html": [
       "<div>\n",
       "<style scoped>\n",
       "    .dataframe tbody tr th:only-of-type {\n",
       "        vertical-align: middle;\n",
       "    }\n",
       "\n",
       "    .dataframe tbody tr th {\n",
       "        vertical-align: top;\n",
       "    }\n",
       "\n",
       "    .dataframe thead th {\n",
       "        text-align: right;\n",
       "    }\n",
       "</style>\n",
       "<table border=\"1\" class=\"dataframe\">\n",
       "  <thead>\n",
       "    <tr style=\"text-align: right;\">\n",
       "      <th></th>\n",
       "      <th>id</th>\n",
       "      <th>artiste</th>\n",
       "      <th>organisme</th>\n",
       "      <th>adresse</th>\n",
       "      <th>annee</th>\n",
       "      <th>arrondissement</th>\n",
       "      <th>programme_entente</th>\n",
       "      <th>latitude</th>\n",
       "      <th>longitude</th>\n",
       "      <th>image</th>\n",
       "    </tr>\n",
       "  </thead>\n",
       "  <tbody>\n",
       "    <tr>\n",
       "      <th>0</th>\n",
       "      <td>1</td>\n",
       "      <td>Yannick Picard</td>\n",
       "      <td>MU</td>\n",
       "      <td>4105, 47e rue (coin Pie IX)</td>\n",
       "      <td>2007</td>\n",
       "      <td>Villeray–Saint-Michel–Parc-Extension</td>\n",
       "      <td>Programme graffitis et murales</td>\n",
       "      <td>45.580410</td>\n",
       "      <td>-73.622218</td>\n",
       "      <td>https://depot.ville.montreal.qc.ca/murales/MU-...</td>\n",
       "    </tr>\n",
       "    <tr>\n",
       "      <th>1</th>\n",
       "      <td>2</td>\n",
       "      <td>Artducommun</td>\n",
       "      <td>Corporation de développement urbain Faubourg S...</td>\n",
       "      <td>coin des rues Saint-Laurent et Viger</td>\n",
       "      <td>2007</td>\n",
       "      <td>Ville-Marie</td>\n",
       "      <td>Programme graffitis et murales</td>\n",
       "      <td>45.506855</td>\n",
       "      <td>-73.558029</td>\n",
       "      <td>https://depot.ville.montreal.qc.ca/murales/CDU...</td>\n",
       "    </tr>\n",
       "    <tr>\n",
       "      <th>2</th>\n",
       "      <td>3</td>\n",
       "      <td>Carlito Dalceggio</td>\n",
       "      <td>MU</td>\n",
       "      <td>3 601, rue De Bullion (coin Prince-Arthur)</td>\n",
       "      <td>2008</td>\n",
       "      <td>Le Plateau-Mont-Royal</td>\n",
       "      <td>Programme graffitis et murales</td>\n",
       "      <td>45.515387</td>\n",
       "      <td>-73.571347</td>\n",
       "      <td>https://depot.ville.montreal.qc.ca/murales/MU-...</td>\n",
       "    </tr>\n",
       "    <tr>\n",
       "      <th>3</th>\n",
       "      <td>4</td>\n",
       "      <td>Dominique Desbiens</td>\n",
       "      <td>MU</td>\n",
       "      <td>7255, Lajeunesse (coin Jean-Talon)</td>\n",
       "      <td>2008</td>\n",
       "      <td>Villeray–Saint-Michel–Parc-Extension</td>\n",
       "      <td>Programme graffitis et murales</td>\n",
       "      <td>45.539966</td>\n",
       "      <td>-73.614816</td>\n",
       "      <td>https://depot.ville.montreal.qc.ca/murales/MU-...</td>\n",
       "    </tr>\n",
       "    <tr>\n",
       "      <th>4</th>\n",
       "      <td>5</td>\n",
       "      <td>Yannick Picard</td>\n",
       "      <td>MU</td>\n",
       "      <td>8090, rue des Érables</td>\n",
       "      <td>2008</td>\n",
       "      <td>Villeray–Saint-Michel–Parc-Extension</td>\n",
       "      <td>Programme graffitis et murales</td>\n",
       "      <td>45.555841</td>\n",
       "      <td>-73.616364</td>\n",
       "      <td>https://depot.ville.montreal.qc.ca/murales/MU-...</td>\n",
       "    </tr>\n",
       "    <tr>\n",
       "      <th>...</th>\n",
       "      <td>...</td>\n",
       "      <td>...</td>\n",
       "      <td>...</td>\n",
       "      <td>...</td>\n",
       "      <td>...</td>\n",
       "      <td>...</td>\n",
       "      <td>...</td>\n",
       "      <td>...</td>\n",
       "      <td>...</td>\n",
       "      <td>...</td>\n",
       "    </tr>\n",
       "    <tr>\n",
       "      <th>229</th>\n",
       "      <td>230</td>\n",
       "      <td>Borrris</td>\n",
       "      <td>Y’a QuelQu’un l’aut’bord du mur (YQQ)</td>\n",
       "      <td>5955, rue de Marseille</td>\n",
       "      <td>2020</td>\n",
       "      <td>Mercier–Hochelaga-Maisonneuve</td>\n",
       "      <td>Programme d'art mural (volet 2)</td>\n",
       "      <td>45.574706</td>\n",
       "      <td>-73.542258</td>\n",
       "      <td>https://depot.ville.montreal.qc.ca/murales/202...</td>\n",
       "    </tr>\n",
       "    <tr>\n",
       "      <th>230</th>\n",
       "      <td>231</td>\n",
       "      <td>Bryan Beyung</td>\n",
       "      <td>KOLAB</td>\n",
       "      <td>1745 rue Tassé</td>\n",
       "      <td>2020</td>\n",
       "      <td>Saint-Laurent</td>\n",
       "      <td>Programme d'art mural (volet 2)</td>\n",
       "      <td>45.514880</td>\n",
       "      <td>-73.692207</td>\n",
       "      <td>https://depot.ville.montreal.qc.ca/murales/202...</td>\n",
       "    </tr>\n",
       "    <tr>\n",
       "      <th>231</th>\n",
       "      <td>232</td>\n",
       "      <td>Maliciouz</td>\n",
       "      <td>Corporation de développement communautaire de ...</td>\n",
       "      <td>6262 Chemin Hudson</td>\n",
       "      <td>2020</td>\n",
       "      <td>Côte-des-Neiges–Notre-Dame-de-Grâce</td>\n",
       "      <td>Programme d'art mural (volet 2)</td>\n",
       "      <td>45.505707</td>\n",
       "      <td>-73.629566</td>\n",
       "      <td>https://depot.ville.montreal.qc.ca/murales/202...</td>\n",
       "    </tr>\n",
       "    <tr>\n",
       "      <th>232</th>\n",
       "      <td>233</td>\n",
       "      <td>Ruben Carrasco</td>\n",
       "      <td>IPAF Festival</td>\n",
       "      <td>2633 rue Ontario Est</td>\n",
       "      <td>2020</td>\n",
       "      <td>Ville-Marie</td>\n",
       "      <td>Programme d'art mural (volet 2)</td>\n",
       "      <td>45.534219</td>\n",
       "      <td>-73.553258</td>\n",
       "      <td>https://depot.ville.montreal.qc.ca/murales/202...</td>\n",
       "    </tr>\n",
       "    <tr>\n",
       "      <th>233</th>\n",
       "      <td>234</td>\n",
       "      <td>Jean-Sébastien Denis en collaboration avec MU</td>\n",
       "      <td>Les Amis de la place Marcelle-Ferron</td>\n",
       "      <td>999 avenue McEachran</td>\n",
       "      <td>2020</td>\n",
       "      <td>Outremont</td>\n",
       "      <td>Programme d'art mural (volet 1) \\n\\nFinancé da...</td>\n",
       "      <td>45.520329</td>\n",
       "      <td>-73.619466</td>\n",
       "      <td>https://depot.ville.montreal.qc.ca/murales/202...</td>\n",
       "    </tr>\n",
       "  </tbody>\n",
       "</table>\n",
       "<p>234 rows × 10 columns</p>\n",
       "</div>"
      ],
      "text/plain": [
       "      id  ...                                              image\n",
       "0      1  ...  https://depot.ville.montreal.qc.ca/murales/MU-...\n",
       "1      2  ...  https://depot.ville.montreal.qc.ca/murales/CDU...\n",
       "2      3  ...  https://depot.ville.montreal.qc.ca/murales/MU-...\n",
       "3      4  ...  https://depot.ville.montreal.qc.ca/murales/MU-...\n",
       "4      5  ...  https://depot.ville.montreal.qc.ca/murales/MU-...\n",
       "..   ...  ...                                                ...\n",
       "229  230  ...  https://depot.ville.montreal.qc.ca/murales/202...\n",
       "230  231  ...  https://depot.ville.montreal.qc.ca/murales/202...\n",
       "231  232  ...  https://depot.ville.montreal.qc.ca/murales/202...\n",
       "232  233  ...  https://depot.ville.montreal.qc.ca/murales/202...\n",
       "233  234  ...  https://depot.ville.montreal.qc.ca/murales/202...\n",
       "\n",
       "[234 rows x 10 columns]"
      ]
     },
     "execution_count": 4,
     "metadata": {},
     "output_type": "execute_result"
    }
   ],
   "source": [
    "# volumétrie des colonnes et rangées et\n",
    "# aperçu des types et valeurs des données\n",
    "data"
   ]
  },
  {
   "cell_type": "markdown",
   "metadata": {
    "id": "NgJmrutFurPq"
   },
   "source": [
    "Chaque rangée représente une murale. Il est légitime de croire qu'il n'y a pas de doublon car il y a une colonne `id` mais nous pourrions vouloir analyser les données pour en être sûr (exemple, les latitude et longitude de chaque murale sont biens uniques?)."
   ]
  },
  {
   "cell_type": "code",
   "execution_count": null,
   "metadata": {
    "colab": {
     "base_uri": "https://localhost:8080/"
    },
    "executionInfo": {
     "elapsed": 136,
     "status": "ok",
     "timestamp": 1632933134287,
     "user": {
      "displayName": "Davin Baragiotta",
      "photoUrl": "https://lh3.googleusercontent.com/a-/AOh14Gg6DfnEVWWgyS_Ai1m5Tgy-moL9KpBUeBN0kZE3Gg=s64",
      "userId": "13717336720242547762"
     },
     "user_tz": 240
    },
    "id": "yYyBupzcrVf9",
    "outputId": "fc26202a-2826-452d-ee31-5b7669135571"
   },
   "outputs": [
    {
     "data": {
      "text/plain": [
       "Index(['id', 'artiste', 'organisme', 'adresse', 'annee', 'arrondissement',\n",
       "       'programme_entente', 'latitude', 'longitude', 'image'],\n",
       "      dtype='object')"
      ]
     },
     "execution_count": 5,
     "metadata": {},
     "output_type": "execute_result"
    }
   ],
   "source": [
    "# nom des colonnes\n",
    "data.columns"
   ]
  },
  {
   "cell_type": "markdown",
   "metadata": {
    "id": "wjmclIbZt4Sr"
   },
   "source": [
    "### Vérifier les valeurs"
   ]
  },
  {
   "cell_type": "code",
   "execution_count": null,
   "metadata": {
    "colab": {
     "base_uri": "https://localhost:8080/"
    },
    "executionInfo": {
     "elapsed": 156,
     "status": "ok",
     "timestamp": 1632933136866,
     "user": {
      "displayName": "Davin Baragiotta",
      "photoUrl": "https://lh3.googleusercontent.com/a-/AOh14Gg6DfnEVWWgyS_Ai1m5Tgy-moL9KpBUeBN0kZE3Gg=s64",
      "userId": "13717336720242547762"
     },
     "user_tz": 240
    },
    "id": "tVaT3wctr5c_",
    "outputId": "7611d9c5-5f9e-4216-e91c-a137f13f2d41"
   },
   "outputs": [
    {
     "data": {
      "text/plain": [
       "array(['Villeray–Saint-Michel–Parc-Extension', 'Ville-Marie',\n",
       "       'Le Plateau-Mont-Royal', 'Lachine',\n",
       "       'Côte-des-Neiges–Notre-Dame-de-Grâce', 'Le Sud-Ouest',\n",
       "       'Montréal-Nord', 'Rosemont–La Petite-Patrie',\n",
       "       'Rivière-des-Prairies–Pointe-aux-Trembles', 'Verdun',\n",
       "       'Mercier–Hochelaga-Maisonneuve', 'Ahuntsic-Cartierville',\n",
       "       'Saint-Laurent', 'LaSalle', 'Outremont'], dtype=object)"
      ]
     },
     "execution_count": 6,
     "metadata": {},
     "output_type": "execute_result"
    }
   ],
   "source": [
    "# arrondissement: 15 valeurs uniques sans erreur apparente\n",
    "len(data['arrondissement'].unique())\n",
    "data['arrondissement'].unique()"
   ]
  },
  {
   "cell_type": "markdown",
   "metadata": {
    "id": "Ygxz6E8MwBOY"
   },
   "source": [
    "## Analyser les données"
   ]
  },
  {
   "cell_type": "markdown",
   "metadata": {
    "id": "mWnIL7XgwJXI"
   },
   "source": [
    "### Exercice: arrondissement avec le plus de murales"
   ]
  },
  {
   "cell_type": "code",
   "execution_count": null,
   "metadata": {
    "colab": {
     "base_uri": "https://localhost:8080/"
    },
    "executionInfo": {
     "elapsed": 265,
     "status": "ok",
     "timestamp": 1632933139561,
     "user": {
      "displayName": "Davin Baragiotta",
      "photoUrl": "https://lh3.googleusercontent.com/a-/AOh14Gg6DfnEVWWgyS_Ai1m5Tgy-moL9KpBUeBN0kZE3Gg=s64",
      "userId": "13717336720242547762"
     },
     "user_tz": 240
    },
    "id": "S9fb5EYiwJ9c",
    "outputId": "b4dab921-258a-4d51-d26e-1dd741bd3880"
   },
   "outputs": [
    {
     "data": {
      "text/plain": [
       "Rosemont–La Petite-Patrie                   62\n",
       "Ville-Marie                                 47\n",
       "Mercier–Hochelaga-Maisonneuve               18\n",
       "Le Sud-Ouest                                17\n",
       "Le Plateau-Mont-Royal                       17\n",
       "Lachine                                     16\n",
       "Villeray–Saint-Michel–Parc-Extension        14\n",
       "Côte-des-Neiges–Notre-Dame-de-Grâce         11\n",
       "Montréal-Nord                                9\n",
       "Verdun                                       8\n",
       "Ahuntsic-Cartierville                        7\n",
       "Saint-Laurent                                5\n",
       "Outremont                                    1\n",
       "LaSalle                                      1\n",
       "Rivière-des-Prairies–Pointe-aux-Trembles     1\n",
       "Name: arrondissement, dtype: int64"
      ]
     },
     "execution_count": 7,
     "metadata": {},
     "output_type": "execute_result"
    }
   ],
   "source": [
    "# liste complète\n",
    "data['arrondissement'].value_counts()"
   ]
  },
  {
   "cell_type": "code",
   "execution_count": null,
   "metadata": {
    "colab": {
     "base_uri": "https://localhost:8080/",
     "height": 35
    },
    "executionInfo": {
     "elapsed": 211,
     "status": "ok",
     "timestamp": 1632933142418,
     "user": {
      "displayName": "Davin Baragiotta",
      "photoUrl": "https://lh3.googleusercontent.com/a-/AOh14Gg6DfnEVWWgyS_Ai1m5Tgy-moL9KpBUeBN0kZE3Gg=s64",
      "userId": "13717336720242547762"
     },
     "user_tz": 240
    },
    "id": "7-VD43mQxaQf",
    "outputId": "6a1d9586-8477-4511-b393-db6c4761f4fd"
   },
   "outputs": [
    {
     "data": {
      "application/vnd.google.colaboratory.intrinsic+json": {
       "type": "string"
      },
      "text/plain": [
       "'Rosemont–La Petite-Patrie'"
      ]
     },
     "execution_count": 8,
     "metadata": {},
     "output_type": "execute_result"
    }
   ],
   "source": [
    "# vraie réponse à la question (car value_counts retourne résultats triés)\n",
    "vc = data['arrondissement'].value_counts()\n",
    "vc.first_valid_index()"
   ]
  },
  {
   "cell_type": "code",
   "execution_count": null,
   "metadata": {
    "colab": {
     "base_uri": "https://localhost:8080/",
     "height": 35
    },
    "executionInfo": {
     "elapsed": 145,
     "status": "ok",
     "timestamp": 1632933143905,
     "user": {
      "displayName": "Davin Baragiotta",
      "photoUrl": "https://lh3.googleusercontent.com/a-/AOh14Gg6DfnEVWWgyS_Ai1m5Tgy-moL9KpBUeBN0kZE3Gg=s64",
      "userId": "13717336720242547762"
     },
     "user_tz": 240
    },
    "id": "Xj9jUOCXxoDz",
    "outputId": "3fab7e12-8080-412b-ef95-c323864c1e19"
   },
   "outputs": [
    {
     "data": {
      "application/vnd.google.colaboratory.intrinsic+json": {
       "type": "string"
      },
      "text/plain": [
       "'Rosemont–La Petite-Patrie'"
      ]
     },
     "execution_count": 9,
     "metadata": {},
     "output_type": "execute_result"
    }
   ],
   "source": [
    "# vraie réponse (ne comptant pas sur le tri de value_counts)\n",
    "vc.idxmax()"
   ]
  },
  {
   "cell_type": "markdown",
   "metadata": {
    "id": "NmwkLQAhwNP7"
   },
   "source": [
    "## Aller plus loin"
   ]
  },
  {
   "cell_type": "markdown",
   "metadata": {
    "id": "cQ9IKsDpwPt7"
   },
   "source": [
    "### Exercice: plus d'occurences en premier\n"
   ]
  },
  {
   "cell_type": "markdown",
   "metadata": {
    "id": "iQ9npzECxyYd"
   },
   "source": [
    "On l'a par défaut avec `value_counts()`... essayons alors de faire l'inverse? Moins d'occurences en premier?\n",
    "\n",
    "Une introspection montre rapidement qu'on peut trier (_sort_) sur l'index ou sur les valeurs... ben voilà!"
   ]
  },
  {
   "cell_type": "markdown",
   "metadata": {
    "id": "Yb8PqvcYZvKn"
   },
   "source": [
    "```\n",
    "vc.\n",
    "vc.sort_values?\n",
    "```"
   ]
  },
  {
   "cell_type": "code",
   "execution_count": null,
   "metadata": {
    "colab": {
     "base_uri": "https://localhost:8080/"
    },
    "executionInfo": {
     "elapsed": 136,
     "status": "ok",
     "timestamp": 1632933153111,
     "user": {
      "displayName": "Davin Baragiotta",
      "photoUrl": "https://lh3.googleusercontent.com/a-/AOh14Gg6DfnEVWWgyS_Ai1m5Tgy-moL9KpBUeBN0kZE3Gg=s64",
      "userId": "13717336720242547762"
     },
     "user_tz": 240
    },
    "id": "rj3MKpD3yMYW",
    "outputId": "f5102217-0f90-4d66-a4e6-c87d0b38754b"
   },
   "outputs": [
    {
     "data": {
      "text/plain": [
       "Outremont                                    1\n",
       "LaSalle                                      1\n",
       "Rivière-des-Prairies–Pointe-aux-Trembles     1\n",
       "Saint-Laurent                                5\n",
       "Ahuntsic-Cartierville                        7\n",
       "Verdun                                       8\n",
       "Montréal-Nord                                9\n",
       "Côte-des-Neiges–Notre-Dame-de-Grâce         11\n",
       "Villeray–Saint-Michel–Parc-Extension        14\n",
       "Lachine                                     16\n",
       "Le Sud-Ouest                                17\n",
       "Le Plateau-Mont-Royal                       17\n",
       "Mercier–Hochelaga-Maisonneuve               18\n",
       "Ville-Marie                                 47\n",
       "Rosemont–La Petite-Patrie                   62\n",
       "Name: arrondissement, dtype: int64"
      ]
     },
     "execution_count": 12,
     "metadata": {},
     "output_type": "execute_result"
    }
   ],
   "source": [
    "vc.sort_values()"
   ]
  },
  {
   "cell_type": "markdown",
   "metadata": {
    "id": "IlJjrHAmwS2q"
   },
   "source": [
    "### Exercice: 3 premiers résultats dans un format agréable à lire"
   ]
  },
  {
   "cell_type": "markdown",
   "metadata": {
    "id": "fRDBytrxybrL"
   },
   "source": [
    "Le format est déjà agréable à lire...\n",
    "\n",
    "Mais prenons les 3 premiers résultats seulement.\n",
    "\n",
    "On doit pouvoir slicer, non?"
   ]
  },
  {
   "cell_type": "code",
   "execution_count": null,
   "metadata": {
    "colab": {
     "base_uri": "https://localhost:8080/"
    },
    "executionInfo": {
     "elapsed": 153,
     "status": "ok",
     "timestamp": 1632933164670,
     "user": {
      "displayName": "Davin Baragiotta",
      "photoUrl": "https://lh3.googleusercontent.com/a-/AOh14Gg6DfnEVWWgyS_Ai1m5Tgy-moL9KpBUeBN0kZE3Gg=s64",
      "userId": "13717336720242547762"
     },
     "user_tz": 240
    },
    "id": "117seMK8wVRO",
    "outputId": "de373c77-e58b-40af-adbd-6d749dd6d5d8"
   },
   "outputs": [
    {
     "data": {
      "text/plain": [
       "Rosemont–La Petite-Patrie        62\n",
       "Ville-Marie                      47\n",
       "Mercier–Hochelaga-Maisonneuve    18\n",
       "Name: arrondissement, dtype: int64"
      ]
     },
     "execution_count": 13,
     "metadata": {},
     "output_type": "execute_result"
    }
   ],
   "source": [
    "vc.iloc[0:3]"
   ]
  },
  {
   "cell_type": "markdown",
   "metadata": {
    "id": "uhvvuWZJwV2F"
   },
   "source": [
    "### Exercice: trier sur nom d'arrondissement\n"
   ]
  },
  {
   "cell_type": "markdown",
   "metadata": {
    "id": "RbZ5WwizyoHE"
   },
   "source": [
    "On l'a dit... on peut faire _sort_ sur index ou valeurs..."
   ]
  },
  {
   "cell_type": "markdown",
   "metadata": {
    "id": "7H-4z24lZ06N"
   },
   "source": [
    "```\n",
    "vc.sort_index?\n",
    "```"
   ]
  },
  {
   "cell_type": "code",
   "execution_count": null,
   "metadata": {
    "colab": {
     "base_uri": "https://localhost:8080/"
    },
    "executionInfo": {
     "elapsed": 189,
     "status": "ok",
     "timestamp": 1632933167933,
     "user": {
      "displayName": "Davin Baragiotta",
      "photoUrl": "https://lh3.googleusercontent.com/a-/AOh14Gg6DfnEVWWgyS_Ai1m5Tgy-moL9KpBUeBN0kZE3Gg=s64",
      "userId": "13717336720242547762"
     },
     "user_tz": 240
    },
    "id": "jF1vr_xhyqVv",
    "outputId": "95fa77d9-53c4-4919-bc7f-3cc31edbb23e"
   },
   "outputs": [
    {
     "data": {
      "text/plain": [
       "Ahuntsic-Cartierville                        7\n",
       "Côte-des-Neiges–Notre-Dame-de-Grâce         11\n",
       "LaSalle                                      1\n",
       "Lachine                                     16\n",
       "Le Plateau-Mont-Royal                       17\n",
       "Le Sud-Ouest                                17\n",
       "Mercier–Hochelaga-Maisonneuve               18\n",
       "Montréal-Nord                                9\n",
       "Outremont                                    1\n",
       "Rivière-des-Prairies–Pointe-aux-Trembles     1\n",
       "Rosemont–La Petite-Patrie                   62\n",
       "Saint-Laurent                                5\n",
       "Verdun                                       8\n",
       "Ville-Marie                                 47\n",
       "Villeray–Saint-Michel–Parc-Extension        14\n",
       "Name: arrondissement, dtype: int64"
      ]
     },
     "execution_count": 14,
     "metadata": {},
     "output_type": "execute_result"
    }
   ],
   "source": [
    "vc.sort_index()"
   ]
  },
  {
   "cell_type": "markdown",
   "metadata": {
    "id": "qm17g9k--9CY"
   },
   "source": [
    "# Cheat sheet"
   ]
  },
  {
   "cell_type": "code",
   "execution_count": null,
   "metadata": {
    "colab": {
     "base_uri": "https://localhost:8080/"
    },
    "executionInfo": {
     "elapsed": 156,
     "status": "ok",
     "timestamp": 1632933228229,
     "user": {
      "displayName": "Davin Baragiotta",
      "photoUrl": "https://lh3.googleusercontent.com/a-/AOh14Gg6DfnEVWWgyS_Ai1m5Tgy-moL9KpBUeBN0kZE3Gg=s64",
      "userId": "13717336720242547762"
     },
     "user_tz": 240
    },
    "id": "oGy1lI8C_DEU",
    "outputId": "9707a373-bdfd-4fbc-a0a9-fa962f7e90c2"
   },
   "outputs": [
    {
     "data": {
      "text/plain": [
       "Ahuntsic-Cartierville                        7\n",
       "Côte-des-Neiges–Notre-Dame-de-Grâce         11\n",
       "LaSalle                                      1\n",
       "Lachine                                     16\n",
       "Le Plateau-Mont-Royal                       17\n",
       "Le Sud-Ouest                                17\n",
       "Mercier–Hochelaga-Maisonneuve               18\n",
       "Montréal-Nord                                9\n",
       "Outremont                                    1\n",
       "Rivière-des-Prairies–Pointe-aux-Trembles     1\n",
       "Rosemont–La Petite-Patrie                   62\n",
       "Saint-Laurent                                5\n",
       "Verdun                                       8\n",
       "Ville-Marie                                 47\n",
       "Villeray–Saint-Michel–Parc-Extension        14\n",
       "Name: arrondissement, dtype: int64"
      ]
     },
     "execution_count": 15,
     "metadata": {},
     "output_type": "execute_result"
    }
   ],
   "source": [
    "import pandas as pd\n",
    "\n",
    "# data import\n",
    "url = \"https://raw.githubusercontent.com/mtlpy/mtlpy-exercises/main/mtl/murales/murales.csv\"\n",
    "data = pd.read_csv(url)\n",
    "\n",
    "# data exploration\n",
    "data\n",
    "data.columns\n",
    "data['arrondissement'].unique()\n",
    "\n",
    "# data analysis\n",
    "vc = data['arrondissement'].value_counts()\n",
    "vc.first_valid_index()\n",
    "vc.idxmax()\n",
    "\n",
    "# more\n",
    "vc.sort_values()\n",
    "vc.iloc[0:3]\n",
    "vc.sort_index()"
   ]
  },
  {
   "cell_type": "markdown",
   "metadata": {
    "id": "S5l3d-1b5g_s"
   },
   "source": [
    "# Licence"
   ]
  },
  {
   "cell_type": "markdown",
   "metadata": {
    "id": "7EYB_a6b5i1d"
   },
   "source": [
    "Copyright 2021 Montréal-Python\n",
    "\n",
    "Permission is hereby granted, free of charge, to any person obtaining a copy of this software and associated documentation files (the \"Software\"), to deal in the Software without restriction, including without limitation the rights to use, copy, modify, merge, publish, distribute, sublicense, and/or sell copies of the Software, and to permit persons to whom the Software is furnished to do so, subject to the following conditions:\n",
    "\n",
    "The above copyright notice and this permission notice shall be included in all copies or substantial portions of the Software.\n",
    "\n",
    "THE SOFTWARE IS PROVIDED \"AS IS\", WITHOUT WARRANTY OF ANY KIND, EXPRESS OR IMPLIED, INCLUDING BUT NOT LIMITED TO THE WARRANTIES OF MERCHANTABILITY, FITNESS FOR A PARTICULAR PURPOSE AND NONINFRINGEMENT. IN NO EVENT SHALL THE AUTHORS OR COPYRIGHT HOLDERS BE LIABLE FOR ANY CLAIM, DAMAGES OR OTHER LIABILITY, WHETHER IN AN ACTION OF CONTRACT, TORT OR OTHERWISE, ARISING FROM, OUT OF OR IN CONNECTION WITH THE SOFTWARE OR THE USE OR OTHER DEALINGS IN THE SOFTWARE.\n"
   ]
  }
 ],
 "metadata": {
  "colab": {
   "authorship_tag": "ABX9TyMvpGbJSnG5IlV3JnCsRUvY",
   "collapsed_sections": [],
   "name": "Murales_solution.ipynb",
   "provenance": [],
   "toc_visible": true
  },
  "kernelspec": {
   "display_name": "Python 3",
   "name": "python3"
  },
  "language_info": {
   "name": "python"
  }
 },
 "nbformat": 4,
 "nbformat_minor": 0
}
