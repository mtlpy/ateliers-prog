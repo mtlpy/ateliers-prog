{
 "cells": [
  {
   "cell_type": "markdown",
   "metadata": {
    "id": "gqN90OmWO4Xt"
   },
   "source": [
    "# Hydro\n",
    "\n",
    "Cet exercice vise à explorer les opérations de base de Pandas avec des données personnelles de consommation d'électricité fournies par Hydro-Québec.\n",
    "\n",
    "Le but de l'exercice est de vérifier la correlation entre \n",
    "* la consommation électrique (en kWh) et \n",
    "* la température.\n",
    "\n",
    "Au besoin, se référer au [Guide de base Pandas](https://colab.research.google.com/drive/193iDeAjPXpwVoSZAHaZG_wQleAie7wrq?usp=sharing) de Montréal-Python."
   ]
  },
  {
   "cell_type": "markdown",
   "metadata": {
    "id": "elv4qEXUPVnu"
   },
   "source": [
    "## Récupérer vos données\n",
    "\n",
    "Pour cet exercice, vous pouvez\n",
    "* soit prendre vos données personnelles fournies par Hydro-Québec\n",
    "* soit prendre le jeu de données fourni par Montréal-Python\n",
    "\n",
    "Hydro-Québec fournit les données au format CSV.\n",
    "* apparemment il n'y a pas de documentation des données\n",
    "* mais les données sont assez intuitives"
   ]
  },
  {
   "cell_type": "markdown",
   "metadata": {
    "id": "OposwkCPRRc5"
   },
   "source": [
    "### Vos données d'Hydro-Québec\n",
    "\n",
    "1. Allez sur le site d'Hydro-Québec: https://www.hydroquebec.com\n",
    "1. Cliquez sur `Me connecter` en haut à droite\n",
    "1. Ouvrez une session en fournissant votre Adresse courriel et votre mot de passe\n",
    "1. Dans votre Espace client, cliquez sur l'onglet `Consommation` et choisissez l'item `Portrait de ma consommation` dans le menu\n",
    "1. En bas de page après les visualisations, cliquez sur `Téléchargement`\n",
    "1. Téléchargez le CSV des données par **jour** pour la période sélectionnée\n",
    "\n",
    "Hydro-Québec vous fournit vos données de consommation électrique pour les deux dernières années.\n",
    "\n",
    "La **période** des données à télécharger peut être modifiée en haut de page, en cliquant sur les flèches à côté de la période actuellement sélectionnée.\n",
    "\n",
    "Pour cette période, vous avez 3 options de téléchargement\n",
    "* télécharger les données totales (vue d'ensemble) pour la **période**\n",
    "* télécharger les données par **jour**\n",
    "* télécharger les données par **heure**\n",
    "\n",
    "Pour cet exercice, téléchargez les données par **jour** pour un maximum de **périodes** (au moins 2 car on va s'exercer à fusionner les données)."
   ]
  },
  {
   "cell_type": "markdown",
   "metadata": {
    "id": "DxF8ZL68VLSE"
   },
   "source": [
    "### Jeu de données Montréal-Python\n",
    "\n",
    "Montréal-Python met à votre disposition des données réelles anonymisées provenant d'un Pythoneux de votre communauté.\n",
    "\n",
    "Ces données sont celles d'une maison unifamiliale dans le quartier Villeray à Montréal (2 adultes et un enfant en bas âge). Des travaux d'amélioration de l'isolation ont été faits à divers moments dans les périodes couvertes dans le jeu de données. Aussi, depuis le début de septembre 2020, une voiture électrique est presqu'exclusivement rechargée à domicile et principalement la nuit.\n",
    "\n",
    "Le jeu de données n'est pas continu (trous dans les données au début) mais plusieurs années sont complètes. Pour toutes les périodes disponibles, les données totales (vue d'ensemble) pour la **période**, par **jour** et par **heure** sont fournies.\n",
    "\n",
    "Les données sont hébergées sur le compte GitHub de Montréal-Python\n",
    "* https://github.com/mtlpy/mtlpy-exercises/tree/main/hydro/data"
   ]
  },
  {
   "cell_type": "markdown",
   "metadata": {
    "id": "UZPJBDzzQIbR"
   },
   "source": [
    "## Charger vos données\n",
    "\n",
    "Première étape, chargez vos données à l'aide de la _librarie_ Pandas.\n",
    "\n"
   ]
  },
  {
   "cell_type": "markdown",
   "metadata": {
    "id": "5fWm4RoAW3dl"
   },
   "source": [
    "### Import\n",
    "\n",
    "D'abord, dans Colab, importez la _librarie_ `pandas` en suivant la convention de nommage habituelle.\n",
    "\n"
   ]
  },
  {
   "cell_type": "code",
   "execution_count": 1,
   "metadata": {
    "executionInfo": {
     "elapsed": 49,
     "status": "ok",
     "timestamp": 1648509455424,
     "user": {
      "displayName": "Davin Baragiotta",
      "userId": "13717336720242547762"
     },
     "user_tz": 240
    },
    "id": "WSMVeDFQzaLD"
   },
   "outputs": [],
   "source": [
    "import pandas as pd"
   ]
  },
  {
   "cell_type": "code",
   "execution_count": null,
   "metadata": {
    "id": "bED75fLN0ilf"
   },
   "outputs": [],
   "source": []
  },
  {
   "cell_type": "markdown",
   "metadata": {
    "id": "eWE6w3EUXABR"
   },
   "source": [
    "### Charger\n",
    "\n",
    "Finalement, chargez vos données CSV dans une variable nommée `data` à l'aide de la fonction appropriée. (Indice: la fonction se trouve au premier niveau du _namespace_ de la _librairie_ `pandas`... introspectez le namespace à la racine.)\n",
    "\n",
    "Si vous travaillez avec vos données personnelles\n",
    "* téléversez vos données CSV sur votre Drive personnel puis récupérez le lien Google du fichier.\n",
    "\n",
    "Si vous travaillez avec le jeu de données de Montréal-Python\n",
    "* prenez le fichier https://raw.githubusercontent.com/mtlpy/mtlpy-exercises/main/hydro/data/jours/0123456789_jour_2018-06-19_au_2018-08-20.csv"
   ]
  },
  {
   "cell_type": "markdown",
   "metadata": {
    "id": "cPNnAYgWXDen"
   },
   "source": [
    "#### Encodage\n",
    "\n",
    "Pas impossible que l'encodage de données pose problème... Hydro-Québec fournit ses données au format `ISO-8859-1` (O.o). La fonction d'import des données a un paramètre pour gérez ça, cherchez le bon paramètre et la bonne valeur à lui fournir dans la documentation en ligne (ou en introspectant la doc avec `?`). \n",
    "\n",
    "(En fait un fichier dans le répertoire `periodes` est en `UTF-8`, probablement la manière la plus robuste de charger les données serait en essayant d'ouvrir le CSV comme si il était en `UTF-8` et de gérer l'exception si il ne l'est pas.)\n",
    "\n"
   ]
  },
  {
   "cell_type": "markdown",
   "metadata": {
    "id": "8KRRUrfmXKwA"
   },
   "source": [
    "#### Séparateur\n",
    "\n",
    "Pas impossible non plus que le séparateur des données dans le CSV ne soit pas une virgule comme on pourrait s'y attendre. Pareil, vérifiez la doc pour trouver le bon paramètre à utiliser et la bonne valeur à lui passer."
   ]
  },
  {
   "cell_type": "markdown",
   "metadata": {
    "id": "2gEID339QMDk"
   },
   "source": [
    "## Explorer et préparer les données\n",
    "\n"
   ]
  },
  {
   "cell_type": "markdown",
   "metadata": {
    "id": "6YyKM5ydcLm7"
   },
   "source": [
    "### Vue d'ensemble\n",
    "\n",
    "Prenez connaissance de manière générale des données chargées\n",
    "* volumétrie des colonnes et rangées\n",
    "* noms des colonnes\n",
    "* aperçu des types et des valeurs des données\n",
    "\n"
   ]
  },
  {
   "cell_type": "markdown",
   "metadata": {
    "id": "TRid7hZdbnQy"
   },
   "source": [
    "### Renommer les colonnes\n",
    "\n",
    "Les colonnes ont souvent des noms formattés lisibles pour les humains mais pas toujours commodes à manipuler dans du code.\n",
    "\n",
    "Renommez les colonnes avec des mots-clés en minuscules."
   ]
  },
  {
   "cell_type": "markdown",
   "metadata": {
    "id": "_NStsYOScowf"
   },
   "source": [
    "### Vérifier les valeurs\n",
    "\n",
    "Il est utile de vérifier les valeurs de toutes les colonnes (surtout quand les données ne sont pas documentées) afin d'avoir une meilleure idée de leur sémantique et de leurs relations.\n",
    "\n",
    "Vérifiez\n",
    "* les valeurs uniques de chaque colonne\n",
    "    * y a-t-il des valeurs nulles?\n",
    "    * y a-t-il des erreurs ou des valeurs mal formattées (à transformer)?\n",
    "* le nombre d'occurence de chaque valeur\n",
    "    * les valeurs nulles ou erronées sont-elles marginales?\n"
   ]
  },
  {
   "cell_type": "markdown",
   "metadata": {
    "id": "vHtCdBMdeNgl"
   },
   "source": [
    "### Transformez les valeurs\n",
    "\n",
    "Les valeurs des kWh sont formattées en français : elles prennent la forme d'un string où les décimales sont séparées par une virgule\n",
    "* difficilement utilisable pour des traitements statistiques\n",
    "\n",
    "Les dates sont aussi en string... à garder en tête si on souhaite faire des manipulations sur les dates.\n",
    "\n",
    "Transformez\n",
    "* les kWh en float\n",
    "* (les dates en date)"
   ]
  },
  {
   "cell_type": "markdown",
   "metadata": {
    "id": "1w3D4DokkWyq"
   },
   "source": [
    "### Modifier l'index\n",
    "\n",
    "Identifiez la colonne qui aurait vocation à devenir l'index des rangées: la colonne doit avoir des valeurs uniques par rangée qui vont pouvoir identifier cette rangée. Dit autrement, les valeurs par rangées sont les valeurs \"de quoi\", \"par quoi\"?\n",
    "\n",
    "Modifiez l'index des rangées."
   ]
  },
  {
   "cell_type": "markdown",
   "metadata": {
    "id": "XmQLN70yQeMo"
   },
   "source": [
    "## Analyser les données\n",
    "\n",
    "Maintenant, vous connaissez votre jeu de données, les colonnes et les rangées sont bien identifiées et les valeurs ont un type exploitable.\n",
    "\n",
    "Identifiez les colonnes qui sont nécessaires pour l'analyse de la corrélation entre la consommation électrique et la température.\n",
    "\n",
    "Conservez dans la variable `data` que ces colonnes.\n",
    "\n",
    "Vérifiez, pour la consommation électrique et la température\n",
    "* le minimum\n",
    "* le maximum\n",
    "* la moyenne\n",
    "\n",
    "Pour apprécier la correlation entre la consommation électrique et la température, il est plus aisé d'avoir recours à un graphe."
   ]
  },
  {
   "cell_type": "markdown",
   "metadata": {
    "id": "YFEDUgaWQh_i"
   },
   "source": [
    "## Visualiser les données\n",
    "\n",
    "Sur le tableau de données, identifiez la méthode qui va vous permettre de représenter le jeu de données sous forme de graphe. Utilisez l'introspection et/ou la documentation pour trouvez la méthode. (Indice: \"faire le graphique\" peut se dire en anglais \"to plot\".)\n",
    "\n",
    "Générez le graphe.\n",
    "* les index des rangées devraient être en abscisses (axe des \"x\")\n",
    "* les colonnes devraient être en ordonnées (axe des \"y\")\n",
    "* les valeurs des colonnes pour chaque index devraient faire les courbes\n",
    "\n",
    "La représentation visuelle des données est un monde en soi à explorer. Mais vous devriez pouvoir maintenant avoir une première idée de la corrélation entre la consommation électrique et la température.\n",
    "\n",
    "Sûrement que vous pourriez avoir de meilleures conclusions en chargeant **toutes** les données quotidiennes que Hydro-Québec peut vous donner (donc données sur 2 ans)."
   ]
  },
  {
   "cell_type": "markdown",
   "metadata": {
    "id": "UFbtOcF-QlUz"
   },
   "source": [
    "## Fusionner les données\n",
    "\n",
    "De toutes les méthodes possibles pour fusionner des DataFrames ensemble, identifiez celle qui vous apparaît la plus appropriée sachant que notre jeu de données devrait avoir une et une seule rangée par jour (peu importe le nombre de fichiers, devraient pas y avoir de redondance).\n",
    "\n",
    "Explorez manuellement la fusion de 2 DataFrames dans Pandas\n",
    "* en chargeant un 2e jeu de données dans une variable `data2`\n",
    "* en fusionnant `data` et `data2` dans une variable `test`\n",
    "\n",
    "Si vous êtes satisfait du résulat de votre fusion, réorganisez votre code pour pouvoir fusionner tous les CSV d'un répertoire\n",
    "* vous mettrez tous vos CSV quotidiens dans un même répertoire\n",
    "* vous voulez, en une seule opération, générer un seul DataFrame qui aura tous le nettoyage de données que vous avez déjà codé\n",
    "\n",
    "Vous serez alors en mesure de grapher ce DataFrame ayant 2 ans de données pour vérifier si la consommation d'électricité est corrélée à la température.\n"
   ]
  },
  {
   "cell_type": "markdown",
   "metadata": {
    "id": "eO8CFGLcq6qr"
   },
   "source": [
    "## Aller plus loin\n",
    "\n",
    "Vous pouvez vous inspirer des visualisations faites par Hydro-Québec pour aller plus loin dans vos propres visualisations ou pour vous inspirer pour des analyses à faire\n",
    "* ex.: comparez les années entre elles (une ligne par année... faut donc que les abscisses soit les jours de l'année)\n",
    "\n",
    "Vous pouvez faire une requête (`query`) pour repérer toutes les dates en-dessous ou au-dessus d'une certaine consommation.\n",
    "\n",
    "Vous pouvez identifiez les jours de la semaine associés aux dates pour analyser les habitudes de consommation hebdomadaires.\n",
    "\n",
    "Vous pouvez explorer les jeux de données par heures pour voir si vos heures de pointe correspondent aux heures de pointe nationales (matin et soir).\n",
    "\n",
    "Vous pouvez explorez les notions de statistiques implémentées dans pandas, telles que `data.corr()`"
   ]
  },
  {
   "cell_type": "markdown",
   "metadata": {
    "id": "MfDcH5nYtdHs"
   },
   "source": [
    "## Solutionnaire\n",
    "\n",
    "Voici le [solutionnaire](https://colab.research.google.com/drive/1-mW-AAyGg3Eib9ewfMlmt9eCRvYJMVv0?usp=sharing)."
   ]
  },
  {
   "cell_type": "markdown",
   "metadata": {
    "id": "zAzLXNyHQz6k"
   },
   "source": [
    "# Licence"
   ]
  },
  {
   "cell_type": "markdown",
   "metadata": {
    "id": "Ig1p-V9xteG_"
   },
   "source": [
    "Copyright 2021 Montréal-Python\n",
    "\n",
    "Permission is hereby granted, free of charge, to any person obtaining a copy of this software and associated documentation files (the \"Software\"), to deal in the Software without restriction, including without limitation the rights to use, copy, modify, merge, publish, distribute, sublicense, and/or sell copies of the Software, and to permit persons to whom the Software is furnished to do so, subject to the following conditions:\n",
    "\n",
    "The above copyright notice and this permission notice shall be included in all copies or substantial portions of the Software.\n",
    "\n",
    "THE SOFTWARE IS PROVIDED \"AS IS\", WITHOUT WARRANTY OF ANY KIND, EXPRESS OR IMPLIED, INCLUDING BUT NOT LIMITED TO THE WARRANTIES OF MERCHANTABILITY, FITNESS FOR A PARTICULAR PURPOSE AND NONINFRINGEMENT. IN NO EVENT SHALL THE AUTHORS OR COPYRIGHT HOLDERS BE LIABLE FOR ANY CLAIM, DAMAGES OR OTHER LIABILITY, WHETHER IN AN ACTION OF CONTRACT, TORT OR OTHERWISE, ARISING FROM, OUT OF OR IN CONNECTION WITH THE SOFTWARE OR THE USE OR OTHER DEALINGS IN THE SOFTWARE.\n"
   ]
  }
 ],
 "metadata": {
  "colab": {
   "collapsed_sections": [],
   "name": "Hydro.ipynb",
   "provenance": []
  },
  "kernelspec": {
   "display_name": "Python 3",
   "name": "python3"
  },
  "language_info": {
   "name": "python"
  }
 },
 "nbformat": 4,
 "nbformat_minor": 0
}
