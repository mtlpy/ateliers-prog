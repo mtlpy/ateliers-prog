{
 "cells": [
  {
   "cell_type": "markdown",
   "id": "8afd26ec-79e1-4eb8-9a47-38456a854129",
   "metadata": {},
   "source": [
    "# Démo requête HTTP avec requests\n",
    "\n",
    "Dans ce notebook, nous feront une démonstration simple de reqête HTTP vers un server web. Voir [ce document](https://docs.google.com/document/d/1VA6s5UpuEk_qc7MACX_XK1KyuGm1IWu7CF4p420vR58/edit) pour le programme détaillé."
   ]
  },
  {
   "cell_type": "code",
   "execution_count": null,
   "id": "d21cedb8-7638-4bf5-8da1-be8166ddb47d",
   "metadata": {},
   "outputs": [],
   "source": [
    "import requests"
   ]
  },
  {
   "cell_type": "code",
   "execution_count": null,
   "id": "ec9dd052-9d5d-4de0-9462-ffaa057494d1",
   "metadata": {},
   "outputs": [],
   "source": [
    "response = requests.get(\"http://monsite.ink:8009/exemple.html\")\n",
    "response"
   ]
  },
  {
   "cell_type": "code",
   "execution_count": null,
   "id": "07d99474-279c-4f35-b89c-0162dae515b3",
   "metadata": {},
   "outputs": [],
   "source": [
    "response.status_code"
   ]
  },
  {
   "cell_type": "code",
   "execution_count": null,
   "id": "6bee5fc3-9294-4a82-962a-3ea931c03598",
   "metadata": {},
   "outputs": [],
   "source": [
    "response.headers"
   ]
  },
  {
   "cell_type": "code",
   "execution_count": null,
   "id": "ebd17073-d407-47e7-bf3d-508bdc3e6188",
   "metadata": {},
   "outputs": [],
   "source": [
    "response.content"
   ]
  },
  {
   "cell_type": "code",
   "execution_count": null,
   "id": "74e1cb6d-1abe-42cb-baad-ca30517be04a",
   "metadata": {},
   "outputs": [],
   "source": [
    "response.encoding = 'utf-8'\n",
    "response.text"
   ]
  },
  {
   "cell_type": "code",
   "execution_count": null,
   "id": "3143d938-4108-43cb-92cd-372ab7cc7905",
   "metadata": {},
   "outputs": [],
   "source": [
    "print(response.text)"
   ]
  },
  {
   "cell_type": "code",
   "execution_count": null,
   "id": "b89ba382-74ce-4d6e-a82b-83d64da0f18e",
   "metadata": {},
   "outputs": [],
   "source": []
  },
  {
   "cell_type": "code",
   "execution_count": null,
   "id": "54f531cd-8e0f-411b-9b3b-8aa8ca15a975",
   "metadata": {},
   "outputs": [],
   "source": []
  },
  {
   "cell_type": "code",
   "execution_count": null,
   "id": "3821ec3a-763e-4640-975b-1ff029be8082",
   "metadata": {},
   "outputs": [],
   "source": []
  }
 ],
 "metadata": {
  "kernelspec": {
   "display_name": "Python 3 (ipykernel)",
   "language": "python",
   "name": "python3"
  },
  "language_info": {
   "codemirror_mode": {
    "name": "ipython",
    "version": 3
   },
   "file_extension": ".py",
   "mimetype": "text/x-python",
   "name": "python",
   "nbconvert_exporter": "python",
   "pygments_lexer": "ipython3",
   "version": "3.9.4"
  }
 },
 "nbformat": 4,
 "nbformat_minor": 5
}
