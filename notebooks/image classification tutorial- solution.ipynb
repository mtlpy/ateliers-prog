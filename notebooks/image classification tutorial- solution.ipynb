{
 "cells": [
  {
   "cell_type": "code",
   "execution_count": null,
   "metadata": {
    "id": "8FN832y8QKcE"
   },
   "outputs": [],
   "source": []
  },
  {
   "cell_type": "markdown",
   "metadata": {
    "id": "RxdhlRRe2JGq"
   },
   "source": [
    "Ce Notebook à été construit en avril 2023. Il est possible que certaine étapes ne fonctionne plus d'un certain moment.\n",
    "\n",
    "Dans les choses qui ont plus de chance de changer, consiste à l'instalation de Selenium et de son utilisation(incluant possiblement le format de la page google)."
   ]
  },
  {
   "cell_type": "markdown",
   "metadata": {
    "id": "B85iE3UOjcfa"
   },
   "source": [
    "# GPU\n",
    "\n",
    "Pour faire du deep learning, il faut des cartes graphiques(GPU : graphical processing unit). Les cartes graphiques permettent de faire plus de calculs en même temps. Ceci est utiliser dans les modèle de deep learning où il y a beaucoup de multiplication matricielle.\n",
    "\n",
    "Une analogie pour mieux comprendre pourquoi les cartes graphiques sont utiles pour faire de deep learning : \n",
    "\n",
    "- CPU : voiture de course (on peut aller rapidement quelque part)\n",
    "- GPU : un autobus (c'est plus lent, mais on est capable de transporter plus de personnes) \n",
    "\n",
    "Donc le GPU et bien pour calculer plusieurs chose en même temps qui n'ont pas besoin de voir ce qui se passe. C'est un peu similaire pour les graphiques dans les jeux vidéo où pour les objets en 3D soit le plus réaliste, on les représente avec une grande quantité de triangles. Par contre, pour dessiner ces triangles, on peut les faire indépendament. Même chose pour le deep learning, certaine partie du calculs peut être fait de manière indépendante des autres partie. Ce qui permet d'utiliser les carte graphiques pour le deep learning.\n",
    "\n",
    "Pour bien faire le tutoriel, il faut donc utiliser des carte graphique. Heureursement, google colab nous donne accès à des cartes graphique gratuitement. Pour activer une carte graphique dans le colab, \n",
    "- aller dans l'onglet Runtime\n",
    " - aller dans l'onglet Change Runtime type\n",
    "   - dans Hardware accelerator, selectionner GPU ou TPU\n",
    "\n",
    "Vous pouvez vérifié que le GPU est bien présent en executant la ligne qui suit \n",
    "\n",
    "Vous devriez avoir quelque chose qui ressemble à (image de stackoverflow)\n",
    "\n",
    "![nvidia-smi](https://i.stack.imgur.com/C1UNZ.png)\n"
   ]
  },
  {
   "cell_type": "code",
   "execution_count": null,
   "metadata": {
    "colab": {
     "base_uri": "https://localhost:8080/"
    },
    "executionInfo": {
     "elapsed": 277,
     "status": "ok",
     "timestamp": 1681212414160,
     "user": {
      "displayName": "Jules Lambert",
      "userId": "16844768996944953840"
     },
     "user_tz": 240
    },
    "id": "GV8DckA9mkYK",
    "outputId": "803d6658-3673-4f92-dfb7-6eefed7a3a33"
   },
   "outputs": [
    {
     "name": "stdout",
     "output_type": "stream",
     "text": [
      "Tue Apr 11 11:26:42 2023       \n",
      "+-----------------------------------------------------------------------------+\n",
      "| NVIDIA-SMI 525.85.12    Driver Version: 525.85.12    CUDA Version: 12.0     |\n",
      "|-------------------------------+----------------------+----------------------+\n",
      "| GPU  Name        Persistence-M| Bus-Id        Disp.A | Volatile Uncorr. ECC |\n",
      "| Fan  Temp  Perf  Pwr:Usage/Cap|         Memory-Usage | GPU-Util  Compute M. |\n",
      "|                               |                      |               MIG M. |\n",
      "|===============================+======================+======================|\n",
      "|   0  Tesla T4            Off  | 00000000:00:04.0 Off |                    0 |\n",
      "| N/A   49C    P8    10W /  70W |      0MiB / 15360MiB |      0%      Default |\n",
      "|                               |                      |                  N/A |\n",
      "+-------------------------------+----------------------+----------------------+\n",
      "                                                                               \n",
      "+-----------------------------------------------------------------------------+\n",
      "| Processes:                                                                  |\n",
      "|  GPU   GI   CI        PID   Type   Process name                  GPU Memory |\n",
      "|        ID   ID                                                   Usage      |\n",
      "|=============================================================================|\n",
      "|  No running processes found                                                 |\n",
      "+-----------------------------------------------------------------------------+\n"
     ]
    }
   ],
   "source": [
    "!nvidia-smi"
   ]
  },
  {
   "cell_type": "markdown",
   "metadata": {
    "id": "Jh2Y7onyQP_K"
   },
   "source": [
    "# Installation de Selenium\n",
    "\n",
    "Nous voulons utiliser la librairie Selenium pour télécharger les images sur internet à partir des images des la recherche google.\n",
    "\n",
    "Par contre, pour utiliser Selenium sur google colab, il y a quelques étapes qui sont nécessaire.\n",
    "\n",
    "Nous allons suivre les étapes qui sont présente dans le blog post suivant.\n",
    "\n",
    "https://dataguru.cc/step-by-step-guide-to-install-selenium-in-google-colab/"
   ]
  },
  {
   "cell_type": "code",
   "execution_count": null,
   "metadata": {
    "id": "38_yXVRNQewg"
   },
   "outputs": [],
   "source": [
    "!pip install -q selenium"
   ]
  },
  {
   "cell_type": "code",
   "execution_count": null,
   "metadata": {
    "colab": {
     "base_uri": "https://localhost:8080/"
    },
    "executionInfo": {
     "elapsed": 4049,
     "status": "ok",
     "timestamp": 1681176404098,
     "user": {
      "displayName": "Jules Lambert",
      "userId": "16844768996944953840"
     },
     "user_tz": 240
    },
    "id": "cHMdXT8fQn9Q",
    "outputId": "84e1a8bf-6785-4fd8-85dd-80b87008ccd9"
   },
   "outputs": [
    {
     "name": "stdout",
     "output_type": "stream",
     "text": [
      "Executing: /tmp/apt-key-gpghome.XIG6T0VsLJ/gpg.1.sh --keyserver keyserver.ubuntu.com --recv-keys DCC9EFBF77E11517\n",
      "gpg: key DCC9EFBF77E11517: \"Debian Stable Release Key (10/buster) <debian-release@lists.debian.org>\" not changed\n",
      "gpg: Total number processed: 1\n",
      "gpg:              unchanged: 1\n",
      "Executing: /tmp/apt-key-gpghome.vD8tkEl5lO/gpg.1.sh --keyserver keyserver.ubuntu.com --recv-keys 648ACFD622F3D138\n",
      "gpg: key DC30D7C23CBBABEE: \"Debian Archive Automatic Signing Key (10/buster) <ftpmaster@debian.org>\" not changed\n",
      "gpg: Total number processed: 1\n",
      "gpg:              unchanged: 1\n",
      "Executing: /tmp/apt-key-gpghome.XeH9uUNLz6/gpg.1.sh --keyserver keyserver.ubuntu.com --recv-keys 112695A0E562B32A\n",
      "gpg: key 4DFAB270CAA96DFA: \"Debian Security Archive Automatic Signing Key (10/buster) <ftpmaster@debian.org>\" not changed\n",
      "gpg: Total number processed: 1\n",
      "gpg:              unchanged: 1\n",
      "gpg: cannot open '/dev/tty': No such device or address\n",
      "Warning: apt-key output should not be parsed (stdout is not a terminal)\n",
      "gpg: [stdout]: write error: Broken pipe\n",
      "gpg: filter_flush failed on close: Broken pipe\n",
      "gpg: cannot open '/dev/tty': No such device or address\n",
      "Warning: apt-key output should not be parsed (stdout is not a terminal)\n",
      "gpg: [stdout]: write error: Broken pipe\n",
      "gpg: filter_flush failed on close: Broken pipe\n",
      "gpg: cannot open '/dev/tty': No such device or address\n",
      "Warning: apt-key output should not be parsed (stdout is not a terminal)\n",
      "gpg: [stdout]: write error: Broken pipe\n",
      "gpg: filter_flush failed on close: Broken pipe\n"
     ]
    },
    {
     "data": {
      "text/plain": []
     },
     "execution_count": 23,
     "metadata": {},
     "output_type": "execute_result"
    }
   ],
   "source": [
    "%%shell\n",
    "\n",
    "# Add debian buster\n",
    "cat > /etc/apt/sources.list.d/debian.list <<'EOF'\n",
    "deb [arch=amd64 signed-by=/usr/share/keyrings/debian-buster.gpg] http://deb.debian.org/debian buster main\n",
    "deb [arch=amd64 signed-by=/usr/share/keyrings/debian-buster-updates.gpg] http://deb.debian.org/debian buster-updates main\n",
    "deb [arch=amd64 signed-by=/usr/share/keyrings/debian-security-buster.gpg] http://deb.debian.org/debian-security buster/updates main\n",
    "EOF\n",
    "\n",
    "# Add keys\n",
    "apt-key adv --keyserver keyserver.ubuntu.com --recv-keys DCC9EFBF77E11517\n",
    "apt-key adv --keyserver keyserver.ubuntu.com --recv-keys 648ACFD622F3D138\n",
    "apt-key adv --keyserver keyserver.ubuntu.com --recv-keys 112695A0E562B32A\n",
    "\n",
    "apt-key export 77E11517 | gpg --dearmour -o /usr/share/keyrings/debian-buster.gpg\n",
    "apt-key export 22F3D138 | gpg --dearmour -o /usr/share/keyrings/debian-buster-updates.gpg\n",
    "apt-key export E562B32A | gpg --dearmour -o /usr/share/keyrings/debian-security-buster.gpg\n",
    "\n",
    "# Prefer debian repo for chromium* packages only\n",
    "# Note the double-blank lines between entries\n",
    "cat > /etc/apt/preferences.d/chromium.pref << 'EOF'\n",
    "Package: *\n",
    "Pin: release a=eoan\n",
    "Pin-Priority: 500\n",
    "\n",
    "\n",
    "Package: *\n",
    "Pin: origin \"deb.debian.org\"\n",
    "Pin-Priority: 300\n",
    "\n",
    "\n",
    "Package: chromium*\n",
    "Pin: origin \"deb.debian.org\"\n",
    "Pin-Priority: 700\n",
    "EOF"
   ]
  },
  {
   "cell_type": "code",
   "execution_count": null,
   "metadata": {
    "colab": {
     "base_uri": "https://localhost:8080/"
    },
    "executionInfo": {
     "elapsed": 6337,
     "status": "ok",
     "timestamp": 1681176416406,
     "user": {
      "displayName": "Jules Lambert",
      "userId": "16844768996944953840"
     },
     "user_tz": 240
    },
    "id": "pw3Z3HDPQwTh",
    "outputId": "7b6d5171-f87b-48f7-be09-9654f72bbcb9"
   },
   "outputs": [
    {
     "name": "stdout",
     "output_type": "stream",
     "text": [
      "Get:1 http://security.ubuntu.com/ubuntu focal-security InRelease [114 kB]\n",
      "Hit:2 https://cloud.r-project.org/bin/linux/ubuntu focal-cran40/ InRelease\n",
      "Hit:3 https://developer.download.nvidia.com/compute/cuda/repos/ubuntu2004/x86_64  InRelease\n",
      "Hit:4 http://deb.debian.org/debian buster InRelease\n",
      "Hit:5 http://deb.debian.org/debian buster-updates InRelease\n",
      "Hit:6 http://archive.ubuntu.com/ubuntu focal InRelease\n",
      "Hit:7 http://deb.debian.org/debian-security buster/updates InRelease\n",
      "Get:8 http://archive.ubuntu.com/ubuntu focal-updates InRelease [114 kB]\n",
      "Hit:9 http://ppa.launchpad.net/c2d4u.team/c2d4u4.0+/ubuntu focal InRelease\n",
      "Get:10 http://archive.ubuntu.com/ubuntu focal-backports InRelease [108 kB]\n",
      "Hit:11 http://ppa.launchpad.net/cran/libgit2/ubuntu focal InRelease\n",
      "Hit:12 http://ppa.launchpad.net/deadsnakes/ppa/ubuntu focal InRelease\n",
      "Hit:13 http://ppa.launchpad.net/graphics-drivers/ppa/ubuntu focal InRelease\n",
      "Hit:14 http://ppa.launchpad.net/ubuntugis/ppa/ubuntu focal InRelease\n",
      "Fetched 336 kB in 2s (177 kB/s)\n",
      "Reading package lists... Done\n",
      "Reading package lists... Done\n",
      "Building dependency tree       \n",
      "Reading state information... Done\n",
      "chromium is already the newest version (90.0.4430.212-1~deb10u1).\n",
      "chromium-driver is already the newest version (90.0.4430.212-1~deb10u1).\n",
      "0 upgraded, 0 newly installed, 0 to remove and 23 not upgraded.\n"
     ]
    }
   ],
   "source": [
    "!apt-get update;\n",
    "!apt-get install chromium chromium-driver;"
   ]
  },
  {
   "cell_type": "code",
   "execution_count": null,
   "metadata": {
    "id": "3SyhvNmdQz-R"
   },
   "outputs": [],
   "source": [
    "from selenium import webdriver\n",
    "def web_driver():\n",
    "    options = webdriver.ChromeOptions()\n",
    "    options.add_argument(\"--verbose\")\n",
    "    options.add_argument('--no-sandbox')\n",
    "    options.add_argument('--headless')\n",
    "    options.add_argument('--disable-gpu')\n",
    "    options.add_argument(\"--window-size=1920, 1200\")\n",
    "    options.add_argument('--disable-dev-shm-usage')\n",
    "    driver = webdriver.Chrome(options=options)\n",
    "    return driver"
   ]
  },
  {
   "cell_type": "markdown",
   "metadata": {
    "id": "V9PMti2t85Vt"
   },
   "source": [
    "Executer la cellule suivante. Si l'instalation fonctionne, il ne devrait pas avoir d'erreurs.\n",
    "\n"
   ]
  },
  {
   "cell_type": "code",
   "execution_count": null,
   "metadata": {
    "id": "8Ym-DGVaQ-BA"
   },
   "outputs": [],
   "source": [
    "driver = web_driver()\n",
    "\n",
    "driver.get('https://www.google.com')\n",
    "\n",
    "driver.quit()"
   ]
  },
  {
   "cell_type": "code",
   "execution_count": null,
   "metadata": {
    "id": "oI6aTw6DE864"
   },
   "outputs": [],
   "source": []
  },
  {
   "cell_type": "code",
   "execution_count": null,
   "metadata": {
    "id": "ZxfPy-WjRDgR"
   },
   "outputs": [],
   "source": []
  },
  {
   "cell_type": "markdown",
   "metadata": {
    "id": "KrCwjo93RNSE"
   },
   "source": [
    "# Collecte des images\n",
    "\n",
    "Pour faire du machine learning, nous avons besoin de donnée. Dans ce cas-ci, les données que nous avons besoins sont des images.\n",
    "\n",
    "Nous allons utiliser Selenium pour télécharger les images. Vous n'avez pas à comprendre cette partie du code pour l'atelier. Il vous faut juste utiliser les fonctions qui sont présenter.\n",
    "\n",
    "Executer les prochaine cellules pour que nous ayons les fonctions pour pouvoir télécharger les données."
   ]
  },
  {
   "cell_type": "code",
   "execution_count": null,
   "metadata": {
    "id": "Pvgd4ueHduwD"
   },
   "outputs": [],
   "source": [
    "from selenium.webdriver.common.by import By\n",
    "from selenium.webdriver.support.ui import WebDriverWait\n",
    "from selenium.webdriver.support import expected_conditions as EC\n",
    "from selenium.common.exceptions import TimeoutException\n",
    "\n",
    "import requests\n",
    "from PIL import Image\n",
    "from io import BytesIO\n",
    "import os"
   ]
  },
  {
   "cell_type": "code",
   "execution_count": null,
   "metadata": {
    "id": "nHoj8QCdBE_2"
   },
   "outputs": [],
   "source": [
    "def get_site_link(search_term:str, driver):\n",
    "  try:\n",
    "    driver.set_page_load_timeout(10)\n",
    "    driver.get(f\"https://www.google.com/search?q={search_term}&tbm=isch\")\n",
    "  except TimeoutException:\n",
    "    print(\"Timed out waiting for page to load\")\n",
    "    return []\n",
    "  site_elements = driver.find_elements(By.CSS_SELECTOR, 'a')\n",
    "  site_urls = [site_element.get_attribute(\"href\") for site_element in site_elements]\n",
    "  site_urls = [site_url for site_url in site_urls if site_url]\n",
    "  site_urls = [site_url for site_url in site_urls if 'google' not in site_url]\n",
    "  return site_urls\n"
   ]
  },
  {
   "cell_type": "code",
   "execution_count": null,
   "metadata": {
    "id": "03fK97yjOiF1"
   },
   "outputs": [],
   "source": [
    "def get_image_urls_from_page(site:str, driver):\n",
    "  try:\n",
    "    driver.set_page_load_timeout(10)\n",
    "    driver.get(site)\n",
    "    image_elements = driver.find_elements(By.CSS_SELECTOR, 'img')\n",
    "    image_urls = [image_element.get_attribute(\"src\") for image_element in image_elements]\n",
    "    image_urls = [image_url for image_url in image_urls if image_url]\n",
    "    image_urls = [image_url for image_url in image_urls if image_url.split('.')[-1] in ['png', 'jpg']]\n",
    "    return image_urls\n",
    "  except TimeoutException:\n",
    "    print(\"Timed out waiting for page to load\")\n",
    "  return []"
   ]
  },
  {
   "cell_type": "code",
   "execution_count": null,
   "metadata": {
    "id": "NwIxPjmhMwyg"
   },
   "outputs": [],
   "source": [
    "def save_image(image_url, search_term):\n",
    "  response = requests.get(image_url)\n",
    "\n",
    "  if response.status_code == 200:\n",
    "      img = Image.open(BytesIO(response.content))\n",
    "      width, height = img.size\n",
    "      \n",
    "      if width >= 200 and height >= 200:\n",
    "          filename = image_url.split('/')[-1]\n",
    "          \n",
    "          with open(f'raw_data/{search_term}/{filename}', 'wb') as f:\n",
    "              f.write(response.content)\n",
    "          print(f'The image has been saved with size {width} x {height}')\n",
    "      else:\n",
    "          print('The image size is too small')\n",
    "  else:\n",
    "      print('The image could not be downloaded')\n"
   ]
  },
  {
   "cell_type": "code",
   "execution_count": null,
   "metadata": {
    "id": "WxOm_iLgBGoF"
   },
   "outputs": [],
   "source": [
    "def obtain_images(search_term:str, driver):\n",
    "  site_urls = get_site_link(search_term, driver)\n",
    "  os.makedirs(f'raw_data/{search_term}', exist_ok = True)\n",
    "  for site_url in site_urls:\n",
    "    try:\n",
    "      image_urls = get_image_urls_from_page(site_url, driver)\n",
    "      for url in image_urls:\n",
    "        try:\n",
    "          save_image(url, search_term)\n",
    "        except Exception as e:\n",
    "          print(f'was not able to save the image {e}')\n",
    "    except:\n",
    "      print('not able to have image from that link')\n"
   ]
  },
  {
   "cell_type": "code",
   "execution_count": null,
   "metadata": {
    "id": "UfhE7PT_J8J8"
   },
   "outputs": [],
   "source": [
    "driver = web_driver()\n"
   ]
  },
  {
   "cell_type": "markdown",
   "metadata": {
    "id": "PmM6bLXG3876"
   },
   "source": [
    "Maintenant, il faut que vous choissiez la tâches que vous voulez faire. Nous voulons faire un classificateur d'image. Il faut donc des classes pour nos images. \n",
    "\n",
    "Choissisez deux classes d'images. Par exemple, 'cats' et 'dogs'. Modifier la cellule qui suit pour donner le nom de vos deux classes. Ce nom sera utiliser dans une recherche sur google pour aller chercher des pages web avec des images sur la classe que vous avez choisie."
   ]
  },
  {
   "cell_type": "code",
   "execution_count": null,
   "metadata": {
    "id": "hYKRSXdk4hov"
   },
   "outputs": [],
   "source": [
    "classe1 = \"cats\"\n",
    "classe2 = \"dogs\""
   ]
  },
  {
   "cell_type": "markdown",
   "metadata": {
    "id": "WRX2klPe5I3Q"
   },
   "source": [
    "Executer, les deux prochaine cellule pour télécharger des images. Si cela prend trop de temps, vous pourvez arrêter la cellule. Par contre, assurer vous qu'il y ait suffisament d'image que vous avez enregistrer."
   ]
  },
  {
   "cell_type": "markdown",
   "metadata": {
    "id": "UjV6UqqChm7j"
   },
   "source": [
    "S'il y a vraiement trop de problème avec les données. Vous pouvez télécharger des données d'un dataset.\n",
    "\n",
    "https://www.kaggle.com/datasets/jessicali9530/caltech256\n",
    "\n",
    "Vous pouvez aussi montez un drive avec "
   ]
  },
  {
   "cell_type": "code",
   "execution_count": null,
   "metadata": {
    "colab": {
     "base_uri": "https://localhost:8080/",
     "height": 342
    },
    "executionInfo": {
     "elapsed": 133675,
     "status": "error",
     "timestamp": 1681250525111,
     "user": {
      "displayName": "Jules Lambert",
      "userId": "07887004408196314015"
     },
     "user_tz": 240
    },
    "id": "bYUBgQRXVNkY",
    "outputId": "1b200e75-cc96-435a-b2e1-b1af8e10417f"
   },
   "outputs": [
    {
     "ename": "KeyboardInterrupt",
     "evalue": "ignored",
     "output_type": "error",
     "traceback": [
      "\u001b[0;31m---------------------------------------------------------------------------\u001b[0m",
      "\u001b[0;31mKeyboardInterrupt\u001b[0m                         Traceback (most recent call last)",
      "\u001b[0;32m<ipython-input-1-d5df0069828e>\u001b[0m in \u001b[0;36m<cell line: 2>\u001b[0;34m()\u001b[0m\n\u001b[1;32m      1\u001b[0m \u001b[0;32mfrom\u001b[0m \u001b[0mgoogle\u001b[0m\u001b[0;34m.\u001b[0m\u001b[0mcolab\u001b[0m \u001b[0;32mimport\u001b[0m \u001b[0mdrive\u001b[0m\u001b[0;34m\u001b[0m\u001b[0;34m\u001b[0m\u001b[0m\n\u001b[0;32m----> 2\u001b[0;31m \u001b[0mdrive\u001b[0m\u001b[0;34m.\u001b[0m\u001b[0mmount\u001b[0m\u001b[0;34m(\u001b[0m\u001b[0;34m'/content/drive'\u001b[0m\u001b[0;34m)\u001b[0m\u001b[0;34m\u001b[0m\u001b[0;34m\u001b[0m\u001b[0m\n\u001b[0m",
      "\u001b[0;32m/usr/local/lib/python3.9/dist-packages/google/colab/drive.py\u001b[0m in \u001b[0;36mmount\u001b[0;34m(mountpoint, force_remount, timeout_ms, readonly)\u001b[0m\n\u001b[1;32m    101\u001b[0m \u001b[0;32mdef\u001b[0m \u001b[0mmount\u001b[0m\u001b[0;34m(\u001b[0m\u001b[0mmountpoint\u001b[0m\u001b[0;34m,\u001b[0m \u001b[0mforce_remount\u001b[0m\u001b[0;34m=\u001b[0m\u001b[0;32mFalse\u001b[0m\u001b[0;34m,\u001b[0m \u001b[0mtimeout_ms\u001b[0m\u001b[0;34m=\u001b[0m\u001b[0;36m120000\u001b[0m\u001b[0;34m,\u001b[0m \u001b[0mreadonly\u001b[0m\u001b[0;34m=\u001b[0m\u001b[0;32mFalse\u001b[0m\u001b[0;34m)\u001b[0m\u001b[0;34m:\u001b[0m\u001b[0;34m\u001b[0m\u001b[0;34m\u001b[0m\u001b[0m\n\u001b[1;32m    102\u001b[0m   \u001b[0;34m\"\"\"Mount your Google Drive at the specified mountpoint path.\"\"\"\u001b[0m\u001b[0;34m\u001b[0m\u001b[0;34m\u001b[0m\u001b[0m\n\u001b[0;32m--> 103\u001b[0;31m   return _mount(\n\u001b[0m\u001b[1;32m    104\u001b[0m       \u001b[0mmountpoint\u001b[0m\u001b[0;34m,\u001b[0m\u001b[0;34m\u001b[0m\u001b[0;34m\u001b[0m\u001b[0m\n\u001b[1;32m    105\u001b[0m       \u001b[0mforce_remount\u001b[0m\u001b[0;34m=\u001b[0m\u001b[0mforce_remount\u001b[0m\u001b[0;34m,\u001b[0m\u001b[0;34m\u001b[0m\u001b[0;34m\u001b[0m\u001b[0m\n",
      "\u001b[0;32m/usr/local/lib/python3.9/dist-packages/google/colab/drive.py\u001b[0m in \u001b[0;36m_mount\u001b[0;34m(mountpoint, force_remount, timeout_ms, ephemeral, readonly)\u001b[0m\n\u001b[1;32m    130\u001b[0m   )\n\u001b[1;32m    131\u001b[0m   \u001b[0;32mif\u001b[0m \u001b[0mephemeral\u001b[0m\u001b[0;34m:\u001b[0m\u001b[0;34m\u001b[0m\u001b[0;34m\u001b[0m\u001b[0m\n\u001b[0;32m--> 132\u001b[0;31m     _message.blocking_request(\n\u001b[0m\u001b[1;32m    133\u001b[0m         \u001b[0;34m'request_auth'\u001b[0m\u001b[0;34m,\u001b[0m \u001b[0mrequest\u001b[0m\u001b[0;34m=\u001b[0m\u001b[0;34m{\u001b[0m\u001b[0;34m'authType'\u001b[0m\u001b[0;34m:\u001b[0m \u001b[0;34m'dfs_ephemeral'\u001b[0m\u001b[0;34m}\u001b[0m\u001b[0;34m,\u001b[0m \u001b[0mtimeout_sec\u001b[0m\u001b[0;34m=\u001b[0m\u001b[0;32mNone\u001b[0m\u001b[0;34m\u001b[0m\u001b[0;34m\u001b[0m\u001b[0m\n\u001b[1;32m    134\u001b[0m     )\n",
      "\u001b[0;32m/usr/local/lib/python3.9/dist-packages/google/colab/_message.py\u001b[0m in \u001b[0;36mblocking_request\u001b[0;34m(request_type, request, timeout_sec, parent)\u001b[0m\n\u001b[1;32m    175\u001b[0m       \u001b[0mrequest_type\u001b[0m\u001b[0;34m,\u001b[0m \u001b[0mrequest\u001b[0m\u001b[0;34m,\u001b[0m \u001b[0mparent\u001b[0m\u001b[0;34m=\u001b[0m\u001b[0mparent\u001b[0m\u001b[0;34m,\u001b[0m \u001b[0mexpect_reply\u001b[0m\u001b[0;34m=\u001b[0m\u001b[0;32mTrue\u001b[0m\u001b[0;34m\u001b[0m\u001b[0;34m\u001b[0m\u001b[0m\n\u001b[1;32m    176\u001b[0m   )\n\u001b[0;32m--> 177\u001b[0;31m   \u001b[0;32mreturn\u001b[0m \u001b[0mread_reply_from_input\u001b[0m\u001b[0;34m(\u001b[0m\u001b[0mrequest_id\u001b[0m\u001b[0;34m,\u001b[0m \u001b[0mtimeout_sec\u001b[0m\u001b[0;34m)\u001b[0m\u001b[0;34m\u001b[0m\u001b[0;34m\u001b[0m\u001b[0m\n\u001b[0m",
      "\u001b[0;32m/usr/local/lib/python3.9/dist-packages/google/colab/_message.py\u001b[0m in \u001b[0;36mread_reply_from_input\u001b[0;34m(message_id, timeout_sec)\u001b[0m\n\u001b[1;32m     95\u001b[0m     \u001b[0mreply\u001b[0m \u001b[0;34m=\u001b[0m \u001b[0m_read_next_input_message\u001b[0m\u001b[0;34m(\u001b[0m\u001b[0;34m)\u001b[0m\u001b[0;34m\u001b[0m\u001b[0;34m\u001b[0m\u001b[0m\n\u001b[1;32m     96\u001b[0m     \u001b[0;32mif\u001b[0m \u001b[0mreply\u001b[0m \u001b[0;34m==\u001b[0m \u001b[0m_NOT_READY\u001b[0m \u001b[0;32mor\u001b[0m \u001b[0;32mnot\u001b[0m \u001b[0misinstance\u001b[0m\u001b[0;34m(\u001b[0m\u001b[0mreply\u001b[0m\u001b[0;34m,\u001b[0m \u001b[0mdict\u001b[0m\u001b[0;34m)\u001b[0m\u001b[0;34m:\u001b[0m\u001b[0;34m\u001b[0m\u001b[0;34m\u001b[0m\u001b[0m\n\u001b[0;32m---> 97\u001b[0;31m       \u001b[0mtime\u001b[0m\u001b[0;34m.\u001b[0m\u001b[0msleep\u001b[0m\u001b[0;34m(\u001b[0m\u001b[0;36m0.025\u001b[0m\u001b[0;34m)\u001b[0m\u001b[0;34m\u001b[0m\u001b[0;34m\u001b[0m\u001b[0m\n\u001b[0m\u001b[1;32m     98\u001b[0m       \u001b[0;32mcontinue\u001b[0m\u001b[0;34m\u001b[0m\u001b[0;34m\u001b[0m\u001b[0m\n\u001b[1;32m     99\u001b[0m     if (\n",
      "\u001b[0;31mKeyboardInterrupt\u001b[0m: "
     ]
    }
   ],
   "source": [
    "from google.colab import drive\n",
    "drive.mount('/content/drive')"
   ]
  },
  {
   "cell_type": "code",
   "execution_count": 1,
   "metadata": {
    "colab": {
     "base_uri": "https://localhost:8080/",
     "height": 55
    },
    "executionInfo": {
     "elapsed": 91733,
     "status": "ok",
     "timestamp": 1681252580634,
     "user": {
      "displayName": "Jules Lambert",
      "userId": "16844768996944953840"
     },
     "user_tz": 240
    },
    "id": "pEqWRMc1FJmS",
    "outputId": "98b4392c-1245-4f56-8154-3077321be562"
   },
   "outputs": [
    {
     "name": "stdout",
     "output_type": "stream",
     "text": [
      "Mounted at /content/drive\n"
     ]
    },
    {
     "data": {
      "application/vnd.google.colaboratory.intrinsic+json": {
       "type": "string"
      },
      "text/plain": [
       "'clean_data'"
      ]
     },
     "execution_count": 1,
     "metadata": {},
     "output_type": "execute_result"
    }
   ],
   "source": [
    "from google.colab import drive\n",
    "drive.mount('/content/drive')\n",
    "\n",
    "import os\n",
    "import shutil\n",
    "\n",
    "\n",
    "original_path = 'drive/MyDrive/jules perso presentation/montreal python/tuto/data'\n",
    "target_path = 'clean_data'\n",
    "\n",
    "shutil.copytree(original_path, target_path)"
   ]
  },
  {
   "cell_type": "code",
   "execution_count": null,
   "metadata": {
    "colab": {
     "base_uri": "https://localhost:8080/"
    },
    "executionInfo": {
     "elapsed": 392701,
     "status": "ok",
     "timestamp": 1681176868340,
     "user": {
      "displayName": "Jules Lambert",
      "userId": "16844768996944953840"
     },
     "user_tz": 240
    },
    "id": "0DF9WuOZBL-m",
    "outputId": "48b66acb-d007-44e5-fb81-d55540311ed1"
   },
   "outputs": [
    {
     "name": "stdout",
     "output_type": "stream",
     "text": [
      "The image size is too small\n",
      "The image size is too small\n",
      "The image size is too small\n",
      "The image size is too small\n",
      "The image size is too small\n",
      "The image size is too small\n",
      "The image size is too small\n",
      "The image size is too small\n",
      "The image size is too small\n",
      "The image size is too small\n",
      "The image size is too small\n",
      "The image has been saved with size 220 x 255\n",
      "The image has been saved with size 220 x 239\n",
      "The image size is too small\n",
      "The image size is too small\n",
      "The image size is too small\n",
      "The image size is too small\n",
      "The image has been saved with size 220 x 293\n",
      "The image size is too small\n",
      "The image size is too small\n",
      "The image size is too small\n",
      "The image size is too small\n",
      "The image has been saved with size 220 x 220\n",
      "The image size is too small\n",
      "The image size is too small\n",
      "The image size is too small\n",
      "The image has been saved with size 220 x 235\n",
      "The image size is too small\n",
      "The image size is too small\n",
      "The image size is too small\n",
      "The image size is too small\n",
      "The image size is too small\n",
      "The image size is too small\n",
      "The image size is too small\n",
      "The image size is too small\n",
      "The image size is too small\n",
      "The image size is too small\n",
      "The image size is too small\n",
      "The image size is too small\n",
      "The image size is too small\n",
      "The image size is too small\n",
      "The image size is too small\n",
      "The image size is too small\n",
      "The image size is too small\n",
      "Timed out waiting for page to load\n",
      "The image size is too small\n",
      "The image has been saved with size 300 x 250\n",
      "The image has been saved with size 400 x 400\n",
      "The image size is too small\n",
      "The image has been saved with size 220 x 294\n",
      "The image size is too small\n",
      "The image size is too small\n",
      "The image size is too small\n",
      "The image size is too small\n",
      "The image size is too small\n",
      "The image size is too small\n",
      "The image size is too small\n",
      "The image size is too small\n",
      "The image size is too small\n",
      "The image size is too small\n",
      "The image size is too small\n",
      "The image size is too small\n",
      "The image size is too small\n",
      "The image has been saved with size 300 x 300\n",
      "The image size is too small\n",
      "The image has been saved with size 210 x 280\n",
      "The image has been saved with size 2000 x 1125\n",
      "The image has been saved with size 532 x 400\n",
      "The image has been saved with size 900 x 900\n",
      "The image has been saved with size 300 x 300\n",
      "The image has been saved with size 960 x 540\n",
      "The image size is too small\n",
      "The image size is too small\n",
      "The image size is too small\n",
      "The image has been saved with size 1160 x 600\n",
      "The image has been saved with size 753 x 485\n",
      "The image has been saved with size 753 x 485\n",
      "The image has been saved with size 753 x 485\n",
      "The image has been saved with size 753 x 485\n",
      "The image has been saved with size 753 x 485\n",
      "The image has been saved with size 753 x 485\n",
      "The image has been saved with size 753 x 485\n",
      "The image has been saved with size 753 x 485\n",
      "The image has been saved with size 753 x 485\n",
      "The image size is too small\n",
      "The image has been saved with size 620 x 412\n",
      "The image has been saved with size 620 x 413\n",
      "The image has been saved with size 620 x 413\n",
      "The image has been saved with size 620 x 320\n",
      "The image size is too small\n",
      "The image size is too small\n",
      "The image size is too small\n",
      "The image size is too small\n",
      "The image size is too small\n",
      "The image size is too small\n",
      "The image has been saved with size 1200 x 600\n",
      "The image has been saved with size 500 x 707\n",
      "The image size is too small\n",
      "Timed out waiting for page to load\n",
      "The image size is too small\n",
      "The image has been saved with size 760 x 506\n",
      "The image has been saved with size 760 x 428\n",
      "The image size is too small\n",
      "The image size is too small\n",
      "The image size is too small\n",
      "The image size is too small\n",
      "The image size is too small\n",
      "The image size is too small\n",
      "The image size is too small\n",
      "The image size is too small\n",
      "The image size is too small\n",
      "The image size is too small\n",
      "The image size is too small\n",
      "Timed out waiting for page to load\n",
      "The image size is too small\n",
      "The image size is too small\n",
      "The image size is too small\n",
      "The image size is too small\n",
      "The image size is too small\n",
      "The image size is too small\n",
      "The image size is too small\n",
      "The image size is too small\n",
      "The image size is too small\n",
      "The image size is too small\n",
      "The image has been saved with size 1100 x 618\n",
      "The image size is too small\n",
      "The image has been saved with size 960 x 640\n",
      "The image size is too small\n",
      "The image has been saved with size 1200 x 793\n",
      "The image has been saved with size 1200 x 891\n",
      "The image size is too small\n",
      "The image size is too small\n",
      "The image size is too small\n",
      "The image size is too small\n",
      "The image has been saved with size 1471 x 980\n",
      "The image has been saved with size 300 x 300\n",
      "The image size is too small\n",
      "The image has been saved with size 210 x 280\n",
      "The image has been saved with size 2000 x 1125\n",
      "The image has been saved with size 532 x 400\n",
      "The image has been saved with size 900 x 900\n",
      "The image has been saved with size 300 x 300\n",
      "The image has been saved with size 960 x 540\n",
      "The image size is too small\n",
      "The image has been saved with size 570 x 378\n",
      "The image has been saved with size 632 x 353\n",
      "The image size is too small\n",
      "The image has been saved with size 394 x 200\n",
      "The image has been saved with size 970 x 505\n",
      "The image has been saved with size 970 x 505\n",
      "The image size is too small\n",
      "The image could not be downloaded\n",
      "The image could not be downloaded\n",
      "The image could not be downloaded\n",
      "The image could not be downloaded\n",
      "The image could not be downloaded\n",
      "The image has been saved with size 549 x 309\n",
      "The image could not be downloaded\n",
      "The image could not be downloaded\n",
      "The image could not be downloaded\n",
      "The image could not be downloaded\n",
      "The image could not be downloaded\n",
      "The image could not be downloaded\n",
      "The image could not be downloaded\n",
      "The image could not be downloaded\n",
      "The image could not be downloaded\n",
      "The image could not be downloaded\n",
      "The image could not be downloaded\n",
      "The image could not be downloaded\n",
      "The image could not be downloaded\n",
      "The image could not be downloaded\n",
      "The image could not be downloaded\n",
      "The image could not be downloaded\n",
      "The image could not be downloaded\n",
      "The image could not be downloaded\n",
      "The image could not be downloaded\n",
      "The image could not be downloaded\n",
      "The image could not be downloaded\n",
      "The image has been saved with size 704 x 450\n",
      "The image has been saved with size 689 x 690\n",
      "The image has been saved with size 1190 x 694\n",
      "The image has been saved with size 684 x 1419\n",
      "The image has been saved with size 1109 x 708\n",
      "The image could not be downloaded\n",
      "The image size is too small\n",
      "Timed out waiting for page to load\n",
      "The image size is too small\n",
      "The image has been saved with size 703 x 463\n",
      "The image size is too small\n",
      "The image has been saved with size 522 x 522\n",
      "The image has been saved with size 2000 x 2000\n",
      "The image has been saved with size 1200 x 675\n",
      "The image has been saved with size 800 x 450\n",
      "The image has been saved with size 800 x 450\n",
      "The image has been saved with size 800 x 450\n",
      "The image has been saved with size 800 x 450\n",
      "The image has been saved with size 800 x 450\n",
      "The image has been saved with size 800 x 450\n",
      "The image has been saved with size 800 x 450\n",
      "The image has been saved with size 800 x 450\n",
      "The image has been saved with size 800 x 450\n",
      "The image has been saved with size 256 x 256\n",
      "Timed out waiting for page to load\n",
      "The image has been saved with size 1920 x 1329\n",
      "The image has been saved with size 881 x 585\n",
      "The image has been saved with size 881 x 585\n",
      "The image has been saved with size 881 x 593\n",
      "not able to have image from that link\n",
      "Timed out waiting for page to load\n",
      "Timed out waiting for page to load\n",
      "The image has been saved with size 240 x 300\n",
      "The image has been saved with size 700 x 701\n",
      "The image has been saved with size 536 x 536\n",
      "The image has been saved with size 536 x 536\n",
      "The image has been saved with size 536 x 536\n",
      "The image has been saved with size 536 x 536\n",
      "Timed out waiting for page to load\n",
      "Timed out waiting for page to load\n",
      "The image size is too small\n",
      "not able to have image from that link\n",
      "The image size is too small\n",
      "The image size is too small\n",
      "The image size is too small\n",
      "The image size is too small\n",
      "The image size is too small\n",
      "The image size is too small\n",
      "The image size is too small\n",
      "The image has been saved with size 5441 x 3627\n",
      "The image size is too small\n",
      "The image size is too small\n",
      "The image size is too small\n",
      "The image size is too small\n",
      "Timed out waiting for page to load\n",
      "Timed out waiting for page to load\n",
      "Timed out waiting for page to load\n",
      "The image has been saved with size 760 x 507\n",
      "The image has been saved with size 760 x 428\n",
      "The image size is too small\n",
      "The image size is too small\n",
      "The image has been saved with size 1500 x 1125\n",
      "The image size is too small\n",
      "The image size is too small\n",
      "The image size is too small\n",
      "The image size is too small\n",
      "The image size is too small\n",
      "The image size is too small\n",
      "The image size is too small\n",
      "The image size is too small\n",
      "The image size is too small\n",
      "The image size is too small\n",
      "The image size is too small\n",
      "The image size is too small\n",
      "The image size is too small\n",
      "The image size is too small\n",
      "The image size is too small\n",
      "The image size is too small\n",
      "The image size is too small\n",
      "The image size is too small\n",
      "The image size is too small\n",
      "The image size is too small\n",
      "The image size is too small\n",
      "The image size is too small\n",
      "The image size is too small\n",
      "The image size is too small\n",
      "The image size is too small\n",
      "The image size is too small\n",
      "The image size is too small\n",
      "The image size is too small\n",
      "The image size is too small\n",
      "The image size is too small\n",
      "The image size is too small\n",
      "The image size is too small\n",
      "The image size is too small\n",
      "The image size is too small\n",
      "The image size is too small\n",
      "The image size is too small\n",
      "The image size is too small\n",
      "The image size is too small\n",
      "The image size is too small\n",
      "The image size is too small\n",
      "The image size is too small\n",
      "The image size is too small\n",
      "The image size is too small\n",
      "The image size is too small\n",
      "The image size is too small\n",
      "The image size is too small\n",
      "The image size is too small\n",
      "The image size is too small\n",
      "The image size is too small\n",
      "Timed out waiting for page to load\n",
      "The image has been saved with size 1200 x 1200\n",
      "The image has been saved with size 1680 x 1050\n",
      "The image size is too small\n",
      "The image size is too small\n",
      "The image size is too small\n",
      "The image size is too small\n",
      "The image has been saved with size 300 x 300\n",
      "The image size is too small\n",
      "The image size is too small\n",
      "The image size is too small\n",
      "The image size is too small\n",
      "The image size is too small\n",
      "The image size is too small\n",
      "The image size is too small\n",
      "The image size is too small\n",
      "The image size is too small\n",
      "The image size is too small\n",
      "The image size is too small\n",
      "The image size is too small\n",
      "The image size is too small\n",
      "The image size is too small\n",
      "The image size is too small\n",
      "The image has been saved with size 1000 x 731\n",
      "The image has been saved with size 225 x 300\n",
      "The image has been saved with size 300 x 225\n",
      "The image has been saved with size 300 x 219\n",
      "The image size is too small\n",
      "The image size is too small\n",
      "The image size is too small\n"
     ]
    },
    {
     "name": "stderr",
     "output_type": "stream",
     "text": [
      "WARNING:urllib3.connectionpool:Retrying (Retry(total=2, connect=None, read=None, redirect=None, status=None)) after connection broken by 'NewConnectionError('<urllib3.connection.HTTPConnection object at 0x7f0d30f93640>: Failed to establish a new connection: [Errno 111] Connection refused')': /session/7189b08b888ac2b66a9a5c2e81ee50fe/timeouts\n",
      "WARNING:urllib3.connectionpool:Retrying (Retry(total=1, connect=None, read=None, redirect=None, status=None)) after connection broken by 'NewConnectionError('<urllib3.connection.HTTPConnection object at 0x7f0d40058ac0>: Failed to establish a new connection: [Errno 111] Connection refused')': /session/7189b08b888ac2b66a9a5c2e81ee50fe/timeouts\n",
      "WARNING:urllib3.connectionpool:Retrying (Retry(total=0, connect=None, read=None, redirect=None, status=None)) after connection broken by 'NewConnectionError('<urllib3.connection.HTTPConnection object at 0x7f0d40058ee0>: Failed to establish a new connection: [Errno 111] Connection refused')': /session/7189b08b888ac2b66a9a5c2e81ee50fe/timeouts\n",
      "WARNING:urllib3.connectionpool:Retrying (Retry(total=2, connect=None, read=None, redirect=None, status=None)) after connection broken by 'NewConnectionError('<urllib3.connection.HTTPConnection object at 0x7f0d30352730>: Failed to establish a new connection: [Errno 111] Connection refused')': /session/7189b08b888ac2b66a9a5c2e81ee50fe/timeouts\n",
      "WARNING:urllib3.connectionpool:Retrying (Retry(total=1, connect=None, read=None, redirect=None, status=None)) after connection broken by 'NewConnectionError('<urllib3.connection.HTTPConnection object at 0x7f0d30352e50>: Failed to establish a new connection: [Errno 111] Connection refused')': /session/7189b08b888ac2b66a9a5c2e81ee50fe/timeouts\n",
      "WARNING:urllib3.connectionpool:Retrying (Retry(total=0, connect=None, read=None, redirect=None, status=None)) after connection broken by 'NewConnectionError('<urllib3.connection.HTTPConnection object at 0x7f0d30280790>: Failed to establish a new connection: [Errno 111] Connection refused')': /session/7189b08b888ac2b66a9a5c2e81ee50fe/timeouts\n",
      "WARNING:urllib3.connectionpool:Retrying (Retry(total=2, connect=None, read=None, redirect=None, status=None)) after connection broken by 'NewConnectionError('<urllib3.connection.HTTPConnection object at 0x7f0d30280100>: Failed to establish a new connection: [Errno 111] Connection refused')': /session/7189b08b888ac2b66a9a5c2e81ee50fe/timeouts\n",
      "WARNING:urllib3.connectionpool:Retrying (Retry(total=1, connect=None, read=None, redirect=None, status=None)) after connection broken by 'NewConnectionError('<urllib3.connection.HTTPConnection object at 0x7f0d302806a0>: Failed to establish a new connection: [Errno 111] Connection refused')': /session/7189b08b888ac2b66a9a5c2e81ee50fe/timeouts\n",
      "WARNING:urllib3.connectionpool:Retrying (Retry(total=0, connect=None, read=None, redirect=None, status=None)) after connection broken by 'NewConnectionError('<urllib3.connection.HTTPConnection object at 0x7f0d30280820>: Failed to establish a new connection: [Errno 111] Connection refused')': /session/7189b08b888ac2b66a9a5c2e81ee50fe/timeouts\n",
      "WARNING:urllib3.connectionpool:Retrying (Retry(total=2, connect=None, read=None, redirect=None, status=None)) after connection broken by 'NewConnectionError('<urllib3.connection.HTTPConnection object at 0x7f0d30280dc0>: Failed to establish a new connection: [Errno 111] Connection refused')': /session/7189b08b888ac2b66a9a5c2e81ee50fe/timeouts\n",
      "WARNING:urllib3.connectionpool:Retrying (Retry(total=1, connect=None, read=None, redirect=None, status=None)) after connection broken by 'NewConnectionError('<urllib3.connection.HTTPConnection object at 0x7f0d30fa7640>: Failed to establish a new connection: [Errno 111] Connection refused')': /session/7189b08b888ac2b66a9a5c2e81ee50fe/timeouts\n",
      "WARNING:urllib3.connectionpool:Retrying (Retry(total=0, connect=None, read=None, redirect=None, status=None)) after connection broken by 'NewConnectionError('<urllib3.connection.HTTPConnection object at 0x7f0d303526d0>: Failed to establish a new connection: [Errno 111] Connection refused')': /session/7189b08b888ac2b66a9a5c2e81ee50fe/timeouts\n",
      "WARNING:urllib3.connectionpool:Retrying (Retry(total=2, connect=None, read=None, redirect=None, status=None)) after connection broken by 'NewConnectionError('<urllib3.connection.HTTPConnection object at 0x7f0d40058ee0>: Failed to establish a new connection: [Errno 111] Connection refused')': /session/7189b08b888ac2b66a9a5c2e81ee50fe/timeouts\n",
      "WARNING:urllib3.connectionpool:Retrying (Retry(total=1, connect=None, read=None, redirect=None, status=None)) after connection broken by 'NewConnectionError('<urllib3.connection.HTTPConnection object at 0x7f0d30f93a60>: Failed to establish a new connection: [Errno 111] Connection refused')': /session/7189b08b888ac2b66a9a5c2e81ee50fe/timeouts\n",
      "WARNING:urllib3.connectionpool:Retrying (Retry(total=0, connect=None, read=None, redirect=None, status=None)) after connection broken by 'NewConnectionError('<urllib3.connection.HTTPConnection object at 0x7f0d30352af0>: Failed to establish a new connection: [Errno 111] Connection refused')': /session/7189b08b888ac2b66a9a5c2e81ee50fe/timeouts\n",
      "WARNING:urllib3.connectionpool:Retrying (Retry(total=2, connect=None, read=None, redirect=None, status=None)) after connection broken by 'NewConnectionError('<urllib3.connection.HTTPConnection object at 0x7f0d30280d30>: Failed to establish a new connection: [Errno 111] Connection refused')': /session/7189b08b888ac2b66a9a5c2e81ee50fe/timeouts\n",
      "WARNING:urllib3.connectionpool:Retrying (Retry(total=1, connect=None, read=None, redirect=None, status=None)) after connection broken by 'NewConnectionError('<urllib3.connection.HTTPConnection object at 0x7f0d30280b20>: Failed to establish a new connection: [Errno 111] Connection refused')': /session/7189b08b888ac2b66a9a5c2e81ee50fe/timeouts\n",
      "WARNING:urllib3.connectionpool:Retrying (Retry(total=0, connect=None, read=None, redirect=None, status=None)) after connection broken by 'NewConnectionError('<urllib3.connection.HTTPConnection object at 0x7f0d30280580>: Failed to establish a new connection: [Errno 111] Connection refused')': /session/7189b08b888ac2b66a9a5c2e81ee50fe/timeouts\n",
      "WARNING:urllib3.connectionpool:Retrying (Retry(total=2, connect=None, read=None, redirect=None, status=None)) after connection broken by 'NewConnectionError('<urllib3.connection.HTTPConnection object at 0x7f0d30280760>: Failed to establish a new connection: [Errno 111] Connection refused')': /session/7189b08b888ac2b66a9a5c2e81ee50fe/timeouts\n",
      "WARNING:urllib3.connectionpool:Retrying (Retry(total=1, connect=None, read=None, redirect=None, status=None)) after connection broken by 'NewConnectionError('<urllib3.connection.HTTPConnection object at 0x7f0d3034c160>: Failed to establish a new connection: [Errno 111] Connection refused')': /session/7189b08b888ac2b66a9a5c2e81ee50fe/timeouts\n",
      "WARNING:urllib3.connectionpool:Retrying (Retry(total=0, connect=None, read=None, redirect=None, status=None)) after connection broken by 'NewConnectionError('<urllib3.connection.HTTPConnection object at 0x7f0d40058d30>: Failed to establish a new connection: [Errno 111] Connection refused')': /session/7189b08b888ac2b66a9a5c2e81ee50fe/timeouts\n",
      "WARNING:urllib3.connectionpool:Retrying (Retry(total=2, connect=None, read=None, redirect=None, status=None)) after connection broken by 'NewConnectionError('<urllib3.connection.HTTPConnection object at 0x7f0d3028a340>: Failed to establish a new connection: [Errno 111] Connection refused')': /session/7189b08b888ac2b66a9a5c2e81ee50fe/timeouts\n",
      "WARNING:urllib3.connectionpool:Retrying (Retry(total=1, connect=None, read=None, redirect=None, status=None)) after connection broken by 'NewConnectionError('<urllib3.connection.HTTPConnection object at 0x7f0d3028a460>: Failed to establish a new connection: [Errno 111] Connection refused')': /session/7189b08b888ac2b66a9a5c2e81ee50fe/timeouts\n",
      "WARNING:urllib3.connectionpool:Retrying (Retry(total=0, connect=None, read=None, redirect=None, status=None)) after connection broken by 'NewConnectionError('<urllib3.connection.HTTPConnection object at 0x7f0d3028a640>: Failed to establish a new connection: [Errno 111] Connection refused')': /session/7189b08b888ac2b66a9a5c2e81ee50fe/timeouts\n",
      "WARNING:urllib3.connectionpool:Retrying (Retry(total=2, connect=None, read=None, redirect=None, status=None)) after connection broken by 'NewConnectionError('<urllib3.connection.HTTPConnection object at 0x7f0d30280610>: Failed to establish a new connection: [Errno 111] Connection refused')': /session/7189b08b888ac2b66a9a5c2e81ee50fe/timeouts\n",
      "WARNING:urllib3.connectionpool:Retrying (Retry(total=1, connect=None, read=None, redirect=None, status=None)) after connection broken by 'NewConnectionError('<urllib3.connection.HTTPConnection object at 0x7f0d30280a30>: Failed to establish a new connection: [Errno 111] Connection refused')': /session/7189b08b888ac2b66a9a5c2e81ee50fe/timeouts\n",
      "WARNING:urllib3.connectionpool:Retrying (Retry(total=0, connect=None, read=None, redirect=None, status=None)) after connection broken by 'NewConnectionError('<urllib3.connection.HTTPConnection object at 0x7f0d302804c0>: Failed to establish a new connection: [Errno 111] Connection refused')': /session/7189b08b888ac2b66a9a5c2e81ee50fe/timeouts\n",
      "WARNING:urllib3.connectionpool:Retrying (Retry(total=2, connect=None, read=None, redirect=None, status=None)) after connection broken by 'NewConnectionError('<urllib3.connection.HTTPConnection object at 0x7f0d30280970>: Failed to establish a new connection: [Errno 111] Connection refused')': /session/7189b08b888ac2b66a9a5c2e81ee50fe/timeouts\n",
      "WARNING:urllib3.connectionpool:Retrying (Retry(total=1, connect=None, read=None, redirect=None, status=None)) after connection broken by 'NewConnectionError('<urllib3.connection.HTTPConnection object at 0x7f0d30f93a60>: Failed to establish a new connection: [Errno 111] Connection refused')': /session/7189b08b888ac2b66a9a5c2e81ee50fe/timeouts\n",
      "WARNING:urllib3.connectionpool:Retrying (Retry(total=0, connect=None, read=None, redirect=None, status=None)) after connection broken by 'NewConnectionError('<urllib3.connection.HTTPConnection object at 0x7f0d302800d0>: Failed to establish a new connection: [Errno 111] Connection refused')': /session/7189b08b888ac2b66a9a5c2e81ee50fe/timeouts\n",
      "WARNING:urllib3.connectionpool:Retrying (Retry(total=2, connect=None, read=None, redirect=None, status=None)) after connection broken by 'NewConnectionError('<urllib3.connection.HTTPConnection object at 0x7f0d40058550>: Failed to establish a new connection: [Errno 111] Connection refused')': /session/7189b08b888ac2b66a9a5c2e81ee50fe/timeouts\n",
      "WARNING:urllib3.connectionpool:Retrying (Retry(total=1, connect=None, read=None, redirect=None, status=None)) after connection broken by 'NewConnectionError('<urllib3.connection.HTTPConnection object at 0x7f0d30352070>: Failed to establish a new connection: [Errno 111] Connection refused')': /session/7189b08b888ac2b66a9a5c2e81ee50fe/timeouts\n",
      "WARNING:urllib3.connectionpool:Retrying (Retry(total=0, connect=None, read=None, redirect=None, status=None)) after connection broken by 'NewConnectionError('<urllib3.connection.HTTPConnection object at 0x7f0d3034c280>: Failed to establish a new connection: [Errno 111] Connection refused')': /session/7189b08b888ac2b66a9a5c2e81ee50fe/timeouts\n",
      "WARNING:urllib3.connectionpool:Retrying (Retry(total=2, connect=None, read=None, redirect=None, status=None)) after connection broken by 'NewConnectionError('<urllib3.connection.HTTPConnection object at 0x7f0d3028a8b0>: Failed to establish a new connection: [Errno 111] Connection refused')': /session/7189b08b888ac2b66a9a5c2e81ee50fe/timeouts\n",
      "WARNING:urllib3.connectionpool:Retrying (Retry(total=1, connect=None, read=None, redirect=None, status=None)) after connection broken by 'NewConnectionError('<urllib3.connection.HTTPConnection object at 0x7f0d30280a60>: Failed to establish a new connection: [Errno 111] Connection refused')': /session/7189b08b888ac2b66a9a5c2e81ee50fe/timeouts\n",
      "WARNING:urllib3.connectionpool:Retrying (Retry(total=0, connect=None, read=None, redirect=None, status=None)) after connection broken by 'NewConnectionError('<urllib3.connection.HTTPConnection object at 0x7f0d3028aa00>: Failed to establish a new connection: [Errno 111] Connection refused')': /session/7189b08b888ac2b66a9a5c2e81ee50fe/timeouts\n",
      "WARNING:urllib3.connectionpool:Retrying (Retry(total=2, connect=None, read=None, redirect=None, status=None)) after connection broken by 'NewConnectionError('<urllib3.connection.HTTPConnection object at 0x7f0d3028ae50>: Failed to establish a new connection: [Errno 111] Connection refused')': /session/7189b08b888ac2b66a9a5c2e81ee50fe/timeouts\n",
      "WARNING:urllib3.connectionpool:Retrying (Retry(total=1, connect=None, read=None, redirect=None, status=None)) after connection broken by 'NewConnectionError('<urllib3.connection.HTTPConnection object at 0x7f0d303524f0>: Failed to establish a new connection: [Errno 111] Connection refused')': /session/7189b08b888ac2b66a9a5c2e81ee50fe/timeouts\n",
      "WARNING:urllib3.connectionpool:Retrying (Retry(total=0, connect=None, read=None, redirect=None, status=None)) after connection broken by 'NewConnectionError('<urllib3.connection.HTTPConnection object at 0x7f0d40058c10>: Failed to establish a new connection: [Errno 111] Connection refused')': /session/7189b08b888ac2b66a9a5c2e81ee50fe/timeouts\n"
     ]
    },
    {
     "name": "stdout",
     "output_type": "stream",
     "text": [
      "not able to have image from that link\n",
      "not able to have image from that link\n",
      "not able to have image from that link\n",
      "not able to have image from that link\n",
      "not able to have image from that link\n",
      "not able to have image from that link\n",
      "not able to have image from that link\n",
      "not able to have image from that link\n",
      "not able to have image from that link\n",
      "not able to have image from that link\n",
      "not able to have image from that link\n",
      "not able to have image from that link\n",
      "not able to have image from that link\n"
     ]
    },
    {
     "name": "stderr",
     "output_type": "stream",
     "text": [
      "WARNING:urllib3.connectionpool:Retrying (Retry(total=2, connect=None, read=None, redirect=None, status=None)) after connection broken by 'NewConnectionError('<urllib3.connection.HTTPConnection object at 0x7f0d30f93a30>: Failed to establish a new connection: [Errno 111] Connection refused')': /session/7189b08b888ac2b66a9a5c2e81ee50fe/timeouts\n",
      "WARNING:urllib3.connectionpool:Retrying (Retry(total=1, connect=None, read=None, redirect=None, status=None)) after connection broken by 'NewConnectionError('<urllib3.connection.HTTPConnection object at 0x7f0d30352d00>: Failed to establish a new connection: [Errno 111] Connection refused')': /session/7189b08b888ac2b66a9a5c2e81ee50fe/timeouts\n",
      "WARNING:urllib3.connectionpool:Retrying (Retry(total=0, connect=None, read=None, redirect=None, status=None)) after connection broken by 'NewConnectionError('<urllib3.connection.HTTPConnection object at 0x7f0d30280b80>: Failed to establish a new connection: [Errno 111] Connection refused')': /session/7189b08b888ac2b66a9a5c2e81ee50fe/timeouts\n",
      "WARNING:urllib3.connectionpool:Retrying (Retry(total=2, connect=None, read=None, redirect=None, status=None)) after connection broken by 'NewConnectionError('<urllib3.connection.HTTPConnection object at 0x7f0d30280310>: Failed to establish a new connection: [Errno 111] Connection refused')': /session/7189b08b888ac2b66a9a5c2e81ee50fe/timeouts\n",
      "WARNING:urllib3.connectionpool:Retrying (Retry(total=1, connect=None, read=None, redirect=None, status=None)) after connection broken by 'NewConnectionError('<urllib3.connection.HTTPConnection object at 0x7f0d30280160>: Failed to establish a new connection: [Errno 111] Connection refused')': /session/7189b08b888ac2b66a9a5c2e81ee50fe/timeouts\n",
      "WARNING:urllib3.connectionpool:Retrying (Retry(total=0, connect=None, read=None, redirect=None, status=None)) after connection broken by 'NewConnectionError('<urllib3.connection.HTTPConnection object at 0x7f0d30280af0>: Failed to establish a new connection: [Errno 111] Connection refused')': /session/7189b08b888ac2b66a9a5c2e81ee50fe/timeouts\n",
      "WARNING:urllib3.connectionpool:Retrying (Retry(total=2, connect=None, read=None, redirect=None, status=None)) after connection broken by 'NewConnectionError('<urllib3.connection.HTTPConnection object at 0x7f0d3028aac0>: Failed to establish a new connection: [Errno 111] Connection refused')': /session/7189b08b888ac2b66a9a5c2e81ee50fe/timeouts\n",
      "WARNING:urllib3.connectionpool:Retrying (Retry(total=1, connect=None, read=None, redirect=None, status=None)) after connection broken by 'NewConnectionError('<urllib3.connection.HTTPConnection object at 0x7f0d3028abb0>: Failed to establish a new connection: [Errno 111] Connection refused')': /session/7189b08b888ac2b66a9a5c2e81ee50fe/timeouts\n",
      "WARNING:urllib3.connectionpool:Retrying (Retry(total=0, connect=None, read=None, redirect=None, status=None)) after connection broken by 'NewConnectionError('<urllib3.connection.HTTPConnection object at 0x7f0d3028a8e0>: Failed to establish a new connection: [Errno 111] Connection refused')': /session/7189b08b888ac2b66a9a5c2e81ee50fe/timeouts\n",
      "WARNING:urllib3.connectionpool:Retrying (Retry(total=2, connect=None, read=None, redirect=None, status=None)) after connection broken by 'NewConnectionError('<urllib3.connection.HTTPConnection object at 0x7f0d3028ad60>: Failed to establish a new connection: [Errno 111] Connection refused')': /session/7189b08b888ac2b66a9a5c2e81ee50fe/timeouts\n",
      "WARNING:urllib3.connectionpool:Retrying (Retry(total=1, connect=None, read=None, redirect=None, status=None)) after connection broken by 'NewConnectionError('<urllib3.connection.HTTPConnection object at 0x7f0d30280910>: Failed to establish a new connection: [Errno 111] Connection refused')': /session/7189b08b888ac2b66a9a5c2e81ee50fe/timeouts\n",
      "WARNING:urllib3.connectionpool:Retrying (Retry(total=0, connect=None, read=None, redirect=None, status=None)) after connection broken by 'NewConnectionError('<urllib3.connection.HTTPConnection object at 0x7f0d30172250>: Failed to establish a new connection: [Errno 111] Connection refused')': /session/7189b08b888ac2b66a9a5c2e81ee50fe/timeouts\n",
      "WARNING:urllib3.connectionpool:Retrying (Retry(total=2, connect=None, read=None, redirect=None, status=None)) after connection broken by 'NewConnectionError('<urllib3.connection.HTTPConnection object at 0x7f0d3028a070>: Failed to establish a new connection: [Errno 111] Connection refused')': /session/7189b08b888ac2b66a9a5c2e81ee50fe/timeouts\n",
      "WARNING:urllib3.connectionpool:Retrying (Retry(total=1, connect=None, read=None, redirect=None, status=None)) after connection broken by 'NewConnectionError('<urllib3.connection.HTTPConnection object at 0x7f0d3028a910>: Failed to establish a new connection: [Errno 111] Connection refused')': /session/7189b08b888ac2b66a9a5c2e81ee50fe/timeouts\n",
      "WARNING:urllib3.connectionpool:Retrying (Retry(total=0, connect=None, read=None, redirect=None, status=None)) after connection broken by 'NewConnectionError('<urllib3.connection.HTTPConnection object at 0x7f0d3028adf0>: Failed to establish a new connection: [Errno 111] Connection refused')': /session/7189b08b888ac2b66a9a5c2e81ee50fe/timeouts\n",
      "WARNING:urllib3.connectionpool:Retrying (Retry(total=2, connect=None, read=None, redirect=None, status=None)) after connection broken by 'NewConnectionError('<urllib3.connection.HTTPConnection object at 0x7f0d302809a0>: Failed to establish a new connection: [Errno 111] Connection refused')': /session/7189b08b888ac2b66a9a5c2e81ee50fe/timeouts\n",
      "WARNING:urllib3.connectionpool:Retrying (Retry(total=1, connect=None, read=None, redirect=None, status=None)) after connection broken by 'NewConnectionError('<urllib3.connection.HTTPConnection object at 0x7f0d30280160>: Failed to establish a new connection: [Errno 111] Connection refused')': /session/7189b08b888ac2b66a9a5c2e81ee50fe/timeouts\n",
      "WARNING:urllib3.connectionpool:Retrying (Retry(total=0, connect=None, read=None, redirect=None, status=None)) after connection broken by 'NewConnectionError('<urllib3.connection.HTTPConnection object at 0x7f0d302800d0>: Failed to establish a new connection: [Errno 111] Connection refused')': /session/7189b08b888ac2b66a9a5c2e81ee50fe/timeouts\n",
      "WARNING:urllib3.connectionpool:Retrying (Retry(total=2, connect=None, read=None, redirect=None, status=None)) after connection broken by 'NewConnectionError('<urllib3.connection.HTTPConnection object at 0x7f0d302806a0>: Failed to establish a new connection: [Errno 111] Connection refused')': /session/7189b08b888ac2b66a9a5c2e81ee50fe/timeouts\n",
      "WARNING:urllib3.connectionpool:Retrying (Retry(total=1, connect=None, read=None, redirect=None, status=None)) after connection broken by 'NewConnectionError('<urllib3.connection.HTTPConnection object at 0x7f0d30f93c10>: Failed to establish a new connection: [Errno 111] Connection refused')': /session/7189b08b888ac2b66a9a5c2e81ee50fe/timeouts\n",
      "WARNING:urllib3.connectionpool:Retrying (Retry(total=0, connect=None, read=None, redirect=None, status=None)) after connection broken by 'NewConnectionError('<urllib3.connection.HTTPConnection object at 0x7f0d3028ae80>: Failed to establish a new connection: [Errno 111] Connection refused')': /session/7189b08b888ac2b66a9a5c2e81ee50fe/timeouts\n",
      "WARNING:urllib3.connectionpool:Retrying (Retry(total=2, connect=None, read=None, redirect=None, status=None)) after connection broken by 'NewConnectionError('<urllib3.connection.HTTPConnection object at 0x7f0d303521c0>: Failed to establish a new connection: [Errno 111] Connection refused')': /session/7189b08b888ac2b66a9a5c2e81ee50fe/timeouts\n",
      "WARNING:urllib3.connectionpool:Retrying (Retry(total=1, connect=None, read=None, redirect=None, status=None)) after connection broken by 'NewConnectionError('<urllib3.connection.HTTPConnection object at 0x7f0d303520d0>: Failed to establish a new connection: [Errno 111] Connection refused')': /session/7189b08b888ac2b66a9a5c2e81ee50fe/timeouts\n",
      "WARNING:urllib3.connectionpool:Retrying (Retry(total=0, connect=None, read=None, redirect=None, status=None)) after connection broken by 'NewConnectionError('<urllib3.connection.HTTPConnection object at 0x7f0d30172520>: Failed to establish a new connection: [Errno 111] Connection refused')': /session/7189b08b888ac2b66a9a5c2e81ee50fe/timeouts\n",
      "WARNING:urllib3.connectionpool:Retrying (Retry(total=2, connect=None, read=None, redirect=None, status=None)) after connection broken by 'NewConnectionError('<urllib3.connection.HTTPConnection object at 0x7f0d30172970>: Failed to establish a new connection: [Errno 111] Connection refused')': /session/7189b08b888ac2b66a9a5c2e81ee50fe/timeouts\n",
      "WARNING:urllib3.connectionpool:Retrying (Retry(total=1, connect=None, read=None, redirect=None, status=None)) after connection broken by 'NewConnectionError('<urllib3.connection.HTTPConnection object at 0x7f0d30172a90>: Failed to establish a new connection: [Errno 111] Connection refused')': /session/7189b08b888ac2b66a9a5c2e81ee50fe/timeouts\n",
      "WARNING:urllib3.connectionpool:Retrying (Retry(total=0, connect=None, read=None, redirect=None, status=None)) after connection broken by 'NewConnectionError('<urllib3.connection.HTTPConnection object at 0x7f0d303524f0>: Failed to establish a new connection: [Errno 111] Connection refused')': /session/7189b08b888ac2b66a9a5c2e81ee50fe/timeouts\n",
      "WARNING:urllib3.connectionpool:Retrying (Retry(total=2, connect=None, read=None, redirect=None, status=None)) after connection broken by 'NewConnectionError('<urllib3.connection.HTTPConnection object at 0x7f0d40058e20>: Failed to establish a new connection: [Errno 111] Connection refused')': /session/7189b08b888ac2b66a9a5c2e81ee50fe/timeouts\n",
      "WARNING:urllib3.connectionpool:Retrying (Retry(total=1, connect=None, read=None, redirect=None, status=None)) after connection broken by 'NewConnectionError('<urllib3.connection.HTTPConnection object at 0x7f0d303526d0>: Failed to establish a new connection: [Errno 111] Connection refused')': /session/7189b08b888ac2b66a9a5c2e81ee50fe/timeouts\n",
      "WARNING:urllib3.connectionpool:Retrying (Retry(total=0, connect=None, read=None, redirect=None, status=None)) after connection broken by 'NewConnectionError('<urllib3.connection.HTTPConnection object at 0x7f0d30280c70>: Failed to establish a new connection: [Errno 111] Connection refused')': /session/7189b08b888ac2b66a9a5c2e81ee50fe/timeouts\n",
      "WARNING:urllib3.connectionpool:Retrying (Retry(total=2, connect=None, read=None, redirect=None, status=None)) after connection broken by 'NewConnectionError('<urllib3.connection.HTTPConnection object at 0x7f0d30280d30>: Failed to establish a new connection: [Errno 111] Connection refused')': /session/7189b08b888ac2b66a9a5c2e81ee50fe/timeouts\n",
      "WARNING:urllib3.connectionpool:Retrying (Retry(total=1, connect=None, read=None, redirect=None, status=None)) after connection broken by 'NewConnectionError('<urllib3.connection.HTTPConnection object at 0x7f0d30280cd0>: Failed to establish a new connection: [Errno 111] Connection refused')': /session/7189b08b888ac2b66a9a5c2e81ee50fe/timeouts\n",
      "WARNING:urllib3.connectionpool:Retrying (Retry(total=0, connect=None, read=None, redirect=None, status=None)) after connection broken by 'NewConnectionError('<urllib3.connection.HTTPConnection object at 0x7f0d3028a280>: Failed to establish a new connection: [Errno 111] Connection refused')': /session/7189b08b888ac2b66a9a5c2e81ee50fe/timeouts\n",
      "WARNING:urllib3.connectionpool:Retrying (Retry(total=2, connect=None, read=None, redirect=None, status=None)) after connection broken by 'NewConnectionError('<urllib3.connection.HTTPConnection object at 0x7f0d3028af70>: Failed to establish a new connection: [Errno 111] Connection refused')': /session/7189b08b888ac2b66a9a5c2e81ee50fe/timeouts\n",
      "WARNING:urllib3.connectionpool:Retrying (Retry(total=1, connect=None, read=None, redirect=None, status=None)) after connection broken by 'NewConnectionError('<urllib3.connection.HTTPConnection object at 0x7f0d3028a520>: Failed to establish a new connection: [Errno 111] Connection refused')': /session/7189b08b888ac2b66a9a5c2e81ee50fe/timeouts\n",
      "WARNING:urllib3.connectionpool:Retrying (Retry(total=0, connect=None, read=None, redirect=None, status=None)) after connection broken by 'NewConnectionError('<urllib3.connection.HTTPConnection object at 0x7f0d30352c40>: Failed to establish a new connection: [Errno 111] Connection refused')': /session/7189b08b888ac2b66a9a5c2e81ee50fe/timeouts\n",
      "WARNING:urllib3.connectionpool:Retrying (Retry(total=2, connect=None, read=None, redirect=None, status=None)) after connection broken by 'NewConnectionError('<urllib3.connection.HTTPConnection object at 0x7f0d30172490>: Failed to establish a new connection: [Errno 111] Connection refused')': /session/7189b08b888ac2b66a9a5c2e81ee50fe/timeouts\n",
      "WARNING:urllib3.connectionpool:Retrying (Retry(total=1, connect=None, read=None, redirect=None, status=None)) after connection broken by 'NewConnectionError('<urllib3.connection.HTTPConnection object at 0x7f0d301724c0>: Failed to establish a new connection: [Errno 111] Connection refused')': /session/7189b08b888ac2b66a9a5c2e81ee50fe/timeouts\n",
      "WARNING:urllib3.connectionpool:Retrying (Retry(total=0, connect=None, read=None, redirect=None, status=None)) after connection broken by 'NewConnectionError('<urllib3.connection.HTTPConnection object at 0x7f0d3028ab80>: Failed to establish a new connection: [Errno 111] Connection refused')': /session/7189b08b888ac2b66a9a5c2e81ee50fe/timeouts\n",
      "WARNING:urllib3.connectionpool:Retrying (Retry(total=2, connect=None, read=None, redirect=None, status=None)) after connection broken by 'NewConnectionError('<urllib3.connection.HTTPConnection object at 0x7f0d30172370>: Failed to establish a new connection: [Errno 111] Connection refused')': /session/7189b08b888ac2b66a9a5c2e81ee50fe/timeouts\n",
      "WARNING:urllib3.connectionpool:Retrying (Retry(total=1, connect=None, read=None, redirect=None, status=None)) after connection broken by 'NewConnectionError('<urllib3.connection.HTTPConnection object at 0x7f0d3034c130>: Failed to establish a new connection: [Errno 111] Connection refused')': /session/7189b08b888ac2b66a9a5c2e81ee50fe/timeouts\n",
      "WARNING:urllib3.connectionpool:Retrying (Retry(total=0, connect=None, read=None, redirect=None, status=None)) after connection broken by 'NewConnectionError('<urllib3.connection.HTTPConnection object at 0x7f0d3028aa00>: Failed to establish a new connection: [Errno 111] Connection refused')': /session/7189b08b888ac2b66a9a5c2e81ee50fe/timeouts\n",
      "WARNING:urllib3.connectionpool:Retrying (Retry(total=2, connect=None, read=None, redirect=None, status=None)) after connection broken by 'NewConnectionError('<urllib3.connection.HTTPConnection object at 0x7f0d3028ab50>: Failed to establish a new connection: [Errno 111] Connection refused')': /session/7189b08b888ac2b66a9a5c2e81ee50fe/timeouts\n",
      "WARNING:urllib3.connectionpool:Retrying (Retry(total=1, connect=None, read=None, redirect=None, status=None)) after connection broken by 'NewConnectionError('<urllib3.connection.HTTPConnection object at 0x7f0d3028a100>: Failed to establish a new connection: [Errno 111] Connection refused')': /session/7189b08b888ac2b66a9a5c2e81ee50fe/timeouts\n",
      "WARNING:urllib3.connectionpool:Retrying (Retry(total=0, connect=None, read=None, redirect=None, status=None)) after connection broken by 'NewConnectionError('<urllib3.connection.HTTPConnection object at 0x7f0d30280a30>: Failed to establish a new connection: [Errno 111] Connection refused')': /session/7189b08b888ac2b66a9a5c2e81ee50fe/timeouts\n",
      "WARNING:urllib3.connectionpool:Retrying (Retry(total=2, connect=None, read=None, redirect=None, status=None)) after connection broken by 'NewConnectionError('<urllib3.connection.HTTPConnection object at 0x7f0d30280b20>: Failed to establish a new connection: [Errno 111] Connection refused')': /session/7189b08b888ac2b66a9a5c2e81ee50fe/timeouts\n",
      "WARNING:urllib3.connectionpool:Retrying (Retry(total=1, connect=None, read=None, redirect=None, status=None)) after connection broken by 'NewConnectionError('<urllib3.connection.HTTPConnection object at 0x7f0d30280a00>: Failed to establish a new connection: [Errno 111] Connection refused')': /session/7189b08b888ac2b66a9a5c2e81ee50fe/timeouts\n",
      "WARNING:urllib3.connectionpool:Retrying (Retry(total=0, connect=None, read=None, redirect=None, status=None)) after connection broken by 'NewConnectionError('<urllib3.connection.HTTPConnection object at 0x7f0d3028a280>: Failed to establish a new connection: [Errno 111] Connection refused')': /session/7189b08b888ac2b66a9a5c2e81ee50fe/timeouts\n",
      "WARNING:urllib3.connectionpool:Retrying (Retry(total=2, connect=None, read=None, redirect=None, status=None)) after connection broken by 'NewConnectionError('<urllib3.connection.HTTPConnection object at 0x7f0d302802e0>: Failed to establish a new connection: [Errno 111] Connection refused')': /session/7189b08b888ac2b66a9a5c2e81ee50fe/timeouts\n",
      "WARNING:urllib3.connectionpool:Retrying (Retry(total=1, connect=None, read=None, redirect=None, status=None)) after connection broken by 'NewConnectionError('<urllib3.connection.HTTPConnection object at 0x7f0d30352e50>: Failed to establish a new connection: [Errno 111] Connection refused')': /session/7189b08b888ac2b66a9a5c2e81ee50fe/timeouts\n",
      "WARNING:urllib3.connectionpool:Retrying (Retry(total=0, connect=None, read=None, redirect=None, status=None)) after connection broken by 'NewConnectionError('<urllib3.connection.HTTPConnection object at 0x7f0d30280310>: Failed to establish a new connection: [Errno 111] Connection refused')': /session/7189b08b888ac2b66a9a5c2e81ee50fe/timeouts\n",
      "WARNING:urllib3.connectionpool:Retrying (Retry(total=2, connect=None, read=None, redirect=None, status=None)) after connection broken by 'NewConnectionError('<urllib3.connection.HTTPConnection object at 0x7f0d301724c0>: Failed to establish a new connection: [Errno 111] Connection refused')': /session/7189b08b888ac2b66a9a5c2e81ee50fe/timeouts\n",
      "WARNING:urllib3.connectionpool:Retrying (Retry(total=1, connect=None, read=None, redirect=None, status=None)) after connection broken by 'NewConnectionError('<urllib3.connection.HTTPConnection object at 0x7f0d30fa7cd0>: Failed to establish a new connection: [Errno 111] Connection refused')': /session/7189b08b888ac2b66a9a5c2e81ee50fe/timeouts\n",
      "WARNING:urllib3.connectionpool:Retrying (Retry(total=0, connect=None, read=None, redirect=None, status=None)) after connection broken by 'NewConnectionError('<urllib3.connection.HTTPConnection object at 0x7f0d303520d0>: Failed to establish a new connection: [Errno 111] Connection refused')': /session/7189b08b888ac2b66a9a5c2e81ee50fe/timeouts\n",
      "WARNING:urllib3.connectionpool:Retrying (Retry(total=2, connect=None, read=None, redirect=None, status=None)) after connection broken by 'NewConnectionError('<urllib3.connection.HTTPConnection object at 0x7f0d301729a0>: Failed to establish a new connection: [Errno 111] Connection refused')': /session/7189b08b888ac2b66a9a5c2e81ee50fe/timeouts\n",
      "WARNING:urllib3.connectionpool:Retrying (Retry(total=1, connect=None, read=None, redirect=None, status=None)) after connection broken by 'NewConnectionError('<urllib3.connection.HTTPConnection object at 0x7f0d30352e50>: Failed to establish a new connection: [Errno 111] Connection refused')': /session/7189b08b888ac2b66a9a5c2e81ee50fe/timeouts\n",
      "WARNING:urllib3.connectionpool:Retrying (Retry(total=0, connect=None, read=None, redirect=None, status=None)) after connection broken by 'NewConnectionError('<urllib3.connection.HTTPConnection object at 0x7f0d40058c10>: Failed to establish a new connection: [Errno 111] Connection refused')': /session/7189b08b888ac2b66a9a5c2e81ee50fe/timeouts\n"
     ]
    },
    {
     "name": "stdout",
     "output_type": "stream",
     "text": [
      "not able to have image from that link\n",
      "not able to have image from that link\n",
      "not able to have image from that link\n",
      "not able to have image from that link\n",
      "not able to have image from that link\n",
      "not able to have image from that link\n",
      "not able to have image from that link\n",
      "not able to have image from that link\n",
      "not able to have image from that link\n",
      "not able to have image from that link\n",
      "not able to have image from that link\n",
      "not able to have image from that link\n",
      "not able to have image from that link\n",
      "not able to have image from that link\n",
      "not able to have image from that link\n",
      "not able to have image from that link\n",
      "not able to have image from that link\n",
      "not able to have image from that link\n",
      "not able to have image from that link\n",
      "not able to have image from that link\n"
     ]
    }
   ],
   "source": [
    "obtain_images(classe1, driver)"
   ]
  },
  {
   "cell_type": "code",
   "execution_count": null,
   "metadata": {
    "colab": {
     "base_uri": "https://localhost:8080/",
     "height": 672
    },
    "executionInfo": {
     "elapsed": 150,
     "status": "error",
     "timestamp": 1681178354986,
     "user": {
      "displayName": "Jules Lambert",
      "userId": "16844768996944953840"
     },
     "user_tz": 240
    },
    "id": "wstlcnMQ5Bwd",
    "outputId": "e2ea8d67-9ea4-4c20-d1d1-08df31e70550"
   },
   "outputs": [
    {
     "name": "stderr",
     "output_type": "stream",
     "text": [
      "WARNING:urllib3.connectionpool:Retrying (Retry(total=2, connect=None, read=None, redirect=None, status=None)) after connection broken by 'NewConnectionError('<urllib3.connection.HTTPConnection object at 0x7f0d3017fe50>: Failed to establish a new connection: [Errno 111] Connection refused')': /session/7189b08b888ac2b66a9a5c2e81ee50fe/timeouts\n",
      "WARNING:urllib3.connectionpool:Retrying (Retry(total=1, connect=None, read=None, redirect=None, status=None)) after connection broken by 'NewConnectionError('<urllib3.connection.HTTPConnection object at 0x7f0d30280670>: Failed to establish a new connection: [Errno 111] Connection refused')': /session/7189b08b888ac2b66a9a5c2e81ee50fe/timeouts\n",
      "WARNING:urllib3.connectionpool:Retrying (Retry(total=0, connect=None, read=None, redirect=None, status=None)) after connection broken by 'NewConnectionError('<urllib3.connection.HTTPConnection object at 0x7f0d3017f9d0>: Failed to establish a new connection: [Errno 111] Connection refused')': /session/7189b08b888ac2b66a9a5c2e81ee50fe/timeouts\n"
     ]
    },
    {
     "ename": "MaxRetryError",
     "evalue": "ignored",
     "output_type": "error",
     "traceback": [
      "\u001b[0;31m---------------------------------------------------------------------------\u001b[0m",
      "\u001b[0;31mConnectionRefusedError\u001b[0m                    Traceback (most recent call last)",
      "\u001b[0;32m/usr/local/lib/python3.9/dist-packages/urllib3/connection.py\u001b[0m in \u001b[0;36m_new_conn\u001b[0;34m(self)\u001b[0m\n\u001b[1;32m    173\u001b[0m         \u001b[0;32mtry\u001b[0m\u001b[0;34m:\u001b[0m\u001b[0;34m\u001b[0m\u001b[0;34m\u001b[0m\u001b[0m\n\u001b[0;32m--> 174\u001b[0;31m             conn = connection.create_connection(\n\u001b[0m\u001b[1;32m    175\u001b[0m                 \u001b[0;34m(\u001b[0m\u001b[0mself\u001b[0m\u001b[0;34m.\u001b[0m\u001b[0m_dns_host\u001b[0m\u001b[0;34m,\u001b[0m \u001b[0mself\u001b[0m\u001b[0;34m.\u001b[0m\u001b[0mport\u001b[0m\u001b[0;34m)\u001b[0m\u001b[0;34m,\u001b[0m \u001b[0mself\u001b[0m\u001b[0;34m.\u001b[0m\u001b[0mtimeout\u001b[0m\u001b[0;34m,\u001b[0m \u001b[0;34m**\u001b[0m\u001b[0mextra_kw\u001b[0m\u001b[0;34m\u001b[0m\u001b[0;34m\u001b[0m\u001b[0m\n",
      "\u001b[0;32m/usr/local/lib/python3.9/dist-packages/urllib3/util/connection.py\u001b[0m in \u001b[0;36mcreate_connection\u001b[0;34m(address, timeout, source_address, socket_options)\u001b[0m\n\u001b[1;32m     94\u001b[0m     \u001b[0;32mif\u001b[0m \u001b[0merr\u001b[0m \u001b[0;32mis\u001b[0m \u001b[0;32mnot\u001b[0m \u001b[0;32mNone\u001b[0m\u001b[0;34m:\u001b[0m\u001b[0;34m\u001b[0m\u001b[0;34m\u001b[0m\u001b[0m\n\u001b[0;32m---> 95\u001b[0;31m         \u001b[0;32mraise\u001b[0m \u001b[0merr\u001b[0m\u001b[0;34m\u001b[0m\u001b[0;34m\u001b[0m\u001b[0m\n\u001b[0m\u001b[1;32m     96\u001b[0m \u001b[0;34m\u001b[0m\u001b[0m\n",
      "\u001b[0;32m/usr/local/lib/python3.9/dist-packages/urllib3/util/connection.py\u001b[0m in \u001b[0;36mcreate_connection\u001b[0;34m(address, timeout, source_address, socket_options)\u001b[0m\n\u001b[1;32m     84\u001b[0m                 \u001b[0msock\u001b[0m\u001b[0;34m.\u001b[0m\u001b[0mbind\u001b[0m\u001b[0;34m(\u001b[0m\u001b[0msource_address\u001b[0m\u001b[0;34m)\u001b[0m\u001b[0;34m\u001b[0m\u001b[0;34m\u001b[0m\u001b[0m\n\u001b[0;32m---> 85\u001b[0;31m             \u001b[0msock\u001b[0m\u001b[0;34m.\u001b[0m\u001b[0mconnect\u001b[0m\u001b[0;34m(\u001b[0m\u001b[0msa\u001b[0m\u001b[0;34m)\u001b[0m\u001b[0;34m\u001b[0m\u001b[0;34m\u001b[0m\u001b[0m\n\u001b[0m\u001b[1;32m     86\u001b[0m             \u001b[0;32mreturn\u001b[0m \u001b[0msock\u001b[0m\u001b[0;34m\u001b[0m\u001b[0;34m\u001b[0m\u001b[0m\n",
      "\u001b[0;31mConnectionRefusedError\u001b[0m: [Errno 111] Connection refused",
      "\nDuring handling of the above exception, another exception occurred:\n",
      "\u001b[0;31mNewConnectionError\u001b[0m                        Traceback (most recent call last)",
      "\u001b[0;32m/usr/local/lib/python3.9/dist-packages/urllib3/connectionpool.py\u001b[0m in \u001b[0;36murlopen\u001b[0;34m(self, method, url, body, headers, retries, redirect, assert_same_host, timeout, pool_timeout, release_conn, chunked, body_pos, **response_kw)\u001b[0m\n\u001b[1;32m    702\u001b[0m             \u001b[0;31m# Make the request on the httplib connection object.\u001b[0m\u001b[0;34m\u001b[0m\u001b[0;34m\u001b[0m\u001b[0m\n\u001b[0;32m--> 703\u001b[0;31m             httplib_response = self._make_request(\n\u001b[0m\u001b[1;32m    704\u001b[0m                 \u001b[0mconn\u001b[0m\u001b[0;34m,\u001b[0m\u001b[0;34m\u001b[0m\u001b[0;34m\u001b[0m\u001b[0m\n",
      "\u001b[0;32m/usr/local/lib/python3.9/dist-packages/urllib3/connectionpool.py\u001b[0m in \u001b[0;36m_make_request\u001b[0;34m(self, conn, method, url, timeout, chunked, **httplib_request_kw)\u001b[0m\n\u001b[1;32m    397\u001b[0m             \u001b[0;32melse\u001b[0m\u001b[0;34m:\u001b[0m\u001b[0;34m\u001b[0m\u001b[0;34m\u001b[0m\u001b[0m\n\u001b[0;32m--> 398\u001b[0;31m                 \u001b[0mconn\u001b[0m\u001b[0;34m.\u001b[0m\u001b[0mrequest\u001b[0m\u001b[0;34m(\u001b[0m\u001b[0mmethod\u001b[0m\u001b[0;34m,\u001b[0m \u001b[0murl\u001b[0m\u001b[0;34m,\u001b[0m \u001b[0;34m**\u001b[0m\u001b[0mhttplib_request_kw\u001b[0m\u001b[0;34m)\u001b[0m\u001b[0;34m\u001b[0m\u001b[0;34m\u001b[0m\u001b[0m\n\u001b[0m\u001b[1;32m    399\u001b[0m \u001b[0;34m\u001b[0m\u001b[0m\n",
      "\u001b[0;32m/usr/local/lib/python3.9/dist-packages/urllib3/connection.py\u001b[0m in \u001b[0;36mrequest\u001b[0;34m(self, method, url, body, headers)\u001b[0m\n\u001b[1;32m    243\u001b[0m             \u001b[0mheaders\u001b[0m\u001b[0;34m[\u001b[0m\u001b[0;34m\"User-Agent\"\u001b[0m\u001b[0;34m]\u001b[0m \u001b[0;34m=\u001b[0m \u001b[0m_get_default_user_agent\u001b[0m\u001b[0;34m(\u001b[0m\u001b[0;34m)\u001b[0m\u001b[0;34m\u001b[0m\u001b[0;34m\u001b[0m\u001b[0m\n\u001b[0;32m--> 244\u001b[0;31m         \u001b[0msuper\u001b[0m\u001b[0;34m(\u001b[0m\u001b[0mHTTPConnection\u001b[0m\u001b[0;34m,\u001b[0m \u001b[0mself\u001b[0m\u001b[0;34m)\u001b[0m\u001b[0;34m.\u001b[0m\u001b[0mrequest\u001b[0m\u001b[0;34m(\u001b[0m\u001b[0mmethod\u001b[0m\u001b[0;34m,\u001b[0m \u001b[0murl\u001b[0m\u001b[0;34m,\u001b[0m \u001b[0mbody\u001b[0m\u001b[0;34m=\u001b[0m\u001b[0mbody\u001b[0m\u001b[0;34m,\u001b[0m \u001b[0mheaders\u001b[0m\u001b[0;34m=\u001b[0m\u001b[0mheaders\u001b[0m\u001b[0;34m)\u001b[0m\u001b[0;34m\u001b[0m\u001b[0;34m\u001b[0m\u001b[0m\n\u001b[0m\u001b[1;32m    245\u001b[0m \u001b[0;34m\u001b[0m\u001b[0m\n",
      "\u001b[0;32m/usr/lib/python3.9/http/client.py\u001b[0m in \u001b[0;36mrequest\u001b[0;34m(self, method, url, body, headers, encode_chunked)\u001b[0m\n\u001b[1;32m   1284\u001b[0m         \u001b[0;34m\"\"\"Send a complete request to the server.\"\"\"\u001b[0m\u001b[0;34m\u001b[0m\u001b[0;34m\u001b[0m\u001b[0m\n\u001b[0;32m-> 1285\u001b[0;31m         \u001b[0mself\u001b[0m\u001b[0;34m.\u001b[0m\u001b[0m_send_request\u001b[0m\u001b[0;34m(\u001b[0m\u001b[0mmethod\u001b[0m\u001b[0;34m,\u001b[0m \u001b[0murl\u001b[0m\u001b[0;34m,\u001b[0m \u001b[0mbody\u001b[0m\u001b[0;34m,\u001b[0m \u001b[0mheaders\u001b[0m\u001b[0;34m,\u001b[0m \u001b[0mencode_chunked\u001b[0m\u001b[0;34m)\u001b[0m\u001b[0;34m\u001b[0m\u001b[0;34m\u001b[0m\u001b[0m\n\u001b[0m\u001b[1;32m   1286\u001b[0m \u001b[0;34m\u001b[0m\u001b[0m\n",
      "\u001b[0;32m/usr/lib/python3.9/http/client.py\u001b[0m in \u001b[0;36m_send_request\u001b[0;34m(self, method, url, body, headers, encode_chunked)\u001b[0m\n\u001b[1;32m   1330\u001b[0m             \u001b[0mbody\u001b[0m \u001b[0;34m=\u001b[0m \u001b[0m_encode\u001b[0m\u001b[0;34m(\u001b[0m\u001b[0mbody\u001b[0m\u001b[0;34m,\u001b[0m \u001b[0;34m'body'\u001b[0m\u001b[0;34m)\u001b[0m\u001b[0;34m\u001b[0m\u001b[0;34m\u001b[0m\u001b[0m\n\u001b[0;32m-> 1331\u001b[0;31m         \u001b[0mself\u001b[0m\u001b[0;34m.\u001b[0m\u001b[0mendheaders\u001b[0m\u001b[0;34m(\u001b[0m\u001b[0mbody\u001b[0m\u001b[0;34m,\u001b[0m \u001b[0mencode_chunked\u001b[0m\u001b[0;34m=\u001b[0m\u001b[0mencode_chunked\u001b[0m\u001b[0;34m)\u001b[0m\u001b[0;34m\u001b[0m\u001b[0;34m\u001b[0m\u001b[0m\n\u001b[0m\u001b[1;32m   1332\u001b[0m \u001b[0;34m\u001b[0m\u001b[0m\n",
      "\u001b[0;32m/usr/lib/python3.9/http/client.py\u001b[0m in \u001b[0;36mendheaders\u001b[0;34m(self, message_body, encode_chunked)\u001b[0m\n\u001b[1;32m   1279\u001b[0m             \u001b[0;32mraise\u001b[0m \u001b[0mCannotSendHeader\u001b[0m\u001b[0;34m(\u001b[0m\u001b[0;34m)\u001b[0m\u001b[0;34m\u001b[0m\u001b[0;34m\u001b[0m\u001b[0m\n\u001b[0;32m-> 1280\u001b[0;31m         \u001b[0mself\u001b[0m\u001b[0;34m.\u001b[0m\u001b[0m_send_output\u001b[0m\u001b[0;34m(\u001b[0m\u001b[0mmessage_body\u001b[0m\u001b[0;34m,\u001b[0m \u001b[0mencode_chunked\u001b[0m\u001b[0;34m=\u001b[0m\u001b[0mencode_chunked\u001b[0m\u001b[0;34m)\u001b[0m\u001b[0;34m\u001b[0m\u001b[0;34m\u001b[0m\u001b[0m\n\u001b[0m\u001b[1;32m   1281\u001b[0m \u001b[0;34m\u001b[0m\u001b[0m\n",
      "\u001b[0;32m/usr/lib/python3.9/http/client.py\u001b[0m in \u001b[0;36m_send_output\u001b[0;34m(self, message_body, encode_chunked)\u001b[0m\n\u001b[1;32m   1039\u001b[0m         \u001b[0;32mdel\u001b[0m \u001b[0mself\u001b[0m\u001b[0;34m.\u001b[0m\u001b[0m_buffer\u001b[0m\u001b[0;34m[\u001b[0m\u001b[0;34m:\u001b[0m\u001b[0;34m]\u001b[0m\u001b[0;34m\u001b[0m\u001b[0;34m\u001b[0m\u001b[0m\n\u001b[0;32m-> 1040\u001b[0;31m         \u001b[0mself\u001b[0m\u001b[0;34m.\u001b[0m\u001b[0msend\u001b[0m\u001b[0;34m(\u001b[0m\u001b[0mmsg\u001b[0m\u001b[0;34m)\u001b[0m\u001b[0;34m\u001b[0m\u001b[0;34m\u001b[0m\u001b[0m\n\u001b[0m\u001b[1;32m   1041\u001b[0m \u001b[0;34m\u001b[0m\u001b[0m\n",
      "\u001b[0;32m/usr/lib/python3.9/http/client.py\u001b[0m in \u001b[0;36msend\u001b[0;34m(self, data)\u001b[0m\n\u001b[1;32m    979\u001b[0m             \u001b[0;32mif\u001b[0m \u001b[0mself\u001b[0m\u001b[0;34m.\u001b[0m\u001b[0mauto_open\u001b[0m\u001b[0;34m:\u001b[0m\u001b[0;34m\u001b[0m\u001b[0;34m\u001b[0m\u001b[0m\n\u001b[0;32m--> 980\u001b[0;31m                 \u001b[0mself\u001b[0m\u001b[0;34m.\u001b[0m\u001b[0mconnect\u001b[0m\u001b[0;34m(\u001b[0m\u001b[0;34m)\u001b[0m\u001b[0;34m\u001b[0m\u001b[0;34m\u001b[0m\u001b[0m\n\u001b[0m\u001b[1;32m    981\u001b[0m             \u001b[0;32melse\u001b[0m\u001b[0;34m:\u001b[0m\u001b[0;34m\u001b[0m\u001b[0;34m\u001b[0m\u001b[0m\n",
      "\u001b[0;32m/usr/local/lib/python3.9/dist-packages/urllib3/connection.py\u001b[0m in \u001b[0;36mconnect\u001b[0;34m(self)\u001b[0m\n\u001b[1;32m    204\u001b[0m     \u001b[0;32mdef\u001b[0m \u001b[0mconnect\u001b[0m\u001b[0;34m(\u001b[0m\u001b[0mself\u001b[0m\u001b[0;34m)\u001b[0m\u001b[0;34m:\u001b[0m\u001b[0;34m\u001b[0m\u001b[0;34m\u001b[0m\u001b[0m\n\u001b[0;32m--> 205\u001b[0;31m         \u001b[0mconn\u001b[0m \u001b[0;34m=\u001b[0m \u001b[0mself\u001b[0m\u001b[0;34m.\u001b[0m\u001b[0m_new_conn\u001b[0m\u001b[0;34m(\u001b[0m\u001b[0;34m)\u001b[0m\u001b[0;34m\u001b[0m\u001b[0;34m\u001b[0m\u001b[0m\n\u001b[0m\u001b[1;32m    206\u001b[0m         \u001b[0mself\u001b[0m\u001b[0;34m.\u001b[0m\u001b[0m_prepare_conn\u001b[0m\u001b[0;34m(\u001b[0m\u001b[0mconn\u001b[0m\u001b[0;34m)\u001b[0m\u001b[0;34m\u001b[0m\u001b[0;34m\u001b[0m\u001b[0m\n",
      "\u001b[0;32m/usr/local/lib/python3.9/dist-packages/urllib3/connection.py\u001b[0m in \u001b[0;36m_new_conn\u001b[0;34m(self)\u001b[0m\n\u001b[1;32m    185\u001b[0m         \u001b[0;32mexcept\u001b[0m \u001b[0mSocketError\u001b[0m \u001b[0;32mas\u001b[0m \u001b[0me\u001b[0m\u001b[0;34m:\u001b[0m\u001b[0;34m\u001b[0m\u001b[0;34m\u001b[0m\u001b[0m\n\u001b[0;32m--> 186\u001b[0;31m             raise NewConnectionError(\n\u001b[0m\u001b[1;32m    187\u001b[0m                 \u001b[0mself\u001b[0m\u001b[0;34m,\u001b[0m \u001b[0;34m\"Failed to establish a new connection: %s\"\u001b[0m \u001b[0;34m%\u001b[0m \u001b[0me\u001b[0m\u001b[0;34m\u001b[0m\u001b[0;34m\u001b[0m\u001b[0m\n",
      "\u001b[0;31mNewConnectionError\u001b[0m: <urllib3.connection.HTTPConnection object at 0x7f0d3017f640>: Failed to establish a new connection: [Errno 111] Connection refused",
      "\nDuring handling of the above exception, another exception occurred:\n",
      "\u001b[0;31mMaxRetryError\u001b[0m                             Traceback (most recent call last)",
      "\u001b[0;32m<ipython-input-36-bbf33b5e732c>\u001b[0m in \u001b[0;36m<cell line: 1>\u001b[0;34m()\u001b[0m\n\u001b[0;32m----> 1\u001b[0;31m \u001b[0mobtain_images\u001b[0m\u001b[0;34m(\u001b[0m\u001b[0mclasse2\u001b[0m\u001b[0;34m,\u001b[0m \u001b[0mdriver\u001b[0m\u001b[0;34m)\u001b[0m\u001b[0;34m\u001b[0m\u001b[0;34m\u001b[0m\u001b[0m\n\u001b[0m",
      "\u001b[0;32m<ipython-input-30-709a8f9224e1>\u001b[0m in \u001b[0;36mobtain_images\u001b[0;34m(search_term, driver)\u001b[0m\n\u001b[1;32m      1\u001b[0m \u001b[0;32mdef\u001b[0m \u001b[0mobtain_images\u001b[0m\u001b[0;34m(\u001b[0m\u001b[0msearch_term\u001b[0m\u001b[0;34m:\u001b[0m\u001b[0mstr\u001b[0m\u001b[0;34m,\u001b[0m \u001b[0mdriver\u001b[0m\u001b[0;34m)\u001b[0m\u001b[0;34m:\u001b[0m\u001b[0;34m\u001b[0m\u001b[0;34m\u001b[0m\u001b[0m\n\u001b[0;32m----> 2\u001b[0;31m   \u001b[0msite_urls\u001b[0m \u001b[0;34m=\u001b[0m \u001b[0mget_site_link\u001b[0m\u001b[0;34m(\u001b[0m\u001b[0msearch_term\u001b[0m\u001b[0;34m,\u001b[0m \u001b[0mdriver\u001b[0m\u001b[0;34m)\u001b[0m\u001b[0;34m\u001b[0m\u001b[0;34m\u001b[0m\u001b[0m\n\u001b[0m\u001b[1;32m      3\u001b[0m   \u001b[0mos\u001b[0m\u001b[0;34m.\u001b[0m\u001b[0mmakedirs\u001b[0m\u001b[0;34m(\u001b[0m\u001b[0;34mf'raw_data/{search_term}'\u001b[0m\u001b[0;34m,\u001b[0m \u001b[0mexist_ok\u001b[0m \u001b[0;34m=\u001b[0m \u001b[0;32mTrue\u001b[0m\u001b[0;34m)\u001b[0m\u001b[0;34m\u001b[0m\u001b[0;34m\u001b[0m\u001b[0m\n\u001b[1;32m      4\u001b[0m   \u001b[0;32mfor\u001b[0m \u001b[0msite_url\u001b[0m \u001b[0;32min\u001b[0m \u001b[0msite_urls\u001b[0m\u001b[0;34m:\u001b[0m\u001b[0;34m\u001b[0m\u001b[0;34m\u001b[0m\u001b[0m\n\u001b[1;32m      5\u001b[0m     \u001b[0;32mtry\u001b[0m\u001b[0;34m:\u001b[0m\u001b[0;34m\u001b[0m\u001b[0;34m\u001b[0m\u001b[0m\n",
      "\u001b[0;32m<ipython-input-27-6e275fe227b4>\u001b[0m in \u001b[0;36mget_site_link\u001b[0;34m(search_term, driver)\u001b[0m\n\u001b[1;32m      1\u001b[0m \u001b[0;32mdef\u001b[0m \u001b[0mget_site_link\u001b[0m\u001b[0;34m(\u001b[0m\u001b[0msearch_term\u001b[0m\u001b[0;34m:\u001b[0m\u001b[0mstr\u001b[0m\u001b[0;34m,\u001b[0m \u001b[0mdriver\u001b[0m\u001b[0;34m)\u001b[0m\u001b[0;34m:\u001b[0m\u001b[0;34m\u001b[0m\u001b[0;34m\u001b[0m\u001b[0m\n\u001b[1;32m      2\u001b[0m   \u001b[0;32mtry\u001b[0m\u001b[0;34m:\u001b[0m\u001b[0;34m\u001b[0m\u001b[0;34m\u001b[0m\u001b[0m\n\u001b[0;32m----> 3\u001b[0;31m     \u001b[0mdriver\u001b[0m\u001b[0;34m.\u001b[0m\u001b[0mset_page_load_timeout\u001b[0m\u001b[0;34m(\u001b[0m\u001b[0;36m10\u001b[0m\u001b[0;34m)\u001b[0m\u001b[0;34m\u001b[0m\u001b[0;34m\u001b[0m\u001b[0m\n\u001b[0m\u001b[1;32m      4\u001b[0m     \u001b[0mdriver\u001b[0m\u001b[0;34m.\u001b[0m\u001b[0mget\u001b[0m\u001b[0;34m(\u001b[0m\u001b[0;34mf\"https://www.google.com/search?q={search_term}&tbm=isch\"\u001b[0m\u001b[0;34m)\u001b[0m\u001b[0;34m\u001b[0m\u001b[0;34m\u001b[0m\u001b[0m\n\u001b[1;32m      5\u001b[0m   \u001b[0;32mexcept\u001b[0m \u001b[0mTimeoutException\u001b[0m\u001b[0;34m:\u001b[0m\u001b[0;34m\u001b[0m\u001b[0;34m\u001b[0m\u001b[0m\n",
      "\u001b[0;32m/usr/local/lib/python3.9/dist-packages/selenium/webdriver/remote/webdriver.py\u001b[0m in \u001b[0;36mset_page_load_timeout\u001b[0;34m(self, time_to_wait)\u001b[0m\n\u001b[1;32m    771\u001b[0m         \"\"\"\n\u001b[1;32m    772\u001b[0m         \u001b[0;32mtry\u001b[0m\u001b[0;34m:\u001b[0m\u001b[0;34m\u001b[0m\u001b[0;34m\u001b[0m\u001b[0m\n\u001b[0;32m--> 773\u001b[0;31m             \u001b[0mself\u001b[0m\u001b[0;34m.\u001b[0m\u001b[0mexecute\u001b[0m\u001b[0;34m(\u001b[0m\u001b[0mCommand\u001b[0m\u001b[0;34m.\u001b[0m\u001b[0mSET_TIMEOUTS\u001b[0m\u001b[0;34m,\u001b[0m \u001b[0;34m{\u001b[0m\u001b[0;34m\"pageLoad\"\u001b[0m\u001b[0;34m:\u001b[0m \u001b[0mint\u001b[0m\u001b[0;34m(\u001b[0m\u001b[0mfloat\u001b[0m\u001b[0;34m(\u001b[0m\u001b[0mtime_to_wait\u001b[0m\u001b[0;34m)\u001b[0m \u001b[0;34m*\u001b[0m \u001b[0;36m1000\u001b[0m\u001b[0;34m)\u001b[0m\u001b[0;34m}\u001b[0m\u001b[0;34m)\u001b[0m\u001b[0;34m\u001b[0m\u001b[0;34m\u001b[0m\u001b[0m\n\u001b[0m\u001b[1;32m    774\u001b[0m         \u001b[0;32mexcept\u001b[0m \u001b[0mWebDriverException\u001b[0m\u001b[0;34m:\u001b[0m\u001b[0;34m\u001b[0m\u001b[0;34m\u001b[0m\u001b[0m\n\u001b[1;32m    775\u001b[0m             \u001b[0mself\u001b[0m\u001b[0;34m.\u001b[0m\u001b[0mexecute\u001b[0m\u001b[0;34m(\u001b[0m\u001b[0mCommand\u001b[0m\u001b[0;34m.\u001b[0m\u001b[0mSET_TIMEOUTS\u001b[0m\u001b[0;34m,\u001b[0m \u001b[0;34m{\u001b[0m\u001b[0;34m\"ms\"\u001b[0m\u001b[0;34m:\u001b[0m \u001b[0mfloat\u001b[0m\u001b[0;34m(\u001b[0m\u001b[0mtime_to_wait\u001b[0m\u001b[0;34m)\u001b[0m \u001b[0;34m*\u001b[0m \u001b[0;36m1000\u001b[0m\u001b[0;34m,\u001b[0m \u001b[0;34m\"type\"\u001b[0m\u001b[0;34m:\u001b[0m \u001b[0;34m\"page load\"\u001b[0m\u001b[0;34m}\u001b[0m\u001b[0;34m)\u001b[0m\u001b[0;34m\u001b[0m\u001b[0;34m\u001b[0m\u001b[0m\n",
      "\u001b[0;32m/usr/local/lib/python3.9/dist-packages/selenium/webdriver/remote/webdriver.py\u001b[0m in \u001b[0;36mexecute\u001b[0;34m(self, driver_command, params)\u001b[0m\n\u001b[1;32m    436\u001b[0m                 \u001b[0mparams\u001b[0m\u001b[0;34m[\u001b[0m\u001b[0;34m\"sessionId\"\u001b[0m\u001b[0;34m]\u001b[0m \u001b[0;34m=\u001b[0m \u001b[0mself\u001b[0m\u001b[0;34m.\u001b[0m\u001b[0msession_id\u001b[0m\u001b[0;34m\u001b[0m\u001b[0;34m\u001b[0m\u001b[0m\n\u001b[1;32m    437\u001b[0m \u001b[0;34m\u001b[0m\u001b[0m\n\u001b[0;32m--> 438\u001b[0;31m         \u001b[0mresponse\u001b[0m \u001b[0;34m=\u001b[0m \u001b[0mself\u001b[0m\u001b[0;34m.\u001b[0m\u001b[0mcommand_executor\u001b[0m\u001b[0;34m.\u001b[0m\u001b[0mexecute\u001b[0m\u001b[0;34m(\u001b[0m\u001b[0mdriver_command\u001b[0m\u001b[0;34m,\u001b[0m \u001b[0mparams\u001b[0m\u001b[0;34m)\u001b[0m\u001b[0;34m\u001b[0m\u001b[0;34m\u001b[0m\u001b[0m\n\u001b[0m\u001b[1;32m    439\u001b[0m         \u001b[0;32mif\u001b[0m \u001b[0mresponse\u001b[0m\u001b[0;34m:\u001b[0m\u001b[0;34m\u001b[0m\u001b[0;34m\u001b[0m\u001b[0m\n\u001b[1;32m    440\u001b[0m             \u001b[0mself\u001b[0m\u001b[0;34m.\u001b[0m\u001b[0merror_handler\u001b[0m\u001b[0;34m.\u001b[0m\u001b[0mcheck_response\u001b[0m\u001b[0;34m(\u001b[0m\u001b[0mresponse\u001b[0m\u001b[0;34m)\u001b[0m\u001b[0;34m\u001b[0m\u001b[0;34m\u001b[0m\u001b[0m\n",
      "\u001b[0;32m/usr/local/lib/python3.9/dist-packages/selenium/webdriver/remote/remote_connection.py\u001b[0m in \u001b[0;36mexecute\u001b[0;34m(self, command, params)\u001b[0m\n\u001b[1;32m    288\u001b[0m         \u001b[0mdata\u001b[0m \u001b[0;34m=\u001b[0m \u001b[0mutils\u001b[0m\u001b[0;34m.\u001b[0m\u001b[0mdump_json\u001b[0m\u001b[0;34m(\u001b[0m\u001b[0mparams\u001b[0m\u001b[0;34m)\u001b[0m\u001b[0;34m\u001b[0m\u001b[0;34m\u001b[0m\u001b[0m\n\u001b[1;32m    289\u001b[0m         \u001b[0murl\u001b[0m \u001b[0;34m=\u001b[0m \u001b[0;34mf\"{self._url}{path}\"\u001b[0m\u001b[0;34m\u001b[0m\u001b[0;34m\u001b[0m\u001b[0m\n\u001b[0;32m--> 290\u001b[0;31m         \u001b[0;32mreturn\u001b[0m \u001b[0mself\u001b[0m\u001b[0;34m.\u001b[0m\u001b[0m_request\u001b[0m\u001b[0;34m(\u001b[0m\u001b[0mcommand_info\u001b[0m\u001b[0;34m[\u001b[0m\u001b[0;36m0\u001b[0m\u001b[0;34m]\u001b[0m\u001b[0;34m,\u001b[0m \u001b[0murl\u001b[0m\u001b[0;34m,\u001b[0m \u001b[0mbody\u001b[0m\u001b[0;34m=\u001b[0m\u001b[0mdata\u001b[0m\u001b[0;34m)\u001b[0m\u001b[0;34m\u001b[0m\u001b[0;34m\u001b[0m\u001b[0m\n\u001b[0m\u001b[1;32m    291\u001b[0m \u001b[0;34m\u001b[0m\u001b[0m\n\u001b[1;32m    292\u001b[0m     \u001b[0;32mdef\u001b[0m \u001b[0m_request\u001b[0m\u001b[0;34m(\u001b[0m\u001b[0mself\u001b[0m\u001b[0;34m,\u001b[0m \u001b[0mmethod\u001b[0m\u001b[0;34m,\u001b[0m \u001b[0murl\u001b[0m\u001b[0;34m,\u001b[0m \u001b[0mbody\u001b[0m\u001b[0;34m=\u001b[0m\u001b[0;32mNone\u001b[0m\u001b[0;34m)\u001b[0m\u001b[0;34m:\u001b[0m\u001b[0;34m\u001b[0m\u001b[0;34m\u001b[0m\u001b[0m\n",
      "\u001b[0;32m/usr/local/lib/python3.9/dist-packages/selenium/webdriver/remote/remote_connection.py\u001b[0m in \u001b[0;36m_request\u001b[0;34m(self, method, url, body)\u001b[0m\n\u001b[1;32m    309\u001b[0m \u001b[0;34m\u001b[0m\u001b[0m\n\u001b[1;32m    310\u001b[0m         \u001b[0;32mif\u001b[0m \u001b[0mself\u001b[0m\u001b[0;34m.\u001b[0m\u001b[0mkeep_alive\u001b[0m\u001b[0;34m:\u001b[0m\u001b[0;34m\u001b[0m\u001b[0;34m\u001b[0m\u001b[0m\n\u001b[0;32m--> 311\u001b[0;31m             \u001b[0mresponse\u001b[0m \u001b[0;34m=\u001b[0m \u001b[0mself\u001b[0m\u001b[0;34m.\u001b[0m\u001b[0m_conn\u001b[0m\u001b[0;34m.\u001b[0m\u001b[0mrequest\u001b[0m\u001b[0;34m(\u001b[0m\u001b[0mmethod\u001b[0m\u001b[0;34m,\u001b[0m \u001b[0murl\u001b[0m\u001b[0;34m,\u001b[0m \u001b[0mbody\u001b[0m\u001b[0;34m=\u001b[0m\u001b[0mbody\u001b[0m\u001b[0;34m,\u001b[0m \u001b[0mheaders\u001b[0m\u001b[0;34m=\u001b[0m\u001b[0mheaders\u001b[0m\u001b[0;34m)\u001b[0m\u001b[0;34m\u001b[0m\u001b[0;34m\u001b[0m\u001b[0m\n\u001b[0m\u001b[1;32m    312\u001b[0m             \u001b[0mstatuscode\u001b[0m \u001b[0;34m=\u001b[0m \u001b[0mresponse\u001b[0m\u001b[0;34m.\u001b[0m\u001b[0mstatus\u001b[0m\u001b[0;34m\u001b[0m\u001b[0;34m\u001b[0m\u001b[0m\n\u001b[1;32m    313\u001b[0m         \u001b[0;32melse\u001b[0m\u001b[0;34m:\u001b[0m\u001b[0;34m\u001b[0m\u001b[0;34m\u001b[0m\u001b[0m\n",
      "\u001b[0;32m/usr/local/lib/python3.9/dist-packages/urllib3/request.py\u001b[0m in \u001b[0;36mrequest\u001b[0;34m(self, method, url, fields, headers, **urlopen_kw)\u001b[0m\n\u001b[1;32m     76\u001b[0m             )\n\u001b[1;32m     77\u001b[0m         \u001b[0;32melse\u001b[0m\u001b[0;34m:\u001b[0m\u001b[0;34m\u001b[0m\u001b[0;34m\u001b[0m\u001b[0m\n\u001b[0;32m---> 78\u001b[0;31m             return self.request_encode_body(\n\u001b[0m\u001b[1;32m     79\u001b[0m                 \u001b[0mmethod\u001b[0m\u001b[0;34m,\u001b[0m \u001b[0murl\u001b[0m\u001b[0;34m,\u001b[0m \u001b[0mfields\u001b[0m\u001b[0;34m=\u001b[0m\u001b[0mfields\u001b[0m\u001b[0;34m,\u001b[0m \u001b[0mheaders\u001b[0m\u001b[0;34m=\u001b[0m\u001b[0mheaders\u001b[0m\u001b[0;34m,\u001b[0m \u001b[0;34m**\u001b[0m\u001b[0murlopen_kw\u001b[0m\u001b[0;34m\u001b[0m\u001b[0;34m\u001b[0m\u001b[0m\n\u001b[1;32m     80\u001b[0m             )\n",
      "\u001b[0;32m/usr/local/lib/python3.9/dist-packages/urllib3/request.py\u001b[0m in \u001b[0;36mrequest_encode_body\u001b[0;34m(self, method, url, fields, headers, encode_multipart, multipart_boundary, **urlopen_kw)\u001b[0m\n\u001b[1;32m    168\u001b[0m         \u001b[0mextra_kw\u001b[0m\u001b[0;34m.\u001b[0m\u001b[0mupdate\u001b[0m\u001b[0;34m(\u001b[0m\u001b[0murlopen_kw\u001b[0m\u001b[0;34m)\u001b[0m\u001b[0;34m\u001b[0m\u001b[0;34m\u001b[0m\u001b[0m\n\u001b[1;32m    169\u001b[0m \u001b[0;34m\u001b[0m\u001b[0m\n\u001b[0;32m--> 170\u001b[0;31m         \u001b[0;32mreturn\u001b[0m \u001b[0mself\u001b[0m\u001b[0;34m.\u001b[0m\u001b[0murlopen\u001b[0m\u001b[0;34m(\u001b[0m\u001b[0mmethod\u001b[0m\u001b[0;34m,\u001b[0m \u001b[0murl\u001b[0m\u001b[0;34m,\u001b[0m \u001b[0;34m**\u001b[0m\u001b[0mextra_kw\u001b[0m\u001b[0;34m)\u001b[0m\u001b[0;34m\u001b[0m\u001b[0;34m\u001b[0m\u001b[0m\n\u001b[0m",
      "\u001b[0;32m/usr/local/lib/python3.9/dist-packages/urllib3/poolmanager.py\u001b[0m in \u001b[0;36murlopen\u001b[0;34m(self, method, url, redirect, **kw)\u001b[0m\n\u001b[1;32m    374\u001b[0m             \u001b[0mresponse\u001b[0m \u001b[0;34m=\u001b[0m \u001b[0mconn\u001b[0m\u001b[0;34m.\u001b[0m\u001b[0murlopen\u001b[0m\u001b[0;34m(\u001b[0m\u001b[0mmethod\u001b[0m\u001b[0;34m,\u001b[0m \u001b[0murl\u001b[0m\u001b[0;34m,\u001b[0m \u001b[0;34m**\u001b[0m\u001b[0mkw\u001b[0m\u001b[0;34m)\u001b[0m\u001b[0;34m\u001b[0m\u001b[0;34m\u001b[0m\u001b[0m\n\u001b[1;32m    375\u001b[0m         \u001b[0;32melse\u001b[0m\u001b[0;34m:\u001b[0m\u001b[0;34m\u001b[0m\u001b[0;34m\u001b[0m\u001b[0m\n\u001b[0;32m--> 376\u001b[0;31m             \u001b[0mresponse\u001b[0m \u001b[0;34m=\u001b[0m \u001b[0mconn\u001b[0m\u001b[0;34m.\u001b[0m\u001b[0murlopen\u001b[0m\u001b[0;34m(\u001b[0m\u001b[0mmethod\u001b[0m\u001b[0;34m,\u001b[0m \u001b[0mu\u001b[0m\u001b[0;34m.\u001b[0m\u001b[0mrequest_uri\u001b[0m\u001b[0;34m,\u001b[0m \u001b[0;34m**\u001b[0m\u001b[0mkw\u001b[0m\u001b[0;34m)\u001b[0m\u001b[0;34m\u001b[0m\u001b[0;34m\u001b[0m\u001b[0m\n\u001b[0m\u001b[1;32m    377\u001b[0m \u001b[0;34m\u001b[0m\u001b[0m\n\u001b[1;32m    378\u001b[0m         \u001b[0mredirect_location\u001b[0m \u001b[0;34m=\u001b[0m \u001b[0mredirect\u001b[0m \u001b[0;32mand\u001b[0m \u001b[0mresponse\u001b[0m\u001b[0;34m.\u001b[0m\u001b[0mget_redirect_location\u001b[0m\u001b[0;34m(\u001b[0m\u001b[0;34m)\u001b[0m\u001b[0;34m\u001b[0m\u001b[0;34m\u001b[0m\u001b[0m\n",
      "\u001b[0;32m/usr/local/lib/python3.9/dist-packages/urllib3/connectionpool.py\u001b[0m in \u001b[0;36murlopen\u001b[0;34m(self, method, url, body, headers, retries, redirect, assert_same_host, timeout, pool_timeout, release_conn, chunked, body_pos, **response_kw)\u001b[0m\n\u001b[1;32m    813\u001b[0m                 \u001b[0;34m\"Retrying (%r) after connection broken by '%r': %s\"\u001b[0m\u001b[0;34m,\u001b[0m \u001b[0mretries\u001b[0m\u001b[0;34m,\u001b[0m \u001b[0merr\u001b[0m\u001b[0;34m,\u001b[0m \u001b[0murl\u001b[0m\u001b[0;34m\u001b[0m\u001b[0;34m\u001b[0m\u001b[0m\n\u001b[1;32m    814\u001b[0m             )\n\u001b[0;32m--> 815\u001b[0;31m             return self.urlopen(\n\u001b[0m\u001b[1;32m    816\u001b[0m                 \u001b[0mmethod\u001b[0m\u001b[0;34m,\u001b[0m\u001b[0;34m\u001b[0m\u001b[0;34m\u001b[0m\u001b[0m\n\u001b[1;32m    817\u001b[0m                 \u001b[0murl\u001b[0m\u001b[0;34m,\u001b[0m\u001b[0;34m\u001b[0m\u001b[0;34m\u001b[0m\u001b[0m\n",
      "\u001b[0;32m/usr/local/lib/python3.9/dist-packages/urllib3/connectionpool.py\u001b[0m in \u001b[0;36murlopen\u001b[0;34m(self, method, url, body, headers, retries, redirect, assert_same_host, timeout, pool_timeout, release_conn, chunked, body_pos, **response_kw)\u001b[0m\n\u001b[1;32m    813\u001b[0m                 \u001b[0;34m\"Retrying (%r) after connection broken by '%r': %s\"\u001b[0m\u001b[0;34m,\u001b[0m \u001b[0mretries\u001b[0m\u001b[0;34m,\u001b[0m \u001b[0merr\u001b[0m\u001b[0;34m,\u001b[0m \u001b[0murl\u001b[0m\u001b[0;34m\u001b[0m\u001b[0;34m\u001b[0m\u001b[0m\n\u001b[1;32m    814\u001b[0m             )\n\u001b[0;32m--> 815\u001b[0;31m             return self.urlopen(\n\u001b[0m\u001b[1;32m    816\u001b[0m                 \u001b[0mmethod\u001b[0m\u001b[0;34m,\u001b[0m\u001b[0;34m\u001b[0m\u001b[0;34m\u001b[0m\u001b[0m\n\u001b[1;32m    817\u001b[0m                 \u001b[0murl\u001b[0m\u001b[0;34m,\u001b[0m\u001b[0;34m\u001b[0m\u001b[0;34m\u001b[0m\u001b[0m\n",
      "\u001b[0;32m/usr/local/lib/python3.9/dist-packages/urllib3/connectionpool.py\u001b[0m in \u001b[0;36murlopen\u001b[0;34m(self, method, url, body, headers, retries, redirect, assert_same_host, timeout, pool_timeout, release_conn, chunked, body_pos, **response_kw)\u001b[0m\n\u001b[1;32m    813\u001b[0m                 \u001b[0;34m\"Retrying (%r) after connection broken by '%r': %s\"\u001b[0m\u001b[0;34m,\u001b[0m \u001b[0mretries\u001b[0m\u001b[0;34m,\u001b[0m \u001b[0merr\u001b[0m\u001b[0;34m,\u001b[0m \u001b[0murl\u001b[0m\u001b[0;34m\u001b[0m\u001b[0;34m\u001b[0m\u001b[0m\n\u001b[1;32m    814\u001b[0m             )\n\u001b[0;32m--> 815\u001b[0;31m             return self.urlopen(\n\u001b[0m\u001b[1;32m    816\u001b[0m                 \u001b[0mmethod\u001b[0m\u001b[0;34m,\u001b[0m\u001b[0;34m\u001b[0m\u001b[0;34m\u001b[0m\u001b[0m\n\u001b[1;32m    817\u001b[0m                 \u001b[0murl\u001b[0m\u001b[0;34m,\u001b[0m\u001b[0;34m\u001b[0m\u001b[0;34m\u001b[0m\u001b[0m\n",
      "\u001b[0;32m/usr/local/lib/python3.9/dist-packages/urllib3/connectionpool.py\u001b[0m in \u001b[0;36murlopen\u001b[0;34m(self, method, url, body, headers, retries, redirect, assert_same_host, timeout, pool_timeout, release_conn, chunked, body_pos, **response_kw)\u001b[0m\n\u001b[1;32m    785\u001b[0m                 \u001b[0me\u001b[0m \u001b[0;34m=\u001b[0m \u001b[0mProtocolError\u001b[0m\u001b[0;34m(\u001b[0m\u001b[0;34m\"Connection aborted.\"\u001b[0m\u001b[0;34m,\u001b[0m \u001b[0me\u001b[0m\u001b[0;34m)\u001b[0m\u001b[0;34m\u001b[0m\u001b[0;34m\u001b[0m\u001b[0m\n\u001b[1;32m    786\u001b[0m \u001b[0;34m\u001b[0m\u001b[0m\n\u001b[0;32m--> 787\u001b[0;31m             retries = retries.increment(\n\u001b[0m\u001b[1;32m    788\u001b[0m                 \u001b[0mmethod\u001b[0m\u001b[0;34m,\u001b[0m \u001b[0murl\u001b[0m\u001b[0;34m,\u001b[0m \u001b[0merror\u001b[0m\u001b[0;34m=\u001b[0m\u001b[0me\u001b[0m\u001b[0;34m,\u001b[0m \u001b[0m_pool\u001b[0m\u001b[0;34m=\u001b[0m\u001b[0mself\u001b[0m\u001b[0;34m,\u001b[0m \u001b[0m_stacktrace\u001b[0m\u001b[0;34m=\u001b[0m\u001b[0msys\u001b[0m\u001b[0;34m.\u001b[0m\u001b[0mexc_info\u001b[0m\u001b[0;34m(\u001b[0m\u001b[0;34m)\u001b[0m\u001b[0;34m[\u001b[0m\u001b[0;36m2\u001b[0m\u001b[0;34m]\u001b[0m\u001b[0;34m\u001b[0m\u001b[0;34m\u001b[0m\u001b[0m\n\u001b[1;32m    789\u001b[0m             )\n",
      "\u001b[0;32m/usr/local/lib/python3.9/dist-packages/urllib3/util/retry.py\u001b[0m in \u001b[0;36mincrement\u001b[0;34m(self, method, url, response, error, _pool, _stacktrace)\u001b[0m\n\u001b[1;32m    590\u001b[0m \u001b[0;34m\u001b[0m\u001b[0m\n\u001b[1;32m    591\u001b[0m         \u001b[0;32mif\u001b[0m \u001b[0mnew_retry\u001b[0m\u001b[0;34m.\u001b[0m\u001b[0mis_exhausted\u001b[0m\u001b[0;34m(\u001b[0m\u001b[0;34m)\u001b[0m\u001b[0;34m:\u001b[0m\u001b[0;34m\u001b[0m\u001b[0;34m\u001b[0m\u001b[0m\n\u001b[0;32m--> 592\u001b[0;31m             \u001b[0;32mraise\u001b[0m \u001b[0mMaxRetryError\u001b[0m\u001b[0;34m(\u001b[0m\u001b[0m_pool\u001b[0m\u001b[0;34m,\u001b[0m \u001b[0murl\u001b[0m\u001b[0;34m,\u001b[0m \u001b[0merror\u001b[0m \u001b[0;32mor\u001b[0m \u001b[0mResponseError\u001b[0m\u001b[0;34m(\u001b[0m\u001b[0mcause\u001b[0m\u001b[0;34m)\u001b[0m\u001b[0;34m)\u001b[0m\u001b[0;34m\u001b[0m\u001b[0;34m\u001b[0m\u001b[0m\n\u001b[0m\u001b[1;32m    593\u001b[0m \u001b[0;34m\u001b[0m\u001b[0m\n\u001b[1;32m    594\u001b[0m         \u001b[0mlog\u001b[0m\u001b[0;34m.\u001b[0m\u001b[0mdebug\u001b[0m\u001b[0;34m(\u001b[0m\u001b[0;34m\"Incremented Retry for (url='%s'): %r\"\u001b[0m\u001b[0;34m,\u001b[0m \u001b[0murl\u001b[0m\u001b[0;34m,\u001b[0m \u001b[0mnew_retry\u001b[0m\u001b[0;34m)\u001b[0m\u001b[0;34m\u001b[0m\u001b[0;34m\u001b[0m\u001b[0m\n",
      "\u001b[0;31mMaxRetryError\u001b[0m: HTTPConnectionPool(host='localhost', port=50465): Max retries exceeded with url: /session/7189b08b888ac2b66a9a5c2e81ee50fe/timeouts (Caused by NewConnectionError('<urllib3.connection.HTTPConnection object at 0x7f0d3017f640>: Failed to establish a new connection: [Errno 111] Connection refused'))"
     ]
    }
   ],
   "source": [
    "obtain_images(classe2, driver)"
   ]
  },
  {
   "cell_type": "markdown",
   "metadata": {
    "id": "yei7nXaTcFEh"
   },
   "source": [
    "# Machine learning (apprentissage automatique)\n",
    "\n",
    "Le machine learning consiste à apprendre des fonctions qui représente bien des données. \n",
    "\n",
    "Il existe 3 types de machine learning \n",
    "\n",
    "- superviser : on dit à l'ordinateur ce qu'est la bonne réponse\n",
    "- non-superviser : on ne dit pas ce qu'est la bonne réponse\n",
    "- renforcement : te récompense pour une bonne note à l'examen, mais tu ne sais pas où tu a eu une mauvaise note.\n",
    "\n",
    "Donc si on a des donnée, on veut fitter la meilleur courbe avec les donneés (ref : https://machinelearningmastery.com/curve-fitting-with-python/)\n",
    "\n",
    "![curve fitting](https://machinelearningmastery.com/wp-content/uploads/2020/10/Plot-of-Fifth-Degree-Polynomial-Fit-to-Economic-Dataset.png)"
   ]
  },
  {
   "cell_type": "markdown",
   "metadata": {
    "id": "UYk4m8KpcNpH"
   },
   "source": [
    "# Deep learning (apprentissage profond)\n",
    "\n",
    "Le deep learning est une type de machine learning qui apprend des fonctions paramétriques avec beaucoup de paramètre.\n",
    "\n",
    "(ref : freecodecamp)\n",
    "\n",
    "![deep learning](https://cdn-media-1.freecodecamp.org/images/1*1mpE6fsq5LNxH31xeTWi5w.jpeg)\n",
    "\n",
    "Le deep learning est devenu populaire ces dernières années. Ce sont ce genre de modèle qui par exemple est utiliser sur chatGPT.\n",
    "\n",
    "Ces modèles sont souvent performant avec des images ou du texte.\n",
    "\n",
    "Traditionnelement, il faut beaucoup de données pour faire ces modèles de machine learning. car ils ont beaucoup de paramètres. Par contre, comme nous allons voir ces dernière années certaine techniques permettent de faire malgré tout des modèle avec peu de données."
   ]
  },
  {
   "cell_type": "markdown",
   "metadata": {
    "id": "Px1Un5s5cXcs"
   },
   "source": [
    "# CNN (convolutional neural network)\n",
    "\n",
    "Les cnn sont des réseau de neuronne qui sont souvent utiliser pour fiare du machine learning sur des images. \n",
    "\n",
    "Cela consiste à passer des kernels le long de l'image qui detecte certaine chose(par exemple, les frontière entre objets). (ref : wikipedia)\n",
    "\n",
    "![cnn](https://upload.wikimedia.org/wikipedia/commons/6/63/Typical_cnn.png)\n"
   ]
  },
  {
   "cell_type": "markdown",
   "metadata": {
    "id": "qV27vG3Lck8j"
   },
   "source": [
    "# Finetuning et pretrain \n",
    "\n",
    "Les modèles préentrainer sont des modèles qui ont été entrainer sur d'autres tâches précédentes. La plupart des modèle préentrainer de base ont été entrainer sur le dataset de ImageNet qui est un dataset d'image d'objet/chose/animal courent de la vie.  \n",
    "\n",
    "Finetuning consiste a prendre un modèle préentrainer et commencer l'apprentissage à partir des poids que ce précédent entrainement a donner.\n",
    "\n",
    "Cela permet de pouvoir faire des modèle de deep learning avec beaucoup moins de données.\n",
    "\n"
   ]
  },
  {
   "cell_type": "markdown",
   "metadata": {
    "id": "DTti82RPE2_l"
   },
   "source": [
    "# Fonction d'activation (optionel)\n",
    "\n",
    "La fonction d'activation est une fonction qui ajoute une non-linéarité à votre modèle.\n",
    "\n",
    "Si que faire une combinaison de fonction linéaires, cela donnerait encore une fonction linéaire. Mais on veut que nos modèle de deep learning soit mieux qu'une simple fonction linéaire.\n",
    "\n",
    "Donc on rajoute des fonctions non-linaire. Une fonction qui a été longtemp utilis est la sigmoid. On peut voir cela un peu comme une activation d'un neuronne. (ref: https://towardsdatascience.com/activation-functions-neural-networks-1cbd9f8d91d6)\n",
    "\n",
    "![sigmoid](https://miro.medium.com/v2/resize:fit:640/format:webp/1*Xu7B5y9gp0iL5ooBj7LtWw.png)\n",
    "\n",
    "Une autre fonction d'activation qui est maintenant populaire puisqu'elle donne souvent de bon résultat est la relu. (ref : https://machinelearningmastery.com/rectified-linear-activation-function-for-deep-learning-neural-networks/)\n",
    "\n",
    "![relu](https://machinelearningmastery.com/wp-content/uploads/2018/10/Line-Plot-of-Rectified-Linear-Activation-for-Negative-and-Positive-Inputs.png)\n",
    "\n",
    "La sigmoid est souvent encore utiliser à la fin d'un réseau de neuronne. Supposons que l'on veut que le modèle choissent entre deux possibilité, c'est souvent une bonne option. On voit que cela varie entre 0 et 1. Donc au dessus de 0.5 c'est une classe et en dessous c'est une autre."
   ]
  },
  {
   "cell_type": "markdown",
   "metadata": {
    "id": "9Z7y5c9vbuPu"
   },
   "source": [
    "# Modèle de base\n",
    "\n",
    "Nous allons faire un modèle de base pour tester le machine learning.\n",
    "\n",
    "La première chose que vous deviez faire c'est séparer vos données en train, valid et test.\n",
    "\n",
    "Question : Créer les nouveaux dossiers raw_train, raw_valid, raw_test.\n",
    "\n",
    "Séparé vos donnés dans raw_data de manière alléaloire dans train, valid et test. Dans chaque dossier, vous aller avoir les dossier avec les même nom que dans raw_data (par exemples 'cats' et 'dogs')\n",
    "\n",
    "Sub-question : quel pourcentage pourrait faire du sens de mettre dans chaque categorie(train, valid, test)?\n"
   ]
  },
  {
   "cell_type": "code",
   "execution_count": null,
   "metadata": {
    "id": "CFbHrRbs0cAO"
   },
   "outputs": [],
   "source": [
    "from sklearn.model_selection import train_test_split\n",
    "import shutil\n",
    "\n",
    "classes = os.listdir('raw_data')\n",
    "\n",
    "for class_name in classes:\n",
    "    # Define the path to the class directory\n",
    "    class_dir = os.path.join('raw_data', class_name)\n",
    "    \n",
    "    # Get the list of image filenames in the class directory\n",
    "    image_filenames = os.listdir(class_dir)\n",
    "\n",
    "    train_filenames, test_filenames = train_test_split(image_filenames, test_size=0.2)\n",
    "    valid_filenames, test_filenames = train_test_split(test_filenames, test_size=0.5)\n",
    "\n",
    "    train_dir = os.path.join('raw_train', class_name)\n",
    "    valid_dir = os.path.join('raw_valid', class_name)\n",
    "    test_dir = os.path.join('raw_test', class_name)\n",
    "    os.makedirs(train_dir, exist_ok = True)\n",
    "    os.makedirs(valid_dir, exist_ok = True)\n",
    "    os.makedirs(test_dir, exist_ok = True)\n",
    "\n",
    "    for filename in train_filenames:\n",
    "        src_path = os.path.join(class_dir, filename)\n",
    "        dst_path = os.path.join(train_dir, filename)\n",
    "        shutil.copy(src_path, dst_path)\n",
    "    for filename in valid_filenames:\n",
    "        src_path = os.path.join(class_dir, filename)\n",
    "        dst_path = os.path.join(valid_dir, filename)\n",
    "        shutil.copy(src_path, dst_path)\n",
    "    for filename in test_filenames:\n",
    "        src_path = os.path.join(class_dir, filename)\n",
    "        dst_path = os.path.join(test_dir, filename)\n",
    "        shutil.copy(src_path, dst_path)\n"
   ]
  },
  {
   "cell_type": "markdown",
   "metadata": {
    "id": "DOe0xUyi0c9i"
   },
   "source": [
    "Pour le modèle de base"
   ]
  },
  {
   "cell_type": "code",
   "execution_count": null,
   "metadata": {
    "colab": {
     "base_uri": "https://localhost:8080/"
    },
    "executionInfo": {
     "elapsed": 76799,
     "status": "ok",
     "timestamp": 1680487909124,
     "user": {
      "displayName": "Jules Lambert",
      "userId": "16844768996944953840"
     },
     "user_tz": 240
    },
    "id": "Nf-uwUFGz8nD",
    "outputId": "b42b229c-ef86-4e90-f09f-6d9b3a388d62"
   },
   "outputs": [
    {
     "name": "stdout",
     "output_type": "stream",
     "text": [
      "Found 334 images belonging to 2 classes.\n",
      "Found 42 images belonging to 2 classes.\n",
      "Epoch 1/10\n",
      " 5/11 [============>.................] - ETA: 2s - loss: 1.5857 - accuracy: 0.4750"
     ]
    },
    {
     "name": "stderr",
     "output_type": "stream",
     "text": [
      "/usr/local/lib/python3.9/dist-packages/PIL/Image.py:975: UserWarning: Palette images with Transparency expressed in bytes should be converted to RGBA images\n",
      "  warnings.warn(\n"
     ]
    },
    {
     "name": "stdout",
     "output_type": "stream",
     "text": [
      "11/11 [==============================] - 12s 973ms/step - loss: 1.1340 - accuracy: 0.4611 - val_loss: 0.7040 - val_accuracy: 0.4524\n",
      "Epoch 2/10\n",
      "11/11 [==============================] - 7s 693ms/step - loss: 0.6557 - accuracy: 0.6647 - val_loss: 0.6316 - val_accuracy: 0.7619\n",
      "Epoch 3/10\n",
      "11/11 [==============================] - 5s 455ms/step - loss: 0.6002 - accuracy: 0.7545 - val_loss: 0.6014 - val_accuracy: 0.5714\n",
      "Epoch 4/10\n",
      "11/11 [==============================] - 5s 504ms/step - loss: 0.5508 - accuracy: 0.7695 - val_loss: 0.5336 - val_accuracy: 0.8095\n",
      "Epoch 5/10\n",
      "11/11 [==============================] - 8s 714ms/step - loss: 0.5028 - accuracy: 0.7784 - val_loss: 0.5018 - val_accuracy: 0.8095\n",
      "Epoch 6/10\n",
      "11/11 [==============================] - 8s 722ms/step - loss: 0.4318 - accuracy: 0.8443 - val_loss: 0.4900 - val_accuracy: 0.7857\n",
      "Epoch 7/10\n",
      "11/11 [==============================] - 5s 460ms/step - loss: 0.3789 - accuracy: 0.8713 - val_loss: 0.4835 - val_accuracy: 0.7619\n",
      "Epoch 8/10\n",
      "11/11 [==============================] - 5s 467ms/step - loss: 0.3330 - accuracy: 0.8832 - val_loss: 0.4959 - val_accuracy: 0.7619\n",
      "Epoch 9/10\n",
      "11/11 [==============================] - 7s 663ms/step - loss: 0.2854 - accuracy: 0.9072 - val_loss: 0.4893 - val_accuracy: 0.7143\n",
      "Epoch 10/10\n",
      "11/11 [==============================] - 7s 681ms/step - loss: 0.2624 - accuracy: 0.9222 - val_loss: 0.5120 - val_accuracy: 0.7143\n"
     ]
    },
    {
     "data": {
      "text/plain": [
       "<keras.callbacks.History at 0x7f17a8049550>"
      ]
     },
     "execution_count": 18,
     "metadata": {},
     "output_type": "execute_result"
    }
   ],
   "source": [
    "import tensorflow as tf\n",
    "from tensorflow.keras.preprocessing.image import ImageDataGenerator\n",
    "\n",
    "datagen = ImageDataGenerator(\n",
    "    rescale=1./255,      # rescale pixel values to [0, 1]\n",
    ")\n",
    "\n",
    "# Load the training and validation data from the directories\n",
    "train_generator = datagen.flow_from_directory(\n",
    "    'raw_train',       # path to the training data\n",
    "    target_size=(128, 128), # resize the images to (128, 128)\n",
    "    batch_size=32,      # number of images to process at a time\n",
    "    class_mode='binary' # binary classification\n",
    ")\n",
    "\n",
    "test_generator = datagen.flow_from_directory(\n",
    "    'raw_valid',        # path to the validation data\n",
    "    target_size=(128, 128), # resize the images to (128, 128)\n",
    "    batch_size=32,      # number of images to process at a time\n",
    "    class_mode='binary' # binary classification\n",
    ")\n",
    "\n",
    "# Load the pre-trained model and freeze its layers\n",
    "base_model = tf.keras.applications.VGG16(include_top=False, input_shape=(128, 128, 3))\n",
    "for layer in base_model.layers:\n",
    "    layer.trainable = False\n",
    "\n",
    "# Add your own classifier on top of the pre-trained model\n",
    "x = tf.keras.layers.Flatten()(base_model.output)\n",
    "x = tf.keras.layers.Dense(128, activation='relu')(x)\n",
    "x = tf.keras.layers.Dense(1, activation='sigmoid')(x)\n",
    "\n",
    "# Create the model\n",
    "model = tf.keras.models.Model(inputs=base_model.input, outputs=x)\n",
    "\n",
    "# Compile the model\n",
    "model.compile(optimizer='adam',\n",
    "              loss='binary_crossentropy',\n",
    "              metrics=['accuracy'])\n",
    "\n",
    "# Train the model\n",
    "model.fit(train_generator, epochs=10, validation_data=test_generator)"
   ]
  },
  {
   "cell_type": "markdown",
   "metadata": {
    "id": "43x-MyEVDBOR"
   },
   "source": [
    "Question : Trouver la fonction qui permet de printer un résumé du modèle."
   ]
  },
  {
   "cell_type": "code",
   "execution_count": null,
   "metadata": {
    "colab": {
     "base_uri": "https://localhost:8080/"
    },
    "executionInfo": {
     "elapsed": 501,
     "status": "ok",
     "timestamp": 1680490702589,
     "user": {
      "displayName": "Jules Lambert",
      "userId": "16844768996944953840"
     },
     "user_tz": 240
    },
    "id": "g7UWVAZEDOwh",
    "outputId": "d4b6556d-7b53-431b-af07-13d073d0d9f2"
   },
   "outputs": [
    {
     "name": "stdout",
     "output_type": "stream",
     "text": [
      "Model: \"model_1\"\n",
      "_________________________________________________________________\n",
      " Layer (type)                Output Shape              Param #   \n",
      "=================================================================\n",
      " input_2 (InputLayer)        [(None, 128, 128, 3)]     0         \n",
      "                                                                 \n",
      " block1_conv1 (Conv2D)       (None, 128, 128, 64)      1792      \n",
      "                                                                 \n",
      " block1_conv2 (Conv2D)       (None, 128, 128, 64)      36928     \n",
      "                                                                 \n",
      " block1_pool (MaxPooling2D)  (None, 64, 64, 64)        0         \n",
      "                                                                 \n",
      " block2_conv1 (Conv2D)       (None, 64, 64, 128)       73856     \n",
      "                                                                 \n",
      " block2_conv2 (Conv2D)       (None, 64, 64, 128)       147584    \n",
      "                                                                 \n",
      " block2_pool (MaxPooling2D)  (None, 32, 32, 128)       0         \n",
      "                                                                 \n",
      " block3_conv1 (Conv2D)       (None, 32, 32, 256)       295168    \n",
      "                                                                 \n",
      " block3_conv2 (Conv2D)       (None, 32, 32, 256)       590080    \n",
      "                                                                 \n",
      " block3_conv3 (Conv2D)       (None, 32, 32, 256)       590080    \n",
      "                                                                 \n",
      " block3_pool (MaxPooling2D)  (None, 16, 16, 256)       0         \n",
      "                                                                 \n",
      " block4_conv1 (Conv2D)       (None, 16, 16, 512)       1180160   \n",
      "                                                                 \n",
      " block4_conv2 (Conv2D)       (None, 16, 16, 512)       2359808   \n",
      "                                                                 \n",
      " block4_conv3 (Conv2D)       (None, 16, 16, 512)       2359808   \n",
      "                                                                 \n",
      " block4_pool (MaxPooling2D)  (None, 8, 8, 512)         0         \n",
      "                                                                 \n",
      " block5_conv1 (Conv2D)       (None, 8, 8, 512)         2359808   \n",
      "                                                                 \n",
      " block5_conv2 (Conv2D)       (None, 8, 8, 512)         2359808   \n",
      "                                                                 \n",
      " block5_conv3 (Conv2D)       (None, 8, 8, 512)         2359808   \n",
      "                                                                 \n",
      " block5_pool (MaxPooling2D)  (None, 4, 4, 512)         0         \n",
      "                                                                 \n",
      " flatten_1 (Flatten)         (None, 8192)              0         \n",
      "                                                                 \n",
      " dense_2 (Dense)             (None, 128)               1048704   \n",
      "                                                                 \n",
      " dense_3 (Dense)             (None, 1)                 129       \n",
      "                                                                 \n",
      "=================================================================\n",
      "Total params: 15,763,521\n",
      "Trainable params: 1,048,833\n",
      "Non-trainable params: 14,714,688\n",
      "_________________________________________________________________\n"
     ]
    }
   ],
   "source": [
    "model.summary()"
   ]
  },
  {
   "cell_type": "code",
   "execution_count": null,
   "metadata": {
    "id": "aU1FWaotfM3j"
   },
   "outputs": [],
   "source": []
  },
  {
   "cell_type": "code",
   "execution_count": null,
   "metadata": {
    "id": "mIK8mNg8iiB5"
   },
   "outputs": [],
   "source": []
  },
  {
   "cell_type": "code",
   "execution_count": null,
   "metadata": {
    "id": "eAXX456ritHL"
   },
   "outputs": [],
   "source": []
  },
  {
   "cell_type": "markdown",
   "metadata": {
    "id": "fkmDwgfQ5uRh"
   },
   "source": [
    "Question : Qu'est qu'il faut faire dans tout projet de machine learning et que nous avons pas fait? \n",
    "\n",
    "R : Regarder les données. Il faut regarder nos donnée. Vous pouvez les voir sur le coté dans vos fichier. Vos données sont dans le dossier raw_data."
   ]
  },
  {
   "cell_type": "markdown",
   "metadata": {
    "id": "S-zsJtsx6YJA"
   },
   "source": [
    "Question : Est-ce que vous remarquer quelque chose de spécifique sur vos données? \n",
    "\n",
    "R : Vous devriez ne pas avoir uniquement des images de la classe que nous cherchions. C'est en partie parce que le code de selenium que nous avons fait n'est pas parfait. Mais dans tout les cas, dans un projet de machine learning, il y aura toujours des erreurs dans vos donneés. Il faut donc netoyer vos données. C'est que nous feront dans la prochaine section."
   ]
  },
  {
   "cell_type": "code",
   "execution_count": null,
   "metadata": {
    "id": "TmFjvL48CHSG"
   },
   "outputs": [],
   "source": []
  },
  {
   "cell_type": "markdown",
   "metadata": {
    "id": "MBDyLf3-5l06"
   },
   "source": [
    "# Netoyage de données.\n",
    "\n",
    "Nous allons utiliser un code qui vous permet de regarder les données que vous avez et de les saugarder dans une autre dossier qui sera vos dataset propre. \n",
    "\n",
    "Vous n'avez pas à comprendre le code de cette section pour l'atelier. Donc executer les cellules qui suivent pour créer les fonctions qui nous permetrons de netoyer les données."
   ]
  },
  {
   "cell_type": "code",
   "execution_count": null,
   "metadata": {
    "id": "VKRNBFXaEVxm"
   },
   "outputs": [],
   "source": [
    "\n",
    "import os\n",
    "import shutil\n",
    "import ipywidgets as widgets\n",
    "from IPython.display import display\n",
    "from IPython.display import Image\n",
    "from IPython.display import clear_output"
   ]
  },
  {
   "cell_type": "code",
   "execution_count": null,
   "metadata": {
    "id": "bCULCcUQEZd2"
   },
   "outputs": [],
   "source": [
    "search_term = 'cats'\n",
    "path = f'raw_data/{search_term}'\n",
    "image_files = [f for f in os.listdir(path) if f.endswith('.jpg') or f.endswith('.png')]"
   ]
  },
  {
   "cell_type": "code",
   "execution_count": null,
   "metadata": {
    "id": "va_dXzuXat4M"
   },
   "outputs": [],
   "source": []
  },
  {
   "cell_type": "code",
   "execution_count": null,
   "metadata": {
    "id": "tbn5qVv3SCZm"
   },
   "outputs": [],
   "source": [
    "def show_image(file):\n",
    "    image_path = os.path.join(path, file)\n",
    "    with image_output:\n",
    "        clear_output(wait=True)  # Clear the previous image\n",
    "        display(Image(filename=image_path))\n",
    "    \n",
    "    with buttons_output:\n",
    "        clear_output(wait=True)  # Clear the previous buttons\n",
    "        save_button = widgets.Button(description='Save')\n",
    "        cancel_button = widgets.Button(description='Delete')\n",
    "\n",
    "        display(save_button)\n",
    "        display(cancel_button)\n",
    "\n",
    "\n",
    "        def save_image(b):\n",
    "            save_path = f'clean_data/{search_term}'\n",
    "            os.makedirs(save_path, exist_ok = True)\n",
    "            save_file = os.path.join(save_path, file)\n",
    "            shutil.copy2(image_path, save_file)\n",
    "            print('Image saved to clean dataset: ' + save_file)\n",
    "        def cancel(b):\n",
    "            save_path = f'clean_data/{search_term}'\n",
    "            save_file = os.path.join(save_path, file)\n",
    "            if os.path.isfile(save_file):\n",
    "              os.remove(save_file)\n",
    "              print('Image deleted from the clean dataset:'+save_file)\n",
    "            else:\n",
    "              print('image was already not present in the clean dataset')\n",
    "        \n",
    "        save_button.on_click(save_image)\n",
    "        cancel_button.on_click(cancel)"
   ]
  },
  {
   "cell_type": "code",
   "execution_count": null,
   "metadata": {
    "id": "i5L6S_9Wks1K"
   },
   "outputs": [],
   "source": [
    "def next_image(b):\n",
    "  global image_index\n",
    "  image_index = (image_index + 1) % len(image_files)\n",
    "  show_image(image_files[image_index])\n",
    "\n",
    "def previous_image(b):\n",
    "  global image_index\n",
    "  image_index = (image_index - 1) % len(image_files)\n",
    "  show_image(image_files[image_index])"
   ]
  },
  {
   "cell_type": "markdown",
   "metadata": {
    "id": "qMdQMKQKUSW-"
   },
   "source": [
    "Maintenant, dans la prochaine cellule écriver le nom d'une des classes que vous avez créer. Et ensuite execeuter la cellule et celle qui suit.\n",
    "\n",
    "Vous devriez voir une image avez les option de sauvegarder l'image, de l'enlever, de passer à la prochaine image, de voir l'image précédente.\n",
    "\n",
    "La sauvegarde et enlever l'image se fait sur le dataset clean que vous avez. De plus, il y a un bug(je ne sais pas pourquoi) qui fait que lorsque l'on change d'image vous ne voyez plus l'option delete. Par contre, si vous réexcuter la cellule elle devrait réapraitre(et vous devriez rester sur la même image).\n",
    "\n",
    "Une fois que vous avez fini de netoyer une classe(ou que vous avez suffisament d'images), vous pouvez commencer la deuxième en changant le terme chercher par le nom de la deuxième classe et réexecuter les deux cellules qui suivent."
   ]
  },
  {
   "cell_type": "code",
   "execution_count": null,
   "metadata": {
    "id": "S7t_Nue8cMJd"
   },
   "outputs": [],
   "source": [
    "search_term = 'cats'\n",
    "image_index = 0"
   ]
  },
  {
   "cell_type": "code",
   "execution_count": null,
   "metadata": {
    "colab": {
     "base_uri": "https://localhost:8080/",
     "height": 502,
     "referenced_widgets": [
      "76775de1ea8940f5861d552bdf3b0d53",
      "c4bd621cb77f4ddb9892913ffe1a1057",
      "0a9d0c9aeebf4521ac16e3272c6f1992",
      "8c7523a1633645f4abb245968c16fa33",
      "bf64c7e51adb41949b9835c6b8a8cd62",
      "412dcb10985846738efb508de0ed8d21",
      "a0ebac9e5da94031a9634cd75607b497",
      "7bdfe627d3b64d4daafd7e4e0ad229ad",
      "fb77f926e2404b04bdbef1756dea0ba6",
      "e6df4ddbc78b4063810b95c463cf010d",
      "ec431af6fb4248608a52fba26965530b",
      "0755ab3153eb4500bae35cbaf451f53f",
      "c736e128cfcc4f28b31b3bdcdc524f1e",
      "db21434257484243ac377af9b2e1679e",
      "32984ab4ffe142d5bd8c6c705685dd6a",
      "95d5e243212147a8a7db10d9ece9efd6",
      "3f69d29dcc3540148968a721432f42df",
      "4a0e70ef68bd49b39c3ff26c879861df",
      "1ff0edd1544a470aae09b433de994420",
      "c241dec21f094bf89ad3138a8f396d43"
     ]
    },
    "executionInfo": {
     "elapsed": 400,
     "status": "ok",
     "timestamp": 1680478336415,
     "user": {
      "displayName": "Jules Lambert",
      "userId": "16844768996944953840"
     },
     "user_tz": 240
    },
    "id": "fcPYbp-llxw9",
    "outputId": "fda8f44b-eee9-433a-a7a3-1761f70fc24b"
   },
   "outputs": [
    {
     "data": {
      "application/vnd.jupyter.widget-view+json": {
       "model_id": "76775de1ea8940f5861d552bdf3b0d53",
       "version_major": 2,
       "version_minor": 0
      },
      "text/plain": [
       "Output()"
      ]
     },
     "metadata": {},
     "output_type": "display_data"
    },
    {
     "data": {
      "application/vnd.jupyter.widget-view+json": {
       "model_id": "412dcb10985846738efb508de0ed8d21",
       "version_major": 2,
       "version_minor": 0
      },
      "text/plain": [
       "Output()"
      ]
     },
     "metadata": {},
     "output_type": "display_data"
    },
    {
     "data": {
      "application/vnd.jupyter.widget-view+json": {
       "model_id": "fb77f926e2404b04bdbef1756dea0ba6",
       "version_major": 2,
       "version_minor": 0
      },
      "text/plain": [
       "Output()"
      ]
     },
     "metadata": {},
     "output_type": "display_data"
    },
    {
     "data": {
      "application/vnd.jupyter.widget-view+json": {
       "model_id": "c736e128cfcc4f28b31b3bdcdc524f1e",
       "version_major": 2,
       "version_minor": 0
      },
      "text/plain": [
       "Output()"
      ]
     },
     "metadata": {},
     "output_type": "display_data"
    },
    {
     "name": "stdout",
     "output_type": "stream",
     "text": [
      "Image deleted from the clean dataset:clean_data/cats/grooming-your-pet-list.jpg\n"
     ]
    }
   ],
   "source": [
    "path = f'raw_data/{search_term}'\n",
    "os.makedirs(f'clean_data/{search_term}', exist_ok = True)\n",
    "image_files = [f for f in os.listdir(path) if f.endswith('.jpg') or f.endswith('.png')]\n",
    "\n",
    "next_button = widgets.Button(description='Next Image')\n",
    "next_button_output = widgets.Output()\n",
    "with next_button_output:\n",
    "    display(next_button)\n",
    "display(next_button_output)\n",
    "\n",
    "previous_button = widgets.Button(description='previous Image')\n",
    "previous_button_output = widgets.Output()\n",
    "with previous_button_output:\n",
    "    display(previous_button)\n",
    "display(previous_button_output)\n",
    "\n",
    "# Create outputs for the image and buttons\n",
    "image_output = widgets.Output()\n",
    "buttons_output = widgets.Output()\n",
    "display(image_output, buttons_output)\n",
    "\n",
    "\n",
    "next_button.on_click(next_image)\n",
    "previous_button.on_click(previous_image)\n",
    "show_image(image_files[image_index])"
   ]
  },
  {
   "cell_type": "code",
   "execution_count": null,
   "metadata": {
    "id": "G6TKEJJUPu8u"
   },
   "outputs": [],
   "source": []
  },
  {
   "cell_type": "markdown",
   "metadata": {
    "id": "8o_o0NBDeDnL"
   },
   "source": [
    "# entrainement avec les données netoyer\n",
    "\n",
    "Nous allons maintenant faire l'entrainement avec les données netoyer.\n",
    "\n",
    "La première chose à faire c'est de séparé en train, valid et test notre nouveau dataset."
   ]
  },
  {
   "cell_type": "code",
   "execution_count": null,
   "metadata": {
    "id": "KjI44r-aQJWA"
   },
   "outputs": [],
   "source": []
  },
  {
   "cell_type": "code",
   "execution_count": 2,
   "metadata": {
    "executionInfo": {
     "elapsed": 1184,
     "status": "ok",
     "timestamp": 1681252618718,
     "user": {
      "displayName": "Jules Lambert",
      "userId": "16844768996944953840"
     },
     "user_tz": 240
    },
    "id": "uGjyFCSYP4Yk"
   },
   "outputs": [],
   "source": [
    "from sklearn.model_selection import train_test_split\n",
    "import shutil\n",
    "\n",
    "classes = os.listdir('clean_data')\n",
    "classes = [class_name for class_name in classes if '.' not in class_name]\n",
    "\n",
    "for class_name in classes:\n",
    "    # Define the path to the class directory\n",
    "    class_dir = os.path.join('clean_data', class_name)\n",
    "    \n",
    "    # Get the list of image filenames in the class directory\n",
    "    image_filenames = os.listdir(class_dir)\n",
    "\n",
    "    train_filenames, test_filenames = train_test_split(image_filenames, test_size=0.2)\n",
    "    valid_filenames, test_filenames = train_test_split(test_filenames, test_size=0.5)\n",
    "\n",
    "    train_dir = os.path.join('clean_train', class_name)\n",
    "    valid_dir = os.path.join('clean_valid', class_name)\n",
    "    test_dir = os.path.join('clean_test', class_name)\n",
    "    os.makedirs(train_dir, exist_ok = True)\n",
    "    os.makedirs(valid_dir, exist_ok = True)\n",
    "    os.makedirs(test_dir, exist_ok = True)\n",
    "\n",
    "    for filename in train_filenames:\n",
    "        src_path = os.path.join(class_dir, filename)\n",
    "        dst_path = os.path.join(train_dir, filename)\n",
    "        shutil.copy(src_path, dst_path)\n",
    "    for filename in valid_filenames:\n",
    "        src_path = os.path.join(class_dir, filename)\n",
    "        dst_path = os.path.join(valid_dir, filename)\n",
    "        shutil.copy(src_path, dst_path)\n",
    "    for filename in test_filenames:\n",
    "        src_path = os.path.join(class_dir, filename)\n",
    "        dst_path = os.path.join(test_dir, filename)\n",
    "        shutil.copy(src_path, dst_path)"
   ]
  },
  {
   "cell_type": "markdown",
   "metadata": {
    "id": "KaoIwENc7WdF"
   },
   "source": [
    "On peut ensuite entrainer notre notre modèle avec ces données qui sont plus propres."
   ]
  },
  {
   "cell_type": "code",
   "execution_count": 3,
   "metadata": {
    "colab": {
     "base_uri": "https://localhost:8080/"
    },
    "executionInfo": {
     "elapsed": 33434,
     "status": "ok",
     "timestamp": 1681252669890,
     "user": {
      "displayName": "Jules Lambert",
      "userId": "16844768996944953840"
     },
     "user_tz": 240
    },
    "id": "EbL2h4Zy7oiY",
    "outputId": "ee18f37f-4474-49f4-825c-8150dd3e3f92"
   },
   "outputs": [
    {
     "name": "stdout",
     "output_type": "stream",
     "text": [
      "Found 219 images belonging to 2 classes.\n",
      "Found 28 images belonging to 2 classes.\n",
      "Downloading data from https://storage.googleapis.com/tensorflow/keras-applications/vgg16/vgg16_weights_tf_dim_ordering_tf_kernels_notop.h5\n",
      "58889256/58889256 [==============================] - 0s 0us/step\n",
      "Epoch 1/10\n",
      "7/7 [==============================] - 16s 663ms/step - loss: 0.7240 - accuracy: 0.6986 - val_loss: 0.1038 - val_accuracy: 1.0000\n",
      "Epoch 2/10\n",
      "7/7 [==============================] - 1s 96ms/step - loss: 0.1359 - accuracy: 0.9452 - val_loss: 0.0525 - val_accuracy: 1.0000\n",
      "Epoch 3/10\n",
      "7/7 [==============================] - 1s 118ms/step - loss: 0.0818 - accuracy: 0.9589 - val_loss: 0.0677 - val_accuracy: 0.9286\n",
      "Epoch 4/10\n",
      "7/7 [==============================] - 1s 138ms/step - loss: 0.0348 - accuracy: 0.9909 - val_loss: 0.0338 - val_accuracy: 1.0000\n",
      "Epoch 5/10\n",
      "7/7 [==============================] - 1s 139ms/step - loss: 0.0257 - accuracy: 0.9954 - val_loss: 0.0360 - val_accuracy: 1.0000\n",
      "Epoch 6/10\n",
      "7/7 [==============================] - 1s 125ms/step - loss: 0.0138 - accuracy: 0.9954 - val_loss: 0.0226 - val_accuracy: 1.0000\n",
      "Epoch 7/10\n",
      "7/7 [==============================] - 1s 93ms/step - loss: 0.0075 - accuracy: 1.0000 - val_loss: 0.0182 - val_accuracy: 1.0000\n",
      "Epoch 8/10\n",
      "7/7 [==============================] - 1s 128ms/step - loss: 0.0058 - accuracy: 1.0000 - val_loss: 0.0175 - val_accuracy: 1.0000\n",
      "Epoch 9/10\n",
      "7/7 [==============================] - 1s 134ms/step - loss: 0.0038 - accuracy: 1.0000 - val_loss: 0.0153 - val_accuracy: 1.0000\n",
      "Epoch 10/10\n",
      "7/7 [==============================] - 1s 136ms/step - loss: 0.0028 - accuracy: 1.0000 - val_loss: 0.0130 - val_accuracy: 1.0000\n"
     ]
    },
    {
     "data": {
      "text/plain": [
       "<keras.callbacks.History at 0x7f85fc276bb0>"
      ]
     },
     "execution_count": 3,
     "metadata": {},
     "output_type": "execute_result"
    }
   ],
   "source": [
    "import tensorflow as tf\n",
    "from tensorflow.keras.preprocessing.image import ImageDataGenerator\n",
    "\n",
    "datagen = ImageDataGenerator(\n",
    "    rescale=1./255,      # rescale pixel values to [0, 1]\n",
    ")\n",
    "\n",
    "# Load the training and validation data from the directories\n",
    "train_generator = datagen.flow_from_directory(\n",
    "    'clean_train',       # path to the training data\n",
    "    target_size=(128, 128), # resize the images to (128, 128)\n",
    "    batch_size=32,      # number of images to process at a time\n",
    "    class_mode='binary' # binary classification\n",
    ")\n",
    "\n",
    "test_generator = datagen.flow_from_directory(\n",
    "    'clean_valid',        # path to the validation data\n",
    "    target_size=(128, 128), # resize the images to (128, 128)\n",
    "    batch_size=32,      # number of images to process at a time\n",
    "    class_mode='binary' # binary classification\n",
    ")\n",
    "\n",
    "# Load the pre-trained model and freeze its layers\n",
    "base_model = tf.keras.applications.VGG16(include_top=False, input_shape=(128, 128, 3))\n",
    "for layer in base_model.layers:\n",
    "    layer.trainable = False\n",
    "\n",
    "# Add your own classifier on top of the pre-trained model\n",
    "x = tf.keras.layers.Flatten()(base_model.output)\n",
    "x = tf.keras.layers.Dense(128, activation='relu')(x)\n",
    "x = tf.keras.layers.Dense(1, activation='sigmoid')(x)\n",
    "\n",
    "# Create the model\n",
    "model = tf.keras.models.Model(inputs=base_model.input, outputs=x)\n",
    "\n",
    "# Compile the model\n",
    "model.compile(optimizer='adam',\n",
    "              loss='binary_crossentropy',\n",
    "              metrics=['accuracy'])\n",
    "\n",
    "# Train the model\n",
    "model.fit(train_generator, epochs=10, validation_data=test_generator)"
   ]
  },
  {
   "cell_type": "markdown",
   "metadata": {
    "id": "b8zlFpQeeRiG"
   },
   "source": [
    "# Data augmentation\n",
    "\n",
    "Bien que nous pouvons entrainer avec peu de données grâce au finetuning, il est toujours mieux d'avoir plus de données(à condition que ce sont de bonne données).\n",
    "\n",
    "Il existe une technique simple pour crée plus de données à partir d'un dataset que nous avons déjà. \n",
    "\n",
    "C'est l'augementation de données(data augmentation). Cela consiste à modifier nos données tout en sachant que le ne change pas la classe de ce que nous avons. \n",
    "\n",
    "Un exemple simple consiste à flipper une image honrizontalement. Dans la majorité des cas, cela ne devrait pas changer la classe de ce que notre modèle essaie de déterminer. \n",
    "\n",
    "Par exemple, si on flip une image de chien, cela reste une image de chien. Par contre, il faut garder en mémoire que ce n'est pas toujours le cas. par exemple si vous avez une image de main droite et que vous la fliper honrizontalement, cela donne un main gauche. \n",
    "\n",
    "Donc il existe différentes transformations possibles pour créer de nouvelles données : flip, rotation, zoom, ...\n",
    "\n",
    "Par contre, on pourrait créer un gros dataset si on enrigistre une image pour chaque transformation. Une solution simple que les libraries de deep learning permettent c'est de modifié les images avant de les donner au modèle de machine learning. Ainsi c'est comme si on avait un dataset plus grand, car à chaque époque on ne voit pas exactement les même images.\n",
    "\n",
    "Question : Modifier le generateur pour le training set pour inclure du data augmentation de flip horizontal, zoom, shear et de rotation. Ensuite, réentrainer votre modèle.\n",
    "\n",
    "![shear](https://en.wikipedia.org/wiki/Shear_mapping#/media/File:SVG_skewX.svg)"
   ]
  },
  {
   "cell_type": "code",
   "execution_count": 5,
   "metadata": {
    "colab": {
     "base_uri": "https://localhost:8080/"
    },
    "executionInfo": {
     "elapsed": 22202,
     "status": "ok",
     "timestamp": 1681252727464,
     "user": {
      "displayName": "Jules Lambert",
      "userId": "16844768996944953840"
     },
     "user_tz": 240
    },
    "id": "dxVXJOGa618t",
    "outputId": "0f56adc0-f627-4c85-c24e-bc4028bb9311"
   },
   "outputs": [
    {
     "name": "stdout",
     "output_type": "stream",
     "text": [
      "Found 219 images belonging to 2 classes.\n",
      "Found 28 images belonging to 2 classes.\n",
      "Epoch 1/10\n",
      "7/7 [==============================] - 3s 214ms/step - loss: 0.5239 - accuracy: 0.7854 - val_loss: 0.1375 - val_accuracy: 0.9286\n",
      "Epoch 2/10\n",
      "7/7 [==============================] - 1s 188ms/step - loss: 0.2495 - accuracy: 0.9041 - val_loss: 0.0511 - val_accuracy: 1.0000\n",
      "Epoch 3/10\n",
      "7/7 [==============================] - 1s 195ms/step - loss: 0.2070 - accuracy: 0.9178 - val_loss: 0.0438 - val_accuracy: 1.0000\n",
      "Epoch 4/10\n",
      "7/7 [==============================] - 1s 188ms/step - loss: 0.1140 - accuracy: 0.9635 - val_loss: 0.0764 - val_accuracy: 1.0000\n",
      "Epoch 5/10\n",
      "7/7 [==============================] - 2s 292ms/step - loss: 0.0929 - accuracy: 0.9772 - val_loss: 0.0255 - val_accuracy: 1.0000\n",
      "Epoch 6/10\n",
      "7/7 [==============================] - 2s 341ms/step - loss: 0.0644 - accuracy: 0.9726 - val_loss: 0.0194 - val_accuracy: 1.0000\n",
      "Epoch 7/10\n",
      "7/7 [==============================] - 2s 271ms/step - loss: 0.0402 - accuracy: 0.9817 - val_loss: 0.0136 - val_accuracy: 1.0000\n",
      "Epoch 8/10\n",
      "7/7 [==============================] - 1s 191ms/step - loss: 0.0468 - accuracy: 0.9863 - val_loss: 0.0112 - val_accuracy: 1.0000\n",
      "Epoch 9/10\n",
      "7/7 [==============================] - 1s 197ms/step - loss: 0.0435 - accuracy: 0.9772 - val_loss: 0.0115 - val_accuracy: 1.0000\n",
      "Epoch 10/10\n",
      "7/7 [==============================] - 1s 185ms/step - loss: 0.0285 - accuracy: 0.9909 - val_loss: 0.0125 - val_accuracy: 1.0000\n"
     ]
    },
    {
     "data": {
      "text/plain": [
       "<keras.callbacks.History at 0x7f85e46db2e0>"
      ]
     },
     "execution_count": 5,
     "metadata": {},
     "output_type": "execute_result"
    }
   ],
   "source": [
    "import tensorflow as tf\n",
    "from tensorflow.keras.preprocessing.image import ImageDataGenerator\n",
    "\n",
    "# Create an ImageDataGenerator for data augmentation and preprocessing\n",
    "train_datagen = ImageDataGenerator(\n",
    "    rescale=1./255,      # rescale pixel values to [0, 1]\n",
    "    shear_range=0.2,     # apply shear transformation\n",
    "    zoom_range=0.2,      # apply zoom transformation\n",
    "    horizontal_flip=True, # flip images horizontally\n",
    "    rotation_range=30  # add rotation angles between 0 and 30 degrees\n",
    ")\n",
    "\n",
    "test_datagen = ImageDataGenerator(\n",
    "    rescale=1./255,      # rescale pixel values to [0, 1]\n",
    ")\n",
    "\n",
    "# Load the training and validation data from the directories\n",
    "train_generator = train_datagen.flow_from_directory(\n",
    "    'clean_train',       # path to the training data\n",
    "    target_size=(128, 128), # resize the images to (128, 128)\n",
    "    batch_size=32,      # number of images to process at a time\n",
    "    class_mode='binary' # binary classification\n",
    ")\n",
    "\n",
    "test_generator = test_datagen.flow_from_directory(\n",
    "    'clean_valid',        # path to the validation data\n",
    "    target_size=(128, 128), # resize the images to (128, 128)\n",
    "    batch_size=32,      # number of images to process at a time\n",
    "    class_mode='binary' # binary classification\n",
    ")\n",
    "\n",
    "# Load the pre-trained model and freeze its layers\n",
    "base_model = tf.keras.applications.VGG16(include_top=False, input_shape=(128, 128, 3))\n",
    "for layer in base_model.layers:\n",
    "    layer.trainable = False\n",
    "\n",
    "# Add your own classifier on top of the pre-trained model\n",
    "x = tf.keras.layers.Flatten()(base_model.output)\n",
    "x = tf.keras.layers.Dense(128, activation='relu')(x)\n",
    "x = tf.keras.layers.Dense(1, activation='sigmoid')(x)\n",
    "\n",
    "# Create the model\n",
    "model = tf.keras.models.Model(inputs=base_model.input, outputs=x)\n",
    "\n",
    "# Compile the model\n",
    "model.compile(optimizer='adam',\n",
    "              loss='binary_crossentropy',\n",
    "              metrics=['accuracy'])\n",
    "\n",
    "# Train the model\n",
    "model.fit(train_generator, epochs=10, validation_data=test_generator)"
   ]
  },
  {
   "cell_type": "markdown",
   "metadata": {
    "id": "FwfiRJgJeXX1"
   },
   "source": [
    "# La performance sur le test set\n",
    "\n",
    "Pour regarder si un modèle généralise bien, il est bien de regarder s'il se généralise sur de nouvelles données.\n",
    "\n",
    "Question : caculer l'accuracie sur le test set"
   ]
  },
  {
   "cell_type": "code",
   "execution_count": 6,
   "metadata": {
    "colab": {
     "base_uri": "https://localhost:8080/"
    },
    "executionInfo": {
     "elapsed": 418,
     "status": "ok",
     "timestamp": 1681252745975,
     "user": {
      "displayName": "Jules Lambert",
      "userId": "16844768996944953840"
     },
     "user_tz": 240
    },
    "id": "HRft5fcMe96T",
    "outputId": "dd08beae-b5f2-4dc0-e1d0-dc51b11fd7e3"
   },
   "outputs": [
    {
     "name": "stdout",
     "output_type": "stream",
     "text": [
      "Found 28 images belonging to 2 classes.\n"
     ]
    },
    {
     "name": "stderr",
     "output_type": "stream",
     "text": [
      "<ipython-input-6-4f6b4a7b93fe>:8: UserWarning: `Model.evaluate_generator` is deprecated and will be removed in a future version. Please use `Model.evaluate`, which supports generators.\n",
      "  model.evaluate_generator(real_test_generator)\n"
     ]
    },
    {
     "data": {
      "text/plain": [
       "[0.3113427758216858, 0.8571428656578064]"
      ]
     },
     "execution_count": 6,
     "metadata": {},
     "output_type": "execute_result"
    }
   ],
   "source": [
    "real_test_generator = test_datagen.flow_from_directory(\n",
    "    'clean_test',        # path to the validation data\n",
    "    target_size=(128, 128), # resize the images to (128, 128)\n",
    "    batch_size=32,      # number of images to process at a time\n",
    "    class_mode='binary' # binary classification\n",
    ")\n",
    "\n",
    "model.evaluate_generator(real_test_generator)"
   ]
  },
  {
   "cell_type": "code",
   "execution_count": null,
   "metadata": {
    "colab": {
     "base_uri": "https://localhost:8080/"
    },
    "executionInfo": {
     "elapsed": 684,
     "status": "ok",
     "timestamp": 1681213350919,
     "user": {
      "displayName": "Jules Lambert",
      "userId": "16844768996944953840"
     },
     "user_tz": 240
    },
    "id": "y47QBMdRH83e",
    "outputId": "8b7a2e6b-1502-48d7-f334-09886c450e79"
   },
   "outputs": [
    {
     "name": "stdout",
     "output_type": "stream",
     "text": [
      "Found 28 images belonging to 2 classes.\n"
     ]
    }
   ],
   "source": [
    "real_test_generator = test_datagen.flow_from_directory(\n",
    "    'clean_test',        # path to the validation data\n",
    "    target_size=(128, 128), # resize the images to (128, 128)\n",
    "    batch_size=32,      # number of images to process at a time\n",
    "    class_mode='binary' # binary classification\n",
    ")"
   ]
  },
  {
   "cell_type": "markdown",
   "metadata": {
    "id": "vyb6pCOYe-NV"
   },
   "source": [
    "Maintenant, pour avoir plus de détails, est-ce que vous pouvez obtenir la matrice de confusion.\n"
   ]
  },
  {
   "cell_type": "code",
   "execution_count": null,
   "metadata": {
    "id": "vM5tvIR3HkJy"
   },
   "outputs": [],
   "source": []
  },
  {
   "cell_type": "code",
   "execution_count": 7,
   "metadata": {
    "colab": {
     "base_uri": "https://localhost:8080/"
    },
    "executionInfo": {
     "elapsed": 473,
     "status": "ok",
     "timestamp": 1681252767412,
     "user": {
      "displayName": "Jules Lambert",
      "userId": "16844768996944953840"
     },
     "user_tz": 240
    },
    "id": "Vkw8PyQWfBwo",
    "outputId": "476bc44d-2f83-4d83-f690-b9e40db46b4c"
   },
   "outputs": [
    {
     "name": "stdout",
     "output_type": "stream",
     "text": [
      "1/1 [==============================] - 0s 246ms/step\n",
      "[[3.1867451e-08]\n",
      " [4.9492952e-01]\n",
      " [9.9440813e-01]\n",
      " [1.6538357e-02]\n",
      " [4.3999618e-01]\n",
      " [1.9154941e-06]\n",
      " [9.9960500e-01]\n",
      " [9.9165803e-01]\n",
      " [9.9949741e-01]\n",
      " [8.1510766e-04]\n",
      " [9.9754542e-01]\n",
      " [9.9974245e-01]\n",
      " [9.8216760e-01]\n",
      " [9.9898916e-01]\n",
      " [9.9978501e-01]\n",
      " [9.9939072e-01]\n",
      " [4.3393737e-01]\n",
      " [1.1461631e-04]\n",
      " [9.9969959e-01]\n",
      " [4.2663954e-02]\n",
      " [9.9963450e-01]\n",
      " [3.4391622e-05]\n",
      " [7.3416471e-02]\n",
      " [6.2665281e-06]\n",
      " [9.9872082e-01]\n",
      " [9.7553355e-01]\n",
      " [7.9577333e-01]\n",
      " [5.4427028e-02]]\n",
      "[[13  0]\n",
      " [15  0]]\n"
     ]
    }
   ],
   "source": [
    "import numpy as np\n",
    "from sklearn.metrics import confusion_matrix\n",
    "\n",
    "# Predict the labels of the test set data in batches\n",
    "y_pred = model.predict(real_test_generator)\n",
    "print(y_pred)\n",
    "\n",
    "# Convert the one-hot encoded labels to class labels\n",
    "y_true = real_test_generator.classes\n",
    "y_pred = np.argmax(y_pred, axis=1)\n",
    "\n",
    "# Calculate the confusion matrix\n",
    "cm = confusion_matrix(y_true, y_pred)\n",
    "print(cm)"
   ]
  },
  {
   "cell_type": "code",
   "execution_count": 8,
   "metadata": {
    "colab": {
     "base_uri": "https://localhost:8080/"
    },
    "executionInfo": {
     "elapsed": 192,
     "status": "ok",
     "timestamp": 1681252808184,
     "user": {
      "displayName": "Jules Lambert",
      "userId": "16844768996944953840"
     },
     "user_tz": 240
    },
    "id": "5_oM5OqPHuaU",
    "outputId": "dc0d45e6-e29f-4aaa-c345-9337d6aa6a07"
   },
   "outputs": [
    {
     "data": {
      "text/plain": [
       "array([0, 0, 0, 0, 0, 0, 0, 0, 0, 0, 0, 0, 0, 0, 0, 0, 0, 0, 0, 0, 0, 0,\n",
       "       0, 0, 0, 0, 0, 0])"
      ]
     },
     "execution_count": 8,
     "metadata": {},
     "output_type": "execute_result"
    }
   ],
   "source": [
    "y_pred"
   ]
  },
  {
   "cell_type": "markdown",
   "metadata": {
    "id": "Vx3E7rxnez7k"
   },
   "source": [
    "# courbe d'apprentissage (learning curve)\n",
    "\n",
    "Nous allons voir un outil qui permet de regarder quand stoper l'entrainement de nos modèle de deep learning. \n",
    "\n",
    "Question : Dessiner la courbe d'apprentissage d'un entrainement. Les fonctions de Keras devrait vous aider."
   ]
  },
  {
   "cell_type": "code",
   "execution_count": null,
   "metadata": {
    "colab": {
     "base_uri": "https://localhost:8080/"
    },
    "executionInfo": {
     "elapsed": 23049,
     "status": "ok",
     "timestamp": 1681213525933,
     "user": {
      "displayName": "Jules Lambert",
      "userId": "16844768996944953840"
     },
     "user_tz": 240
    },
    "id": "3R5710KaQL0x",
    "outputId": "7327b046-41f7-4a57-8b7e-6b10c44b7398"
   },
   "outputs": [
    {
     "name": "stdout",
     "output_type": "stream",
     "text": [
      "Epoch 1/10\n",
      "7/7 [==============================] - 5s 625ms/step - loss: 0.0289 - accuracy: 1.0000 - val_loss: 0.1479 - val_accuracy: 0.9643\n",
      "Epoch 2/10\n",
      "7/7 [==============================] - 1s 192ms/step - loss: 0.0250 - accuracy: 1.0000 - val_loss: 0.1412 - val_accuracy: 0.9286\n",
      "Epoch 3/10\n",
      "7/7 [==============================] - 1s 191ms/step - loss: 0.0280 - accuracy: 0.9954 - val_loss: 0.1787 - val_accuracy: 0.9643\n",
      "Epoch 4/10\n",
      "7/7 [==============================] - 1s 198ms/step - loss: 0.0234 - accuracy: 0.9954 - val_loss: 0.1581 - val_accuracy: 0.9643\n",
      "Epoch 5/10\n",
      "7/7 [==============================] - 1s 200ms/step - loss: 0.0096 - accuracy: 1.0000 - val_loss: 0.1620 - val_accuracy: 0.9643\n",
      "Epoch 6/10\n",
      "7/7 [==============================] - 1s 205ms/step - loss: 0.0151 - accuracy: 1.0000 - val_loss: 0.1887 - val_accuracy: 0.9643\n",
      "Epoch 7/10\n",
      "7/7 [==============================] - 2s 269ms/step - loss: 0.0126 - accuracy: 1.0000 - val_loss: 0.1926 - val_accuracy: 0.9643\n",
      "Epoch 8/10\n",
      "7/7 [==============================] - 2s 313ms/step - loss: 0.0160 - accuracy: 0.9954 - val_loss: 0.1696 - val_accuracy: 0.9286\n",
      "Epoch 9/10\n",
      "7/7 [==============================] - 1s 203ms/step - loss: 0.0164 - accuracy: 1.0000 - val_loss: 0.2068 - val_accuracy: 0.9643\n",
      "Epoch 10/10\n",
      "7/7 [==============================] - 1s 196ms/step - loss: 0.0178 - accuracy: 1.0000 - val_loss: 0.1788 - val_accuracy: 0.9286\n"
     ]
    }
   ],
   "source": [
    "history = model.fit(train_generator, epochs=10, validation_data=test_generator)"
   ]
  },
  {
   "cell_type": "code",
   "execution_count": null,
   "metadata": {
    "colab": {
     "base_uri": "https://localhost:8080/",
     "height": 472
    },
    "executionInfo": {
     "elapsed": 612,
     "status": "ok",
     "timestamp": 1681182657995,
     "user": {
      "displayName": "Jules Lambert",
      "userId": "16844768996944953840"
     },
     "user_tz": 240
    },
    "id": "PkA74-77N23a",
    "outputId": "b8ed2541-cd11-4f70-af58-31d8d2b7f3ee"
   },
   "outputs": [
    {
     "data": {
      "image/png": "[encoded data removed]",
      "text/plain": [
       "<Figure size 640x480 with 1 Axes>"
      ]
     },
     "metadata": {},
     "output_type": "display_data"
    }
   ],
   "source": [
    "import matplotlib.pyplot as plt\n",
    "\n",
    "plt.plot(history.history['loss'], label='training loss')\n",
    "plt.plot(history.history['val_loss'], label='validation loss')\n",
    "plt.title('Training and Validation Loss')\n",
    "plt.xlabel('Epochs')\n",
    "plt.ylabel('Loss')\n",
    "plt.legend()\n",
    "plt.show()"
   ]
  },
  {
   "cell_type": "code",
   "execution_count": null,
   "metadata": {
    "colab": {
     "base_uri": "https://localhost:8080/",
     "height": 472
    },
    "executionInfo": {
     "elapsed": 316,
     "status": "ok",
     "timestamp": 1681182661542,
     "user": {
      "displayName": "Jules Lambert",
      "userId": "16844768996944953840"
     },
     "user_tz": 240
    },
    "id": "ITUtZTUSSj19",
    "outputId": "21f67cc2-f94e-4e6e-e885-55b6c54816f2"
   },
   "outputs": [
    {
     "data": {
      "image/png": "[encoded data removed]",
      "text/plain": [
       "<Figure size 640x480 with 1 Axes>"
      ]
     },
     "metadata": {},
     "output_type": "display_data"
    }
   ],
   "source": [
    "\n",
    "plt.plot(history.history['accuracy'], label='training accuracy')\n",
    "plt.plot(history.history['val_accuracy'], label='validation accuracy')\n",
    "plt.title('Training and Validation Accuracy')\n",
    "plt.xlabel('Epochs')\n",
    "plt.ylabel('Accuracy')\n",
    "plt.legend()\n",
    "plt.show()"
   ]
  },
  {
   "cell_type": "markdown",
   "metadata": {
    "id": "pFZD-AWzTQDZ"
   },
   "source": [
    "L'idée est que nous voudrons arrêter avant que ce soit fini.\n",
    "\n",
    "Question : Fait en sorte que le modèle arrête après que vous ayez 3 epoch qui ont toute faite. Mais demander d'entrainer 30 epoch."
   ]
  },
  {
   "cell_type": "code",
   "execution_count": null,
   "metadata": {
    "colab": {
     "base_uri": "https://localhost:8080/"
    },
    "executionInfo": {
     "elapsed": 27220,
     "status": "ok",
     "timestamp": 1681183666270,
     "user": {
      "displayName": "Jules Lambert",
      "userId": "16844768996944953840"
     },
     "user_tz": 240
    },
    "id": "087lVsC0Vcbm",
    "outputId": "414b801e-681b-4d7b-a0a8-c2a8bb1066be"
   },
   "outputs": [
    {
     "name": "stdout",
     "output_type": "stream",
     "text": [
      "Epoch 1/30\n",
      "8/8 [==============================] - 2s 212ms/step - loss: 0.0306 - accuracy: 0.9834 - val_loss: 0.0299 - val_accuracy: 0.9787\n",
      "Epoch 2/30\n",
      "8/8 [==============================] - 2s 204ms/step - loss: 0.0091 - accuracy: 0.9917 - val_loss: 0.0465 - val_accuracy: 0.9787\n",
      "Epoch 3/30\n",
      "8/8 [==============================] - 2s 304ms/step - loss: 0.0111 - accuracy: 0.9959 - val_loss: 0.0081 - val_accuracy: 1.0000\n",
      "Epoch 4/30\n",
      "8/8 [==============================] - 2s 288ms/step - loss: 0.0045 - accuracy: 1.0000 - val_loss: 0.0083 - val_accuracy: 1.0000\n",
      "Epoch 5/30\n",
      "8/8 [==============================] - 2s 197ms/step - loss: 0.0049 - accuracy: 1.0000 - val_loss: 0.0199 - val_accuracy: 0.9787\n",
      "Epoch 6/30\n",
      "8/8 [==============================] - 2s 233ms/step - loss: 0.0068 - accuracy: 0.9959 - val_loss: 0.0071 - val_accuracy: 1.0000\n",
      "Epoch 7/30\n",
      "8/8 [==============================] - 2s 199ms/step - loss: 0.0039 - accuracy: 1.0000 - val_loss: 0.0044 - val_accuracy: 1.0000\n",
      "Epoch 8/30\n",
      "8/8 [==============================] - 2s 197ms/step - loss: 0.0051 - accuracy: 0.9959 - val_loss: 0.0114 - val_accuracy: 1.0000\n",
      "Epoch 9/30\n",
      "8/8 [==============================] - 2s 225ms/step - loss: 0.0025 - accuracy: 1.0000 - val_loss: 0.0343 - val_accuracy: 0.9787\n",
      "Epoch 10/30\n",
      "8/8 [==============================] - 2s 286ms/step - loss: 0.0115 - accuracy: 1.0000 - val_loss: 0.0058 - val_accuracy: 1.0000\n"
     ]
    },
    {
     "data": {
      "text/plain": [
       "<keras.callbacks.History at 0x7f0c91e26e20>"
      ]
     },
     "execution_count": 63,
     "metadata": {},
     "output_type": "execute_result"
    }
   ],
   "source": [
    "from keras.callbacks import EarlyStopping\n",
    "\n",
    "# Define early stopping callback\n",
    "early_stop = EarlyStopping(monitor='val_loss', patience=3)\n",
    "\n",
    "model.fit(train_generator, epochs=30, validation_data=test_generator, callbacks=[early_stop])"
   ]
  },
  {
   "cell_type": "markdown",
   "metadata": {
    "id": "2H-pkIuyeeav"
   },
   "source": [
    "# Sauvegarder model\n",
    "\n",
    "Pour pouvoir utiliser \n",
    "\n",
    "Ensuite, vous pouvez télécharger le fichier, en allant dans la section fichier \n",
    "a gauche. Clique-droit et sauvarger le fichier. Ainsi vous pourez réutiliser le modèle si vous voulez.\n",
    "\n",
    "Question : sauvegarder votre modèle de machine learning"
   ]
  },
  {
   "cell_type": "code",
   "execution_count": null,
   "metadata": {
    "id": "RFcQi3BUW_ao"
   },
   "outputs": [],
   "source": [
    "model.save('my_model.h5')"
   ]
  },
  {
   "cell_type": "markdown",
   "metadata": {
    "id": "kBS0TdvZrlxZ"
   },
   "source": [
    "# Inférence sur de nouvelle images\n",
    "\n",
    "Pour faire faire l'inférence(i.e. la prédiction), on aura généralement pas à réentrainer un modèle. \n",
    "\n",
    "Question : charger en mémoire le modèle.\n",
    "\n",
    "\n"
   ]
  },
  {
   "cell_type": "code",
   "execution_count": null,
   "metadata": {
    "id": "riahh-Myrkmg"
   },
   "outputs": [],
   "source": [
    "from tensorflow import keras\n",
    "\n",
    "loaded_model = keras.models.load_model('my_model.h5')"
   ]
  },
  {
   "cell_type": "markdown",
   "metadata": {
    "id": "SoMRMcT6XGN9"
   },
   "source": [
    "Question : faite l'inférence de votre modèle sur une image."
   ]
  },
  {
   "cell_type": "code",
   "execution_count": null,
   "metadata": {
    "id": "ZX__XK6nYNzp"
   },
   "outputs": [],
   "source": [
    "image_path = '/content/clean_test/glove/005_0033.jpg'"
   ]
  },
  {
   "cell_type": "code",
   "execution_count": null,
   "metadata": {
    "colab": {
     "base_uri": "https://localhost:8080/",
     "height": 145
    },
    "executionInfo": {
     "elapsed": 5,
     "status": "ok",
     "timestamp": 1681214043332,
     "user": {
      "displayName": "Jules Lambert",
      "userId": "16844768996944953840"
     },
     "user_tz": 240
    },
    "id": "G2ocHkJcQSog",
    "outputId": "d3a4959e-1ed8-48ed-b47d-c6ec8da01333"
   },
   "outputs": [
    {
     "data": {
      "image/png": "[encoded data removed]",
      "text/plain": [
       "<PIL.Image.Image image mode=RGB size=128x128 at 0x7F8B21894580>"
      ]
     },
     "execution_count": 33,
     "metadata": {},
     "output_type": "execute_result"
    }
   ],
   "source": [
    "from PIL import Image\n",
    "import numpy as np\n",
    "\n",
    "img = Image.open(image_path).resize((128, 128))\n",
    "img"
   ]
  },
  {
   "cell_type": "code",
   "execution_count": null,
   "metadata": {
    "id": "uuTfMLPOYdn3"
   },
   "outputs": [],
   "source": []
  },
  {
   "cell_type": "code",
   "execution_count": null,
   "metadata": {
    "colab": {
     "base_uri": "https://localhost:8080/",
     "height": 53
    },
    "executionInfo": {
     "elapsed": 288,
     "status": "ok",
     "timestamp": 1681214045707,
     "user": {
      "displayName": "Jules Lambert",
      "userId": "16844768996944953840"
     },
     "user_tz": 240
    },
    "id": "WDR6MaY5YrvH",
    "outputId": "05b805e2-4094-408f-9c96-d1fbf6e310c8"
   },
   "outputs": [
    {
     "name": "stdout",
     "output_type": "stream",
     "text": [
      "1/1 [==============================] - 0s 20ms/step\n"
     ]
    },
    {
     "data": {
      "application/vnd.google.colaboratory.intrinsic+json": {
       "type": "string"
      },
      "text/plain": [
       "'bat'"
      ]
     },
     "execution_count": 34,
     "metadata": {},
     "output_type": "execute_result"
    }
   ],
   "source": [
    "# Convert the image to a numpy array and normalize its values\n",
    "x = np.array(img) / 255.0\n",
    "\n",
    "# Reshape the array to have a batch dimension of 1\n",
    "x = x.reshape((1, 128, 128, 3))\n",
    "\n",
    "x = test_datagen.flow(x, batch_size=1).next()\n",
    "y_pred = model.predict(x)\n",
    "y_pred_class = np.argmax(y_pred)\n",
    "class_names = list(train_generator.class_indices.keys())\n",
    "predicted_class_name = class_names[y_pred_class]\n",
    "predicted_class_name"
   ]
  },
  {
   "cell_type": "code",
   "execution_count": null,
   "metadata": {
    "id": "iiyeZc0SYuuo"
   },
   "outputs": [],
   "source": []
  },
  {
   "cell_type": "code",
   "execution_count": null,
   "metadata": {
    "id": "MFyTKMgvYxG3"
   },
   "outputs": [],
   "source": []
  },
  {
   "cell_type": "code",
   "execution_count": null,
   "metadata": {
    "id": "NAVrbc5pY0DX"
   },
   "outputs": [],
   "source": []
  },
  {
   "cell_type": "code",
   "execution_count": null,
   "metadata": {
    "id": "mmQxaMSaZUV4"
   },
   "outputs": [],
   "source": []
  },
  {
   "cell_type": "code",
   "execution_count": null,
   "metadata": {
    "id": "cC0uICP_ZVmo"
   },
   "outputs": [],
   "source": []
  },
  {
   "cell_type": "code",
   "execution_count": null,
   "metadata": {
    "id": "VnZWgZ_lZb5I"
   },
   "outputs": [],
   "source": []
  }
 ],
 "metadata": {
  "accelerator": "GPU",
  "colab": {
   "provenance": []
  },
  "gpuClass": "standard",
  "kernelspec": {
   "display_name": "Python 3",
   "name": "python3"
  },
  "language_info": {
   "name": "python"
  },
  "widgets": {
   "application/vnd.jupyter.widget-state+json": {
    "0755ab3153eb4500bae35cbaf451f53f": {
     "model_module": "@jupyter-widgets/base",
     "model_module_version": "1.2.0",
     "model_name": "LayoutModel",
     "state": {
      "_model_module": "@jupyter-widgets/base",
      "_model_module_version": "1.2.0",
      "_model_name": "LayoutModel",
      "_view_count": null,
      "_view_module": "@jupyter-widgets/base",
      "_view_module_version": "1.2.0",
      "_view_name": "LayoutView",
      "align_content": null,
      "align_items": null,
      "align_self": null,
      "border": null,
      "bottom": null,
      "display": null,
      "flex": null,
      "flex_flow": null,
      "grid_area": null,
      "grid_auto_columns": null,
      "grid_auto_flow": null,
      "grid_auto_rows": null,
      "grid_column": null,
      "grid_gap": null,
      "grid_row": null,
      "grid_template_areas": null,
      "grid_template_columns": null,
      "grid_template_rows": null,
      "height": null,
      "justify_content": null,
      "justify_items": null,
      "left": null,
      "margin": null,
      "max_height": null,
      "max_width": null,
      "min_height": null,
      "min_width": null,
      "object_fit": null,
      "object_position": null,
      "order": null,
      "overflow": null,
      "overflow_x": null,
      "overflow_y": null,
      "padding": null,
      "right": null,
      "top": null,
      "visibility": null,
      "width": null
     }
    },
    "0a9d0c9aeebf4521ac16e3272c6f1992": {
     "model_module": "@jupyter-widgets/base",
     "model_module_version": "1.2.0",
     "model_name": "LayoutModel",
     "state": {
      "_model_module": "@jupyter-widgets/base",
      "_model_module_version": "1.2.0",
      "_model_name": "LayoutModel",
      "_view_count": null,
      "_view_module": "@jupyter-widgets/base",
      "_view_module_version": "1.2.0",
      "_view_name": "LayoutView",
      "align_content": null,
      "align_items": null,
      "align_self": null,
      "border": null,
      "bottom": null,
      "display": null,
      "flex": null,
      "flex_flow": null,
      "grid_area": null,
      "grid_auto_columns": null,
      "grid_auto_flow": null,
      "grid_auto_rows": null,
      "grid_column": null,
      "grid_gap": null,
      "grid_row": null,
      "grid_template_areas": null,
      "grid_template_columns": null,
      "grid_template_rows": null,
      "height": null,
      "justify_content": null,
      "justify_items": null,
      "left": null,
      "margin": null,
      "max_height": null,
      "max_width": null,
      "min_height": null,
      "min_width": null,
      "object_fit": null,
      "object_position": null,
      "order": null,
      "overflow": null,
      "overflow_x": null,
      "overflow_y": null,
      "padding": null,
      "right": null,
      "top": null,
      "visibility": null,
      "width": null
     }
    },
    "1ff0edd1544a470aae09b433de994420": {
     "model_module": "@jupyter-widgets/base",
     "model_module_version": "1.2.0",
     "model_name": "LayoutModel",
     "state": {
      "_model_module": "@jupyter-widgets/base",
      "_model_module_version": "1.2.0",
      "_model_name": "LayoutModel",
      "_view_count": null,
      "_view_module": "@jupyter-widgets/base",
      "_view_module_version": "1.2.0",
      "_view_name": "LayoutView",
      "align_content": null,
      "align_items": null,
      "align_self": null,
      "border": null,
      "bottom": null,
      "display": null,
      "flex": null,
      "flex_flow": null,
      "grid_area": null,
      "grid_auto_columns": null,
      "grid_auto_flow": null,
      "grid_auto_rows": null,
      "grid_column": null,
      "grid_gap": null,
      "grid_row": null,
      "grid_template_areas": null,
      "grid_template_columns": null,
      "grid_template_rows": null,
      "height": null,
      "justify_content": null,
      "justify_items": null,
      "left": null,
      "margin": null,
      "max_height": null,
      "max_width": null,
      "min_height": null,
      "min_width": null,
      "object_fit": null,
      "object_position": null,
      "order": null,
      "overflow": null,
      "overflow_x": null,
      "overflow_y": null,
      "padding": null,
      "right": null,
      "top": null,
      "visibility": null,
      "width": null
     }
    },
    "32984ab4ffe142d5bd8c6c705685dd6a": {
     "model_module": "@jupyter-widgets/base",
     "model_module_version": "1.2.0",
     "model_name": "LayoutModel",
     "state": {
      "_model_module": "@jupyter-widgets/base",
      "_model_module_version": "1.2.0",
      "_model_name": "LayoutModel",
      "_view_count": null,
      "_view_module": "@jupyter-widgets/base",
      "_view_module_version": "1.2.0",
      "_view_name": "LayoutView",
      "align_content": null,
      "align_items": null,
      "align_self": null,
      "border": null,
      "bottom": null,
      "display": null,
      "flex": null,
      "flex_flow": null,
      "grid_area": null,
      "grid_auto_columns": null,
      "grid_auto_flow": null,
      "grid_auto_rows": null,
      "grid_column": null,
      "grid_gap": null,
      "grid_row": null,
      "grid_template_areas": null,
      "grid_template_columns": null,
      "grid_template_rows": null,
      "height": null,
      "justify_content": null,
      "justify_items": null,
      "left": null,
      "margin": null,
      "max_height": null,
      "max_width": null,
      "min_height": null,
      "min_width": null,
      "object_fit": null,
      "object_position": null,
      "order": null,
      "overflow": null,
      "overflow_x": null,
      "overflow_y": null,
      "padding": null,
      "right": null,
      "top": null,
      "visibility": null,
      "width": null
     }
    },
    "3f69d29dcc3540148968a721432f42df": {
     "model_module": "@jupyter-widgets/controls",
     "model_module_version": "1.5.0",
     "model_name": "ButtonStyleModel",
     "state": {
      "_model_module": "@jupyter-widgets/controls",
      "_model_module_version": "1.5.0",
      "_model_name": "ButtonStyleModel",
      "_view_count": null,
      "_view_module": "@jupyter-widgets/base",
      "_view_module_version": "1.2.0",
      "_view_name": "StyleView",
      "button_color": null,
      "font_weight": ""
     }
    },
    "412dcb10985846738efb508de0ed8d21": {
     "model_module": "@jupyter-widgets/output",
     "model_module_version": "1.0.0",
     "model_name": "OutputModel",
     "state": {
      "_dom_classes": [],
      "_model_module": "@jupyter-widgets/output",
      "_model_module_version": "1.0.0",
      "_model_name": "OutputModel",
      "_view_count": null,
      "_view_module": "@jupyter-widgets/output",
      "_view_module_version": "1.0.0",
      "_view_name": "OutputView",
      "layout": "IPY_MODEL_7bdfe627d3b64d4daafd7e4e0ad229ad",
      "msg_id": "",
      "outputs": [
       {
        "data": {
         "application/vnd.jupyter.widget-view+json": {
          "model_id": "a0ebac9e5da94031a9634cd75607b497",
          "version_major": 2,
          "version_minor": 0
         },
         "text/plain": "Button(description='previous Image', style=ButtonStyle())"
        },
        "metadata": {},
        "output_type": "display_data"
       }
      ]
     }
    },
    "4a0e70ef68bd49b39c3ff26c879861df": {
     "model_module": "@jupyter-widgets/controls",
     "model_module_version": "1.5.0",
     "model_name": "ButtonModel",
     "state": {
      "_dom_classes": [],
      "_model_module": "@jupyter-widgets/controls",
      "_model_module_version": "1.5.0",
      "_model_name": "ButtonModel",
      "_view_count": null,
      "_view_module": "@jupyter-widgets/controls",
      "_view_module_version": "1.5.0",
      "_view_name": "ButtonView",
      "button_style": "",
      "description": "Delete",
      "disabled": false,
      "icon": "",
      "layout": "IPY_MODEL_1ff0edd1544a470aae09b433de994420",
      "style": "IPY_MODEL_c241dec21f094bf89ad3138a8f396d43",
      "tooltip": ""
     }
    },
    "76775de1ea8940f5861d552bdf3b0d53": {
     "model_module": "@jupyter-widgets/output",
     "model_module_version": "1.0.0",
     "model_name": "OutputModel",
     "state": {
      "_dom_classes": [],
      "_model_module": "@jupyter-widgets/output",
      "_model_module_version": "1.0.0",
      "_model_name": "OutputModel",
      "_view_count": null,
      "_view_module": "@jupyter-widgets/output",
      "_view_module_version": "1.0.0",
      "_view_name": "OutputView",
      "layout": "IPY_MODEL_0a9d0c9aeebf4521ac16e3272c6f1992",
      "msg_id": "",
      "outputs": [
       {
        "data": {
         "application/vnd.jupyter.widget-view+json": {
          "model_id": "c4bd621cb77f4ddb9892913ffe1a1057",
          "version_major": 2,
          "version_minor": 0
         },
         "text/plain": "Button(description='Next Image', style=ButtonStyle())"
        },
        "metadata": {},
        "output_type": "display_data"
       }
      ]
     }
    },
    "7bdfe627d3b64d4daafd7e4e0ad229ad": {
     "model_module": "@jupyter-widgets/base",
     "model_module_version": "1.2.0",
     "model_name": "LayoutModel",
     "state": {
      "_model_module": "@jupyter-widgets/base",
      "_model_module_version": "1.2.0",
      "_model_name": "LayoutModel",
      "_view_count": null,
      "_view_module": "@jupyter-widgets/base",
      "_view_module_version": "1.2.0",
      "_view_name": "LayoutView",
      "align_content": null,
      "align_items": null,
      "align_self": null,
      "border": null,
      "bottom": null,
      "display": null,
      "flex": null,
      "flex_flow": null,
      "grid_area": null,
      "grid_auto_columns": null,
      "grid_auto_flow": null,
      "grid_auto_rows": null,
      "grid_column": null,
      "grid_gap": null,
      "grid_row": null,
      "grid_template_areas": null,
      "grid_template_columns": null,
      "grid_template_rows": null,
      "height": null,
      "justify_content": null,
      "justify_items": null,
      "left": null,
      "margin": null,
      "max_height": null,
      "max_width": null,
      "min_height": null,
      "min_width": null,
      "object_fit": null,
      "object_position": null,
      "order": null,
      "overflow": null,
      "overflow_x": null,
      "overflow_y": null,
      "padding": null,
      "right": null,
      "top": null,
      "visibility": null,
      "width": null
     }
    },
    "8c7523a1633645f4abb245968c16fa33": {
     "model_module": "@jupyter-widgets/base",
     "model_module_version": "1.2.0",
     "model_name": "LayoutModel",
     "state": {
      "_model_module": "@jupyter-widgets/base",
      "_model_module_version": "1.2.0",
      "_model_name": "LayoutModel",
      "_view_count": null,
      "_view_module": "@jupyter-widgets/base",
      "_view_module_version": "1.2.0",
      "_view_name": "LayoutView",
      "align_content": null,
      "align_items": null,
      "align_self": null,
      "border": null,
      "bottom": null,
      "display": null,
      "flex": null,
      "flex_flow": null,
      "grid_area": null,
      "grid_auto_columns": null,
      "grid_auto_flow": null,
      "grid_auto_rows": null,
      "grid_column": null,
      "grid_gap": null,
      "grid_row": null,
      "grid_template_areas": null,
      "grid_template_columns": null,
      "grid_template_rows": null,
      "height": null,
      "justify_content": null,
      "justify_items": null,
      "left": null,
      "margin": null,
      "max_height": null,
      "max_width": null,
      "min_height": null,
      "min_width": null,
      "object_fit": null,
      "object_position": null,
      "order": null,
      "overflow": null,
      "overflow_x": null,
      "overflow_y": null,
      "padding": null,
      "right": null,
      "top": null,
      "visibility": null,
      "width": null
     }
    },
    "95d5e243212147a8a7db10d9ece9efd6": {
     "model_module": "@jupyter-widgets/base",
     "model_module_version": "1.2.0",
     "model_name": "LayoutModel",
     "state": {
      "_model_module": "@jupyter-widgets/base",
      "_model_module_version": "1.2.0",
      "_model_name": "LayoutModel",
      "_view_count": null,
      "_view_module": "@jupyter-widgets/base",
      "_view_module_version": "1.2.0",
      "_view_name": "LayoutView",
      "align_content": null,
      "align_items": null,
      "align_self": null,
      "border": null,
      "bottom": null,
      "display": null,
      "flex": null,
      "flex_flow": null,
      "grid_area": null,
      "grid_auto_columns": null,
      "grid_auto_flow": null,
      "grid_auto_rows": null,
      "grid_column": null,
      "grid_gap": null,
      "grid_row": null,
      "grid_template_areas": null,
      "grid_template_columns": null,
      "grid_template_rows": null,
      "height": null,
      "justify_content": null,
      "justify_items": null,
      "left": null,
      "margin": null,
      "max_height": null,
      "max_width": null,
      "min_height": null,
      "min_width": null,
      "object_fit": null,
      "object_position": null,
      "order": null,
      "overflow": null,
      "overflow_x": null,
      "overflow_y": null,
      "padding": null,
      "right": null,
      "top": null,
      "visibility": null,
      "width": null
     }
    },
    "a0ebac9e5da94031a9634cd75607b497": {
     "model_module": "@jupyter-widgets/controls",
     "model_module_version": "1.5.0",
     "model_name": "ButtonModel",
     "state": {
      "_dom_classes": [],
      "_model_module": "@jupyter-widgets/controls",
      "_model_module_version": "1.5.0",
      "_model_name": "ButtonModel",
      "_view_count": null,
      "_view_module": "@jupyter-widgets/controls",
      "_view_module_version": "1.5.0",
      "_view_name": "ButtonView",
      "button_style": "",
      "description": "previous Image",
      "disabled": false,
      "icon": "",
      "layout": "IPY_MODEL_e6df4ddbc78b4063810b95c463cf010d",
      "style": "IPY_MODEL_ec431af6fb4248608a52fba26965530b",
      "tooltip": ""
     }
    },
    "bf64c7e51adb41949b9835c6b8a8cd62": {
     "model_module": "@jupyter-widgets/controls",
     "model_module_version": "1.5.0",
     "model_name": "ButtonStyleModel",
     "state": {
      "_model_module": "@jupyter-widgets/controls",
      "_model_module_version": "1.5.0",
      "_model_name": "ButtonStyleModel",
      "_view_count": null,
      "_view_module": "@jupyter-widgets/base",
      "_view_module_version": "1.2.0",
      "_view_name": "StyleView",
      "button_color": null,
      "font_weight": ""
     }
    },
    "c241dec21f094bf89ad3138a8f396d43": {
     "model_module": "@jupyter-widgets/controls",
     "model_module_version": "1.5.0",
     "model_name": "ButtonStyleModel",
     "state": {
      "_model_module": "@jupyter-widgets/controls",
      "_model_module_version": "1.5.0",
      "_model_name": "ButtonStyleModel",
      "_view_count": null,
      "_view_module": "@jupyter-widgets/base",
      "_view_module_version": "1.2.0",
      "_view_name": "StyleView",
      "button_color": null,
      "font_weight": ""
     }
    },
    "c4bd621cb77f4ddb9892913ffe1a1057": {
     "model_module": "@jupyter-widgets/controls",
     "model_module_version": "1.5.0",
     "model_name": "ButtonModel",
     "state": {
      "_dom_classes": [],
      "_model_module": "@jupyter-widgets/controls",
      "_model_module_version": "1.5.0",
      "_model_name": "ButtonModel",
      "_view_count": null,
      "_view_module": "@jupyter-widgets/controls",
      "_view_module_version": "1.5.0",
      "_view_name": "ButtonView",
      "button_style": "",
      "description": "Next Image",
      "disabled": false,
      "icon": "",
      "layout": "IPY_MODEL_8c7523a1633645f4abb245968c16fa33",
      "style": "IPY_MODEL_bf64c7e51adb41949b9835c6b8a8cd62",
      "tooltip": ""
     }
    },
    "c736e128cfcc4f28b31b3bdcdc524f1e": {
     "model_module": "@jupyter-widgets/output",
     "model_module_version": "1.0.0",
     "model_name": "OutputModel",
     "state": {
      "_dom_classes": [],
      "_model_module": "@jupyter-widgets/output",
      "_model_module_version": "1.0.0",
      "_model_name": "OutputModel",
      "_view_count": null,
      "_view_module": "@jupyter-widgets/output",
      "_view_module_version": "1.0.0",
      "_view_name": "OutputView",
      "layout": "IPY_MODEL_32984ab4ffe142d5bd8c6c705685dd6a",
      "msg_id": "",
      "outputs": [
       {
        "data": {
         "application/vnd.jupyter.widget-view+json": {
          "model_id": "db21434257484243ac377af9b2e1679e",
          "version_major": 2,
          "version_minor": 0
         },
         "text/plain": "Button(description='Save', style=ButtonStyle())"
        },
        "metadata": {},
        "output_type": "display_data"
       },
       {
        "data": {
         "application/vnd.jupyter.widget-view+json": {
          "model_id": "4a0e70ef68bd49b39c3ff26c879861df",
          "version_major": 2,
          "version_minor": 0
         },
         "text/plain": "Button(description='Delete', style=ButtonStyle())"
        },
        "metadata": {},
        "output_type": "display_data"
       }
      ]
     }
    },
    "db21434257484243ac377af9b2e1679e": {
     "model_module": "@jupyter-widgets/controls",
     "model_module_version": "1.5.0",
     "model_name": "ButtonModel",
     "state": {
      "_dom_classes": [],
      "_model_module": "@jupyter-widgets/controls",
      "_model_module_version": "1.5.0",
      "_model_name": "ButtonModel",
      "_view_count": null,
      "_view_module": "@jupyter-widgets/controls",
      "_view_module_version": "1.5.0",
      "_view_name": "ButtonView",
      "button_style": "",
      "description": "Save",
      "disabled": false,
      "icon": "",
      "layout": "IPY_MODEL_95d5e243212147a8a7db10d9ece9efd6",
      "style": "IPY_MODEL_3f69d29dcc3540148968a721432f42df",
      "tooltip": ""
     }
    },
    "e6df4ddbc78b4063810b95c463cf010d": {
     "model_module": "@jupyter-widgets/base",
     "model_module_version": "1.2.0",
     "model_name": "LayoutModel",
     "state": {
      "_model_module": "@jupyter-widgets/base",
      "_model_module_version": "1.2.0",
      "_model_name": "LayoutModel",
      "_view_count": null,
      "_view_module": "@jupyter-widgets/base",
      "_view_module_version": "1.2.0",
      "_view_name": "LayoutView",
      "align_content": null,
      "align_items": null,
      "align_self": null,
      "border": null,
      "bottom": null,
      "display": null,
      "flex": null,
      "flex_flow": null,
      "grid_area": null,
      "grid_auto_columns": null,
      "grid_auto_flow": null,
      "grid_auto_rows": null,
      "grid_column": null,
      "grid_gap": null,
      "grid_row": null,
      "grid_template_areas": null,
      "grid_template_columns": null,
      "grid_template_rows": null,
      "height": null,
      "justify_content": null,
      "justify_items": null,
      "left": null,
      "margin": null,
      "max_height": null,
      "max_width": null,
      "min_height": null,
      "min_width": null,
      "object_fit": null,
      "object_position": null,
      "order": null,
      "overflow": null,
      "overflow_x": null,
      "overflow_y": null,
      "padding": null,
      "right": null,
      "top": null,
      "visibility": null,
      "width": null
     }
    },
    "ec431af6fb4248608a52fba26965530b": {
     "model_module": "@jupyter-widgets/controls",
     "model_module_version": "1.5.0",
     "model_name": "ButtonStyleModel",
     "state": {
      "_model_module": "@jupyter-widgets/controls",
      "_model_module_version": "1.5.0",
      "_model_name": "ButtonStyleModel",
      "_view_count": null,
      "_view_module": "@jupyter-widgets/base",
      "_view_module_version": "1.2.0",
      "_view_name": "StyleView",
      "button_color": null,
      "font_weight": ""
     }
    },
    "fb77f926e2404b04bdbef1756dea0ba6": {
     "model_module": "@jupyter-widgets/output",
     "model_module_version": "1.0.0",
     "model_name": "OutputModel",
     "state": {
      "_dom_classes": [],
      "_model_module": "@jupyter-widgets/output",
      "_model_module_version": "1.0.0",
      "_model_name": "OutputModel",
      "_view_count": null,
      "_view_module": "@jupyter-widgets/output",
      "_view_module_version": "1.0.0",
      "_view_name": "OutputView",
      "layout": "IPY_MODEL_0755ab3153eb4500bae35cbaf451f53f",
      "msg_id": "",
      "outputs": [
       {
        "data": {
         "image/jpeg": "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\n",
         "text/plain": "<IPython.core.display.Image object>"
        },
        "metadata": {},
        "output_type": "display_data"
       }
      ]
     }
    }
   }
  }
 },
 "nbformat": 4,
 "nbformat_minor": 0
}
