{
 "cells": [
  {
   "cell_type": "markdown",
   "metadata": {
    "id": "VDg52CrcWR7N"
   },
   "source": [
    "# Murales"
   ]
  },
  {
   "cell_type": "markdown",
   "metadata": {
    "id": "cz0ZwXewXb6E"
   },
   "source": [
    "Cet exercice vise à explorer les opérations de base de Pandas avec des [données ouvertes sur les murales de Montréal](https://donnees.montreal.ca/ville-de-montreal/murales) fournies par la Ville de Montréal.\n",
    "\n",
    "Le but de l'exercice est d'**identifier l'arrondissement de Montréal ayant le plus de murales**.\n",
    "\n",
    "Au besoin, se référer au [Guide de base Pandas](https://colab.research.google.com/drive/193iDeAjPXpwVoSZAHaZG_wQleAie7wrq?usp=sharing) de Montréal-Python.\n",
    "\n",
    "_Note:  \n",
    "Cet exercice est une réécriture d'un [autre exercice Murales](https://colab.research.google.com/drive/1rwQXoREw-_uTFMDoIv7_q-xFYboCu7_W?usp=sharing) de Montréal-Python.  \n",
    "L'autre visait à s'exercer avec les types de base, celui-ci vise à s'exercer avec pandas._\n"
   ]
  },
  {
   "cell_type": "markdown",
   "metadata": {
    "id": "Ion-KsO0by0w"
   },
   "source": [
    "## Récupérer vos données\n",
    "\n",
    "Pour cet exercice, vous pouvez\n",
    "* soit prendre les [données récentes](https://donnees.montreal.ca/ville-de-montreal/murales) directement de la Ville de Montréal\n",
    "    * récupérez-les au format CSV\n",
    "* soit prendre le [jeu de données fourni par Montréal-Python](https://raw.githubusercontent.com/mtlpy/mp-84-atelier/master/murales_montreal_2021.csv)\n",
    "    * le solutionnaire utilise ce jeu de données\n",
    "\n",
    "Les données sont assez intuitives mais vous pouvez vous référer au [dictionnaire de données](https://donnees.montreal.ca/ville-de-montreal/murales) sur la page du jeu de données."
   ]
  },
  {
   "cell_type": "markdown",
   "metadata": {
    "id": "AyZ-6fTVfwFn"
   },
   "source": [
    "## Charger vos données\n",
    "\n",
    "Première étape, chargez vos données à l'aide de la _librarie_ Pandas.\n",
    "\n"
   ]
  },
  {
   "cell_type": "markdown",
   "metadata": {
    "id": "6usWoax_f0cS"
   },
   "source": [
    "### Import\n",
    "\n",
    "D'abord, dans Colab, importez la _librarie_ `pandas` en suivant la convention de nommage habituelle.\n",
    "\n"
   ]
  },
  {
   "cell_type": "code",
   "execution_count": null,
   "metadata": {
    "id": "z8IbqgK24j3X"
   },
   "outputs": [],
   "source": []
  },
  {
   "cell_type": "markdown",
   "metadata": {
    "id": "Seq6tJUUf4qK"
   },
   "source": [
    "### Charger\n",
    "\n",
    "Finalement, chargez vos données CSV dans une variable nommée `data` à l'aide de la fonction appropriée. (Indice: la fonction se trouve au premier niveau du _namespace_ de la _librairie_ `pandas`... introspectez le namespace à la racine.)\n",
    "\n",
    "Si vous travaillez avec le jeu de données de Montréal-Python\n",
    "* prenez le fichier https://raw.githubusercontent.com/mtlpy/mtlpy-exercises/main/mtl/murales/murales.csv"
   ]
  },
  {
   "cell_type": "markdown",
   "metadata": {
    "id": "M0Trs8ZAgeIC"
   },
   "source": [
    "## Explorer et préparer les données\n"
   ]
  },
  {
   "cell_type": "markdown",
   "metadata": {
    "id": "9pCb40Ahglkh"
   },
   "source": [
    "### Vue d'ensemble\n",
    "\n",
    "Prenez connaissance de manière générale des données chargées\n",
    "* volumétrie des colonnes et rangées\n",
    "* noms des colonnes\n",
    "* aperçu des types et des valeurs des données\n",
    "\n",
    "Est-ce que le dictionnaire de données semble cohérent avec ce que vous voyez?"
   ]
  },
  {
   "cell_type": "markdown",
   "metadata": {
    "id": "4qJW7ZH-azOL"
   },
   "source": [
    "### Vérifier les valeurs\n",
    "\n",
    "Il est utile de vérifier les valeurs de toutes les colonnes (surtout quand les données ne sont pas documentées) afin d'avoir une meilleure idée de leur sémantique et de leurs relations.\n",
    "\n",
    "Vérifiez\n",
    "* les valeurs uniques de chaque colonne\n",
    "    * y a-t-il des valeurs nulles?\n",
    "    * y a-t-il des erreurs ou des valeurs mal formattées (à transformer)?\n",
    "* le nombre d'occurence de chaque valeur\n",
    "    * les valeurs nulles ou erronées sont-elles marginales?\n"
   ]
  },
  {
   "cell_type": "markdown",
   "metadata": {
    "id": "fuokdTTkcEqc"
   },
   "source": [
    "## Analyser les données\n",
    "\n",
    "Maintenant, vous connaissez votre jeu de données.\n",
    "\n",
    "Identifiez les colonnes qui sont nécessaires pour trouver l'arrondissement ayant le plus de murales."
   ]
  },
  {
   "cell_type": "markdown",
   "metadata": {
    "id": "VxRxjW3FdD0m"
   },
   "source": [
    "### Exercice: arrondissement avec le plus de murales"
   ]
  },
  {
   "cell_type": "markdown",
   "metadata": {
    "id": "uFYkYq62dRpJ"
   },
   "source": [
    "Identifiez l'arrondissement qui a le plus de murales (c'est celui qui a le plus d'occurences, celui qui apparaît avec le plus grand nombre de rangées)."
   ]
  },
  {
   "cell_type": "markdown",
   "metadata": {
    "id": "zF9kHtQnd5Bp"
   },
   "source": [
    "## Aller plus loin"
   ]
  },
  {
   "cell_type": "markdown",
   "metadata": {
    "id": "Bue3bYWreDUx"
   },
   "source": [
    "### Exercice: plus d'occurences en premier\n"
   ]
  },
  {
   "cell_type": "markdown",
   "metadata": {
    "id": "iAcirkhmeTQg"
   },
   "source": [
    "Triez les arrondissements avec en premier les arrondissements ayant le plus d'occurences."
   ]
  },
  {
   "cell_type": "markdown",
   "metadata": {
    "id": "uCW9noDGeGrN"
   },
   "source": [
    "### Exercice: 3 premiers résultats dans un format agréable à lire"
   ]
  },
  {
   "cell_type": "markdown",
   "metadata": {
    "id": "teG5edxVelSG"
   },
   "source": [
    "Affichez les 3 premiers résultats dans un format plus agréable à lire.  Par exemple: \n",
    "\n",
    "* Nom 1: 21\n",
    "* Nom 2: 10"
   ]
  },
  {
   "cell_type": "markdown",
   "metadata": {
    "id": "pXyACheyeNa4"
   },
   "source": [
    "### Exercice: trier sur nom d'arrondissement\n"
   ]
  },
  {
   "cell_type": "markdown",
   "metadata": {
    "id": "DwaCyF8DfAFU"
   },
   "source": [
    "Triez la liste en ordre alphabétique sur le nom de l'arrondissement plutôt que sur le nombre d'occurrences."
   ]
  },
  {
   "cell_type": "markdown",
   "metadata": {
    "id": "ipoDCgQXgBy1"
   },
   "source": [
    "### Autres exercices"
   ]
  },
  {
   "cell_type": "markdown",
   "metadata": {
    "id": "xRRjHYcQgDx_"
   },
   "source": [
    "L'[exercice Arbres]() utilise aussi un jeu de données ouvertes de la Ville de Montréal mais va plus loin dans les **requêtes** sur les données (et optionnellement sur le **nettoyage des données**). \n",
    "\n",
    "L'[exercice Hydro](https://colab.research.google.com/drive/1ncLXLOEI4kfp81c6LKvDaRQ4siKK_pfJ?authuser=1) va plus loin dans le **nettoyage des données** et explore la **visualisation de données**."
   ]
  },
  {
   "cell_type": "markdown",
   "metadata": {
    "id": "bFbqDzgi8vbV"
   },
   "source": [
    "## Solutionnaire\n",
    "\n",
    "Voici le [solutionnaire](https://colab.research.google.com/drive/14QfNM7SOsVtlb916Gtm5HuhHxmDeo3AE)."
   ]
  },
  {
   "cell_type": "markdown",
   "metadata": {
    "id": "6hGkQNAsWgVW"
   },
   "source": [
    "# Licence"
   ]
  },
  {
   "cell_type": "markdown",
   "metadata": {
    "id": "msio-Jk0WoBC"
   },
   "source": [
    "Copyright 2021 Montréal-Python\n",
    "\n",
    "Permission is hereby granted, free of charge, to any person obtaining a copy of this software and associated documentation files (the \"Software\"), to deal in the Software without restriction, including without limitation the rights to use, copy, modify, merge, publish, distribute, sublicense, and/or sell copies of the Software, and to permit persons to whom the Software is furnished to do so, subject to the following conditions:\n",
    "\n",
    "The above copyright notice and this permission notice shall be included in all copies or substantial portions of the Software.\n",
    "\n",
    "THE SOFTWARE IS PROVIDED \"AS IS\", WITHOUT WARRANTY OF ANY KIND, EXPRESS OR IMPLIED, INCLUDING BUT NOT LIMITED TO THE WARRANTIES OF MERCHANTABILITY, FITNESS FOR A PARTICULAR PURPOSE AND NONINFRINGEMENT. IN NO EVENT SHALL THE AUTHORS OR COPYRIGHT HOLDERS BE LIABLE FOR ANY CLAIM, DAMAGES OR OTHER LIABILITY, WHETHER IN AN ACTION OF CONTRACT, TORT OR OTHERWISE, ARISING FROM, OUT OF OR IN CONNECTION WITH THE SOFTWARE OR THE USE OR OTHER DEALINGS IN THE SOFTWARE.\n"
   ]
  }
 ],
 "metadata": {
  "colab": {
   "name": "Murales.ipynb",
   "provenance": [],
   "toc_visible": true
  },
  "kernelspec": {
   "display_name": "Python 3",
   "name": "python3"
  },
  "language_info": {
   "name": "python"
  }
 },
 "nbformat": 4,
 "nbformat_minor": 0
}
