{
 "cells": [
  {
   "cell_type": "markdown",
   "metadata": {
    "id": "m0mOuYWlrZ-k"
   },
   "source": [
    "# Arbres : solutionnaire"
   ]
  },
  {
   "cell_type": "markdown",
   "metadata": {
    "id": "R1ZlEW-RrdqH"
   },
   "source": [
    "_Note:  \n",
    "Ce solutionnaire utilise le **jeu de données de Montréal-Python** car les données sources de la Ville de Montréal peuvent changer dans le temps (structure et données). Le jeu de données de Montréal-Python assure la pérennité du solutionnaire (pas besoin de changer le nom des colonnes, par exemple :) )._"
   ]
  },
  {
   "cell_type": "markdown",
   "metadata": {
    "id": "WNsiaL2Kr_6P"
   },
   "source": [
    "## Installer pandas\n",
    "\n",
    "`pandas` n'est pas dans la _Standard Library_ (ne vient pas par défaut avec Python), faut donc l'installer\n",
    "* Pour Colab, c'est installé par défaut, pas besoin d'installer, sinon on pourrait le faire avec `!pip install pandas`\n",
    "* Machine locale `pip install pandas`"
   ]
  },
  {
   "cell_type": "code",
   "execution_count": null,
   "metadata": {
    "id": "eF-fhB1wMJj6"
   },
   "outputs": [],
   "source": []
  },
  {
   "cell_type": "markdown",
   "metadata": {
    "id": "IZ_4x26TsCOK"
   },
   "source": [
    "## Charger vos données"
   ]
  },
  {
   "cell_type": "markdown",
   "metadata": {
    "id": "58aE0tCPsExy"
   },
   "source": [
    "### Import\n",
    "\n",
    "Par convention, on renomme `pd`."
   ]
  },
  {
   "cell_type": "code",
   "execution_count": null,
   "metadata": {
    "id": "wFln8BIMsHFn"
   },
   "outputs": [],
   "source": [
    "import pandas as pd"
   ]
  },
  {
   "cell_type": "markdown",
   "metadata": {
    "id": "EyZMq-f_sJwu"
   },
   "source": [
    "### Charger\n",
    "\n",
    "Pandas a des readers pour différents formats de données, incluant CSV."
   ]
  },
  {
   "cell_type": "code",
   "execution_count": null,
   "metadata": {
    "colab": {
     "base_uri": "https://localhost:8080/"
    },
    "executionInfo": {
     "elapsed": 3058,
     "status": "ok",
     "timestamp": 1636751639374,
     "user": {
      "displayName": "Davin Baragiotta",
      "photoUrl": "https://lh3.googleusercontent.com/a-/AOh14Gg6DfnEVWWgyS_Ai1m5Tgy-moL9KpBUeBN0kZE3Gg=s64",
      "userId": "13717336720242547762"
     },
     "user_tz": 300
    },
    "id": "83ubSE8JsNWF",
    "outputId": "5ee0801d-b56e-4df0-9618-f61027dc8f09"
   },
   "outputs": [
    {
     "name": "stderr",
     "output_type": "stream",
     "text": [
      "/usr/local/lib/python3.7/dist-packages/IPython/core/interactiveshell.py:2718: DtypeWarning: Columns (4,5,17,18,19) have mixed types.Specify dtype option on import or set low_memory=False.\n",
      "  interactivity=interactivity, compiler=compiler, result=result)\n"
     ]
    }
   ],
   "source": [
    "url = \"https://raw.githubusercontent.com/mtlpy/mtlpy-exercises/main/mtl/arbres/arbres-publics.csv\"\n",
    "data = pd.read_csv(url)"
   ]
  },
  {
   "cell_type": "markdown",
   "metadata": {
    "id": "mZVMNO_3sYVa"
   },
   "source": [
    "## Explorer et préparer les données\n"
   ]
  },
  {
   "cell_type": "markdown",
   "metadata": {
    "id": "xum3y5_Lsbp8"
   },
   "source": [
    "### Vue d'ensemble"
   ]
  },
  {
   "cell_type": "code",
   "execution_count": null,
   "metadata": {
    "colab": {
     "base_uri": "https://localhost:8080/",
     "height": 826
    },
    "executionInfo": {
     "elapsed": 220,
     "status": "ok",
     "timestamp": 1632933291332,
     "user": {
      "displayName": "Davin Baragiotta",
      "photoUrl": "https://lh3.googleusercontent.com/a-/AOh14Gg6DfnEVWWgyS_Ai1m5Tgy-moL9KpBUeBN0kZE3Gg=s64",
      "userId": "13717336720242547762"
     },
     "user_tz": 240
    },
    "id": "ULZxv80lsk5f",
    "outputId": "2ef76cce-e240-42e8-9537-c596fdbc7a36"
   },
   "outputs": [
    {
     "data": {
      "text/html": [
       "<div>\n",
       "<style scoped>\n",
       "    .dataframe tbody tr th:only-of-type {\n",
       "        vertical-align: middle;\n",
       "    }\n",
       "\n",
       "    .dataframe tbody tr th {\n",
       "        vertical-align: top;\n",
       "    }\n",
       "\n",
       "    .dataframe thead th {\n",
       "        text-align: right;\n",
       "    }\n",
       "</style>\n",
       "<table border=\"1\" class=\"dataframe\">\n",
       "  <thead>\n",
       "    <tr style=\"text-align: right;\">\n",
       "      <th></th>\n",
       "      <th>INV_TYPE</th>\n",
       "      <th>EMP_NO</th>\n",
       "      <th>ARROND</th>\n",
       "      <th>ARROND_NOM</th>\n",
       "      <th>Rue</th>\n",
       "      <th>COTE</th>\n",
       "      <th>No_civique</th>\n",
       "      <th>Emplacement</th>\n",
       "      <th>Coord_X</th>\n",
       "      <th>Coord_Y</th>\n",
       "      <th>SIGLE</th>\n",
       "      <th>Essence_latin</th>\n",
       "      <th>Essence_fr</th>\n",
       "      <th>ESSENCE_ANG</th>\n",
       "      <th>DHP</th>\n",
       "      <th>Date_releve</th>\n",
       "      <th>Date_plantation</th>\n",
       "      <th>LOCALISATION</th>\n",
       "      <th>CODE_PARC</th>\n",
       "      <th>NOM_PARC</th>\n",
       "      <th>Longitude</th>\n",
       "      <th>Latitude</th>\n",
       "    </tr>\n",
       "  </thead>\n",
       "  <tbody>\n",
       "    <tr>\n",
       "      <th>0</th>\n",
       "      <td>H</td>\n",
       "      <td>6</td>\n",
       "      <td>1</td>\n",
       "      <td>Ahuntsic - Cartierville</td>\n",
       "      <td>NaN</td>\n",
       "      <td>NaN</td>\n",
       "      <td>NaN</td>\n",
       "      <td>Parterre Gazonné</td>\n",
       "      <td>287967.933</td>\n",
       "      <td>5043937.611</td>\n",
       "      <td>GLTRSK</td>\n",
       "      <td>Gleditsia triacanthos 'Skyline'</td>\n",
       "      <td>Févier Skyline</td>\n",
       "      <td>Skyline Honey-Locust</td>\n",
       "      <td>25.0</td>\n",
       "      <td>2018-06-26T00:00:00</td>\n",
       "      <td>2004-06-10T00:00:00</td>\n",
       "      <td>NaN</td>\n",
       "      <td>0005-000</td>\n",
       "      <td>RAIMBAULT</td>\n",
       "      <td>-73.715515</td>\n",
       "      <td>45.535151</td>\n",
       "    </tr>\n",
       "    <tr>\n",
       "      <th>1</th>\n",
       "      <td>H</td>\n",
       "      <td>7</td>\n",
       "      <td>1</td>\n",
       "      <td>Ahuntsic - Cartierville</td>\n",
       "      <td>NaN</td>\n",
       "      <td>NaN</td>\n",
       "      <td>NaN</td>\n",
       "      <td>Parterre Gazonné</td>\n",
       "      <td>287961.715</td>\n",
       "      <td>5043945.204</td>\n",
       "      <td>GLTRSK</td>\n",
       "      <td>Gleditsia triacanthos 'Skyline'</td>\n",
       "      <td>Févier Skyline</td>\n",
       "      <td>Skyline Honey-Locust</td>\n",
       "      <td>32.0</td>\n",
       "      <td>2018-06-27T00:00:00</td>\n",
       "      <td>2004-06-18T00:00:00</td>\n",
       "      <td>NaN</td>\n",
       "      <td>0005-000</td>\n",
       "      <td>RAIMBAULT</td>\n",
       "      <td>-73.715595</td>\n",
       "      <td>45.535219</td>\n",
       "    </tr>\n",
       "    <tr>\n",
       "      <th>2</th>\n",
       "      <td>H</td>\n",
       "      <td>8</td>\n",
       "      <td>1</td>\n",
       "      <td>Ahuntsic - Cartierville</td>\n",
       "      <td>NaN</td>\n",
       "      <td>NaN</td>\n",
       "      <td>NaN</td>\n",
       "      <td>Parterre Gazonné</td>\n",
       "      <td>287956.685</td>\n",
       "      <td>5043932.522</td>\n",
       "      <td>GYDI</td>\n",
       "      <td>Gymnocladus dioicus</td>\n",
       "      <td>Chicot du Canada</td>\n",
       "      <td>Kentucky Coffee Tree</td>\n",
       "      <td>21.0</td>\n",
       "      <td>2018-06-27T00:00:00</td>\n",
       "      <td>2004-06-10T00:00:00</td>\n",
       "      <td>NaN</td>\n",
       "      <td>0005-000</td>\n",
       "      <td>RAIMBAULT</td>\n",
       "      <td>-73.715659</td>\n",
       "      <td>45.535105</td>\n",
       "    </tr>\n",
       "    <tr>\n",
       "      <th>3</th>\n",
       "      <td>H</td>\n",
       "      <td>9</td>\n",
       "      <td>1</td>\n",
       "      <td>Ahuntsic - Cartierville</td>\n",
       "      <td>NaN</td>\n",
       "      <td>NaN</td>\n",
       "      <td>NaN</td>\n",
       "      <td>Parterre Gazonné</td>\n",
       "      <td>287985.011</td>\n",
       "      <td>5043989.384</td>\n",
       "      <td>FRNIFG</td>\n",
       "      <td>Fraxinus nigra 'Fall Gold'</td>\n",
       "      <td>Frêne noir Fall Gold</td>\n",
       "      <td>Fall Gold Black Ash</td>\n",
       "      <td>5.0</td>\n",
       "      <td>2018-07-12T00:00:00</td>\n",
       "      <td>2004-06-18T00:00:00</td>\n",
       "      <td>NaN</td>\n",
       "      <td>0005-000</td>\n",
       "      <td>RAIMBAULT</td>\n",
       "      <td>-73.715298</td>\n",
       "      <td>45.535617</td>\n",
       "    </tr>\n",
       "    <tr>\n",
       "      <th>4</th>\n",
       "      <td>H</td>\n",
       "      <td>10</td>\n",
       "      <td>1</td>\n",
       "      <td>Ahuntsic - Cartierville</td>\n",
       "      <td>NaN</td>\n",
       "      <td>NaN</td>\n",
       "      <td>NaN</td>\n",
       "      <td>Parterre Gazonné</td>\n",
       "      <td>287961.737</td>\n",
       "      <td>5043987.310</td>\n",
       "      <td>QURU</td>\n",
       "      <td>Quercus rubra</td>\n",
       "      <td>Chêne rouge</td>\n",
       "      <td>Red Oak</td>\n",
       "      <td>34.0</td>\n",
       "      <td>2018-06-27T00:00:00</td>\n",
       "      <td>2004-06-18T00:00:00</td>\n",
       "      <td>NaN</td>\n",
       "      <td>0005-000</td>\n",
       "      <td>RAIMBAULT</td>\n",
       "      <td>-73.715596</td>\n",
       "      <td>45.535598</td>\n",
       "    </tr>\n",
       "    <tr>\n",
       "      <th>...</th>\n",
       "      <td>...</td>\n",
       "      <td>...</td>\n",
       "      <td>...</td>\n",
       "      <td>...</td>\n",
       "      <td>...</td>\n",
       "      <td>...</td>\n",
       "      <td>...</td>\n",
       "      <td>...</td>\n",
       "      <td>...</td>\n",
       "      <td>...</td>\n",
       "      <td>...</td>\n",
       "      <td>...</td>\n",
       "      <td>...</td>\n",
       "      <td>...</td>\n",
       "      <td>...</td>\n",
       "      <td>...</td>\n",
       "      <td>...</td>\n",
       "      <td>...</td>\n",
       "      <td>...</td>\n",
       "      <td>...</td>\n",
       "      <td>...</td>\n",
       "      <td>...</td>\n",
       "    </tr>\n",
       "    <tr>\n",
       "      <th>321194</th>\n",
       "      <td>R</td>\n",
       "      <td>40177</td>\n",
       "      <td>33</td>\n",
       "      <td>Montréal-Est</td>\n",
       "      <td>Boulevard Henri-Bourassa Est                  ...</td>\n",
       "      <td>S</td>\n",
       "      <td>9150.0</td>\n",
       "      <td>PaRterre</td>\n",
       "      <td>300094.284</td>\n",
       "      <td>5055478.049</td>\n",
       "      <td>ULAM</td>\n",
       "      <td>Ulmus americana</td>\n",
       "      <td>Orme d'Amérique</td>\n",
       "      <td>White Elm</td>\n",
       "      <td>14.0</td>\n",
       "      <td>1990-07-01T00:00:00</td>\n",
       "      <td>NaN</td>\n",
       "      <td>378 m. à l'Est du 9150</td>\n",
       "      <td>NaN</td>\n",
       "      <td>NaN</td>\n",
       "      <td>-73.560363</td>\n",
       "      <td>45.639183</td>\n",
       "    </tr>\n",
       "    <tr>\n",
       "      <th>321195</th>\n",
       "      <td>R</td>\n",
       "      <td>40183</td>\n",
       "      <td>33</td>\n",
       "      <td>Montréal-Est</td>\n",
       "      <td>Boulevard Henri-Bourassa Est                  ...</td>\n",
       "      <td>S</td>\n",
       "      <td>9150.0</td>\n",
       "      <td>PaRterre</td>\n",
       "      <td>300090.780</td>\n",
       "      <td>5055478.048</td>\n",
       "      <td>QUMA</td>\n",
       "      <td>Quercus macrocarpa</td>\n",
       "      <td>Chêne à gros fruits</td>\n",
       "      <td>Bur Oak</td>\n",
       "      <td>14.0</td>\n",
       "      <td>1990-07-01T00:00:00</td>\n",
       "      <td>NaN</td>\n",
       "      <td>343 m. à l'Est du 9150</td>\n",
       "      <td>NaN</td>\n",
       "      <td>NaN</td>\n",
       "      <td>-73.560408</td>\n",
       "      <td>45.639183</td>\n",
       "    </tr>\n",
       "    <tr>\n",
       "      <th>321196</th>\n",
       "      <td>R</td>\n",
       "      <td>40185</td>\n",
       "      <td>33</td>\n",
       "      <td>Montréal-Est</td>\n",
       "      <td>Boulevard Henri-Bourassa Est                  ...</td>\n",
       "      <td>S</td>\n",
       "      <td>9150.0</td>\n",
       "      <td>PaRterre</td>\n",
       "      <td>300096.781</td>\n",
       "      <td>5055478.045</td>\n",
       "      <td>ULAM</td>\n",
       "      <td>Ulmus americana</td>\n",
       "      <td>Orme d'Amérique</td>\n",
       "      <td>White Elm</td>\n",
       "      <td>12.0</td>\n",
       "      <td>1990-07-01T00:00:00</td>\n",
       "      <td>NaN</td>\n",
       "      <td>403 m. à l'Est du 9150</td>\n",
       "      <td>NaN</td>\n",
       "      <td>NaN</td>\n",
       "      <td>-73.560331</td>\n",
       "      <td>45.639183</td>\n",
       "    </tr>\n",
       "    <tr>\n",
       "      <th>321197</th>\n",
       "      <td>R</td>\n",
       "      <td>40186</td>\n",
       "      <td>33</td>\n",
       "      <td>Montréal-Est</td>\n",
       "      <td>Boulevard Henri-Bourassa Est                  ...</td>\n",
       "      <td>S</td>\n",
       "      <td>9150.0</td>\n",
       "      <td>PaRterre</td>\n",
       "      <td>300096.982</td>\n",
       "      <td>5055478.046</td>\n",
       "      <td>ULAM</td>\n",
       "      <td>Ulmus americana</td>\n",
       "      <td>Orme d'Amérique</td>\n",
       "      <td>White Elm</td>\n",
       "      <td>10.0</td>\n",
       "      <td>1990-07-01T00:00:00</td>\n",
       "      <td>NaN</td>\n",
       "      <td>405 m. à l'Est du 9150</td>\n",
       "      <td>NaN</td>\n",
       "      <td>NaN</td>\n",
       "      <td>-73.560328</td>\n",
       "      <td>45.639183</td>\n",
       "    </tr>\n",
       "    <tr>\n",
       "      <th>321198</th>\n",
       "      <td>R</td>\n",
       "      <td>40187</td>\n",
       "      <td>33</td>\n",
       "      <td>Montréal-Est</td>\n",
       "      <td>Boulevard Henri-Bourassa Est                  ...</td>\n",
       "      <td>S</td>\n",
       "      <td>9150.0</td>\n",
       "      <td>PaRterre</td>\n",
       "      <td>300099.583</td>\n",
       "      <td>5055478.045</td>\n",
       "      <td>ULAM</td>\n",
       "      <td>Ulmus americana</td>\n",
       "      <td>Orme d'Amérique</td>\n",
       "      <td>White Elm</td>\n",
       "      <td>13.0</td>\n",
       "      <td>1990-07-01T00:00:00</td>\n",
       "      <td>NaN</td>\n",
       "      <td>431 m. à l'Est du 9150</td>\n",
       "      <td>NaN</td>\n",
       "      <td>NaN</td>\n",
       "      <td>-73.560295</td>\n",
       "      <td>45.639183</td>\n",
       "    </tr>\n",
       "  </tbody>\n",
       "</table>\n",
       "<p>321199 rows × 22 columns</p>\n",
       "</div>"
      ],
      "text/plain": [
       "       INV_TYPE  EMP_NO  ARROND  ...   NOM_PARC  Longitude   Latitude\n",
       "0             H       6       1  ...  RAIMBAULT -73.715515  45.535151\n",
       "1             H       7       1  ...  RAIMBAULT -73.715595  45.535219\n",
       "2             H       8       1  ...  RAIMBAULT -73.715659  45.535105\n",
       "3             H       9       1  ...  RAIMBAULT -73.715298  45.535617\n",
       "4             H      10       1  ...  RAIMBAULT -73.715596  45.535598\n",
       "...         ...     ...     ...  ...        ...        ...        ...\n",
       "321194        R   40177      33  ...        NaN -73.560363  45.639183\n",
       "321195        R   40183      33  ...        NaN -73.560408  45.639183\n",
       "321196        R   40185      33  ...        NaN -73.560331  45.639183\n",
       "321197        R   40186      33  ...        NaN -73.560328  45.639183\n",
       "321198        R   40187      33  ...        NaN -73.560295  45.639183\n",
       "\n",
       "[321199 rows x 22 columns]"
      ]
     },
     "execution_count": 3,
     "metadata": {},
     "output_type": "execute_result"
    }
   ],
   "source": [
    "# volumétrie des colonnes et rangées et\n",
    "# aperçu des types et valeurs des données\n",
    "data"
   ]
  },
  {
   "cell_type": "markdown",
   "metadata": {
    "id": "08ZDVrvRsxfF"
   },
   "source": [
    "Chaque rangée représente un arbre. Il est légitime de croire qu'il n'y a pas de doublon et de se fier à l'effort d'inventaire mais nous pourrions vouloir analyser les données pour en être sûr (exemple, les latitude et longitude de chaque murale sont biens uniques?)."
   ]
  },
  {
   "cell_type": "code",
   "execution_count": null,
   "metadata": {
    "colab": {
     "base_uri": "https://localhost:8080/"
    },
    "executionInfo": {
     "elapsed": 185,
     "status": "ok",
     "timestamp": 1636751643759,
     "user": {
      "displayName": "Davin Baragiotta",
      "photoUrl": "https://lh3.googleusercontent.com/a-/AOh14Gg6DfnEVWWgyS_Ai1m5Tgy-moL9KpBUeBN0kZE3Gg=s64",
      "userId": "13717336720242547762"
     },
     "user_tz": 300
    },
    "id": "cOIFLFfktGoC",
    "outputId": "9f981d2d-a4ba-458b-8a40-21a0d2490fda"
   },
   "outputs": [
    {
     "data": {
      "text/plain": [
       "Index(['INV_TYPE', 'EMP_NO', 'ARROND', 'ARROND_NOM', 'Rue', 'COTE',\n",
       "       'No_civique', 'Emplacement', 'Coord_X', 'Coord_Y', 'SIGLE',\n",
       "       'Essence_latin', 'Essence_fr', 'ESSENCE_ANG', 'DHP', 'Date_releve',\n",
       "       'Date_plantation', 'LOCALISATION', 'CODE_PARC', 'NOM_PARC', 'Longitude',\n",
       "       'Latitude'],\n",
       "      dtype='object')"
      ]
     },
     "execution_count": 3,
     "metadata": {},
     "output_type": "execute_result"
    }
   ],
   "source": [
    "# nom des colonnes\n",
    "data.columns"
   ]
  },
  {
   "cell_type": "markdown",
   "metadata": {
    "id": "yT4HR0ykugup"
   },
   "source": [
    "### Vérifier les valeurs"
   ]
  },
  {
   "cell_type": "code",
   "execution_count": null,
   "metadata": {
    "colab": {
     "base_uri": "https://localhost:8080/"
    },
    "executionInfo": {
     "elapsed": 194,
     "status": "ok",
     "timestamp": 1636751653441,
     "user": {
      "displayName": "Davin Baragiotta",
      "photoUrl": "https://lh3.googleusercontent.com/a-/AOh14Gg6DfnEVWWgyS_Ai1m5Tgy-moL9KpBUeBN0kZE3Gg=s64",
      "userId": "13717336720242547762"
     },
     "user_tz": 300
    },
    "id": "NKaPhwiauiW8",
    "outputId": "8729fc97-6252-43ac-da01-097a7b7941ce"
   },
   "outputs": [
    {
     "data": {
      "text/plain": [
       "array(['Ahuntsic - Cartierville',\n",
       "       'Villeray-Saint-Michel - Parc-Extension',\n",
       "       'Rosemont - La Petite-Patrie', 'Mercier - Hochelaga-Maisonneuve',\n",
       "       'Le Plateau-Mont-Royal', 'Ville-Marie',\n",
       "       'Côte-des-Neiges - Notre-Dame-de-Grâce', 'Le Sud-Ouest',\n",
       "       'Rivière-des-Prairies - Pointe-aux-Trembles', 'Saint-Léonard',\n",
       "       'LaSalle', 'Verdun', 'Pierrefonds - Roxboro', 'Saint-Laurent',\n",
       "       'Anjou', 'Montréal-Est'], dtype=object)"
      ]
     },
     "execution_count": 4,
     "metadata": {},
     "output_type": "execute_result"
    }
   ],
   "source": [
    "# arrondissement: 16 valeurs uniques sans erreur apparente\n",
    "len(data['ARROND_NOM'].unique())\n",
    "data['ARROND_NOM'].unique()"
   ]
  },
  {
   "cell_type": "code",
   "execution_count": null,
   "metadata": {
    "colab": {
     "base_uri": "https://localhost:8080/"
    },
    "executionInfo": {
     "elapsed": 15,
     "status": "ok",
     "timestamp": 1632933304827,
     "user": {
      "displayName": "Davin Baragiotta",
      "photoUrl": "https://lh3.googleusercontent.com/a-/AOh14Gg6DfnEVWWgyS_Ai1m5Tgy-moL9KpBUeBN0kZE3Gg=s64",
      "userId": "13717336720242547762"
     },
     "user_tz": 240
    },
    "id": "t5VsjNNjy6nC",
    "outputId": "9b45b45d-3a04-4763-93dc-e3005abb7d3e"
   },
   "outputs": [
    {
     "data": {
      "text/plain": [
       "703"
      ]
     },
     "execution_count": 6,
     "metadata": {},
     "output_type": "execute_result"
    }
   ],
   "source": [
    "len(data['Essence_fr'].unique())\n",
    "# 699 essences en français\n",
    "\n",
    "len(data['Essence_latin'].unique())\n",
    "# 703 essences en latin\n",
    "\n",
    "len(data['ESSENCE_ANG'].unique())\n",
    "# 696 essences en anglais\n",
    "\n",
    "len(data['SIGLE'].unique())\n",
    "# 703 essences par genre/espece/cultivar"
   ]
  },
  {
   "cell_type": "markdown",
   "metadata": {
    "id": "NjU9up2dzeDg"
   },
   "source": [
    "Bon, on voit que\n",
    "* on a un bon volume de données\n",
    "* on a des minuscules, majuscules dans les champs `essence_*`\n",
    "* on n'a pas la même volumétrie d'essence en fr et en lat\n",
    "\n",
    "On va devoir faire des requêtes pour explorer les données."
   ]
  },
  {
   "cell_type": "markdown",
   "metadata": {
    "id": "MacmCsQw0YGy"
   },
   "source": [
    "### Sous-ensemble"
   ]
  },
  {
   "cell_type": "markdown",
   "metadata": {
    "id": "a-S0vD0o0gnW"
   },
   "source": [
    "On peut sélectionner un sous-ensemble de données un peu à la manière de requêtes SQL grâce à `query()` du DataFrame (direct sur le jeu de données, pas sur une colonne ni sur une rangée).\n",
    "\n",
    "Aussi, les colonnes ayant des valeurs de type strings donnent accès à des fonctions derrière `.str`\n",
    "* https://pandas.pydata.org/pandas-docs/stable/user_guide/text.html\n",
    "\n",
    "Pour introspecter les opérations possibles, stockez une colonne dans une variable et introspectez\n",
    "```\n",
    "colonne = data['essence_fr']\n",
    "colonne.str. (+ tab)\n",
    "```"
   ]
  },
  {
   "cell_type": "code",
   "execution_count": null,
   "metadata": {
    "colab": {
     "base_uri": "https://localhost:8080/"
    },
    "executionInfo": {
     "elapsed": 445,
     "status": "ok",
     "timestamp": 1632933331541,
     "user": {
      "displayName": "Davin Baragiotta",
      "photoUrl": "https://lh3.googleusercontent.com/a-/AOh14Gg6DfnEVWWgyS_Ai1m5Tgy-moL9KpBUeBN0kZE3Gg=s64",
      "userId": "13717336720242547762"
     },
     "user_tz": 240
    },
    "id": "DXe7n6eR0p3N",
    "outputId": "749db8ba-cef9-4889-8cd0-60311aa0aa42"
   },
   "outputs": [
    {
     "data": {
      "text/plain": [
       "1973"
      ]
     },
     "execution_count": 9,
     "metadata": {},
     "output_type": "execute_result"
    }
   ],
   "source": [
    "# requête (query) sur le jeu de données pour savoir si essence_fr en minuscule contient 'bouleau'\n",
    "bouleaux = data.query(\"Essence_fr.str.lower().str.contains('bouleau')\", engine=\"python\")\n",
    "len(bouleaux)\n",
    "\n",
    "# essence_fr.str.lower() retourne une colonne avec valeurs en string tout en minuscule\n",
    "# sur cette colonne, aussi en string, on peut utiliser encore `.str` pour d'autres opérations sur string\n",
    "# on peut donc tester si la chaîne en minuscule contient 'bouleau'\n",
    "# (note engine=\"python\" pas nécessaire en local, nécessaire pour .ipynb de Colab car default engine est numexpr: merci Ivan!)"
   ]
  },
  {
   "cell_type": "markdown",
   "metadata": {
    "id": "OkCbp598vJh_"
   },
   "source": [
    "## Analyser les données"
   ]
  },
  {
   "cell_type": "markdown",
   "metadata": {
    "id": "vSR3kzxovOX5"
   },
   "source": [
    "### Exercice: arrondissement avec le moins de bouleaux"
   ]
  },
  {
   "cell_type": "code",
   "execution_count": null,
   "metadata": {
    "colab": {
     "base_uri": "https://localhost:8080/"
    },
    "executionInfo": {
     "elapsed": 227,
     "status": "ok",
     "timestamp": 1632933336385,
     "user": {
      "displayName": "Davin Baragiotta",
      "photoUrl": "https://lh3.googleusercontent.com/a-/AOh14Gg6DfnEVWWgyS_Ai1m5Tgy-moL9KpBUeBN0kZE3Gg=s64",
      "userId": "13717336720242547762"
     },
     "user_tz": 240
    },
    "id": "enOaaKDb1q-g",
    "outputId": "1cadfc75-383f-41ac-f04b-c283e3e3cff1"
   },
   "outputs": [
    {
     "data": {
      "text/plain": [
       "Rivière-des-Prairies - Pointe-aux-Trembles    286\n",
       "Rosemont - La Petite-Patrie                   257\n",
       "Côte-des-Neiges - Notre-Dame-de-Grâce         250\n",
       "Pierrefonds - Roxboro                         224\n",
       "Ahuntsic - Cartierville                       214\n",
       "LaSalle                                       193\n",
       "Mercier - Hochelaga-Maisonneuve               147\n",
       "Le Sud-Ouest                                  109\n",
       "Verdun                                        109\n",
       "Villeray-Saint-Michel - Parc-Extension         56\n",
       "Saint-Laurent                                  54\n",
       "Saint-Léonard                                  35\n",
       "Le Plateau-Mont-Royal                          27\n",
       "Ville-Marie                                    12\n",
       "Name: ARROND_NOM, dtype: int64"
      ]
     },
     "execution_count": 10,
     "metadata": {},
     "output_type": "execute_result"
    }
   ],
   "source": [
    "vc = bouleaux['ARROND_NOM'].value_counts()\n",
    "vc"
   ]
  },
  {
   "cell_type": "code",
   "execution_count": null,
   "metadata": {
    "colab": {
     "base_uri": "https://localhost:8080/",
     "height": 35
    },
    "executionInfo": {
     "elapsed": 237,
     "status": "ok",
     "timestamp": 1632933338462,
     "user": {
      "displayName": "Davin Baragiotta",
      "photoUrl": "https://lh3.googleusercontent.com/a-/AOh14Gg6DfnEVWWgyS_Ai1m5Tgy-moL9KpBUeBN0kZE3Gg=s64",
      "userId": "13717336720242547762"
     },
     "user_tz": 240
    },
    "id": "H0R2Md7f14bb",
    "outputId": "217298dd-6488-4939-bc78-8e0376eee24b"
   },
   "outputs": [
    {
     "data": {
      "application/vnd.google.colaboratory.intrinsic+json": {
       "type": "string"
      },
      "text/plain": [
       "'Ville-Marie'"
      ]
     },
     "execution_count": 11,
     "metadata": {},
     "output_type": "execute_result"
    }
   ],
   "source": [
    "vc.idxmin()"
   ]
  },
  {
   "cell_type": "markdown",
   "metadata": {
    "id": "hfwG4uLh1XQv"
   },
   "source": [
    "## Aller plus loin"
   ]
  },
  {
   "cell_type": "markdown",
   "metadata": {
    "id": "X2cLuSIx1aIW"
   },
   "source": [
    "### Exercice: plus d'occurences en premier"
   ]
  },
  {
   "cell_type": "markdown",
   "metadata": {
    "id": "P0T9TrB_2MS0"
   },
   "source": [
    "On l'a par défaut avec `value_counts()`... essayons alors de faire l'inverse? Moins d'occurences en premier?\n",
    "\n",
    "Une introspection montre rapidement qu'on peut trier (_sort_) sur l'index ou sur les valeurs... ben voilà!"
   ]
  },
  {
   "cell_type": "markdown",
   "metadata": {
    "id": "kIlaXDlwaY7l"
   },
   "source": [
    "```\n",
    "vc.\n",
    "vc.sort_values?\n",
    "```"
   ]
  },
  {
   "cell_type": "code",
   "execution_count": null,
   "metadata": {
    "colab": {
     "base_uri": "https://localhost:8080/"
    },
    "executionInfo": {
     "elapsed": 223,
     "status": "ok",
     "timestamp": 1632933364907,
     "user": {
      "displayName": "Davin Baragiotta",
      "photoUrl": "https://lh3.googleusercontent.com/a-/AOh14Gg6DfnEVWWgyS_Ai1m5Tgy-moL9KpBUeBN0kZE3Gg=s64",
      "userId": "13717336720242547762"
     },
     "user_tz": 240
    },
    "id": "oPztyZJV2PrS",
    "outputId": "54be52de-b048-4102-daa6-2a845cc7fb89"
   },
   "outputs": [
    {
     "data": {
      "text/plain": [
       "Ville-Marie                                    12\n",
       "Le Plateau-Mont-Royal                          27\n",
       "Saint-Léonard                                  35\n",
       "Saint-Laurent                                  54\n",
       "Villeray-Saint-Michel - Parc-Extension         56\n",
       "Le Sud-Ouest                                  109\n",
       "Verdun                                        109\n",
       "Mercier - Hochelaga-Maisonneuve               147\n",
       "LaSalle                                       193\n",
       "Ahuntsic - Cartierville                       214\n",
       "Pierrefonds - Roxboro                         224\n",
       "Côte-des-Neiges - Notre-Dame-de-Grâce         250\n",
       "Rosemont - La Petite-Patrie                   257\n",
       "Rivière-des-Prairies - Pointe-aux-Trembles    286\n",
       "Name: ARROND_NOM, dtype: int64"
      ]
     },
     "execution_count": 12,
     "metadata": {},
     "output_type": "execute_result"
    }
   ],
   "source": [
    "vc.sort_values()"
   ]
  },
  {
   "cell_type": "markdown",
   "metadata": {
    "id": "gXZLJG9gvlmU"
   },
   "source": [
    "### Exercice: 3 premiers résultats dans un format agréable à lire"
   ]
  },
  {
   "cell_type": "markdown",
   "metadata": {
    "id": "l3FZgimf2Y_H"
   },
   "source": [
    "Le format est déjà agréable à lire...\n",
    "\n",
    "Mais prenons les 3 premiers résultats seulement.\n",
    "\n",
    "On doit pouvoir slicer, non?"
   ]
  },
  {
   "cell_type": "code",
   "execution_count": null,
   "metadata": {
    "colab": {
     "base_uri": "https://localhost:8080/"
    },
    "executionInfo": {
     "elapsed": 228,
     "status": "ok",
     "timestamp": 1632933367537,
     "user": {
      "displayName": "Davin Baragiotta",
      "photoUrl": "https://lh3.googleusercontent.com/a-/AOh14Gg6DfnEVWWgyS_Ai1m5Tgy-moL9KpBUeBN0kZE3Gg=s64",
      "userId": "13717336720242547762"
     },
     "user_tz": 240
    },
    "id": "fAYPAG7P2Z_G",
    "outputId": "e649f0eb-514c-4823-f665-0365115d2d01"
   },
   "outputs": [
    {
     "data": {
      "text/plain": [
       "Rivière-des-Prairies - Pointe-aux-Trembles    286\n",
       "Rosemont - La Petite-Patrie                   257\n",
       "Côte-des-Neiges - Notre-Dame-de-Grâce         250\n",
       "Name: ARROND_NOM, dtype: int64"
      ]
     },
     "execution_count": 13,
     "metadata": {},
     "output_type": "execute_result"
    }
   ],
   "source": [
    "vc.iloc[0:3]"
   ]
  },
  {
   "cell_type": "markdown",
   "metadata": {
    "id": "yDRv6qYqvpoo"
   },
   "source": [
    "### Exercice bonus: trier sur nom d'arrondissement"
   ]
  },
  {
   "cell_type": "markdown",
   "metadata": {
    "id": "C8Kc8oPU2ftP"
   },
   "source": [
    "On l'a dit... on peut faire _sort_ sur index ou valeurs..."
   ]
  },
  {
   "cell_type": "markdown",
   "metadata": {
    "id": "TRIC00Z-aeJo"
   },
   "source": [
    "```\n",
    "vc.sort_index?\n",
    "```"
   ]
  },
  {
   "cell_type": "code",
   "execution_count": null,
   "metadata": {
    "colab": {
     "base_uri": "https://localhost:8080/"
    },
    "executionInfo": {
     "elapsed": 218,
     "status": "ok",
     "timestamp": 1632933391036,
     "user": {
      "displayName": "Davin Baragiotta",
      "photoUrl": "https://lh3.googleusercontent.com/a-/AOh14Gg6DfnEVWWgyS_Ai1m5Tgy-moL9KpBUeBN0kZE3Gg=s64",
      "userId": "13717336720242547762"
     },
     "user_tz": 240
    },
    "id": "C2jfr0jA2iro",
    "outputId": "41e45ad1-322d-4c66-fa5a-544f51875a52"
   },
   "outputs": [
    {
     "data": {
      "text/plain": [
       "Ahuntsic - Cartierville                       214\n",
       "Côte-des-Neiges - Notre-Dame-de-Grâce         250\n",
       "LaSalle                                       193\n",
       "Le Plateau-Mont-Royal                          27\n",
       "Le Sud-Ouest                                  109\n",
       "Mercier - Hochelaga-Maisonneuve               147\n",
       "Pierrefonds - Roxboro                         224\n",
       "Rivière-des-Prairies - Pointe-aux-Trembles    286\n",
       "Rosemont - La Petite-Patrie                   257\n",
       "Saint-Laurent                                  54\n",
       "Saint-Léonard                                  35\n",
       "Verdun                                        109\n",
       "Ville-Marie                                    12\n",
       "Villeray-Saint-Michel - Parc-Extension         56\n",
       "Name: ARROND_NOM, dtype: int64"
      ]
     },
     "execution_count": 14,
     "metadata": {},
     "output_type": "execute_result"
    }
   ],
   "source": [
    "vc.sort_index()"
   ]
  },
  {
   "cell_type": "markdown",
   "metadata": {
    "id": "_rvBGEz_XGKV"
   },
   "source": [
    "# Cheat sheet"
   ]
  },
  {
   "cell_type": "code",
   "execution_count": null,
   "metadata": {
    "colab": {
     "base_uri": "https://localhost:8080/"
    },
    "executionInfo": {
     "elapsed": 1964,
     "status": "ok",
     "timestamp": 1632933396195,
     "user": {
      "displayName": "Davin Baragiotta",
      "photoUrl": "https://lh3.googleusercontent.com/a-/AOh14Gg6DfnEVWWgyS_Ai1m5Tgy-moL9KpBUeBN0kZE3Gg=s64",
      "userId": "13717336720242547762"
     },
     "user_tz": 240
    },
    "id": "P9TIChLOXIGs",
    "outputId": "4912d5dd-1bcc-4240-b44c-3ce4e54346b5"
   },
   "outputs": [
    {
     "name": "stderr",
     "output_type": "stream",
     "text": [
      "/usr/local/lib/python3.7/dist-packages/IPython/core/interactiveshell.py:2718: DtypeWarning: Columns (4,5,17,18,19) have mixed types.Specify dtype option on import or set low_memory=False.\n",
      "  interactivity=interactivity, compiler=compiler, result=result)\n"
     ]
    },
    {
     "data": {
      "text/plain": [
       "Ahuntsic - Cartierville                       214\n",
       "Côte-des-Neiges - Notre-Dame-de-Grâce         250\n",
       "LaSalle                                       193\n",
       "Le Plateau-Mont-Royal                          27\n",
       "Le Sud-Ouest                                  109\n",
       "Mercier - Hochelaga-Maisonneuve               147\n",
       "Pierrefonds - Roxboro                         224\n",
       "Rivière-des-Prairies - Pointe-aux-Trembles    286\n",
       "Rosemont - La Petite-Patrie                   257\n",
       "Saint-Laurent                                  54\n",
       "Saint-Léonard                                  35\n",
       "Verdun                                        109\n",
       "Ville-Marie                                    12\n",
       "Villeray-Saint-Michel - Parc-Extension         56\n",
       "Name: ARROND_NOM, dtype: int64"
      ]
     },
     "execution_count": 15,
     "metadata": {},
     "output_type": "execute_result"
    }
   ],
   "source": [
    "import pandas as pd\n",
    "\n",
    "# data import\n",
    "url = \"https://raw.githubusercontent.com/mtlpy/mtlpy-exercises/main/mtl/arbres/arbres-publics.csv\"\n",
    "data = pd.read_csv(url)\n",
    "\n",
    "# data exploration\n",
    "data\n",
    "data.columns\n",
    "data['ARROND_NOM'].unique()\n",
    "\n",
    "# data preparation\n",
    "bouleaux = data.query(\"Essence_fr.str.lower().str.contains('bouleau')\", engine=\"python\")\n",
    "\n",
    "# data analysis\n",
    "vc = bouleaux['ARROND_NOM'].value_counts()\n",
    "vc.idxmin()\n",
    "\n",
    "# more\n",
    "vc.sort_values()\n",
    "vc.iloc[0:3]\n",
    "vc.sort_index()"
   ]
  },
  {
   "cell_type": "markdown",
   "metadata": {
    "id": "6goplkoL5mMj"
   },
   "source": [
    "# Licence"
   ]
  },
  {
   "cell_type": "markdown",
   "metadata": {
    "id": "nOELk-685ny5"
   },
   "source": [
    "Copyright 2021 Montréal-Python\n",
    "\n",
    "Permission is hereby granted, free of charge, to any person obtaining a copy of this software and associated documentation files (the \"Software\"), to deal in the Software without restriction, including without limitation the rights to use, copy, modify, merge, publish, distribute, sublicense, and/or sell copies of the Software, and to permit persons to whom the Software is furnished to do so, subject to the following conditions:\n",
    "\n",
    "The above copyright notice and this permission notice shall be included in all copies or substantial portions of the Software.\n",
    "\n",
    "THE SOFTWARE IS PROVIDED \"AS IS\", WITHOUT WARRANTY OF ANY KIND, EXPRESS OR IMPLIED, INCLUDING BUT NOT LIMITED TO THE WARRANTIES OF MERCHANTABILITY, FITNESS FOR A PARTICULAR PURPOSE AND NONINFRINGEMENT. IN NO EVENT SHALL THE AUTHORS OR COPYRIGHT HOLDERS BE LIABLE FOR ANY CLAIM, DAMAGES OR OTHER LIABILITY, WHETHER IN AN ACTION OF CONTRACT, TORT OR OTHERWISE, ARISING FROM, OUT OF OR IN CONNECTION WITH THE SOFTWARE OR THE USE OR OTHER DEALINGS IN THE SOFTWARE.\n"
   ]
  }
 ],
 "metadata": {
  "colab": {
   "provenance": [],
   "toc_visible": true
  },
  "kernelspec": {
   "display_name": "Python 3",
   "name": "python3"
  },
  "language_info": {
   "name": "python"
  }
 },
 "nbformat": 4,
 "nbformat_minor": 0
}
