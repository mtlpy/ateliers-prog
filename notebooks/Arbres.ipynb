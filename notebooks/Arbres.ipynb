{
 "cells": [
  {
   "cell_type": "markdown",
   "metadata": {
    "id": "BLwRmFQFWsl9"
   },
   "source": [
    "# Arbres"
   ]
  },
  {
   "cell_type": "markdown",
   "metadata": {
    "id": "kycZrfZPXa3b"
   },
   "source": [
    "Cet exercice vise à explorer les opérations de base de Pandas avec des [données ouvertes sur les arbres de Montréal](https://donnees.montreal.ca/ville-de-montreal/arbres) fournies par la Ville de Montréal. Il est la suite logique de l'exercice [Murales](https://colab.research.google.com/drive/17Vx-HGvMgLuLXoMm0_s0fIXUMG-iR2wE) car le jeu de données Arbres est plus grand et l'exercice va plus loin dans les requêtes/filtres (et optionnellement le nettoyage de données).\n",
    "\n",
    "Le but de l'exercice est d'**identifier l'arrondissement de Montréal ayant le moins de bouleaux**.\n",
    "\n",
    "Au besoin, se référer au [Guide de base Pandas](https://colab.research.google.com/drive/193iDeAjPXpwVoSZAHaZG_wQleAie7wrq?usp=sharing) de Montréal-Python.\n",
    "\n",
    "_Note:  \n",
    "Cet exercice est une réécriture d'un [autre exercice Arbres](https://colab.research.google.com/drive/1R2xh_tflIp0zVU19M9yTmNpWiJ__pRbG?usp=sharing) de Montréal-Python. L'autre visait à s'exercer avec les types de base, celui-ci vise à s'exercer avec pandas._\n"
   ]
  },
  {
   "cell_type": "markdown",
   "metadata": {
    "id": "VOo23ASiIGdK"
   },
   "source": [
    "1+1"
   ]
  },
  {
   "cell_type": "markdown",
   "metadata": {
    "id": "smqsbU-rlBZQ"
   },
   "source": [
    "## Récupérer vos données\n",
    "\n",
    "Pour cet exercice, vous pouvez\n",
    "* soit prendre les [données récentes](https://donnees.montreal.ca/ville-de-montreal/arbres) directement de la Ville de Montréal\n",
    "    * récupérez-les au format CSV\n",
    "* soit prendre le [jeu de données fourni par Montréal-Python](https://raw.githubusercontent.com/mtlpy/mtlpy-exercises/main/mtl/arbres/arbres-publics.csv) [~95 Mo]\n",
    "    * le solutionnaire utilise ce jeu de données\n",
    "\n",
    "Les données sont assez intuitives mais vous pouvez vous référer au [dictionnaire de données](https://donnees.montreal.ca/ville-de-montreal/arbres) sur la page du jeu de données."
   ]
  },
  {
   "cell_type": "markdown",
   "metadata": {
    "id": "11cK_M4ul-Q_"
   },
   "source": [
    "## Charger vos données\n",
    "\n",
    "Première étape, chargez vos données à l'aide de la _librarie_ Pandas.\n",
    "\n"
   ]
  },
  {
   "cell_type": "markdown",
   "metadata": {
    "id": "yRFSwkUCmBVl"
   },
   "source": [
    "### Import\n",
    "\n",
    "D'abord, dans Colab, importez la _librarie_ `pandas` en suivant la convention de nommage habituelle.\n",
    "\n"
   ]
  },
  {
   "cell_type": "code",
   "execution_count": 2,
   "metadata": {
    "colab": {
     "base_uri": "https://localhost:8080/"
    },
    "executionInfo": {
     "elapsed": 142,
     "status": "ok",
     "timestamp": 1676734016276,
     "user": {
      "displayName": "Van Duc Nguyen",
      "userId": "04951130299260904791"
     },
     "user_tz": 300
    },
    "id": "od9rMnuhHHQu",
    "outputId": "658b0de9-d611-4126-f235-0a31eb7fcf06"
   },
   "outputs": [
    {
     "name": "stdout",
     "output_type": "stream",
     "text": [
      "3\n"
     ]
    }
   ],
   "source": [
    "a=1\n",
    "b=2\n",
    "\n",
    "1+1\n",
    "c=a+b\n",
    "print(c)"
   ]
  },
  {
   "cell_type": "markdown",
   "metadata": {
    "id": "6zWhLZWSmEmt"
   },
   "source": [
    "### Charger\n",
    "\n",
    "Finalement, chargez vos données CSV dans une variable nommée `data` à l'aide de la fonction appropriée. (Indice: la fonction se trouve au premier niveau du _namespace_ de la _librairie_ `pandas`... introspectez le namespace à la racine.)\n",
    "\n",
    "Si vous travaillez avec le jeu de données de Montréal-Python\n",
    "* prenez le fichier https://raw.githubusercontent.com/mtlpy/mtlpy-exercises/main/mtl/arbres/arbres-publics.csv [~95 Mo]"
   ]
  },
  {
   "cell_type": "markdown",
   "metadata": {
    "id": "rgemRvt4mo_6"
   },
   "source": [
    "## Explorer et préparer les données\n"
   ]
  },
  {
   "cell_type": "markdown",
   "metadata": {
    "id": "EZEQSxTyms6_"
   },
   "source": [
    "### Vue d'ensemble\n",
    "\n",
    "Prenez connaissance de manière générale des données chargées\n",
    "* volumétrie des colonnes et rangées\n",
    "* noms des colonnes\n",
    "* aperçu des types et des valeurs des données\n",
    "\n",
    "Est-ce que le dictionnaire de données semble cohérent avec ce que vous voyez?"
   ]
  },
  {
   "cell_type": "markdown",
   "metadata": {
    "id": "9d5gNYiFmv-K"
   },
   "source": [
    "### Vérifier les valeurs\n",
    "\n",
    "Il est utile de vérifier les valeurs de toutes les colonnes (surtout quand les données ne sont pas documentées) afin d'avoir une meilleure idée de leur sémantique et de leurs relations.\n",
    "\n",
    "Vérifiez\n",
    "* les valeurs uniques de chaque colonne\n",
    "    * y a-t-il des valeurs nulles?\n",
    "    * y a-t-il des erreurs ou des valeurs mal formattées (à transformer)?\n",
    "* le nombre d'occurence de chaque valeur\n",
    "    * les valeurs nulles ou erronées sont-elles marginales?\n"
   ]
  },
  {
   "cell_type": "markdown",
   "metadata": {
    "id": "cBlfDOMJm3e4"
   },
   "source": [
    "## Analyser les données\n",
    "\n",
    "Maintenant, vous connaissez votre jeu de données.\n",
    "\n",
    "Identifiez les colonnes qui sont nécessaires pour trouver l'arrondissement ayant le moins de bouleaux."
   ]
  },
  {
   "cell_type": "markdown",
   "metadata": {
    "id": "VXZ_QLhPnJbS"
   },
   "source": [
    "### Exercice: arrondissement avec le moins de bouleaux"
   ]
  },
  {
   "cell_type": "markdown",
   "metadata": {
    "id": "uwuKIvSNnOGx"
   },
   "source": [
    "Identifiez l'arrondissement qui a le moins de bouleaux.\n",
    "\n",
    "Explorez 2 approches\n",
    "* une approche naïve qui utilise le string `bouleau` dans le nom français de l'essence de l'arbre\n",
    "* une approche plus exhaustive qui vise à vraiment identifier les données qui correspondent aux bouleaux, en explorant les noms français, latins voire anglais appropriés et/ou le sigle (genre, espèce, cultivar)\n",
    "    * se référer au dictionnaire de données\n",
    "    * peut nécessiter quelques connaissances en botanique :)\n",
    "\n",
    "Astuce:  \n",
    "les colonnes ayant des valeurs de type strings donnent accès à des fonctions derrière `.str`\n",
    "* exemple: `data['Essence_fr'].str.contains('bouleau')`"
   ]
  },
  {
   "cell_type": "markdown",
   "metadata": {
    "id": "tAiwthj3quH5"
   },
   "source": [
    "## Aller plus loin"
   ]
  },
  {
   "cell_type": "markdown",
   "metadata": {
    "id": "oTuhbFhuqxJE"
   },
   "source": [
    "### Exercice: plus d'occurences en premier"
   ]
  },
  {
   "cell_type": "markdown",
   "metadata": {
    "id": "HtoUpMJ8qzf2"
   },
   "source": [
    "Triez les arrondissements avec en premier les arrondissements ayant le plus d'occurences."
   ]
  },
  {
   "cell_type": "markdown",
   "metadata": {
    "id": "mYi8uuggq0zw"
   },
   "source": [
    "### Exercice: 3 premiers résultats dans un format agréable à lire"
   ]
  },
  {
   "cell_type": "markdown",
   "metadata": {
    "id": "cqTTcE9nq26i"
   },
   "source": [
    "Affichez les 3 premiers résultats dans un format plus agréable à lire.  Par exemple: \n",
    "\n",
    "* Nom 1: 21\n",
    "* Nom 2: 10"
   ]
  },
  {
   "cell_type": "markdown",
   "metadata": {
    "id": "0LkZgMVqq5AP"
   },
   "source": [
    "### Exercice: trier sur nom d'arrondissement\n"
   ]
  },
  {
   "cell_type": "markdown",
   "metadata": {
    "id": "GgHQDdl7q75v"
   },
   "source": [
    "Triez la liste en ordre alphabétique sur le nom de l'arrondissement plutôt que sur le nombre d'occurrences."
   ]
  },
  {
   "cell_type": "markdown",
   "metadata": {
    "id": "o_r1UiCoq95c"
   },
   "source": [
    "### Autres exercices"
   ]
  },
  {
   "cell_type": "markdown",
   "metadata": {
    "id": "vigeAATuq_7d"
   },
   "source": [
    "L'[exercice Hydro](https://colab.research.google.com/drive/1ncLXLOEI4kfp81c6LKvDaRQ4siKK_pfJ?authuser=1) va plus loin dans le **nettoyage des données** et explore la **visualisation de données**."
   ]
  },
  {
   "cell_type": "markdown",
   "metadata": {
    "id": "8cIl1QYt893g"
   },
   "source": [
    "## Solutionnaire\n",
    "\n",
    "Voici le [solutionnaire](https://colab.research.google.com/drive/1CiT0-SrPI3USjQ4CU2fAJ2ptQLAdTeot)."
   ]
  },
  {
   "cell_type": "markdown",
   "metadata": {
    "id": "uf38ZenLWt8M"
   },
   "source": [
    "# Licence"
   ]
  },
  {
   "cell_type": "markdown",
   "metadata": {
    "id": "F4hvPS5FWu6X"
   },
   "source": [
    "Copyright 2021 Montréal-Python\n",
    "\n",
    "Permission is hereby granted, free of charge, to any person obtaining a copy of this software and associated documentation files (the \"Software\"), to deal in the Software without restriction, including without limitation the rights to use, copy, modify, merge, publish, distribute, sublicense, and/or sell copies of the Software, and to permit persons to whom the Software is furnished to do so, subject to the following conditions:\n",
    "\n",
    "The above copyright notice and this permission notice shall be included in all copies or substantial portions of the Software.\n",
    "\n",
    "THE SOFTWARE IS PROVIDED \"AS IS\", WITHOUT WARRANTY OF ANY KIND, EXPRESS OR IMPLIED, INCLUDING BUT NOT LIMITED TO THE WARRANTIES OF MERCHANTABILITY, FITNESS FOR A PARTICULAR PURPOSE AND NONINFRINGEMENT. IN NO EVENT SHALL THE AUTHORS OR COPYRIGHT HOLDERS BE LIABLE FOR ANY CLAIM, DAMAGES OR OTHER LIABILITY, WHETHER IN AN ACTION OF CONTRACT, TORT OR OTHERWISE, ARISING FROM, OUT OF OR IN CONNECTION WITH THE SOFTWARE OR THE USE OR OTHER DEALINGS IN THE SOFTWARE.\n"
   ]
  }
 ],
 "metadata": {
  "colab": {
   "provenance": [],
   "toc_visible": true
  },
  "kernelspec": {
   "display_name": "Python 3",
   "name": "python3"
  },
  "language_info": {
   "name": "python"
  }
 },
 "nbformat": 4,
 "nbformat_minor": 0
}
