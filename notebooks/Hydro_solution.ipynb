{
 "cells": [
  {
   "cell_type": "markdown",
   "metadata": {
    "id": "vEt3YKS165x1"
   },
   "source": [
    "# Hydro: solutionnaire\n",
    "\n"
   ]
  },
  {
   "cell_type": "markdown",
   "metadata": {
    "id": "OR0z4epV8OFk"
   },
   "source": [
    "## Charger vos données"
   ]
  },
  {
   "cell_type": "markdown",
   "metadata": {
    "id": "akyIfUqt8Tam"
   },
   "source": [
    "### Import"
   ]
  },
  {
   "cell_type": "code",
   "execution_count": 3,
   "metadata": {
    "executionInfo": {
     "elapsed": 550,
     "status": "ok",
     "timestamp": 1641956502997,
     "user": {
      "displayName": "Davin Baragiotta",
      "photoUrl": "https://lh3.googleusercontent.com/a-/AOh14Gg6DfnEVWWgyS_Ai1m5Tgy-moL9KpBUeBN0kZE3Gg=s64",
      "userId": "13717336720242547762"
     },
     "user_tz": 300
    },
    "id": "bjwA30cFbavx"
   },
   "outputs": [],
   "source": [
    "import pandas as pd"
   ]
  },
  {
   "cell_type": "markdown",
   "metadata": {
    "id": "u0X2zxyF8WTm"
   },
   "source": [
    "### Charger"
   ]
  },
  {
   "cell_type": "code",
   "execution_count": 5,
   "metadata": {
    "colab": {
     "base_uri": "https://localhost:8080/"
    },
    "executionInfo": {
     "elapsed": 470,
     "status": "ok",
     "timestamp": 1641956589678,
     "user": {
      "displayName": "Davin Baragiotta",
      "photoUrl": "https://lh3.googleusercontent.com/a-/AOh14Gg6DfnEVWWgyS_Ai1m5Tgy-moL9KpBUeBN0kZE3Gg=s64",
      "userId": "13717336720242547762"
     },
     "user_tz": 300
    },
    "id": "JSgT6Xr78aS2",
    "outputId": "fd478330-9aec-41a3-8159-bb86bcaa4e16"
   },
   "outputs": [
    {
     "name": "stdout",
     "output_type": "stream",
     "text": [
      "63\n"
     ]
    }
   ],
   "source": [
    "url = 'https://raw.githubusercontent.com/mtlpy/mtlpy-exercises/main/hydro/data/jours/0123456789_jour_2018-06-19_au_2018-08-20.csv'\n",
    "data = pd.read_csv(url, encoding='latin-1', sep=';')\n",
    "print(len(data))"
   ]
  },
  {
   "cell_type": "markdown",
   "metadata": {
    "id": "jm3Piiut8njl"
   },
   "source": [
    "## Explorer et préparer les données"
   ]
  },
  {
   "cell_type": "markdown",
   "metadata": {
    "id": "1UphabAE9MmM"
   },
   "source": [
    "### Vue d'ensemble"
   ]
  },
  {
   "cell_type": "code",
   "execution_count": null,
   "metadata": {
    "executionInfo": {
     "elapsed": 632,
     "status": "aborted",
     "timestamp": 1641956419687,
     "user": {
      "displayName": "Davin Baragiotta",
      "photoUrl": "https://lh3.googleusercontent.com/a-/AOh14Gg6DfnEVWWgyS_Ai1m5Tgy-moL9KpBUeBN0kZE3Gg=s64",
      "userId": "13717336720242547762"
     },
     "user_tz": 300
    },
    "id": "N8Kp-_y286jW"
   },
   "outputs": [],
   "source": [
    "# volumétrie des colonnes et rangées et\n",
    "# aperçu des types et valeurs des données\n",
    "data"
   ]
  },
  {
   "cell_type": "code",
   "execution_count": null,
   "metadata": {
    "executionInfo": {
     "elapsed": 626,
     "status": "aborted",
     "timestamp": 1641956419689,
     "user": {
      "displayName": "Davin Baragiotta",
      "photoUrl": "https://lh3.googleusercontent.com/a-/AOh14Gg6DfnEVWWgyS_Ai1m5Tgy-moL9KpBUeBN0kZE3Gg=s64",
      "userId": "13717336720242547762"
     },
     "user_tz": 300
    },
    "id": "azaU0Oam87Q0"
   },
   "outputs": [],
   "source": [
    "# nom des colonnes\n",
    "data.columns"
   ]
  },
  {
   "cell_type": "markdown",
   "metadata": {
    "id": "HpNAnv1Ru-2T"
   },
   "source": [
    "```\n",
    "c = data['Contrat']\n",
    "c.\n",
    "```"
   ]
  },
  {
   "cell_type": "markdown",
   "metadata": {
    "id": "Txoq2qnb-u7m"
   },
   "source": [
    "### Renommer les colonnes"
   ]
  },
  {
   "cell_type": "code",
   "execution_count": null,
   "metadata": {
    "executionInfo": {
     "elapsed": 613,
     "status": "aborted",
     "timestamp": 1641956419690,
     "user": {
      "displayName": "Davin Baragiotta",
      "photoUrl": "https://lh3.googleusercontent.com/a-/AOh14Gg6DfnEVWWgyS_Ai1m5Tgy-moL9KpBUeBN0kZE3Gg=s64",
      "userId": "13717336720242547762"
     },
     "user_tz": 300
    },
    "id": "Mi5Jd6Mv-xED"
   },
   "outputs": [],
   "source": [
    "columns = {\n",
    "    'Contrat': 'contrat',\n",
    "    'Tarif': 'tarif',\n",
    "    'Date': 'date',\n",
    "    'kWh': 'kwh',\n",
    "    'Code de consommation': 'consommation',\n",
    "    'Température moyenne (°C)': 'temp',\n",
    "    'Code de température': 'temp_code',\n",
    "}\n",
    "data = data.rename(columns=columns)\n",
    "data"
   ]
  },
  {
   "cell_type": "markdown",
   "metadata": {
    "id": "NxL52WW1_H0b"
   },
   "source": [
    "### Vérifier les valeurs"
   ]
  },
  {
   "cell_type": "code",
   "execution_count": null,
   "metadata": {
    "executionInfo": {
     "elapsed": 604,
     "status": "aborted",
     "timestamp": 1641956419694,
     "user": {
      "displayName": "Davin Baragiotta",
      "photoUrl": "https://lh3.googleusercontent.com/a-/AOh14Gg6DfnEVWWgyS_Ai1m5Tgy-moL9KpBUeBN0kZE3Gg=s64",
      "userId": "13717336720242547762"
     },
     "user_tz": 300
    },
    "id": "E2GvxLDv_LB6"
   },
   "outputs": [],
   "source": [
    "# numéro de contrat: unique, sans surprise, donc inutile\n",
    "data['contrat'].unique()"
   ]
  },
  {
   "cell_type": "code",
   "execution_count": null,
   "metadata": {
    "executionInfo": {
     "elapsed": 604,
     "status": "aborted",
     "timestamp": 1641956419708,
     "user": {
      "displayName": "Davin Baragiotta",
      "photoUrl": "https://lh3.googleusercontent.com/a-/AOh14Gg6DfnEVWWgyS_Ai1m5Tgy-moL9KpBUeBN0kZE3Gg=s64",
      "userId": "13717336720242547762"
     },
     "user_tz": 300
    },
    "id": "9asafz7e_VQ5"
   },
   "outputs": [],
   "source": [
    "# catégorie de tarification: unique dans ce fichier, inutile si on ne s'intéresse pas au prix\n",
    "data['tarif'].unique()"
   ]
  },
  {
   "cell_type": "code",
   "execution_count": null,
   "metadata": {
    "executionInfo": {
     "elapsed": 599,
     "status": "aborted",
     "timestamp": 1641956419725,
     "user": {
      "displayName": "Davin Baragiotta",
      "photoUrl": "https://lh3.googleusercontent.com/a-/AOh14Gg6DfnEVWWgyS_Ai1m5Tgy-moL9KpBUeBN0kZE3Gg=s64",
      "userId": "13717336720242547762"
     },
     "user_tz": 300
    },
    "id": "UQNtvidk_hjn"
   },
   "outputs": [],
   "source": [
    "# code de consommation: utile si on s'intéresse au type de consommation ou au prix?\n",
    "data['consommation'].unique()   # R, M"
   ]
  },
  {
   "cell_type": "code",
   "execution_count": null,
   "metadata": {
    "executionInfo": {
     "elapsed": 586,
     "status": "aborted",
     "timestamp": 1641956419744,
     "user": {
      "displayName": "Davin Baragiotta",
      "photoUrl": "https://lh3.googleusercontent.com/a-/AOh14Gg6DfnEVWWgyS_Ai1m5Tgy-moL9KpBUeBN0kZE3Gg=s64",
      "userId": "13717336720242547762"
     },
     "user_tz": 300
    },
    "id": "rFoL3VQNHhYV"
   },
   "outputs": [],
   "source": [
    "# pour connaître le nombre d'occurence de chaque valeur\n",
    "data['consommation'].value_counts()"
   ]
  },
  {
   "cell_type": "code",
   "execution_count": null,
   "metadata": {
    "executionInfo": {
     "elapsed": 595,
     "status": "aborted",
     "timestamp": 1641956419754,
     "user": {
      "displayName": "Davin Baragiotta",
      "photoUrl": "https://lh3.googleusercontent.com/a-/AOh14Gg6DfnEVWWgyS_Ai1m5Tgy-moL9KpBUeBN0kZE3Gg=s64",
      "userId": "13717336720242547762"
     },
     "user_tz": 300
    },
    "id": "ATCjunbt_iT6"
   },
   "outputs": [],
   "source": [
    "# code de température: unique, utile si on s'intéresse à tarification et tarification fonction du code de température?\n",
    "data['temp_code'].unique()"
   ]
  },
  {
   "cell_type": "code",
   "execution_count": null,
   "metadata": {
    "executionInfo": {
     "elapsed": 617,
     "status": "aborted",
     "timestamp": 1641956419791,
     "user": {
      "displayName": "Davin Baragiotta",
      "photoUrl": "https://lh3.googleusercontent.com/a-/AOh14Gg6DfnEVWWgyS_Ai1m5Tgy-moL9KpBUeBN0kZE3Gg=s64",
      "userId": "13717336720242547762"
     },
     "user_tz": 300
    },
    "id": "3CRzMbJLAUF-"
   },
   "outputs": [],
   "source": [
    "# les dates ont toutes le format ISO ('yyyy-mm-dd'): parfait, mais sont des strings\n",
    "print(type(data.loc[0, 'date']))\n",
    "data['date'].unique()"
   ]
  },
  {
   "cell_type": "code",
   "execution_count": null,
   "metadata": {
    "executionInfo": {
     "elapsed": 651,
     "status": "aborted",
     "timestamp": 1641956419828,
     "user": {
      "displayName": "Davin Baragiotta",
      "photoUrl": "https://lh3.googleusercontent.com/a-/AOh14Gg6DfnEVWWgyS_Ai1m5Tgy-moL9KpBUeBN0kZE3Gg=s64",
      "userId": "13717336720242547762"
     },
     "user_tz": 300
    },
    "id": "bfYfOs33Agwa"
   },
   "outputs": [],
   "source": [
    "# température: toutes des entiers, OK\n",
    "print(type(data.loc[0, 'temp']))\n",
    "data['temp'].unique()"
   ]
  },
  {
   "cell_type": "code",
   "execution_count": null,
   "metadata": {
    "executionInfo": {
     "elapsed": 638,
     "status": "aborted",
     "timestamp": 1641956419836,
     "user": {
      "displayName": "Davin Baragiotta",
      "photoUrl": "https://lh3.googleusercontent.com/a-/AOh14Gg6DfnEVWWgyS_Ai1m5Tgy-moL9KpBUeBN0kZE3Gg=s64",
      "userId": "13717336720242547762"
     },
     "user_tz": 300
    },
    "id": "xHiUv9eMAyWi"
   },
   "outputs": [],
   "source": [
    "# kwh: OK toutes des données vraisemblables mais sont des floats formattés string en `fr-ca` (séparateur décimales = ',' et non '.')\n",
    "print(type(data.loc[0, 'kwh']))\n",
    "data['kwh'].unique()"
   ]
  },
  {
   "cell_type": "markdown",
   "metadata": {
    "id": "XADtNRyjDmAr"
   },
   "source": [
    "### Transformez les valeurs"
   ]
  },
  {
   "cell_type": "markdown",
   "metadata": {
    "id": "SAx2ECJ7f1kZ"
   },
   "source": [
    "#### kwh"
   ]
  },
  {
   "cell_type": "code",
   "execution_count": null,
   "metadata": {
    "executionInfo": {
     "elapsed": 635,
     "status": "aborted",
     "timestamp": 1641956419844,
     "user": {
      "displayName": "Davin Baragiotta",
      "photoUrl": "https://lh3.googleusercontent.com/a-/AOh14Gg6DfnEVWWgyS_Ai1m5Tgy-moL9KpBUeBN0kZE3Gg=s64",
      "userId": "13717336720242547762"
     },
     "user_tz": 300
    },
    "id": "3dbNtwOJDoNi"
   },
   "outputs": [],
   "source": [
    "# les kwh en float\n",
    "\n",
    "# fonction de conversion\n",
    "def str2float(value):\n",
    "    new_value = value\n",
    "    if type(value) == str:\n",
    "        # change , into .\n",
    "        new_value = value.replace(',', '.')\n",
    "        # cast to float\n",
    "        new_value = float(new_value)\n",
    "    return new_value\n",
    "\n",
    "# convert kwh values\n",
    "#data.loc[:, 'kwh'] = data['kwh'].apply(str2float)\n",
    "data['kwh'] = data['kwh'].apply(str2float)\n",
    "\n",
    "# preuve\n",
    "print(type(data.loc[0, 'kwh']))\n",
    "data['kwh'].unique()"
   ]
  },
  {
   "cell_type": "code",
   "execution_count": null,
   "metadata": {
    "executionInfo": {
     "elapsed": 633,
     "status": "aborted",
     "timestamp": 1641956419847,
     "user": {
      "displayName": "Davin Baragiotta",
      "photoUrl": "https://lh3.googleusercontent.com/a-/AOh14Gg6DfnEVWWgyS_Ai1m5Tgy-moL9KpBUeBN0kZE3Gg=s64",
      "userId": "13717336720242547762"
     },
     "user_tz": 300
    },
    "id": "tIsezpbpU5ye"
   },
   "outputs": [],
   "source": [
    "data"
   ]
  },
  {
   "cell_type": "markdown",
   "metadata": {
    "id": "zsFaAEzFf3_h"
   },
   "source": [
    "#### date"
   ]
  },
  {
   "cell_type": "code",
   "execution_count": null,
   "metadata": {
    "executionInfo": {
     "elapsed": 618,
     "status": "aborted",
     "timestamp": 1641956419856,
     "user": {
      "displayName": "Davin Baragiotta",
      "photoUrl": "https://lh3.googleusercontent.com/a-/AOh14Gg6DfnEVWWgyS_Ai1m5Tgy-moL9KpBUeBN0kZE3Gg=s64",
      "userId": "13717336720242547762"
     },
     "user_tz": 300
    },
    "id": "ElVPHXrNFVB8"
   },
   "outputs": [],
   "source": [
    "# dates en... dates\n",
    "\n",
    "# fonction de conversion\n",
    "def str2date(value):\n",
    "    new_value = value\n",
    "    if type(value) == str:\n",
    "        # via builtin converters de pandas...\n",
    "        new_value = pd.to_datetime(value).date()\n",
    "    return new_value\n",
    "\n",
    "# convert date values\n",
    "# data.loc[:, 'date'] = data['date'].apply(str2date)\n",
    "data['date'] = data['date'].apply(str2date)\n",
    "\n",
    "# preuve\n",
    "print(type(data.loc[0, 'date']))\n",
    "data['date'].unique()"
   ]
  },
  {
   "cell_type": "markdown",
   "metadata": {
    "id": "OoMz-Aodf7FJ"
   },
   "source": [
    "### Modifier l'index"
   ]
  },
  {
   "cell_type": "code",
   "execution_count": null,
   "metadata": {
    "executionInfo": {
     "elapsed": 629,
     "status": "aborted",
     "timestamp": 1641956419869,
     "user": {
      "displayName": "Davin Baragiotta",
      "photoUrl": "https://lh3.googleusercontent.com/a-/AOh14Gg6DfnEVWWgyS_Ai1m5Tgy-moL9KpBUeBN0kZE3Gg=s64",
      "userId": "13717336720242547762"
     },
     "user_tz": 300
    },
    "id": "ozTlV0vvf9dk"
   },
   "outputs": [],
   "source": [
    "data.set_index('date', inplace=True)\n",
    "data"
   ]
  },
  {
   "cell_type": "code",
   "execution_count": null,
   "metadata": {
    "executionInfo": {
     "elapsed": 620,
     "status": "aborted",
     "timestamp": 1641956419871,
     "user": {
      "displayName": "Davin Baragiotta",
      "photoUrl": "https://lh3.googleusercontent.com/a-/AOh14Gg6DfnEVWWgyS_Ai1m5Tgy-moL9KpBUeBN0kZE3Gg=s64",
      "userId": "13717336720242547762"
     },
     "user_tz": 300
    },
    "id": "xwZcTO5rXz9u"
   },
   "outputs": [],
   "source": [
    "# import datetime as dt\n",
    "# data.loc[dt.datetime.strptime('2018-08-20', '%Y-%m-%d').date()]\n",
    "data.loc['2018-08-20']"
   ]
  },
  {
   "cell_type": "markdown",
   "metadata": {
    "id": "nLmo9ThW8rEj"
   },
   "source": [
    "## Analyser les données"
   ]
  },
  {
   "cell_type": "markdown",
   "metadata": {
    "id": "z2YKOu5sgPWp"
   },
   "source": [
    "### Conserver que les colonnes utiles"
   ]
  },
  {
   "cell_type": "code",
   "execution_count": null,
   "metadata": {
    "executionInfo": {
     "elapsed": 615,
     "status": "aborted",
     "timestamp": 1641956419874,
     "user": {
      "displayName": "Davin Baragiotta",
      "photoUrl": "https://lh3.googleusercontent.com/a-/AOh14Gg6DfnEVWWgyS_Ai1m5Tgy-moL9KpBUeBN0kZE3Gg=s64",
      "userId": "13717336720242547762"
     },
     "user_tz": 300
    },
    "id": "-KswPSb0gTJt"
   },
   "outputs": [],
   "source": [
    "mask = ['kwh', 'temp']\n",
    "data = data[mask]\n",
    "data"
   ]
  },
  {
   "cell_type": "markdown",
   "metadata": {
    "id": "_9PxWjrBghfH"
   },
   "source": [
    "### Statistiques\n",
    "\n",
    "Les stats de base: min, max, moyenne..."
   ]
  },
  {
   "cell_type": "code",
   "execution_count": null,
   "metadata": {
    "executionInfo": {
     "elapsed": 601,
     "status": "aborted",
     "timestamp": 1641956419877,
     "user": {
      "displayName": "Davin Baragiotta",
      "photoUrl": "https://lh3.googleusercontent.com/a-/AOh14Gg6DfnEVWWgyS_Ai1m5Tgy-moL9KpBUeBN0kZE3Gg=s64",
      "userId": "13717336720242547762"
     },
     "user_tz": 300
    },
    "id": "ATtfpYusgpWj"
   },
   "outputs": [],
   "source": [
    "data.describe()"
   ]
  },
  {
   "cell_type": "markdown",
   "metadata": {
    "id": "zwCNXaWx8s35"
   },
   "source": [
    "## Visualiser les données"
   ]
  },
  {
   "cell_type": "code",
   "execution_count": null,
   "metadata": {
    "executionInfo": {
     "elapsed": 554,
     "status": "aborted",
     "timestamp": 1641956419884,
     "user": {
      "displayName": "Davin Baragiotta",
      "photoUrl": "https://lh3.googleusercontent.com/a-/AOh14Gg6DfnEVWWgyS_Ai1m5Tgy-moL9KpBUeBN0kZE3Gg=s64",
      "userId": "13717336720242547762"
     },
     "user_tz": 300
    },
    "id": "shDk7BMIg1Ac"
   },
   "outputs": [],
   "source": [
    "data.plot()"
   ]
  },
  {
   "cell_type": "markdown",
   "metadata": {
    "id": "Zk9nhXoL8vwg"
   },
   "source": [
    "## Fusionner les données"
   ]
  },
  {
   "cell_type": "markdown",
   "metadata": {
    "id": "XUFJ7ptWhJ8H"
   },
   "source": [
    "### Test de fusion"
   ]
  },
  {
   "cell_type": "code",
   "execution_count": null,
   "metadata": {
    "executionInfo": {
     "elapsed": 553,
     "status": "aborted",
     "timestamp": 1641956419889,
     "user": {
      "displayName": "Davin Baragiotta",
      "photoUrl": "https://lh3.googleusercontent.com/a-/AOh14Gg6DfnEVWWgyS_Ai1m5Tgy-moL9KpBUeBN0kZE3Gg=s64",
      "userId": "13717336720242547762"
     },
     "user_tz": 300
    },
    "id": "R6RCX20PhQtv"
   },
   "outputs": [],
   "source": [
    "# charger un 2e fichier\n",
    "url2 = 'https://raw.githubusercontent.com/mtlpy/mtlpy-exercises/main/hydro/data/jours/0123456789_jour_2019-06-26_au_2019-08-23.csv'\n",
    "data2 = pd.read_csv(url2, encoding='latin-1', sep=';')\n",
    "\n",
    "# le transformer comme le 1er\n",
    "data2 = data2.rename(columns=columns)\n",
    "data2.loc[:, 'kwh'] = data2['kwh'].apply(str2float)\n",
    "data2.loc[:, 'date'] = data2['date'].apply(str2date)\n",
    "data2.set_index('date', inplace=True)\n",
    "data2 = data2[['kwh', 'temp']]"
   ]
  },
  {
   "cell_type": "code",
   "execution_count": null,
   "metadata": {
    "executionInfo": {
     "elapsed": 554,
     "status": "aborted",
     "timestamp": 1641956419918,
     "user": {
      "displayName": "Davin Baragiotta",
      "photoUrl": "https://lh3.googleusercontent.com/a-/AOh14Gg6DfnEVWWgyS_Ai1m5Tgy-moL9KpBUeBN0kZE3Gg=s64",
      "userId": "13717336720242547762"
     },
     "user_tz": 300
    },
    "id": "hL25sSiiiiND"
   },
   "outputs": [],
   "source": [
    "# vérifier les données du 2e fichier\n",
    "data2"
   ]
  },
  {
   "cell_type": "code",
   "execution_count": null,
   "metadata": {
    "executionInfo": {
     "elapsed": 544,
     "status": "aborted",
     "timestamp": 1641956419921,
     "user": {
      "displayName": "Davin Baragiotta",
      "photoUrl": "https://lh3.googleusercontent.com/a-/AOh14Gg6DfnEVWWgyS_Ai1m5Tgy-moL9KpBUeBN0kZE3Gg=s64",
      "userId": "13717336720242547762"
     },
     "user_tz": 300
    },
    "id": "8r19w_FfimFS"
   },
   "outputs": [],
   "source": [
    "# vérifier le graphe du 2e fichier\n",
    "data2.plot()"
   ]
  },
  {
   "cell_type": "code",
   "execution_count": null,
   "metadata": {
    "executionInfo": {
     "elapsed": 508,
     "status": "aborted",
     "timestamp": 1641956419927,
     "user": {
      "displayName": "Davin Baragiotta",
      "photoUrl": "https://lh3.googleusercontent.com/a-/AOh14Gg6DfnEVWWgyS_Ai1m5Tgy-moL9KpBUeBN0kZE3Gg=s64",
      "userId": "13717336720242547762"
     },
     "user_tz": 300
    },
    "id": "kwYfAC1hirZ9"
   },
   "outputs": [],
   "source": [
    "# fusion à partir de la meilleure approche identifiée dans la doc\n",
    "# fusion basée sur conservation des index\n",
    "\n",
    "frames = [data, data2]\n",
    "data_test = pd.concat(frames)\n",
    "\n",
    "# vérifier la volumétrie\n",
    "len(data_test) == len(data) + len(data2)"
   ]
  },
  {
   "cell_type": "code",
   "execution_count": null,
   "metadata": {
    "executionInfo": {
     "elapsed": 498,
     "status": "aborted",
     "timestamp": 1641956419931,
     "user": {
      "displayName": "Davin Baragiotta",
      "photoUrl": "https://lh3.googleusercontent.com/a-/AOh14Gg6DfnEVWWgyS_Ai1m5Tgy-moL9KpBUeBN0kZE3Gg=s64",
      "userId": "13717336720242547762"
     },
     "user_tz": 300
    },
    "id": "d0bRED5pjW7v"
   },
   "outputs": [],
   "source": [
    "# vérifier graphe final (1er et 2e fichiers ensembles)\n",
    "data_test.plot()"
   ]
  },
  {
   "cell_type": "markdown",
   "metadata": {
    "id": "JfnobFNfjd3S"
   },
   "source": [
    "On a la bonne approche pour fusionner.\n",
    "* des trous dans les dates des données (voir les noms de fichier pour preuve) expliquent l'extrapolation (droite)\n",
    "\n",
    "Reste à réorganiser notre code dans des fonctions pour appliquer plus facilement les transformations qu'on veut faire sur chaque fichier."
   ]
  },
  {
   "cell_type": "markdown",
   "metadata": {
    "id": "-pE2xw9ohOJ7"
   },
   "source": [
    "### Fusion en masse"
   ]
  },
  {
   "cell_type": "markdown",
   "metadata": {
    "id": "kJfUtlq0ls2h"
   },
   "source": [
    "Fonctions de conversion: même code que plus haut, remis ici par commodité."
   ]
  },
  {
   "cell_type": "code",
   "execution_count": null,
   "metadata": {
    "executionInfo": {
     "elapsed": 494,
     "status": "aborted",
     "timestamp": 1641956419933,
     "user": {
      "displayName": "Davin Baragiotta",
      "photoUrl": "https://lh3.googleusercontent.com/a-/AOh14Gg6DfnEVWWgyS_Ai1m5Tgy-moL9KpBUeBN0kZE3Gg=s64",
      "userId": "13717336720242547762"
     },
     "user_tz": 300
    },
    "id": "rlSgWOz1llYH"
   },
   "outputs": [],
   "source": [
    "import pandas as pd\n",
    "\n",
    "# fonction de conversion\n",
    "def str2float(value):\n",
    "    new_value = value\n",
    "    if type(value) == str:\n",
    "        # change , into .\n",
    "        new_value = value.replace(',', '.')\n",
    "        # cast to float\n",
    "        new_value = float(new_value)\n",
    "    return new_value\n",
    "\n",
    "# fonction de conversion\n",
    "def str2date(value):\n",
    "    new_value = value\n",
    "    if type(value) == str:\n",
    "        # via builtin converters de pandas...\n",
    "        new_value = pd.to_datetime(value).date()\n",
    "    return new_value"
   ]
  },
  {
   "cell_type": "markdown",
   "metadata": {
    "id": "0KOdA6jfl3HH"
   },
   "source": [
    "Nouvelle fonction qui centrlise les transformations sur un fichier."
   ]
  },
  {
   "cell_type": "code",
   "execution_count": null,
   "metadata": {
    "executionInfo": {
     "elapsed": 464,
     "status": "aborted",
     "timestamp": 1641956419941,
     "user": {
      "displayName": "Davin Baragiotta",
      "photoUrl": "https://lh3.googleusercontent.com/a-/AOh14Gg6DfnEVWWgyS_Ai1m5Tgy-moL9KpBUeBN0kZE3Gg=s64",
      "userId": "13717336720242547762"
     },
     "user_tz": 300
    },
    "id": "k85bgSdQj4SB"
   },
   "outputs": [],
   "source": [
    "def load_jour(file_path, alt_encoding='latin-1', sep=';'):\n",
    "    \"\"\"\n",
    "    Traiter un fichier de données journalières provenant de Hydro-Québec.\n",
    "    \"\"\"\n",
    "\n",
    "    # load\n",
    "    try:\n",
    "        # UTF-8\n",
    "        data = pd.read_csv(file_path, sep=sep)\n",
    "    except UnicodeDecodeError:\n",
    "        # alt_encoding\n",
    "        data = pd.read_csv(file_path, encoding=alt_encoding, sep=sep)\n",
    "\n",
    "    # rename columns\n",
    "    columns = {\n",
    "        'Contrat': 'contrat',\n",
    "        'Tarif': 'tarif',\n",
    "        'Date': 'date',\n",
    "        'kWh': 'kwh',\n",
    "        'Code de consommation': 'consommation',\n",
    "        'Température moyenne (°C)': 'temp',\n",
    "        'Code de température': 'temp_code',\n",
    "    }\n",
    "    data = data.rename(columns=columns)\n",
    "\n",
    "    # convert kwh values\n",
    "    data.loc[:, 'kwh'] = data['kwh'].apply(str2float)\n",
    "\n",
    "    # convert date values\n",
    "    data.loc[:, 'date'] = data['date'].apply(str2date)\n",
    "\n",
    "    # keep useful columns\n",
    "    data = data[['date', 'kwh', 'temp']]\n",
    "\n",
    "    # new index for rows\n",
    "    data.set_index('date', inplace=True)\n",
    "\n",
    "    return data"
   ]
  },
  {
   "cell_type": "markdown",
   "metadata": {
    "id": "bTQr-AewmPbq"
   },
   "source": [
    "Déclaration des fichiers à traiter.\n",
    "\n",
    "Avec des fichiers CSV en local sur votre machine, vous pourriez obtenir tous les _paths_ des fichiers avec cette commande\n",
    "```\n",
    "import glob\n",
    "\n",
    "file_paths = glob.glob('data/jours/*.csv')\n",
    "file_paths.sort()\n",
    "```"
   ]
  },
  {
   "cell_type": "code",
   "execution_count": null,
   "metadata": {
    "executionInfo": {
     "elapsed": 464,
     "status": "aborted",
     "timestamp": 1641956419943,
     "user": {
      "displayName": "Davin Baragiotta",
      "photoUrl": "https://lh3.googleusercontent.com/a-/AOh14Gg6DfnEVWWgyS_Ai1m5Tgy-moL9KpBUeBN0kZE3Gg=s64",
      "userId": "13717336720242547762"
     },
     "user_tz": 300
    },
    "id": "YcYtoW8hmzOr"
   },
   "outputs": [],
   "source": [
    "# https://github.com/mtlpy/mtlpy-exercises/tree/main/hydro/data/jours\n",
    "main_url = 'https://raw.githubusercontent.com/mtlpy/mtlpy-exercises/main/hydro/data/jours'\n",
    "\n",
    "file_urls = [\n",
    "    # seulement jours continus pour éviter trous dans graph\n",
    "    # f'{main_url}/0123456789_jour_2018-06-19_au_2018-08-20.csv',\n",
    "    f'{main_url}/0123456789_jour_2019-04-25_au_2019-06-25.csv',\n",
    "    f'{main_url}/0123456789_jour_2019-06-26_au_2019-08-23.csv',\n",
    "    f'{main_url}/0123456789_jour_2019-08-24_au_2019-10-24.csv',\n",
    "    f'{main_url}/0123456789_jour_2019-10-25_au_2019-12-20.csv',\n",
    "    f'{main_url}/0123456789_jour_2019-12-21_au_2020-02-25.csv',\n",
    "    f'{main_url}/0123456789_jour_2020-02-26_au_2020-04-27.csv',\n",
    "    f'{main_url}/0123456789_jour_2020-02-26_au_2020-04-27.csv',\n",
    "    f'{main_url}/0123456789_jour_2020-04-28_au_2020-06-25.csv',\n",
    "    # f'{main_url}/0123456789_jour_2020-06-26_au_2020-07-05.csv',\n",
    "    f'{main_url}/0123456789_jour_2020-06-26_au_2020-08-25.csv',\n",
    "    f'{main_url}/0123456789_jour_2020-08-26_au_2020-10-26.csv',\n",
    "    f'{main_url}/0123456789_jour_2020-10-27_au_2020-12-23.csv',\n",
    "    f'{main_url}/0123456789_jour_2020-12-24_au_2021-02-23.csv',\n",
    "    f'{main_url}/0123456789_jour_2021-02-24_au_2021-04-27.csv',\n",
    "    # f'{main_url}/0123456789_jour_2021-04-28_au_2021-05-09.csv',\n",
    "    f'{main_url}/0123456789_jour_2021-04-28_au_2021-06-25.csv',\n",
    "]"
   ]
  },
  {
   "cell_type": "code",
   "execution_count": null,
   "metadata": {
    "executionInfo": {
     "elapsed": 462,
     "status": "aborted",
     "timestamp": 1641956419944,
     "user": {
      "displayName": "Davin Baragiotta",
      "photoUrl": "https://lh3.googleusercontent.com/a-/AOh14Gg6DfnEVWWgyS_Ai1m5Tgy-moL9KpBUeBN0kZE3Gg=s64",
      "userId": "13717336720242547762"
     },
     "user_tz": 300
    },
    "id": "2lM9J1Zbr8zv"
   },
   "outputs": [],
   "source": [
    "# load csv files as dataframes\n",
    "frames = []\n",
    "for file_url in file_urls:\n",
    "    data = load_jour(file_url)\n",
    "    frames.append(data)"
   ]
  },
  {
   "cell_type": "code",
   "execution_count": null,
   "metadata": {
    "executionInfo": {
     "elapsed": 467,
     "status": "aborted",
     "timestamp": 1641956419952,
     "user": {
      "displayName": "Davin Baragiotta",
      "photoUrl": "https://lh3.googleusercontent.com/a-/AOh14Gg6DfnEVWWgyS_Ai1m5Tgy-moL9KpBUeBN0kZE3Gg=s64",
      "userId": "13717336720242547762"
     },
     "user_tz": 300
    },
    "id": "hV52l4iZCSBE"
   },
   "outputs": [],
   "source": [
    "# merge in one dataset\n",
    "jours = pd.concat(frames)\n",
    "jours.sort_index(inplace=True)"
   ]
  },
  {
   "cell_type": "code",
   "execution_count": null,
   "metadata": {
    "executionInfo": {
     "elapsed": 474,
     "status": "aborted",
     "timestamp": 1641956419961,
     "user": {
      "displayName": "Davin Baragiotta",
      "photoUrl": "https://lh3.googleusercontent.com/a-/AOh14Gg6DfnEVWWgyS_Ai1m5Tgy-moL9KpBUeBN0kZE3Gg=s64",
      "userId": "13717336720242547762"
     },
     "user_tz": 300
    },
    "id": "YHXe9fRbCjq3"
   },
   "outputs": [],
   "source": [
    "# vérifier le merge\n",
    "print(len(jours))\n",
    "jours.describe()"
   ]
  },
  {
   "cell_type": "code",
   "execution_count": null,
   "metadata": {
    "executionInfo": {
     "elapsed": 477,
     "status": "aborted",
     "timestamp": 1641956419965,
     "user": {
      "displayName": "Davin Baragiotta",
      "photoUrl": "https://lh3.googleusercontent.com/a-/AOh14Gg6DfnEVWWgyS_Ai1m5Tgy-moL9KpBUeBN0kZE3Gg=s64",
      "userId": "13717336720242547762"
     },
     "user_tz": 300
    },
    "id": "QlZvW2WeC5e1"
   },
   "outputs": [],
   "source": [
    "# visualiser tout le jeu de données\n",
    "\n",
    "jours.plot()"
   ]
  },
  {
   "cell_type": "code",
   "execution_count": null,
   "metadata": {
    "executionInfo": {
     "elapsed": 483,
     "status": "aborted",
     "timestamp": 1641956419977,
     "user": {
      "displayName": "Davin Baragiotta",
      "photoUrl": "https://lh3.googleusercontent.com/a-/AOh14Gg6DfnEVWWgyS_Ai1m5Tgy-moL9KpBUeBN0kZE3Gg=s64",
      "userId": "13717336720242547762"
     },
     "user_tz": 300
    },
    "id": "VoEurGxMcyzz"
   },
   "outputs": [],
   "source": [
    "jours.corr?"
   ]
  },
  {
   "cell_type": "markdown",
   "metadata": {
    "id": "umPQJ_ThDA18"
   },
   "source": [
    "## Conclusion"
   ]
  },
  {
   "cell_type": "markdown",
   "metadata": {
    "id": "s9i46LiEDC4K"
   },
   "source": [
    "On voit clairement une corrélation globale entre la consommation électrique quotidienne et la température quotidienne."
   ]
  },
  {
   "cell_type": "markdown",
   "metadata": {
    "id": "jH9JWtcKt5wj"
   },
   "source": [
    "# Cheat sheet"
   ]
  },
  {
   "cell_type": "markdown",
   "metadata": {
    "id": "uF9YOHRzx3W5"
   },
   "source": [
    "## Un seul fichier"
   ]
  },
  {
   "cell_type": "code",
   "execution_count": null,
   "metadata": {
    "colab": {
     "base_uri": "https://localhost:8080/",
     "height": 314
    },
    "executionInfo": {
     "elapsed": 766,
     "status": "ok",
     "timestamp": 1632941310317,
     "user": {
      "displayName": "Davin Baragiotta",
      "photoUrl": "https://lh3.googleusercontent.com/a-/AOh14Gg6DfnEVWWgyS_Ai1m5Tgy-moL9KpBUeBN0kZE3Gg=s64",
      "userId": "13717336720242547762"
     },
     "user_tz": 240
    },
    "id": "7C35p9ZEt7d5",
    "outputId": "24fcdfe5-5810-4853-cc16-9ed7e80f40d8"
   },
   "outputs": [
    {
     "name": "stdout",
     "output_type": "stream",
     "text": [
      "<class 'str'>\n"
     ]
    },
    {
     "data": {
      "text/plain": [
       "<matplotlib.axes._subplots.AxesSubplot at 0x7fc8ceb08790>"
      ]
     },
     "execution_count": 51,
     "metadata": {},
     "output_type": "execute_result"
    },
    {
     "data": {
      "image/png": "[encoded data removed]",
      "text/plain": [
       "<Figure size 432x288 with 1 Axes>"
      ]
     },
     "metadata": {
      "needs_background": "light"
     },
     "output_type": "display_data"
    }
   ],
   "source": [
    "import pandas as pd\n",
    "\n",
    "# data import\n",
    "url = 'https://raw.githubusercontent.com/mtlpy/mtlpy-exercises/main/hydro/data/jours/0123456789_jour_2018-06-19_au_2018-08-20.csv'\n",
    "data = pd.read_csv(url, encoding='latin-1', sep=';')\n",
    "\n",
    "# data exploration\n",
    "data\n",
    "data.columns\n",
    "data['Contrat'].unique()\n",
    "data['Code de consommation'].value_counts()\n",
    "print(type(data.loc[0, 'Date']))\n",
    "\n",
    "# data preparation\n",
    "\n",
    "## rename\n",
    "columns = {\n",
    "    'Contrat': 'contrat',\n",
    "    'Tarif': 'tarif',\n",
    "    'Date': 'date',\n",
    "    'kWh': 'kwh',\n",
    "    'Code de consommation': 'consommation',\n",
    "    'Température moyenne (°C)': 'temp',\n",
    "    'Code de température': 'temp_code',\n",
    "}\n",
    "data = data.rename(columns=columns)\n",
    "\n",
    "## convert kwh\n",
    "def str2float(value):\n",
    "    new_value = value\n",
    "    if type(value) == str:\n",
    "        # change , into .\n",
    "        new_value = value.replace(',', '.')\n",
    "        # cast to float\n",
    "        new_value = float(new_value)\n",
    "    return new_value\n",
    "\n",
    "#data.loc[:, 'kwh'] = data['kwh'].apply(str2float)\n",
    "data['kwh'] = data['kwh'].apply(str2float)\n",
    "\n",
    "# convert date\n",
    "def str2date(value):\n",
    "    new_value = value\n",
    "    if type(value) == str:\n",
    "        # via builtin converters de pandas...\n",
    "        new_value = pd.to_datetime(value).date()\n",
    "    return new_value\n",
    "\n",
    "# data.loc[:, 'date'] = data['date'].apply(str2date)\n",
    "data['date'] = data['date'].apply(str2date)\n",
    "\n",
    "## modify index\n",
    "data.set_index('date', inplace=True)\n",
    "\n",
    "# data analysis\n",
    "mask = ['kwh', 'temp']\n",
    "data = data[mask]\n",
    "data.describe()\n",
    "\n",
    "# data visualization\n",
    "data.plot()"
   ]
  },
  {
   "cell_type": "markdown",
   "metadata": {
    "id": "aB-X2OpJxGz5"
   },
   "source": [
    "## Plusieurs fichiers"
   ]
  },
  {
   "cell_type": "code",
   "execution_count": null,
   "metadata": {
    "colab": {
     "base_uri": "https://localhost:8080/",
     "height": 296
    },
    "executionInfo": {
     "elapsed": 2189,
     "status": "ok",
     "timestamp": 1632941326741,
     "user": {
      "displayName": "Davin Baragiotta",
      "photoUrl": "https://lh3.googleusercontent.com/a-/AOh14Gg6DfnEVWWgyS_Ai1m5Tgy-moL9KpBUeBN0kZE3Gg=s64",
      "userId": "13717336720242547762"
     },
     "user_tz": 240
    },
    "id": "1au0H6vRxMiZ",
    "outputId": "b92273e8-1252-4b1d-8c6b-4e0e54259912"
   },
   "outputs": [
    {
     "data": {
      "text/plain": [
       "<matplotlib.axes._subplots.AxesSubplot at 0x7fc8ceaa2910>"
      ]
     },
     "execution_count": 52,
     "metadata": {},
     "output_type": "execute_result"
    },
    {
     "data": {
      "image/png": "[encoded data removed]",
      "text/plain": [
       "<Figure size 432x288 with 1 Axes>"
      ]
     },
     "metadata": {
      "needs_background": "light"
     },
     "output_type": "display_data"
    }
   ],
   "source": [
    "import pandas as pd\n",
    "\n",
    "# data import\n",
    "\n",
    "def load_jour(file_path, alt_encoding='latin-1', sep=';'):\n",
    "    \"\"\"\n",
    "    Traiter un fichier de données journalières provenant de Hydro-Québec.\n",
    "    \"\"\"\n",
    "\n",
    "    # load\n",
    "    try:\n",
    "        # UTF-8\n",
    "        data = pd.read_csv(file_path, sep=sep)\n",
    "    except UnicodeDecodeError:\n",
    "        # alt_encoding\n",
    "        data = pd.read_csv(file_path, encoding=alt_encoding, sep=sep)\n",
    "\n",
    "    # rename columns\n",
    "    columns = {\n",
    "        'Contrat': 'contrat',\n",
    "        'Tarif': 'tarif',\n",
    "        'Date': 'date',\n",
    "        'kWh': 'kwh',\n",
    "        'Code de consommation': 'consommation',\n",
    "        'Température moyenne (°C)': 'temp',\n",
    "        'Code de température': 'temp_code',\n",
    "    }\n",
    "    data = data.rename(columns=columns)\n",
    "\n",
    "    # convert kwh values\n",
    "    data.loc[:, 'kwh'] = data['kwh'].apply(str2float)\n",
    "\n",
    "    # convert date values\n",
    "    data.loc[:, 'date'] = data['date'].apply(str2date)\n",
    "\n",
    "    # keep useful columns\n",
    "    data = data[['date', 'kwh', 'temp']]\n",
    "\n",
    "    # new index for rows\n",
    "    data.set_index('date', inplace=True)\n",
    "\n",
    "    return data\n",
    "\n",
    "# https://github.com/mtlpy/mtlpy-exercises/tree/main/hydro/data/jours\n",
    "main_url = 'https://raw.githubusercontent.com/mtlpy/mtlpy-exercises/main/hydro/data/jours'\n",
    "\n",
    "file_urls = [\n",
    "    # seulement jours continus pour éviter trous dans graph\n",
    "    # f'{main_url}/0123456789_jour_2018-06-19_au_2018-08-20.csv',\n",
    "    f'{main_url}/0123456789_jour_2019-04-25_au_2019-06-25.csv',\n",
    "    f'{main_url}/0123456789_jour_2019-06-26_au_2019-08-23.csv',\n",
    "    f'{main_url}/0123456789_jour_2019-08-24_au_2019-10-24.csv',\n",
    "    f'{main_url}/0123456789_jour_2019-10-25_au_2019-12-20.csv',\n",
    "    f'{main_url}/0123456789_jour_2019-12-21_au_2020-02-25.csv',\n",
    "    f'{main_url}/0123456789_jour_2020-02-26_au_2020-04-27.csv',\n",
    "    f'{main_url}/0123456789_jour_2020-02-26_au_2020-04-27.csv',\n",
    "    f'{main_url}/0123456789_jour_2020-04-28_au_2020-06-25.csv',\n",
    "    # f'{main_url}/0123456789_jour_2020-06-26_au_2020-07-05.csv',\n",
    "    f'{main_url}/0123456789_jour_2020-06-26_au_2020-08-25.csv',\n",
    "    f'{main_url}/0123456789_jour_2020-08-26_au_2020-10-26.csv',\n",
    "    f'{main_url}/0123456789_jour_2020-10-27_au_2020-12-23.csv',\n",
    "    f'{main_url}/0123456789_jour_2020-12-24_au_2021-02-23.csv',\n",
    "    f'{main_url}/0123456789_jour_2021-02-24_au_2021-04-27.csv',\n",
    "    # f'{main_url}/0123456789_jour_2021-04-28_au_2021-05-09.csv',\n",
    "    f'{main_url}/0123456789_jour_2021-04-28_au_2021-06-25.csv',\n",
    "]\n",
    "\n",
    "## load csv files as dataframes\n",
    "frames = []\n",
    "for file_url in file_urls:\n",
    "    data = load_jour(file_url)\n",
    "    frames.append(data)\n",
    "\n",
    "## merge in one dataset\n",
    "jours = pd.concat(frames)\n",
    "jours.sort_index(inplace=True)\n",
    "\n",
    "# data visualization\n",
    "jours.plot()"
   ]
  },
  {
   "cell_type": "markdown",
   "metadata": {
    "id": "tX2u_Q_-5r_Y"
   },
   "source": [
    "# Licence"
   ]
  },
  {
   "cell_type": "markdown",
   "metadata": {
    "id": "-48s0xhA5t3n"
   },
   "source": [
    "Copyright 2021 Montréal-Python\n",
    "\n",
    "Permission is hereby granted, free of charge, to any person obtaining a copy of this software and associated documentation files (the \"Software\"), to deal in the Software without restriction, including without limitation the rights to use, copy, modify, merge, publish, distribute, sublicense, and/or sell copies of the Software, and to permit persons to whom the Software is furnished to do so, subject to the following conditions:\n",
    "\n",
    "The above copyright notice and this permission notice shall be included in all copies or substantial portions of the Software.\n",
    "\n",
    "THE SOFTWARE IS PROVIDED \"AS IS\", WITHOUT WARRANTY OF ANY KIND, EXPRESS OR IMPLIED, INCLUDING BUT NOT LIMITED TO THE WARRANTIES OF MERCHANTABILITY, FITNESS FOR A PARTICULAR PURPOSE AND NONINFRINGEMENT. IN NO EVENT SHALL THE AUTHORS OR COPYRIGHT HOLDERS BE LIABLE FOR ANY CLAIM, DAMAGES OR OTHER LIABILITY, WHETHER IN AN ACTION OF CONTRACT, TORT OR OTHERWISE, ARISING FROM, OUT OF OR IN CONNECTION WITH THE SOFTWARE OR THE USE OR OTHER DEALINGS IN THE SOFTWARE.\n"
   ]
  }
 ],
 "metadata": {
  "colab": {
   "collapsed_sections": [
    "XADtNRyjDmAr",
    "SAx2ECJ7f1kZ",
    "zsFaAEzFf3_h",
    "OoMz-Aodf7FJ",
    "z2YKOu5sgPWp",
    "_9PxWjrBghfH",
    "XUFJ7ptWhJ8H",
    "-pE2xw9ohOJ7"
   ],
   "name": "Hydro_solution.ipynb",
   "provenance": []
  },
  "kernelspec": {
   "display_name": "Python 3",
   "name": "python3"
  },
  "language_info": {
   "name": "python"
  }
 },
 "nbformat": 4,
 "nbformat_minor": 0
}
