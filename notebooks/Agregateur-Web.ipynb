{
 "cells": [
  {
   "cell_type": "markdown",
   "metadata": {
    "id": "eLWj7owzMM1A"
   },
   "source": [
    "# Agrégateur Web\n",
    "\n",
    "Grâce à Python, on peut extraire des informations d'un site web et les structurer pour en faire l'analyse plus facilement. L'agrégation web (web scraping en anglais) est une habileté qui vaut la peine d'apprendre pour pouvoir extraire le texte, donées, et telécharger les fichiers de toute sortes de sites.\n",
    "\n",
    "Nous utiliserons le site web de la ville de Montréal: https://donnees.montreal.ca/ville-de-montreal comme source pour cet atelier.\n",
    "\n",
    "### Questions:\n",
    "- Quels sont les jeux de données disponibles en rapport à l'eau de Montréal ?  \n",
    "  (ceci correspond aux résultats de la recherche pour le `tag` [Eau](https://donnees.montreal.ca/search?q=tags:Eau))\n",
    "- Quels sont les formats de fichiers offerts ?\n",
    "\n",
    "### Libraries:\n",
    "Nous allows utiliser:\n",
    "- le module `requests` pour fire les requètes HTTP\n",
    "- le module Beautiful Soup (`bs4`) pour acceder au contenu des page web de façon structurée"
   ]
  },
  {
   "cell_type": "markdown",
   "metadata": {
    "id": "Vd_mtpiCdBFb"
   },
   "source": [
    "## 1. Téléchargement de la page\n",
    "\n",
    "Nous voulons télécharger le contenu de la page suivante: https://donnees.montreal.ca/search?q=tags:Eau&from=0 \n",
    "\n",
    "Pour ce faire, nous utiliserons le module `requests` qui agit un peu comme votre furteur web, ça GET des pages web."
   ]
  },
  {
   "cell_type": "code",
   "execution_count": null,
   "metadata": {
    "id": "qhy3lufLMTaI"
   },
   "outputs": [],
   "source": [
    "import requests\n",
    "\n",
    "HOST = \"https://donnees.montreal.ca\"\n",
    "PATH = \"/search\"\n",
    "QUERY_STRING = \"?q=tags:Eau&from=0\"\n",
    "EAU_URL = HOST + PATH + QUERY_STRING\n",
    "\n",
    "response = requests.get(EAU_URL)"
   ]
  },
  {
   "cell_type": "code",
   "execution_count": null,
   "metadata": {
    "id": "cLixLfjZHeTD"
   },
   "outputs": [],
   "source": [
    "type(response)"
   ]
  },
  {
   "cell_type": "code",
   "execution_count": null,
   "metadata": {
    "id": "hPwxTJHWHgg6"
   },
   "outputs": [],
   "source": [
    "len(response.text)"
   ]
  },
  {
   "cell_type": "code",
   "execution_count": null,
   "metadata": {
    "id": "VivNxhRmHp4S"
   },
   "outputs": [],
   "source": [
    "# premiers 100 charactères du contenu de la page\n",
    "print(response.text[0:100])"
   ]
  },
  {
   "cell_type": "code",
   "execution_count": null,
   "metadata": {
    "id": "MPxxBy-IH84k"
   },
   "outputs": [],
   "source": [
    "# le contenu de la page au complet\n",
    "# response.text"
   ]
  },
  {
   "cell_type": "code",
   "execution_count": null,
   "metadata": {
    "id": "VmDHPTRhG_bE"
   },
   "outputs": [],
   "source": []
  },
  {
   "cell_type": "markdown",
   "metadata": {
    "id": "yHP0wZa6GYBx"
   },
   "source": [
    "Nou avons le contenu de la [page web](https://donnees.montreal.ca/search?q=tags:Eau) sous forme de text dans `response.text`, mais ce n'est pas très utile par soi.\n",
    "\n",
    "## 2. Analyse structurelle du contenu HTML de la page\n",
    "\n",
    "La librairie Python Beautiful Soup nous permet de comprendre la structure de la page HTML ce qui est très utile."
   ]
  },
  {
   "cell_type": "code",
   "execution_count": null,
   "metadata": {
    "id": "cd5tw7qFGW64"
   },
   "outputs": [],
   "source": [
    "import bs4\n",
    "soup = bs4.BeautifulSoup(response.text)"
   ]
  },
  {
   "cell_type": "code",
   "execution_count": null,
   "metadata": {
    "id": "N8d0dfIqI3oR"
   },
   "outputs": [],
   "source": [
    "type(soup)"
   ]
  },
  {
   "cell_type": "markdown",
   "metadata": {
    "id": "s1mrkqV5dhqS"
   },
   "source": [
    "Voici un aperçu de comment on peut accéder aux éléments dans notre soupe."
   ]
  },
  {
   "cell_type": "code",
   "execution_count": null,
   "metadata": {
    "id": "cuwGtIlqIHKE"
   },
   "outputs": [],
   "source": [
    "# imprimer le contenu du premier lien dans la page\n",
    "html = soup.find(\"html\")\n",
    "link = html.find(\"a\")\n",
    "print(link)"
   ]
  },
  {
   "cell_type": "code",
   "execution_count": null,
   "metadata": {
    "id": "FGuHykvnP9ar"
   },
   "outputs": [],
   "source": [
    "# trouver le premier titre H3 dans le grand-grand-grand-parent du premier lien\n",
    "titre_h3 = link.parent.parent.parent.parent.find(\"h3\")\n",
    "print(\"text =\", titre_h3.text)\n",
    "print(\"len(text) =\", len(titre_h3))\n",
    "print(\"CSS classes =\", titre_h3[\"class\"])\n",
    "print(\"children=\", list(titre_h3.children))"
   ]
  },
  {
   "cell_type": "markdown",
   "metadata": {
    "id": "GvoAzHqEJyE6"
   },
   "source": [
    "On voit qu'on peut naviguer le document HTML comme un arbre avec les attributs `parent` et `children`. On voit aussi qu'on peut trouver des éléments spécifiques par nom de balises (en anglais: \"tag\"). \n",
    "\n",
    "Vous pouvez imaginer une page Web comme un arbre de balises. Prennont le document suivant:"
   ]
  },
  {
   "cell_type": "code",
   "execution_count": null,
   "metadata": {
    "id": "eRl74WkJJ1mJ"
   },
   "outputs": [],
   "source": [
    "html1 = \"\"\"\n",
    "<html>\n",
    "  <head>\n",
    "    <title>Titre de la page</title>\n",
    "  </head>\n",
    "  <body>\n",
    "    <h1>Gros Titre de Section</h1>\n",
    "    <p>Premier paragraphe de la section</p>\n",
    "    <p>Second pragraphe de la section</p>\n",
    "  </body>\n",
    "</html>\n",
    "\"\"\""
   ]
  },
  {
   "cell_type": "markdown",
   "metadata": {
    "id": "xzGOHG7DJ2jf"
   },
   "source": [
    "On peut facilement l'imaginer comme une série de liste imbriquées, mais on peut aussi voir la relation conteneur/conetnu comme une relation parent/enfant.\n",
    "\n",
    "![Arbre de éléments HTML](https://github.com/mtlpy/ateliers-prog/raw/main/assets/html-as-tree.png)"
   ]
  },
  {
   "cell_type": "code",
   "execution_count": null,
   "metadata": {
    "id": "ge39TP0fJDX8"
   },
   "outputs": [],
   "source": [
    "# pour pouvoir traverser l'arbre de balises...\n",
    "soup1 = bs4.BeautifulSoup(html1)"
   ]
  },
  {
   "cell_type": "code",
   "execution_count": null,
   "metadata": {
    "id": "MFr3LAYKKCis"
   },
   "outputs": [],
   "source": [
    "# texte_1\n",
    "soup1.head.title.text"
   ]
  },
  {
   "cell_type": "code",
   "execution_count": null,
   "metadata": {
    "id": "-7HQYkXAKFhY"
   },
   "outputs": [],
   "source": [
    "# texte_2\n",
    "soup1.body.h1.text"
   ]
  },
  {
   "cell_type": "code",
   "execution_count": null,
   "metadata": {
    "id": "-j8S3-N7KLYB"
   },
   "outputs": [],
   "source": [
    "# texte_3\n",
    "soup1.body.find_all(\"p\")[0].text"
   ]
  },
  {
   "cell_type": "code",
   "execution_count": null,
   "metadata": {
    "id": "qMo-zv4gJwgK"
   },
   "outputs": [],
   "source": [
    "# texte_4\n",
    "soup1.body.find_all(\"p\")[1].text"
   ]
  },
  {
   "cell_type": "markdown",
   "metadata": {
    "id": "9RxXcCGtIygV"
   },
   "source": [
    "Pour ce qui suit, on va appeler \"élément\" le bloc complet qui commence à la balise ouvrante et qui se termine à la fin de la balise fermante.  L'élément peut posséder des attributs comme `id` et `class` qu'on accède avec la notation des dictionnaires Python. Les enfants d'un élément peuvent être des blocs de texte ou d'autres éléments.\n",
    "\n",
    "Pour mieux comprendre, visitez la même page web et faites \"inspect element\" sur un des titres de sections dans votre navigateur. Notez le parallèle entre le code de la page web et la vue offerte par BeautifulSoup.  Si vous n'avez pas l'option \"inspect element\", installez l'extension \"Web Developer\" dans Firefox ou dans Chrome faites clique contextuel et choisissez \"Inspect\"."
   ]
  },
  {
   "cell_type": "markdown",
   "metadata": {
    "id": "6CyfTaKHJW6z"
   },
   "source": [
    "## 3. Sélection d'éléments avec la notation CSS"
   ]
  },
  {
   "cell_type": "markdown",
   "metadata": {
    "id": "S3E2LBQfLiuo"
   },
   "source": [
    "On peut prendre un raccourci pour trouver les éléments dans une page Web avec la méthode `select()` qui prend en argument un sélecteur CSS. La [notation des sélecteurs CSS](https://en.wikipedia.org/wiki/CSS#Selector) est très expressive et très compacte. \n",
    "\n",
    "Par exemple, considéron la page web suivante:"
   ]
  },
  {
   "cell_type": "code",
   "execution_count": null,
   "metadata": {
    "id": "NroK7UK_Lrhp"
   },
   "outputs": [],
   "source": [
    "html2 = \"\"\"\n",
    "<html>\n",
    "  <body>\n",
    "    <h1 class=\"big\">Gros Titre de Section</h1>\n",
    "    <p id=\"first_para\">Premier paragraphe de la section</p>\n",
    "    <p id=\"second_para\">Second pragraphe de la section</p>\n",
    "  </body>\n",
    "</html>\n",
    "\"\"\"\n",
    "soup2 = bs4.BeautifulSoup(html2)"
   ]
  },
  {
   "cell_type": "markdown",
   "metadata": {
    "id": "WJQG0E6mMaFE"
   },
   "source": [
    "Dans la notation des sélecteurs CSS, on peut référencer des élements par leur imbracage (par exemple `\"body h1\"`), par leur classes (ex.: `\"h1.big\"`), par leur identifiant (ex.: `\"p#first_para\"`) ou une combinaison arbitraire de ces options."
   ]
  },
  {
   "cell_type": "code",
   "execution_count": null,
   "metadata": {
    "id": "QscJDHCmMf4C"
   },
   "outputs": [],
   "source": [
    "# exemple: selectionner le premier paragraphe\n",
    "soup2.select(\"#first_para\")[0]"
   ]
  },
  {
   "cell_type": "code",
   "execution_count": null,
   "metadata": {
    "id": "HuXtufywNkDy"
   },
   "outputs": [],
   "source": [
    "# à vous de jouer : selectionnez le texte du second paragraphe\n"
   ]
  },
  {
   "cell_type": "markdown",
   "metadata": {
    "id": "4VMbuKRYvzBY"
   },
   "source": [
    "$ $  \n",
    "\n",
    "---\n",
    "\n"
   ]
  },
  {
   "cell_type": "markdown",
   "metadata": {
    "id": "f15pzGVJNlQp"
   },
   "source": [
    "Dans le contexte de notre [page web](https://donnees.montreal.ca/search?q=tags:Eau), on peut utiliser les selecteurs CSS suivants:"
   ]
  },
  {
   "cell_type": "code",
   "execution_count": null,
   "metadata": {
    "id": "h6D31Q56KSSS"
   },
   "outputs": [],
   "source": [
    "# selectionner tous le titres de jeux de données\n",
    "# tous les éléments <a> qui sont enfants d'éléments <h3> avec la classe \"text-lg\"\n",
    "soup.select(\"h3.text-lg a\")"
   ]
  },
  {
   "cell_type": "code",
   "execution_count": null,
   "metadata": {
    "id": "YJAtm7tzO-xr"
   },
   "outputs": [],
   "source": []
  },
  {
   "cell_type": "code",
   "execution_count": null,
   "metadata": {
    "id": "1k1PpK9PRVEi"
   },
   "outputs": [],
   "source": []
  },
  {
   "cell_type": "markdown",
   "metadata": {
    "id": "S0iqI8D8RVpa"
   },
   "source": [
    "____\n",
    "\n",
    "## 4. Exercices\n",
    "\n",
    "Rappelez vous que `soup` est l'objet BeautifulSoup crée à partid du code HTML de la [page web](https://donnees.montreal.ca/search?q=tags:Eau).\n",
    "\n",
    "```Python\n",
    "response = requests.get(EAU_URL)\n",
    "soup = bs4.BeautifulSoup(response.text)\n",
    "```"
   ]
  },
  {
   "cell_type": "markdown",
   "metadata": {
    "id": "whBSlQyzLq6C"
   },
   "source": [
    "### Exercice 1: liste des jeux de données\n",
    "\n",
    "Utilisez la méthode `select()` pour extraire la liste des jeux de données. Affichez les résultats dans les format \"titre: url\". Par exemple:\n",
    "\n",
    "    Bornes d'incendie: https://donnees.montreal.ca/...\n",
    "    Hydrographie: https://donnees.montreal.ca/...\n",
    "    ...[link text](https://)"
   ]
  },
  {
   "cell_type": "code",
   "execution_count": null,
   "metadata": {
    "id": "HVU5MCcEtV4P"
   },
   "outputs": [],
   "source": [
    "# tapper votre solution ici\n",
    "# indice: soup.???\n"
   ]
  },
  {
   "cell_type": "markdown",
   "metadata": {
    "id": "RF8PiEDVPvOZ"
   },
   "source": [
    "### Exercice 2: formats de fichier disponibles\n",
    "\n",
    "Modifiez le code précédent pour inclure les formats disponibles avant l'URL. Par exemple:\n",
    "\n",
    "    Bornes d'incendie (JSON,SHP): https://donnees.montreal.ca/...\n",
    "    Hydrographie (SHP,KML,PDF): https://donnees.montreal.ca/...\n",
    "    ..."
   ]
  },
  {
   "cell_type": "code",
   "execution_count": null,
   "metadata": {
    "id": "AqRNGC1tte1g"
   },
   "outputs": [],
   "source": [
    "# tapper votre solution ici\n"
   ]
  },
  {
   "cell_type": "markdown",
   "metadata": {
    "id": "FrqBga-YQrOg"
   },
   "source": [
    "### Exercice 3: pagination\n",
    "\n",
    "Trouvez sur combien de pages les résultats sont répartis, téléchargez toutes les pages, puis combinez les résultats dans une seule liste.\n",
    "\n",
    "Par exemple:\n",
    "\n",
    "    Bornes d'incendie (JSON, SHP): https://donnees.montreal.ca/...\n",
    "    Hydrographie (SHP, KML, PDF): https://donnees.montreal.ca/...\n",
    "    ...\n",
    "    Regards d'égouts (SHP, GeoJSON): https://donnees.montreal.ca/...\n",
    "    ..."
   ]
  },
  {
   "cell_type": "code",
   "execution_count": null,
   "metadata": {
    "id": "Ja5vlD5euAnj"
   },
   "outputs": [],
   "source": [
    "# tapper votre solution ici\n"
   ]
  },
  {
   "cell_type": "markdown",
   "metadata": {
    "id": "NC1k04o3OUIS"
   },
   "source": [
    "# Autres resources"
   ]
  },
  {
   "cell_type": "markdown",
   "metadata": {
    "id": "695Xqz7iOesK"
   },
   "source": [
    "Sites pour pratiquer:\n",
    "\n",
    "- Livres ou quotes: http://toscrape.com/\n",
    "- Pays du monde: https://www.scrapethissite.com/pages/simple/\n",
    "\n",
    "\n",
    "Exemples:\n",
    "- [Tutoriel video](http://35.196.115.213/en/learn/#/topics/c/73470ad1a3015769ace455fbfdf17d48) qui montre comment télécharger un [site de contenu éducatif](https://shls.rescue.org/). Voir [ici](https://github.com/learningequality/sushi-chef-shls/blob/master/sushichef.py#L226-L336) pour le code final."
   ]
  },
  {
   "cell_type": "markdown",
   "metadata": {
    "id": "-shgXT3vnKxW"
   },
   "source": [
    "# License"
   ]
  },
  {
   "cell_type": "markdown",
   "metadata": {
    "id": "DQDRMYMKnOVi"
   },
   "source": [
    "Copyright 2021–2022 Montréal-Python\n",
    "\n",
    "Permission is hereby granted, free of charge, to any person obtaining a copy of this software and associated documentation files (the \"Software\"), to deal in the Software without restriction, including without limitation the rights to use, copy, modify, merge, publish, distribute, sublicense, and/or sell copies of the Software, and to permit persons to whom the Software is furnished to do so, subject to the following conditions:\n",
    "\n",
    "The above copyright notice and this permission notice shall be included in all copies or substantial portions of the Software.\n",
    "\n",
    "THE SOFTWARE IS PROVIDED \"AS IS\", WITHOUT WARRANTY OF ANY KIND, EXPRESS OR IMPLIED, INCLUDING BUT NOT LIMITED TO THE WARRANTIES OF MERCHANTABILITY, FITNESS FOR A PARTICULAR PURPOSE AND NONINFRINGEMENT. IN NO EVENT SHALL THE AUTHORS OR COPYRIGHT HOLDERS BE LIABLE FOR ANY CLAIM, DAMAGES OR OTHER LIABILITY, WHETHER IN AN ACTION OF CONTRACT, TORT OR OTHERWISE, ARISING FROM, OUT OF OR IN CONNECTION WITH THE SOFTWARE OR THE USE OR OTHER DEALINGS IN THE SOFTWARE.\n"
   ]
  }
 ],
 "metadata": {
  "colab": {
   "collapsed_sections": [
    "-shgXT3vnKxW"
   ],
   "name": "Agregateur-Web.ipynb",
   "provenance": [
    {
     "file_id": "1R2xh_tflIp0zVU19M9yTmNpWiJ__pRbG",
     "timestamp": 1619400545210
    },
    {
     "file_id": "https://github.com/mtlpy/mp-84-atelier/blob/main/Arbres-1.0.ipynb",
     "timestamp": 1618189545748
    }
   ]
  },
  "kernelspec": {
   "display_name": "Python 3 (ipykernel)",
   "language": "python",
   "name": "python3"
  },
  "language_info": {
   "codemirror_mode": {
    "name": "ipython",
    "version": 3
   },
   "file_extension": ".py",
   "mimetype": "text/x-python",
   "name": "python",
   "nbconvert_exporter": "python",
   "pygments_lexer": "ipython3",
   "version": "3.9.4"
  }
 },
 "nbformat": 4,
 "nbformat_minor": 4
}
