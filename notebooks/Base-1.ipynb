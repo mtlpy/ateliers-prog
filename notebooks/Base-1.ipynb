{
 "cells": [
  {
   "cell_type": "markdown",
   "metadata": {
    "id": "Kylh-v4xZWwu"
   },
   "source": [
    "# Exercices de base 1"
   ]
  },
  {
   "cell_type": "markdown",
   "metadata": {
    "id": "1vdDDLWGg_8b"
   },
   "source": [
    "Ces exercices visent à se familiariser avec les notions de base de la programmation en langage Python: types de données, fonctions, boucles, conditionnels, erreurs et imports.\n",
    "\n",
    "On va se faire un petit programme qui permet de gérer la liste des membres d'une association."
   ]
  },
  {
   "cell_type": "markdown",
   "metadata": {
    "id": "QWNNbN3pqb0q"
   },
   "source": [
    "## Introduction (10 min.)"
   ]
  },
  {
   "cell_type": "markdown",
   "metadata": {
    "id": "PLYOC1EohETp"
   },
   "source": [
    "Environnement de développement\n",
    "* Coder dans colab\n",
    "* Copiez ce \"notebook\" pour avoir votre propre copie que vous pourrez sauvegarder et retravailler.\n",
    "    * Fichier > Enregistrer une copie dans Drive"
   ]
  },
  {
   "cell_type": "markdown",
   "metadata": {
    "id": "qd8jpacmLAQ_"
   },
   "source": [
    "## Programmation (5 min.)"
   ]
  },
  {
   "cell_type": "markdown",
   "metadata": {
    "id": "N8T0A1-vg7Mi"
   },
   "source": [
    "La programmation c'est écrire du code qui sera exécuté pour manipuler des données.\n",
    "\n",
    "On verra dans les exercices qui suivent\n",
    "* erreurs: arrête l'exécution (problème de syntaxe ou de logique)\n",
    "* exécution: de haut en bas, ligne par ligne\n",
    "* syntaxe et style\n",
    "    * sensible à la casse: `nom` est différent de `Nom` pour l'interpréteur\n",
    "    * indentation: 4 espaces (pas de tabulation)\n",
    "* données dans les variables: `prenom = 'Davin'`\n",
    "    * nom de variable: arbitraire\n",
    "    * assignation: avec l'opérateur `=`\n",
    "    * valeur: littérale ou résultat d'opération/expression\n",
    "* opérations sur données (variables)\n"
   ]
  },
  {
   "cell_type": "markdown",
   "metadata": {
    "id": "MP-eHBLBuYq7"
   },
   "source": [
    "### Exercice 1 - Un premier succès, une première erreur"
   ]
  },
  {
   "cell_type": "markdown",
   "metadata": {
    "id": "wmfwmVBWEEt6"
   },
   "source": [
    "Remplacez la valeur de la variable nommmé `participant` par votre nom et exécutez le code dans la cellule code de Colab."
   ]
  },
  {
   "cell_type": "code",
   "execution_count": null,
   "metadata": {
    "id": "lrVDjfS9Enn7"
   },
   "outputs": [],
   "source": [
    "participant = \"Davin Baragiotta\"\n",
    "print(f\"Salut {participant}! Hello World!\")"
   ]
  },
  {
   "cell_type": "markdown",
   "metadata": {
    "id": "FDDJLnPGgyfb"
   },
   "source": [
    "Écrivez quelques lettres libres et générez votre première erreur!"
   ]
  },
  {
   "cell_type": "code",
   "execution_count": null,
   "metadata": {
    "id": "zm9EOpi8vUUt"
   },
   "outputs": [],
   "source": [
    "davin"
   ]
  },
  {
   "cell_type": "markdown",
   "metadata": {
    "id": "iZuBCZ3Su51X"
   },
   "source": [
    "### Exercice 2 - Commentaire"
   ]
  },
  {
   "cell_type": "markdown",
   "metadata": {
    "id": "ffNQ0vkigt8B"
   },
   "source": [
    "Ajoutez un commentaire au-dessus du texte pour vous rappeler qu'il faut déboguer."
   ]
  },
  {
   "cell_type": "code",
   "execution_count": null,
   "metadata": {
    "id": "9KZRhk0PvQii"
   },
   "outputs": [],
   "source": [
    "# FIXME génère un NameError\n",
    "davin"
   ]
  },
  {
   "cell_type": "markdown",
   "metadata": {
    "id": "X9cQP_HCvfix"
   },
   "source": [
    "## Types de données (30 min.)\n",
    "\n",
    "On va s'exercer maintenant avec les types:\n",
    "* de base: str, int, float, bool, NoneType\n",
    "* et structures de données (conteneurs/collections): list, tuple, dict, set\n"
   ]
  },
  {
   "cell_type": "markdown",
   "metadata": {
    "id": "iGg02fSVNKr7"
   },
   "source": [
    "        n = None        # NoneType : type spécial voulant dire... rien\n",
    "        b = True        # bool : booléen... True ou False n'oubliez pas les majuscules\n",
    "\n",
    "        i = 15          # int: entier\n",
    "        f = 15.5        # float: décimal\n",
    "\n",
    "        s = \"string\"    # str: chaine de caractère, instancié avec \"\" ou ''\n",
    "\n",
    "        l = []          # list: liste d'objets (ordonné)\n",
    "        t = ()          # tuple: liste immuable d'objets\n",
    "        d = {}          # dict: dictionnaire de données (unique, non-ordonné), clés-valeurs\n",
    "        d = {'a': 1, 'b': 2}\n",
    "\n",
    "        ens = set()     # set: ensemble (unique, non-ordonné), set([])\n",
    "        ens = {1, 2, 3} # ensemble qui contient les éléments 1, 2 et 3"
   ]
  },
  {
   "cell_type": "markdown",
   "metadata": {
    "id": "3hdFhNyjwhII"
   },
   "source": [
    "### Exercice 3 - Les chaînes de caractères (str)"
   ]
  },
  {
   "cell_type": "markdown",
   "metadata": {
    "id": "SDvDynndgoqF"
   },
   "source": [
    "Créez une variable nommée `prenom` et donnez lui comme valeur une chaîne de caractères qui correspond à un prénom réel. Faites de même pour un nom de famille dans une variable nommée `nom`. Finalement créez et donnez une valeur à une variable `display_name` avec un pseudonyme. Rappel on assigne des valeurs à une variable avec l'opérateur `=`. Les chaînes de caractères sont contenues entre des apostrophes doubles ou simple (`\"` ou `'`)."
   ]
  },
  {
   "cell_type": "code",
   "execution_count": null,
   "metadata": {
    "id": "FpvPLIcdx03j"
   },
   "outputs": [],
   "source": [
    "prenom = 'Davin'\n",
    "nom = \"Baragiotta\"\n",
    "display_name = 'giotta'"
   ]
  },
  {
   "cell_type": "markdown",
   "metadata": {
    "id": "SalOZLBvJC6J"
   },
   "source": [
    "Encadrez les chaînes avec des apostrophes simples (_single quotes_) ou doubles (_double quotes_) sinon vous obtiendrez une erreur de syntaxe. Essayez l'erreur pour vous familiariser avec les `SyntaxErrror`."
   ]
  },
  {
   "cell_type": "code",
   "execution_count": null,
   "metadata": {
    "id": "thbQuc9QKQa4"
   },
   "outputs": [],
   "source": [
    "nom = 'O'Reilly'"
   ]
  },
  {
   "cell_type": "markdown",
   "metadata": {
    "id": "9SM2z3YuG6B7"
   },
   "source": [
    "Pour les chaînes multilignes, on triple les délimiteurs `'` ou `\"` qui encadre la chaîne. Créez une variable `note` à laquelle vous allez assigner une chaîne multiligne (plusieurs lignes de texte)."
   ]
  },
  {
   "cell_type": "code",
   "execution_count": null,
   "metadata": {
    "id": "Uu1-E312HOsu"
   },
   "outputs": [],
   "source": [
    "note = \"\"\"Programmer en Python c'est simple.\n",
    "Mais ça reste puissant!\n",
    "\"\"\""
   ]
  },
  {
   "cell_type": "markdown",
   "metadata": {
    "id": "QMjzxVD103Zv"
   },
   "source": [
    "### Exercice 4 - Les nombres (int, float)"
   ]
  },
  {
   "cell_type": "markdown",
   "metadata": {
    "id": "z6RFR8c8gkqG"
   },
   "source": [
    "Créez une variable `age` et assignez-lui une valeur vraisemblable."
   ]
  },
  {
   "cell_type": "code",
   "execution_count": null,
   "metadata": {
    "id": "2QfRw6i-3dXv"
   },
   "outputs": [],
   "source": [
    "age = 44"
   ]
  },
  {
   "cell_type": "markdown",
   "metadata": {
    "id": "J_uDWl9Vgiu7"
   },
   "source": [
    "Créez une variable `solde` et assignez lui une valeur décimale (où les décimales sont séparées des entiers par un point «`.`» plustôt que par une virgule «`,`»)."
   ]
  },
  {
   "cell_type": "code",
   "execution_count": null,
   "metadata": {
    "id": "HHDzsEBm69af"
   },
   "outputs": [],
   "source": [
    "solde = 192.37"
   ]
  },
  {
   "cell_type": "markdown",
   "metadata": {
    "id": "AwQmdktyNZ79"
   },
   "source": [
    "### Exercice 5 - Les booléens (bool)\n",
    "\n"
   ]
  },
  {
   "cell_type": "markdown",
   "metadata": {
    "id": "Fem2iV1qggAj"
   },
   "source": [
    "Créez une variable `est_membre` et assignez lui une valeur booléenne (c'est une valeur de vérité bivalente, y'a que 2 valeurs possibles)"
   ]
  },
  {
   "cell_type": "code",
   "execution_count": null,
   "metadata": {
    "id": "sFvgaehdOKjG"
   },
   "outputs": [],
   "source": [
    "est_membre = True"
   ]
  },
  {
   "cell_type": "markdown",
   "metadata": {
    "id": "Ed4pjxrDOMeH"
   },
   "source": [
    "### Exercice 6 - Aucune valeur (NoneType)\n",
    "\n"
   ]
  },
  {
   "cell_type": "markdown",
   "metadata": {
    "id": "1j6Frgv5gc5Y"
   },
   "source": [
    "Créez une variable `evenements` et assignez la valeur qui représente \"aucune valeur\" en Python pour signifier que, pour l'instant, le membre n'a participé à aucun événement."
   ]
  },
  {
   "cell_type": "code",
   "execution_count": null,
   "metadata": {
    "id": "7myECOVZO4Fm"
   },
   "outputs": [],
   "source": [
    "evenements = None"
   ]
  },
  {
   "cell_type": "markdown",
   "metadata": {
    "id": "l38pWaYbP1G2"
   },
   "source": [
    "### Exercice 7 - Listes (list)\n",
    "\n",
    "\n"
   ]
  },
  {
   "cell_type": "markdown",
   "metadata": {
    "id": "eChPAY4uga6x"
   },
   "source": [
    "Créez la variable `meetup` avec une liste d'événements vraisemblables (chaque événement ne sera qu'une chaîne de caractères qui représentera le nom de l'événement)."
   ]
  },
  {
   "cell_type": "code",
   "execution_count": null,
   "metadata": {
    "id": "UhdveX3XQztb"
   },
   "outputs": [],
   "source": [
    "meetup = [\n",
    "    \"MP92 - Wifi Dentaire\",\n",
    "    \"Soirée 2 - Pandas\",\n",
    "    \"MP93 - Crispy Xylene\",\n",
    "    \"Soirée 3 - Web scraping\",\n",
    "]"
   ]
  },
  {
   "cell_type": "markdown",
   "metadata": {
    "id": "6AZqlMlgVVJb"
   },
   "source": [
    "Les listes sont crées en utilisant les crochets «`[`» et «`]`».\n",
    "Nous utilisons les virgules pour séparer les elements de la liste."
   ]
  },
  {
   "cell_type": "markdown",
   "metadata": {
    "id": "pzu2IH6QUnLk"
   },
   "source": [
    "### Exercice 8 - Les ensembles (set)\n",
    "\n"
   ]
  },
  {
   "cell_type": "markdown",
   "metadata": {
    "id": "hJcR71V9gV1A"
   },
   "source": [
    "Créez un ensemble nommé `contacts` qui représentera les contacts de ce membre. Vous pouvez mettre dans l'ensemble des chaînes de caractères qui seront, disons, les usernames des personnes contact du membre."
   ]
  },
  {
   "cell_type": "code",
   "execution_count": null,
   "metadata": {
    "id": "myZCcUQTVMg2"
   },
   "outputs": [],
   "source": [
    "contacts = {'Yannick', 'Edith Viau', 'juleslambert', 'mlhamel'}"
   ]
  },
  {
   "cell_type": "markdown",
   "metadata": {
    "id": "qUYdtlPURz-O"
   },
   "source": [
    "### Exercice 9 - Les dictionnaires (dict)\n",
    "\n"
   ]
  },
  {
   "cell_type": "markdown",
   "metadata": {
    "id": "zxHTKhf_gY53"
   },
   "source": [
    "On veut savoir combien de fois un membre est venu aux événements mensuels \"MP\" et combien de fois il est venu aux \"Soirées\". Créez un dictionnaire `participation` dans lequel vous initialiserez les clés `'MP'` et `'Soirée'` avec la valeur `0` (puisque pour l'instant le membre n'a assisté à aucun événement)."
   ]
  },
  {
   "cell_type": "code",
   "execution_count": null,
   "metadata": {
    "id": "9CJaWplxT57L"
   },
   "outputs": [],
   "source": [
    "participation = {\n",
    "    \"MP\": 0,\n",
    "    \"Soirée\": 0,\n",
    "}"
   ]
  },
  {
   "cell_type": "markdown",
   "metadata": {
    "id": "nUxfaQryWUwP"
   },
   "source": [
    "Les dictionnaires sont crées en utilisant les accolades «`{`» et «`}`» et à l'intérieur on place les paires `clé:valeur`."
   ]
  },
  {
   "cell_type": "markdown",
   "metadata": {
    "id": "UwV50fvWPsGD"
   },
   "source": [
    "Toutes les variables déclarées ci-haut sont relatives à un \"membre\". Mais elles ne sont pas reliées entre elles, de sorte que si on veut créer un 2e membre, on serait vite mélangés pour identifier quel nom est à qui, par exemple.\n",
    "\n",
    "Créez un dictionnaire `membre1` où pour chaque variable déclaré ci-haut\n",
    "* on crée une clé avec une chaîne de caractère qui reprend le nom de la variable\n",
    "* et la valeur associée à cette clé est la valeur de la variable"
   ]
  },
  {
   "cell_type": "code",
   "execution_count": null,
   "metadata": {
    "id": "J3MXzoq0QqSQ"
   },
   "outputs": [],
   "source": [
    "membre1 = {}\n",
    "# identification\n",
    "membre1['prenom'] = prenom\n",
    "membre1['nom'] = nom\n",
    "membre1['display_name'] = display_name\n",
    "membre1['note'] = note\n",
    "membre1['age'] = age\n",
    "# gestion\n",
    "membre1['est_membre'] = est_membre\n",
    "membre1['solde'] = solde\n",
    "# communauté\n",
    "membre1['evenements'] = evenements\n",
    "membre1['participation'] = participation\n",
    "membre1['contacts'] = contacts"
   ]
  },
  {
   "cell_type": "markdown",
   "metadata": {
    "id": "7MrELRnHv1Sr"
   },
   "source": [
    "## Opérations sur les données (1h)\n",
    "\n",
    "On va s'exercer maintenant à manipuler ces données."
   ]
  },
  {
   "cell_type": "markdown",
   "metadata": {
    "id": "ak9vFLaYWhpB"
   },
   "source": [
    "### Exercice 10 - Arithmétique\n",
    "\n"
   ]
  },
  {
   "cell_type": "markdown",
   "metadata": {
    "id": "mSuysZX6gR9W"
   },
   "source": [
    "On peut faire de l'arithmétique avec les variables (ou valeurs) de type `int` ou `float`. Les opérateurs sont `+`, `-`, `*` (multiplication), `/` (division) et `**` (exposant)."
   ]
  },
  {
   "cell_type": "markdown",
   "metadata": {
    "id": "LtAhPrSadbPV"
   },
   "source": [
    "L'âge varie à chaque année et la variable `age` du membre n'est pas à jour. Nous sommes en 2022, le membre est né en 1975.\n",
    "\n",
    "Créez l'opération arithmétique appropriée pour calculer l'âge et stockez le résultat dans la variable `age`. Quel âge a le membre?"
   ]
  },
  {
   "cell_type": "code",
   "execution_count": null,
   "metadata": {
    "id": "n93rEuuSXU_B"
   },
   "outputs": [],
   "source": [
    "age = 2022 - 1975\n",
    "age"
   ]
  },
  {
   "cell_type": "markdown",
   "metadata": {
    "id": "nxpwDG8gZfHu"
   },
   "source": [
    "C'était l'anniversaire du membre. Ses contacts veulent l'inviter à un resto qui coûte 17$ par couvert. Combien en coûterait-il à chaque contact d'inviter le membre s'ils divisaient le prix du couvert du membre entre eux (stockez le résultat dans la variable `montant_contact`)?"
   ]
  },
  {
   "cell_type": "code",
   "execution_count": null,
   "metadata": {
    "id": "NB7FkW2BbqAX"
   },
   "outputs": [],
   "source": [
    "montant_contact = 17 / 4\n",
    "montant_contact"
   ]
  },
  {
   "cell_type": "markdown",
   "metadata": {
    "id": "oJeedrBEbqoV"
   },
   "source": [
    "Combien en coûterait-il au membre si plutôt il \"invitait\" ses contacts et payait seul toutes les factures (stockez le résultat de l'opération dans la variable `montant_membre`)?"
   ]
  },
  {
   "cell_type": "code",
   "execution_count": null,
   "metadata": {
    "id": "3F2-JC3AcIpu"
   },
   "outputs": [],
   "source": [
    "montant_membre = 17 * 4\n",
    "montant_membre"
   ]
  },
  {
   "cell_type": "markdown",
   "metadata": {
    "id": "Q20MIvCOXfgK"
   },
   "source": [
    "L'association rembourse le membre de 15,29$. Créditez son solde de la valeur correspondante (le solde est un `float` ici, la notion d'unité n'y est pas associée, on peut ajouter une commentaire qui précise qu'on travaille en dollar canadien (CAD)). (Ls solution consistera à utiliser le solde 2 fois: pour faire l'opération et pour stocker le résultat de l'opération.) Combien y a-t-il maintenant dans le compte du membre (solde)?"
   ]
  },
  {
   "cell_type": "code",
   "execution_count": null,
   "metadata": {
    "id": "K48vcEkrYtw4"
   },
   "outputs": [],
   "source": [
    "# transactions en CAD seulement\n",
    "solde = solde + 15.29\n",
    "solde"
   ]
  },
  {
   "cell_type": "markdown",
   "metadata": {
    "id": "kCP8x9LBYs5r"
   },
   "source": [
    "### Exercice 11 - Formatage de chaînes"
   ]
  },
  {
   "cell_type": "markdown",
   "metadata": {
    "id": "kNCupSX-jCFk"
   },
   "source": [
    "Notre membre souhaiterait maintenant avoir un `full_name` qui est son prénom et son nom concaténés. On concatène les chaînes de caractères avec l'opérateur `+`. Quel est maintenant son `full_name`?"
   ]
  },
  {
   "cell_type": "code",
   "execution_count": null,
   "metadata": {
    "id": "EglQOr8JjH4j"
   },
   "outputs": [],
   "source": [
    "full_name = prenom + ' ' + nom\n",
    "full_name"
   ]
  },
  {
   "cell_type": "markdown",
   "metadata": {
    "id": "2DZgC269kjN_"
   },
   "source": [
    "Le formatage de chaînes de caractères est un peu moins verbeux avec les \"f-strings\"... ce sont des gabarits de chaînes (_templates_) qu'on déclare avec un `f` devant le premier _quote_ ou _double quote_: `f''` ou `f\"\"`. À l'intérieur de cette chaîne spéciale, on peut mettre les variables entre accolades `{ma_variable}`: l'interpréteur remplacera ces variables par leurs valeurs pour former la chaîne finale. Forgez donc à nouveau le `full_name` du membre avec la syntaxe des f-string."
   ]
  },
  {
   "cell_type": "code",
   "execution_count": null,
   "metadata": {
    "id": "kkLa-Ug0mIIs"
   },
   "outputs": [],
   "source": [
    "full_name = f\"{prenom} {nom}\"\n",
    "full_name"
   ]
  },
  {
   "cell_type": "markdown",
   "metadata": {
    "id": "lczJHdADt4Pb"
   },
   "source": [
    "### Fonctions _built-in_"
   ]
  },
  {
   "cell_type": "markdown",
   "metadata": {
    "id": "p1P5vb8TuDZs"
   },
   "source": [
    "Python vient avec une série d'outils pré-installés toujours disponibles. C'est le cas des [fonctions _natives_](https://docs.python.org/fr/3/library/functions.html) ou [_built-in_](https://docs.python.org/3/library/functions.html) en anglais. On va revenir plus en détail sur les fonctions quand on va définir nos propres fonctions. Commençons par explorer les foncions fonctions natives."
   ]
  },
  {
   "cell_type": "markdown",
   "metadata": {
    "id": "tjgAZ8Jyn9bU"
   },
   "source": [
    "#### Exercice 12 - print()"
   ]
  },
  {
   "cell_type": "markdown",
   "metadata": {
    "id": "kniWT2OtjYqZ"
   },
   "source": [
    "Dans un programme, on veut souvent afficher à l'utiliseur des informations textuelles. Annonçons à l'utilisateur le début et la fin de notre script, à l'aide de la fonction `print`. On \"appelle\" ou exécute une fonction en mettant des parenthèses après le nom de la fonction: `print()`. Il faut aussi \"passer\" entre les parenthèses les \"arguments\" ou \"paramètres\" exigés par la fonction. `print` n'exige rien. Essayez de l'appeler sans rien lui passer. Essayer de l'appeler en lui passant la chaîne de caractères \"Les membres de Montréal-Python\"."
   ]
  },
  {
   "cell_type": "code",
   "execution_count": null,
   "metadata": {
    "id": "_tvaU_atslRH"
   },
   "outputs": [],
   "source": [
    "print()\n",
    "print(\"Les membres de Montréal-Python\")"
   ]
  },
  {
   "cell_type": "markdown",
   "metadata": {
    "id": "9PchvexPY4ht"
   },
   "source": [
    "On peut passer plusieurs arguments à la fonction `print` et elle les affichera tous, séparés par des espaces."
   ]
  },
  {
   "cell_type": "code",
   "execution_count": null,
   "metadata": {
    "id": "HScNGqUNYe9z"
   },
   "outputs": [],
   "source": [
    "i = 15          # int: entier\n",
    "f = 15.5        # float: décimal\n",
    "print(\"le int i est\", i, \"le float f est\", f)"
   ]
  },
  {
   "cell_type": "markdown",
   "metadata": {
    "id": "1v5cnb8bukyn"
   },
   "source": [
    "#### Exercice 13 - len()"
   ]
  },
  {
   "cell_type": "markdown",
   "metadata": {
    "id": "mh9KoH8RupP7"
   },
   "source": [
    "Créez une liste des membres (variable nommée `membres` de type `list`) avec comme seul item, le display_name de notre unique membre. Ensuite, à l'aide de la fonction _built-in_ `len`, comptez le nombre d'item dans la liste."
   ]
  },
  {
   "cell_type": "code",
   "execution_count": null,
   "metadata": {
    "id": "jsjNm6jZvakW"
   },
   "outputs": [],
   "source": [
    "membres = [display_name,]\n",
    "len(membres)"
   ]
  },
  {
   "cell_type": "markdown",
   "metadata": {
    "id": "jhBq4L45Njox"
   },
   "source": [
    "#### Exercice 14 - Transtypage\n",
    "\n",
    "Il peut être utile d'utiliser les fonctions _built-in_ de type pour forcer la conversion d'un type de données à un autre (quand c'est possible).\n",
    "\n",
    "`str()`, `int()`, `float()`, `bool()`, `list()`, `tuple()`, `dict()`, `set()`\n",
    "\n",
    "Forcez la conversion de l'entier `12` en décimal (float)."
   ]
  },
  {
   "cell_type": "code",
   "execution_count": null,
   "metadata": {
    "id": "vKQYE6LTOESG"
   },
   "outputs": [],
   "source": [
    "float(12)"
   ]
  },
  {
   "cell_type": "markdown",
   "metadata": {
    "id": "3oChuAQDapUh"
   },
   "source": [
    "Calculez la somme des trois prix données dans la case suivante."
   ]
  },
  {
   "cell_type": "code",
   "execution_count": null,
   "metadata": {
    "id": "T0L5DiIAa6gb"
   },
   "outputs": [],
   "source": [
    "prix1 = \"12.3\"\n",
    "prix2 = \"53.5\"\n",
    "prix3 = \"34.2\"\n",
    "# total = ???"
   ]
  },
  {
   "cell_type": "markdown",
   "metadata": {
    "id": "sNSAc1tCvtjl"
   },
   "source": [
    "#### Exercice 15 - input()"
   ]
  },
  {
   "cell_type": "markdown",
   "metadata": {
    "id": "ygpjkCGiv1c2"
   },
   "source": [
    "On va maintenant interagir avec un utilisateur. Nous avons appris comment afficher les infos textuelles grâce à la fonction `print` et aux f-strings. Maintenant, on va utiliser la fonction _built-in_ `input` pour demander à l'utilisateur de fournir des infos.\n",
    "\n",
    "Imprimez le titre du script \"Les membres de Montréal-Python\". Sur la ligne suivante, imprimez une ligne en utilisant le caractère `-` autant de fois qu'il y a de lettres dans le titre du script (on veut la ligne de la même longueur que le titre): on peut multiplier les caractères grâce au caractère `*`. Passez une ligne. En suite, dites à l'utilisateur le nombre d'utilisateurs actuels (`membres`).\n",
    "\n",
    "Demandez à l'utilisateur si il veut ajouter un membre. Offrez-lui le choix de répondre oui ou non. Stockez la réponse de l'utilisateur dans une variable nommée `reponse`. Lors de l'exécution, saisissez une réponse autre comme \"Tellement!\" (it's wild out there :) )."
   ]
  },
  {
   "cell_type": "code",
   "execution_count": null,
   "metadata": {
    "id": "X1pUhcS2xqR8"
   },
   "outputs": [],
   "source": [
    "titre = \"Les membres de Montréal-Python\"\n",
    "print(titre)\n",
    "print(\"-\" * len(titre))\n",
    "print()\n",
    "print(f\"Il y a actuellement {len(membres)} membres.\")\n",
    "reponse = input(\"Voulez-vous ajouter une membre (oui/non)? \")"
   ]
  },
  {
   "cell_type": "markdown",
   "metadata": {
    "id": "bpbEX8iczvid"
   },
   "source": [
    "On va continuer notre exploration de la programmation en Python et on verra d'autres fonctions _built-in_ au besoin."
   ]
  },
  {
   "cell_type": "markdown",
   "metadata": {
    "id": "hAiMATMS0kGm"
   },
   "source": [
    "### Exercice 16 - Comparaisons"
   ]
  },
  {
   "cell_type": "markdown",
   "metadata": {
    "id": "vcDritnz065t"
   },
   "source": [
    "Comparons maintenant des valeurs entre elles. Comparez `montant_membre` avec `montant_contact` à l'aide des opérateurs `>` et `<` (ou `>=` et `<=`). Quel est le résultat de l'opération de comparaison? Quel est le **type** du résultat de la comparaison? Utilisez la fonction _built-in_ `type` pour vérifier formellement le type (\"passez\" toute l'opération de comparaison à la fonction type)."
   ]
  },
  {
   "cell_type": "code",
   "execution_count": null,
   "metadata": {
    "id": "GGO0uOtk2Qt-"
   },
   "outputs": [],
   "source": [
    "montant_membre > montant_contact\n",
    "type(montant_membre > montant_contact)"
   ]
  },
  {
   "cell_type": "markdown",
   "metadata": {
    "id": "OLvE2bIn5klv"
   },
   "source": [
    "Vérifiez si `mlhamel` est dans les contacts du membre avec `in`.\n"
   ]
  },
  {
   "cell_type": "code",
   "execution_count": null,
   "metadata": {
    "id": "j1SxoGK16G7g"
   },
   "outputs": [],
   "source": [
    "'mlhamel' in contacts"
   ]
  },
  {
   "cell_type": "markdown",
   "metadata": {
    "id": "YVfO66ae6Wh4"
   },
   "source": [
    "Faites la comparaison inverse avec `not`. Avez-vous le résultat inverse? C'est toujours une valeur de type `bool`?"
   ]
  },
  {
   "cell_type": "code",
   "execution_count": null,
   "metadata": {
    "id": "bV0_XUT06rRo"
   },
   "outputs": [],
   "source": [
    "comparaison = 'mlhamel' not in contacts\n",
    "print(f\"valeur: {comparaison} type: {type(comparaison)}\")"
   ]
  },
  {
   "cell_type": "markdown",
   "metadata": {
    "id": "B5kXeSBF8TZB"
   },
   "source": [
    "Revenons à notre interaction utilisateur. Vérifions si la valeur de la réponse de l'utiliseur, stockée dans la variable `reponse`, est \"oui\". Utilisez l'opérateur de comparaison `==` (rappel: `=` est l'opérateur pour assigner une valeur à une variable)."
   ]
  },
  {
   "cell_type": "code",
   "execution_count": null,
   "metadata": {
    "id": "1qNTg9WQ9LH9"
   },
   "outputs": [],
   "source": [
    "reponse == 'oui'"
   ]
  },
  {
   "cell_type": "markdown",
   "metadata": {
    "id": "RPi9cNV990Ws"
   },
   "source": [
    "Vérifiez maintenant si la réponse est différente de \"non\" avec l'opérateur `!=` (le point d'exclamation \"nie\" l'égalité)."
   ]
  },
  {
   "cell_type": "code",
   "execution_count": null,
   "metadata": {
    "id": "BKPZxQUd-H0h"
   },
   "outputs": [],
   "source": [
    "reponse != 'non'"
   ]
  },
  {
   "cell_type": "markdown",
   "metadata": {
    "id": "uqfiOxIi9KT_"
   },
   "source": [
    "Créez une liste avec les deux valeurs acceptées: oui et non. Est-ce que la valeur reçue de l'utilisateur, stockée dans la variable `reponse` est figure dans la liste des réponses acceptables?"
   ]
  },
  {
   "cell_type": "code",
   "execution_count": null,
   "metadata": {
    "id": "meGv8Zv-81yp"
   },
   "outputs": [],
   "source": [
    "reponses_OK = ['oui', 'non']\n",
    "reponse in reponses_OK"
   ]
  },
  {
   "cell_type": "markdown",
   "metadata": {
    "id": "RIxlvaJ6NCyz"
   },
   "source": [
    "### Exercice 17 - Opérateurs logiques"
   ]
  },
  {
   "cell_type": "markdown",
   "metadata": {
    "id": "tc0Yn4VZNS0G"
   },
   "source": [
    "Les opérateurs logiques `and` et `or` permettent de formuler des propositions logiques (et de combiner des comparaisons). On peut nier avec `not`.\n",
    "* pour qu'une proposition avec `and` s'évalue à `True`, les deux termes doivent être \"vrais\" (un **et** l'autre sont \"vrais\").\n",
    "* pour qu'une proposition avec `or` s'évalue à `True`, seulement un des deux termes doit s'évaluer \"vrai\" (un **ou** l'autre est \"vrai\").\n",
    "\n",
    "Vérifiez que le membre ait plus de quarante ans et ait moins de 200$."
   ]
  },
  {
   "cell_type": "code",
   "execution_count": null,
   "metadata": {
    "id": "kwRMT-UpO84V"
   },
   "outputs": [],
   "source": [
    "age > 40 and solde < 200"
   ]
  },
  {
   "cell_type": "markdown",
   "metadata": {
    "id": "JjMB_Hs3PPa_"
   },
   "source": [
    "Vérifiez que le membre ait soit un `prenom` ou un `nom` (pourrait être utile pour décider comment formater un nom d'affichage)."
   ]
  },
  {
   "cell_type": "code",
   "execution_count": null,
   "metadata": {
    "id": "jVTYtkO4Pn_C"
   },
   "outputs": [],
   "source": [
    "prenom or nom"
   ]
  },
  {
   "cell_type": "markdown",
   "metadata": {
    "id": "6bAtFWc8-V7b"
   },
   "source": [
    "### Exercice 18 - Conditionnels"
   ]
  },
  {
   "cell_type": "markdown",
   "metadata": {
    "id": "g2lE93sX-bhB"
   },
   "source": [
    "On veut que notre script puisse redemander à l'utilisateur une valeur correcte si celle reçue n'est pas correcte. Les conditionnels permettent d'exécuter du code sous certaine condition.\n",
    "\n",
    "La \"condition\" doit être évaluée \"vraie\" pour pouvoir être exécutée. Voici des valeurs qui sont évaluées à \"faux\" et qui font échouer la condition.\n",
    "* faux = `False`, `0`, `\"\"`, `()`, `[]`, `{}`, `None`"
   ]
  },
  {
   "cell_type": "markdown",
   "metadata": {
    "id": "1WDu1IHo_rxW"
   },
   "source": [
    "Codez le conditionnel qui redemande à l'utilisateur si il veut ajouter un membre si la réponse précédante **n'était pas** dans la liste des valeurs autorisées. (Peut-être en précisant à nouveau les valeurs possibles et en affichant celle reçue...)"
   ]
  },
  {
   "cell_type": "code",
   "execution_count": null,
   "metadata": {
    "id": "uBgbmLtSAEkD"
   },
   "outputs": [],
   "source": [
    "if reponse not in reponses_OK:\n",
    "    reponse = input(f\"Veuillez choisir parmi {reponses_OK}. (Vous aviez répondu: {reponse}) \")"
   ]
  },
  {
   "cell_type": "markdown",
   "metadata": {
    "id": "D9pGTov7BcDM"
   },
   "source": [
    "Codez maintenant du code qui\n",
    "* si l'utilisateur a dit oui, lui demande le prenom du membre à ajouter\n",
    "* sinon, si l'utilisateur a dit non, lui dit merci et arrête le script\n",
    "* sinon, dans tous les autres cas, lui redemande de choisir entre oui et non"
   ]
  },
  {
   "cell_type": "code",
   "execution_count": null,
   "metadata": {
    "id": "NLd94IwmCMNY"
   },
   "outputs": [],
   "source": [
    "if reponse == 'oui':\n",
    "    new_prenom = input(\"Super, quel est le prénom du nouveau membre? \")\n",
    "elif reponse == 'non':\n",
    "    print(\"OK pas de problème. Merci et au revoir.\")\n",
    "else:\n",
    "    reponse = input(f\"Veuillez choisir parmi {reponses_OK}. (Vous aviez répondu: {reponse}) \")"
   ]
  },
  {
   "cell_type": "markdown",
   "metadata": {
    "id": "Fy3YcR3yDVsE"
   },
   "source": [
    "### Exercice 19 - Boucles"
   ]
  },
  {
   "cell_type": "markdown",
   "metadata": {
    "id": "1fOHhmp-EOC-"
   },
   "source": [
    "Que faire pour gérer la possibilité que l'utilisateur puisse se tromper plusieurs fois? On ne veut pas répéter notre code et enchaîner les blocs if/elif/else....\n",
    "\n",
    "Codez une boucle `while` qui, tant que l'utilisateur n'aura pas fourni une réponse valide, va lui reposer la question. (Si vous voulez, vous pouvez compter le nombre de tentatives et changer votre message en conséquence... vous aurez un pied dans l'intelligence articifielle... mais restez décent :) )."
   ]
  },
  {
   "cell_type": "code",
   "execution_count": null,
   "metadata": {
    "id": "TKT_1skeFAQU"
   },
   "outputs": [],
   "source": [
    "attempts = 0\n",
    "while reponse not in reponses_OK:\n",
    "    if 0 < attempts < 3:\n",
    "        reponse = input(f\"Veuillez choisir parmi {reponses_OK}. (Vous aviez répondu {reponse}) \")\n",
    "    else:\n",
    "        reponse = input(f\"OK Charly, sérieux... ça fait {attempts} fois que je demande, alors... oui ou non? \")\n",
    "    attempts = attempts + 1"
   ]
  },
  {
   "cell_type": "markdown",
   "metadata": {
    "id": "CUL3TrE_Hjnj"
   },
   "source": [
    "Pendant que Charly se décide, trouvons des événements à notre membre.\n",
    "\n",
    "On peut itérer sur une séquence finie avec `for`.\n",
    "\n",
    "Imprimez un à un les événements dans la liste `meetup`."
   ]
  },
  {
   "cell_type": "code",
   "execution_count": null,
   "metadata": {
    "id": "kXHPn8JNK3kA"
   },
   "outputs": [],
   "source": [
    "for evenement in meetup:\n",
    "  print(evenement)"
   ]
  },
  {
   "cell_type": "markdown",
   "metadata": {
    "id": "ov5SpiXu8_sw"
   },
   "source": [
    "### Exercice 20 - Indexage"
   ]
  },
  {
   "cell_type": "markdown",
   "metadata": {
    "id": "7JOdnTOZ9C9r"
   },
   "source": [
    "Les listes sont ordonnées. On peut accéder à un item d'une liste par sa position (entier) avec la notation `[]`. Les nombres négatifs sont permis.\n",
    "\n",
    "Sélectionnez le premier et dernier élément des événements dans `meetup`."
   ]
  },
  {
   "cell_type": "code",
   "execution_count": null,
   "metadata": {
    "id": "LusC_dyE9eO0"
   },
   "outputs": [],
   "source": [
    "print(meetup[0])\n",
    "print(meetup[-1])"
   ]
  },
  {
   "cell_type": "markdown",
   "metadata": {
    "id": "Vo5mwh7-SR8U"
   },
   "source": [
    "Par commodité, nous avons regroupé les variables d'un membre dans un seul dictionnaire.\n",
    "\n",
    "Accédez à la valeur associé à la clé `'display_name'` du `membre1` en utilisant la notation `[]`."
   ]
  },
  {
   "cell_type": "code",
   "execution_count": null,
   "metadata": {
    "id": "dB3YcdyrTWqg"
   },
   "outputs": [],
   "source": [
    "membre1['display_name']"
   ]
  },
  {
   "cell_type": "markdown",
   "metadata": {
    "id": "WeSz_NfDLE55"
   },
   "source": [
    "### Exercice 22 - Méthodes"
   ]
  },
  {
   "cell_type": "markdown",
   "metadata": {
    "id": "6Gwz-aPW4SZ8"
   },
   "source": [
    "Les méthodes sont des fonctions sur les \"objets\". (En Python, tout est un objet.) Nos variables sont des \"objets\" et ont donc \"sur eux\" des fonctions qui permettent de manipuler leur valeur.\n",
    "\n",
    "Ces fonctions sont accessibles dans l'\"espace de nom\" (_namespace_) de la variable. Pour découvrir ou introspecter les méthodes d'un objet, utilisez la fonctionnalité interactive de Colab (IPython): saisissez `.` puis tapez sur la touche `tab`."
   ]
  },
  {
   "cell_type": "code",
   "execution_count": null,
   "metadata": {
    "id": "3woFxeSd7_k6"
   },
   "outputs": [],
   "source": [
    "prenom."
   ]
  },
  {
   "cell_type": "markdown",
   "metadata": {
    "id": "qPmbgk-k8Lr4"
   },
   "source": [
    "Pour voir tous les noms d'un coup, utilisez la fonction _built-in_ `dir`."
   ]
  },
  {
   "cell_type": "code",
   "execution_count": null,
   "metadata": {
    "id": "trPoePMn6rQt"
   },
   "outputs": [],
   "source": [
    "dir(prenom)"
   ]
  },
  {
   "cell_type": "markdown",
   "metadata": {
    "id": "PYEsXy4y_D8d"
   },
   "source": [
    "Pour en savoir plus sur ce que fait une méthode, utilisez la fonction _built-in_ `help` ou la fonctionnalité Colab (IPython) `?`.\n",
    "\n",
    "Lisez la doc de la méthode `lower` des chaînes de caractère à l'aide de `help` sur la variable `prenom`."
   ]
  },
  {
   "cell_type": "code",
   "execution_count": null,
   "metadata": {
    "id": "UzUvkylk_rAS"
   },
   "outputs": [],
   "source": [
    "help(prenom.lower)"
   ]
  },
  {
   "cell_type": "markdown",
   "metadata": {
    "id": "fdA18Z218S80"
   },
   "source": [
    "Trouvez et exécutez la méthode pour rendre le `nom` du membre en majuscule. Vérifiez ensuite la valeur du `nom` (après exécution de la méthode)."
   ]
  },
  {
   "cell_type": "code",
   "execution_count": null,
   "metadata": {
    "id": "d4NUsCwk8dOA"
   },
   "outputs": [],
   "source": [
    "print(nom.upper())\n",
    "nom"
   ]
  },
  {
   "cell_type": "markdown",
   "metadata": {
    "id": "EVE81GXf8mHp"
   },
   "source": [
    "Ajoutez un événement à la liste des événements dans la variable `meetup`."
   ]
  },
  {
   "cell_type": "code",
   "execution_count": null,
   "metadata": {
    "id": "kvpPafXv8r4M"
   },
   "outputs": [],
   "source": [
    "meetup.append('Soirée 4 - Classes')\n",
    "meetup"
   ]
  },
  {
   "cell_type": "markdown",
   "metadata": {
    "id": "UCb2-LpDI4LT"
   },
   "source": [
    "Si vous aimez les diagrammes de Venn, vous allez aimer ce que vous pouvez faire avec les ensembles (`set`)!\n",
    "\n",
    "Réaffichez les valeurs de l'ensemble `contacts`. Créer une variable `autres_contacts` avec au moins un contact similaire. Comparez les différences et ressemblances en trouvant les méthodes appropriées."
   ]
  },
  {
   "cell_type": "code",
   "execution_count": null,
   "metadata": {
    "id": "_sy5hmgxJf4x"
   },
   "outputs": [],
   "source": [
    "print(contacts)\n",
    "autres_contacts = {'mlhamel',}\n",
    "\n",
    "print(contacts.difference(autres_contacts))\n",
    "print(contacts.intersection(autres_contacts))"
   ]
  },
  {
   "cell_type": "markdown",
   "metadata": {
    "id": "aPzs9MI5SNKu"
   },
   "source": [
    "### Exercice 23 - Itérer sur les items d'un dict"
   ]
  },
  {
   "cell_type": "markdown",
   "metadata": {
    "id": "Zxs4x7mZT54O"
   },
   "source": [
    "Trouvez la méthode de dictionnaire qui vous retourne les clés **et** les valeurs associées d'un dictionnaire. Codez une boucle `for` qui va vous permettre d'imprimer une fiche avec tous les items (oups!) du `membre1`."
   ]
  },
  {
   "cell_type": "code",
   "execution_count": null,
   "metadata": {
    "id": "AvgW_0xtUVUQ"
   },
   "outputs": [],
   "source": [
    "for k, v in membre1.items():\n",
    "    print(f\"{k}: {v}\")"
   ]
  },
  {
   "cell_type": "markdown",
   "metadata": {
    "id": "ujl1H6TL9o6M"
   },
   "source": [
    "### Exercice 24 - Combiner des listes\n",
    "\n",
    "Créez une autre liste d'événements (dans une autre variable, par exemple) et combinez-la à la liste de `meetup` avec l'opérateur `+`."
   ]
  },
  {
   "cell_type": "code",
   "execution_count": null,
   "metadata": {
    "id": "gD36dx2R98UY"
   },
   "outputs": [],
   "source": [
    "autres_evenements = ['Sprint traduction', 'Atelier de programmation']\n",
    "meetup = meetup + autres_evenements\n",
    "meetup"
   ]
  },
  {
   "cell_type": "markdown",
   "metadata": {
    "id": "inWCIUVN-TxJ"
   },
   "source": [
    "Faites la même chose, mais avec une méthode propre aux listes."
   ]
  },
  {
   "cell_type": "code",
   "execution_count": null,
   "metadata": {
    "id": "1gOIUzZi-bGA"
   },
   "outputs": [],
   "source": [
    "meetup.extend(autres_evenements)\n",
    "meetup"
   ]
  },
  {
   "cell_type": "markdown",
   "metadata": {
    "id": "BjsSauA-VGoJ"
   },
   "source": [
    "### Exercice 25 - Fonction"
   ]
  },
  {
   "cell_type": "markdown",
   "metadata": {
    "id": "CZ5cIb3udS6m"
   },
   "source": [
    "Voici l'anatomie d'une fonction\n",
    "\n",
    "```python\n",
    "def ma_fonction(param1, param2, param3=0):\n",
    "    \"\"\"Ceci est ma fonction.\"\"\"\n",
    "    output = True\n",
    "    return output\n",
    "```\n",
    "\n",
    "`def` vous permet de définir vos propres fonctions et donc vos propres traitement des données.\n",
    "\n",
    "Plus tôt, nous avons mis à jour l'âge du membre en faisant un calcul. Créez maintenant une fonction `age` qui retourne l'âge en fonction de l'année de naissance (fournie en paramètre) et de l'année en cours (connue)."
   ]
  },
  {
   "cell_type": "code",
   "execution_count": null,
   "metadata": {
    "id": "uso7-ha-eU15"
   },
   "outputs": [],
   "source": [
    "def age(annee_naissance):\n",
    "    \"\"\"Calcule l'âge à partir de l'année de naissance et de l'année en cours.\"\"\"\n",
    "    return 2022 - annee_naissance"
   ]
  },
  {
   "cell_type": "markdown",
   "metadata": {
    "id": "S_BsJ85rwIAf"
   },
   "source": [
    "## Entrées et sorties"
   ]
  },
  {
   "cell_type": "markdown",
   "metadata": {
    "id": "M6kXWVq-e93B"
   },
   "source": [
    "On a vu comment capter en \"entrée\" des valeurs soumises par l'utilisateur avec la fonction _built-in_ `input`.\n",
    "\n",
    "Voyons maintenant comment sauvegarder des données dans un fichier avec la fonction _built-in_ `open`.\n",
    "\n",
    "`open` ouvre, comme son nom l'indique, un fichier mais et permet de le lire et d'écrire dedans."
   ]
  },
  {
   "cell_type": "markdown",
   "metadata": {
    "id": "Ce5oe9VxmAFi"
   },
   "source": [
    "### Exercice 26 - Écrire dans un fichier\n",
    "\n",
    "Ouvrez un fichier en mode écriture avec ce code.\n",
    "```\n",
    "with open('test.txt', 'w') as f:\n",
    "```\n",
    "\n",
    "`f` représente le fichier.\n",
    "\n",
    "À la ligne suivante (indentée), introspectez pour trouver la méthode qui permet d'écrire dans un fichier. Écrivez d'abord un message simple."
   ]
  },
  {
   "cell_type": "code",
   "execution_count": null,
   "metadata": {
    "id": "BujhuPCIhBwV"
   },
   "outputs": [],
   "source": [
    "with open('test.txt', 'w') as f:\n",
    "    f.write('OK Montréal-Python')"
   ]
  },
  {
   "cell_type": "markdown",
   "metadata": {
    "id": "JTA_HrB8hCMP"
   },
   "source": [
    "Colab vous permet d'accéder manuellement aux fichiers dans la colonne complètement à gauche de l'interface, sur l'icône répertoire nommée \"Fichiers\". Via le menu d'action en passant sur le fichier (3 points à droite). Téléchargez le fichier pour voir son contenu.\n",
    "\n",
    "Essayez ensuite de sauvegarder le contenu de `membre1` dans ce fichier."
   ]
  },
  {
   "cell_type": "markdown",
   "metadata": {
    "id": "xDoDVO66wW3L"
   },
   "source": [
    "## Imports"
   ]
  },
  {
   "cell_type": "markdown",
   "metadata": {
    "id": "eKsaiqnch2oo"
   },
   "source": [
    "Nos exercices sont limités à plusieurs égards. Par exemple\n",
    "* l'âge n'est pas calculée à partir d'une date\n",
    "* les données sauvegardées dans le fichier ne sont pas réimportables\n",
    "\n",
    "Outre les outils _built-in_ immédiatement accessibles, d'autres sont présents avec Python mais requiert d'être importés pour être utilisés. Afin, d'autres doivent être installés avant d'être importés.\n",
    "\n",
    "Nous souhaiterions explorer plus en détail, dans d'autres exercices les imports et outils disponibles avec Python.\n",
    "\n",
    "Mais en guise d'exercice, importez la _library_ `requests`, utilisez la méthode `get` pour obtenir la page web du site de Montréal-Python que vous stockerez dans une variable `response`. Explorez les infos obtenues."
   ]
  },
  {
   "cell_type": "code",
   "execution_count": null,
   "metadata": {
    "id": "hruiCyddjTM0"
   },
   "outputs": [],
   "source": [
    "import requests\n",
    "\n",
    "url = 'https://www.montrealpython.org'\n",
    "response = requests.get(url)\n",
    "response"
   ]
  },
  {
   "cell_type": "markdown",
   "metadata": {
    "id": "tlFnZR-4iLZZ"
   },
   "source": [
    "## Script\n",
    "\n",
    "Vous avez (presque?) tout ce qu'il faut pour faire un programme qui puisse permettre à un utilisateur d'ajouter des membres à votre association et de sauvegarder ces données dans un fichier.\n",
    "\n",
    "On peut imaginer une liste de membres, où chaque membre est un dictionnaire avec ses données. On peut même mettre un identifiant unique à chaque membre et permettre à l'utilisateur d'accéder à un membre via son identifiant unique (ou en cherchant dans les noms? :) )...\n",
    "\n",
    "On pourrait tout mettre le code qui marche dans un fichier `script.py` et exécuter ce fichier au besoin. On essaiera de couvrir cet exercice dans une prochaine soirée."
   ]
  },
  {
   "cell_type": "markdown",
   "metadata": {
    "id": "4me7cLtgtnPt"
   },
   "source": [
    "## Aller plus loin\n",
    "\n",
    "Utilisez les _librairies_ \n",
    "* `datetime` pour manipuler des dates et calculer l'âge un peu plus précisément\n",
    "* `csv` ou `json` pour sauvegarder des données structurées dans un fichier afin qu'elles puissent être réimportées"
   ]
  },
  {
   "cell_type": "markdown",
   "metadata": {
    "id": "CLZAGCsYjkGO"
   },
   "source": [
    "# Ressources"
   ]
  },
  {
   "cell_type": "markdown",
   "metadata": {
    "id": "KjQdL3kCC98Y"
   },
   "source": [
    "\n",
    "Documentation\n",
    "* [Documentation officielle](https://docs.python.org/fr/3/)\n",
    "* [Tutoriel officiel](https://docs.python.org/fr/3/tutorial/index.html)\n",
    "* [Bibliothèque standard](https://docs.python.org/fr/3/library/index.html)\n",
    "\n",
    "* Modules\n",
    "    * [PyPI](http://pypi.python.org/)\n",
    "    * [Pythonpedia](https://pythonpedia.com/)\n",
    "\n",
    "Autres ressources\n",
    "* Montréal-Python\n",
    "    * Atelier [Notions de Python](https://colab.research.google.com/drive/1JofiwJQ6WFZt4_T3jL9M_w3wX1Vb0sLV?usp=sharing)\n",
    "        * [Exercices de l'atelier](https://colab.research.google.com/drive/1rk9wf1jJ4S5dTqz2s8FVcs30lVxYQ8bU?usp=sharing)\n",
    "* [Python for Data analysis](http://shop.oreilly.com/product/0636920023784.do)\n",
    "    * Chapitre 1 : pour Pourquoi Python\n",
    "    * Chapitre 3 : pour IPython avancé\n",
    "    * Chapitre 6 : pour Manipulation texte, CSV, JSON, HTML, XML et .xls\n",
    "    * Annexe : pour Python\n"
   ]
  },
  {
   "cell_type": "markdown",
   "metadata": {
    "id": "3M5P7AYjtVjO"
   },
   "source": [
    "# Solutionnaire"
   ]
  },
  {
   "cell_type": "markdown",
   "metadata": {
    "id": "Ab9pvyB0fvjn"
   },
   "source": [
    "Voici le [solutionnaire]()."
   ]
  },
  {
   "cell_type": "markdown",
   "metadata": {
    "id": "rLaf_b-Ds52Q"
   },
   "source": [
    "# Licence\n"
   ]
  },
  {
   "cell_type": "markdown",
   "metadata": {
    "id": "8KzhibCptAN9"
   },
   "source": [
    "Copyright 2022 Montréal-Python\n",
    "\n",
    "Permission is hereby granted, free of charge, to any person obtaining a copy of this software and associated documentation files (the \"Software\"), to deal in the Software without restriction, including without limitation the rights to use, copy, modify, merge, publish, distribute, sublicense, and/or sell copies of the Software, and to permit persons to whom the Software is furnished to do so, subject to the following conditions:\n",
    "\n",
    "The above copyright notice and this permission notice shall be included in all copies or substantial portions of the Software.\n",
    "\n",
    "THE SOFTWARE IS PROVIDED \"AS IS\", WITHOUT WARRANTY OF ANY KIND, EXPRESS OR IMPLIED, INCLUDING BUT NOT LIMITED TO THE WARRANTIES OF MERCHANTABILITY, FITNESS FOR A PARTICULAR PURPOSE AND NONINFRINGEMENT. IN NO EVENT SHALL THE AUTHORS OR COPYRIGHT HOLDERS BE LIABLE FOR ANY CLAIM, DAMAGES OR OTHER LIABILITY, WHETHER IN AN ACTION OF CONTRACT, TORT OR OTHERWISE, ARISING FROM, OUT OF OR IN CONNECTION WITH THE SOFTWARE OR THE USE OR OTHER DEALINGS IN THE SOFTWARE."
   ]
  }
 ],
 "metadata": {
  "colab": {
   "provenance": [],
   "toc_visible": true
  },
  "kernelspec": {
   "display_name": "Python 3",
   "name": "python3"
  },
  "language_info": {
   "name": "python"
  }
 },
 "nbformat": 4,
 "nbformat_minor": 0
}
