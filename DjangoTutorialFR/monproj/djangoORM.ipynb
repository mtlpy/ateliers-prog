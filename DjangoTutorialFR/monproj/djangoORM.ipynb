{
 "cells": [
  {
   "cell_type": "markdown",
   "id": "4eaa67be-9e54-470b-bc8e-f3974f2d6ee6",
   "metadata": {},
   "source": [
    "# Démo base de donées utilisant l'ORM Django\n",
    "\n",
    "Dans ce notebook, nous feront une démonstration optionnelle de manipulations dans la base de données. Voir [ce document](https://docs.google.com/document/d/1VA6s5UpuEk_qc7MACX_XK1KyuGm1IWu7CF4p420vR58/edit) pour le programme détaillé."
   ]
  },
  {
   "cell_type": "code",
   "execution_count": 26,
   "id": "9de5310c-fc2f-4537-9ee8-da2318d04e58",
   "metadata": {},
   "outputs": [
    {
     "data": {
      "text/plain": [
       "5"
      ]
     },
     "execution_count": 26,
     "metadata": {},
     "output_type": "execute_result"
    }
   ],
   "source": [
    "2 + 3"
   ]
  },
  {
   "cell_type": "markdown",
   "id": "26c03b4d-192c-4faa-abc6-c2e315f057f1",
   "metadata": {},
   "source": [
    "## Configurer le notebook pour les commades Django"
   ]
  },
  {
   "cell_type": "markdown",
   "id": "b8a5db71-d98d-407f-b559-baaeeb81a297",
   "metadata": {},
   "source": [
    "Tout d'abord, assurons nous d'être dans le répertoire `DjangoTutorialFR/monproj`."
   ]
  },
  {
   "cell_type": "code",
   "execution_count": null,
   "id": "c9abd115-fa7e-451d-b53d-39103d59906d",
   "metadata": {},
   "outputs": [],
   "source": [
    "# make sure we're in the right place\n",
    "import os\n",
    "cwd = os.getcwd()\n",
    "par = os.path.abspath(os.path.join(cwd, '..'))\n",
    "if os.path.basename(par) != \"DjangoTutorialFR\":\n",
    "    print(\"ATTENTION: vous êtez peut-être pas dans le bon dossier\")\n",
    "    print(\"Ce notebook devrais se trouver dans DjangoTutorialFR/monproj/\")\n",
    "else:\n",
    "    print(\"Tout est beau.\")"
   ]
  },
  {
   "cell_type": "markdown",
   "id": "249995c3-34ed-43b3-8e7b-38c424debd2a",
   "metadata": {},
   "source": [
    "Les commandes suivantes vont configurer (setup) Djagno pour qu'on puisse utiliser les composantes de Django dans ce notebook."
   ]
  },
  {
   "cell_type": "code",
   "execution_count": null,
   "id": "35902446-af6f-46b7-ad34-290492a3743d",
   "metadata": {},
   "outputs": [],
   "source": [
    "import django, os, sys\n",
    "sys.path.insert(0, os.getcwd())\n",
    "os.environ[\"DJANGO_SETTINGS_MODULE\"] = \"monproj.settings\"\n",
    "os.environ[\"DJANGO_ALLOW_ASYNC_UNSAFE\"] = \"true\"\n",
    "django.setup()"
   ]
  },
  {
   "cell_type": "markdown",
   "id": "406e7b1d-d639-4724-80cd-450e3559acf8",
   "metadata": {},
   "source": [
    "On va maintenant tester que la commade `django.setup()` a fonctionné en verifiant que `monsite` est dans la liste `settings.INSTALLED_APPS`."
   ]
  },
  {
   "cell_type": "code",
   "execution_count": null,
   "id": "a2c10516-d970-4b77-bb7d-4484b80bf9b9",
   "metadata": {},
   "outputs": [],
   "source": [
    "from django.conf import settings\n",
    "settings.INSTALLED_APPS"
   ]
  },
  {
   "cell_type": "code",
   "execution_count": null,
   "id": "0572eb71-e110-4401-855c-2cccb8752c5a",
   "metadata": {},
   "outputs": [],
   "source": []
  },
  {
   "cell_type": "code",
   "execution_count": null,
   "id": "10ab7c77-de47-4722-a9c2-e7331ce0b6e9",
   "metadata": {},
   "outputs": [],
   "source": []
  },
  {
   "cell_type": "markdown",
   "id": "16023d36-537b-48f5-ac24-f51e4853cf23",
   "metadata": {
    "tags": []
   },
   "source": [
    "## Étape 4: Lire et créer des livres stockés dans la base de données"
   ]
  },
  {
   "cell_type": "markdown",
   "id": "e4998353-32de-4fdd-a747-c80436e38698",
   "metadata": {},
   "source": [
    "#### Voir tous les objets `Book`"
   ]
  },
  {
   "cell_type": "code",
   "execution_count": null,
   "id": "3156fac0-108e-4492-b50f-7c9bc67fe26a",
   "metadata": {},
   "outputs": [],
   "source": [
    "from monsite.models import Book\n",
    "\n",
    "Book.objects.all()"
   ]
  },
  {
   "cell_type": "code",
   "execution_count": null,
   "id": "9a04a346-a6c2-4e61-85e0-77f2423c0de0",
   "metadata": {},
   "outputs": [],
   "source": [
    "list(Book.objects.all())"
   ]
  },
  {
   "cell_type": "code",
   "execution_count": null,
   "id": "9752bf3b-4797-4d20-adb1-15ca2e925d5e",
   "metadata": {},
   "outputs": [],
   "source": [
    "for book in Book.objects.all():\n",
    "    print(book.id, \":\", book.title, \"par\", book.author)"
   ]
  },
  {
   "cell_type": "code",
   "execution_count": null,
   "id": "a8ca2ffb-be90-4640-a652-eeea55654109",
   "metadata": {},
   "outputs": [],
   "source": []
  },
  {
   "cell_type": "code",
   "execution_count": null,
   "id": "4489341e-d3c4-4851-beff-16b98b429e53",
   "metadata": {},
   "outputs": [],
   "source": []
  },
  {
   "cell_type": "markdown",
   "id": "8ce05f29-aa20-4365-8f82-76eca7910d93",
   "metadata": {},
   "source": [
    "#### Selectionner un objet `Book` par id"
   ]
  },
  {
   "cell_type": "code",
   "execution_count": null,
   "id": "8ff9c99a-1472-4933-880e-adc5ad1f69ed",
   "metadata": {},
   "outputs": [],
   "source": [
    "book = Book.objects.get(id=1)\n",
    "book.__dict__"
   ]
  },
  {
   "cell_type": "code",
   "execution_count": null,
   "id": "20218fbe-5a16-49fa-8b4d-78e755f8a79e",
   "metadata": {},
   "outputs": [],
   "source": [
    "# ALT.\n",
    "book = Book.objects.get(title=\"Le Comte de Monte-Cristo\")\n",
    "book.__dict__"
   ]
  },
  {
   "cell_type": "code",
   "execution_count": null,
   "id": "fa003a2f-27e8-41a1-8b1b-fdbedec3a780",
   "metadata": {},
   "outputs": [],
   "source": []
  },
  {
   "cell_type": "code",
   "execution_count": null,
   "id": "b77cf6a8-3f3b-498c-a931-f53cb5faf4e6",
   "metadata": {},
   "outputs": [],
   "source": []
  },
  {
   "cell_type": "markdown",
   "id": "68338137-e117-4432-aa32-e9174bbf6519",
   "metadata": {},
   "source": [
    "#### Créer de nouveaux objets `Book`"
   ]
  },
  {
   "cell_type": "code",
   "execution_count": null,
   "id": "0dd3a01a-fa98-4b0f-827e-a89389d96cd6",
   "metadata": {},
   "outputs": [],
   "source": [
    "from monsite.models import Book"
   ]
  },
  {
   "cell_type": "code",
   "execution_count": null,
   "id": "5093e9d5-1ea4-445b-a125-08b67761119b",
   "metadata": {},
   "outputs": [],
   "source": [
    "book1 = Book.objects.create(title=\"Titre du livre\", author=\"Auteur 1\")\n",
    "book1.save()"
   ]
  },
  {
   "cell_type": "code",
   "execution_count": null,
   "id": "8102abaa-cfaa-4bea-9566-52d314d39535",
   "metadata": {},
   "outputs": [],
   "source": [
    "book2 = Book.objects.create(title=\"autre titre\", author=\"Auteur 2\")\n",
    "book2.save()"
   ]
  },
  {
   "cell_type": "code",
   "execution_count": null,
   "id": "a00bcd68-3879-44cf-858f-c4aaabe331e5",
   "metadata": {},
   "outputs": [],
   "source": [
    "book3 = Book.objects.create(title=\"titre 3\", author=\"Auteur 3\", description=\"Ceci est un bon livre\")\n",
    "book3.save()"
   ]
  },
  {
   "cell_type": "code",
   "execution_count": null,
   "id": "b8d864f9-553d-4cc8-b981-766ea7602d3a",
   "metadata": {},
   "outputs": [],
   "source": [
    "for book in Book.objects.all():\n",
    "    print(book.id, \":\", book.title, \"par\", book.author)"
   ]
  },
  {
   "cell_type": "code",
   "execution_count": null,
   "id": "ef82abe2-fdc0-4a12-8283-2fd16ec3e4de",
   "metadata": {},
   "outputs": [],
   "source": []
  },
  {
   "cell_type": "code",
   "execution_count": null,
   "id": "e24aeeb9-e36c-48df-813e-d05e4c71ec97",
   "metadata": {},
   "outputs": [],
   "source": []
  },
  {
   "cell_type": "markdown",
   "id": "903eb856-1553-4054-a1dd-f89dcd506622",
   "metadata": {},
   "source": [
    "#### Modifier un objet book existant"
   ]
  },
  {
   "cell_type": "code",
   "execution_count": null,
   "id": "96f64da9-4d6b-46fb-88af-b6b909e36451",
   "metadata": {},
   "outputs": [],
   "source": [
    "book2 = Book.objects.get(id=5)\n",
    "book2.title = \"Autre titre\"\n",
    "book2.save()"
   ]
  },
  {
   "cell_type": "code",
   "execution_count": null,
   "id": "115f42e5-0aff-4de3-97d9-1514a4951a76",
   "metadata": {},
   "outputs": [],
   "source": []
  },
  {
   "cell_type": "code",
   "execution_count": null,
   "id": "e57b2325-6d85-4808-ba6f-64bb82849a24",
   "metadata": {},
   "outputs": [],
   "source": []
  },
  {
   "cell_type": "code",
   "execution_count": null,
   "id": "e7d2fcd2-6884-4af6-9fb6-d53e9bef8486",
   "metadata": {},
   "outputs": [],
   "source": [
    "base de données"
   ]
  },
  {
   "cell_type": "markdown",
   "id": "ee61feb8-5d50-462b-8398-057b16b6f5d5",
   "metadata": {},
   "source": [
    "#### Supprimer un objet book"
   ]
  },
  {
   "cell_type": "code",
   "execution_count": null,
   "id": "7ba1148a-0954-4915-8d6c-e9976658541c",
   "metadata": {},
   "outputs": [],
   "source": [
    "book2 = Book.objects.get(id=5)\n",
    "book2.delete()"
   ]
  },
  {
   "cell_type": "code",
   "execution_count": null,
   "id": "761c7b73-ae0b-4098-8978-829b7f89c520",
   "metadata": {},
   "outputs": [],
   "source": [
    "# Book.objects.get(id=5)"
   ]
  },
  {
   "cell_type": "code",
   "execution_count": null,
   "id": "b007e468-93ca-4d12-ad19-1a3f0236d540",
   "metadata": {},
   "outputs": [],
   "source": []
  }
 ],
 "metadata": {
  "kernelspec": {
   "display_name": "Python 3 (ipykernel)",
   "language": "python",
   "name": "python3"
  },
  "language_info": {
   "codemirror_mode": {
    "name": "ipython",
    "version": 3
   },
   "file_extension": ".py",
   "mimetype": "text/x-python",
   "name": "python",
   "nbconvert_exporter": "python",
   "pygments_lexer": "ipython3",
   "version": "3.9.4"
  }
 },
 "nbformat": 4,
 "nbformat_minor": 5
}
