{
 "cells": [
  {
   "cell_type": "markdown",
   "id": "606ffc4f-ce9f-4846-9dfa-0aad69244c3d",
   "metadata": {},
   "source": [
    "# Rouler le server Django"
   ]
  },
  {
   "cell_type": "markdown",
   "id": "ee506655-031b-42dc-8cab-d534cee931a9",
   "metadata": {},
   "source": [
    "\n",
    "## Assurez vous d'être dans le répertoire `DjangoTutorialFR/monproj/`\n",
    "\n",
    "  * utilisez la commande `%pwd` pour voir où vous êtes\n",
    "  * utiliser la commande `%cd ..`   pour monter dans le dossier parent\n",
    "  * utiliser la commande `%cd folder`   pour entrer dans le dossier `folder`\n",
    "  * Vous êtes à la bonne place si:\n",
    "    * `%pwd` finit par `DjangoTutorialFR/monproj/`\n",
    "  "
   ]
  },
  {
   "cell_type": "code",
   "execution_count": 10,
   "id": "8aca5f23-c6df-48af-bba4-5cd33e33f5d5",
   "metadata": {},
   "outputs": [
    {
     "data": {
      "text/plain": [
       "'/Users/ivan/Projects/Minireference/software/ateliers-prog/DjangoTutorialFR/monproj'"
      ]
     },
     "execution_count": 10,
     "metadata": {},
     "output_type": "execute_result"
    }
   ],
   "source": [
    "%pwd"
   ]
  },
  {
   "cell_type": "code",
   "execution_count": 2,
   "id": "ebe2d23f-ce58-41eb-9839-fb112049eb16",
   "metadata": {},
   "outputs": [
    {
     "name": "stdout",
     "output_type": "stream",
     "text": [
      "/Users/ivan/Projects/Minireference/software/ateliers-prog/DjangoTutorialFR/monproj\n"
     ]
    }
   ],
   "source": [
    "%cd monproj"
   ]
  },
  {
   "cell_type": "code",
   "execution_count": 3,
   "id": "7010d4b4-331b-4bd9-8f2b-928e5e8f5536",
   "metadata": {},
   "outputs": [
    {
     "data": {
      "text/plain": [
       "'/Users/ivan/Projects/Minireference/software/ateliers-prog/DjangoTutorialFR/monproj'"
      ]
     },
     "execution_count": 3,
     "metadata": {},
     "output_type": "execute_result"
    }
   ],
   "source": [
    "%pwd"
   ]
  },
  {
   "cell_type": "markdown",
   "id": "449e36f9-7486-4034-93b2-ecf75209565a",
   "metadata": {},
   "source": [
    "### Roulez la commande runserver\n",
    "\n",
    "La commande c'est `!./manage.py runserver`\n"
   ]
  },
  {
   "cell_type": "code",
   "execution_count": null,
   "id": "9272afd1-99d8-4e59-b434-98337e67f455",
   "metadata": {},
   "outputs": [],
   "source": [
    "!./manage.py runserver"
   ]
  },
  {
   "cell_type": "markdown",
   "id": "9d4c5cd5-045a-4f9b-82d5-3cf16a0a53d6",
   "metadata": {},
   "source": [
    "## Verification"
   ]
  },
  {
   "cell_type": "markdown",
   "id": "c3d75688-a8f3-4591-8f9a-a19816cd87d2",
   "metadata": {},
   "source": [
    "* Ouvrez votre fureteur web à la page [http://localhost:8000/](http://localhost:8000/)\n",
    "  * Vous devriez voir «It works!»\n",
    "  * Prenons une minute pour décrire les composantes de l'URL [http://localhost:8000/](http://localhost:8000/)\n",
    "    * `http://` = protocol\n",
    "    * `localhost` = hostname    (localhost est équivalent à l'adresse IP 127.0.0.1)\n",
    "    * `8000` = [port](https://fr.wikipedia.org/wiki/Port_(logiciel))(HTTP c'est port 80, mais on utilise 8000 pour maintenant)\n",
    "    * `/` = path(le chemin de la ressource qu'on demande, ici la racine)\n",
    "\n",
    "\n",
    "* Utilisez le bouton stop pour arrêter la commande runserver qui roule plus haut\n"
   ]
  },
  {
   "cell_type": "markdown",
   "id": "e338a434-398c-4f41-863c-d6bc929059a8",
   "metadata": {},
   "source": [
    "### Plus de commandes avec ./manage.py"
   ]
  },
  {
   "cell_type": "code",
   "execution_count": 8,
   "id": "56f2c52a-f6ff-4d88-ae0b-3b9fb86b321a",
   "metadata": {},
   "outputs": [
    {
     "data": {
      "text/plain": [
       "'/Users/ivan/Projects/Minireference/software/ateliers-prog/DjangoTutorialFR/monproj'"
      ]
     },
     "execution_count": 8,
     "metadata": {},
     "output_type": "execute_result"
    }
   ],
   "source": [
    "%pwd"
   ]
  },
  {
   "cell_type": "code",
   "execution_count": 7,
   "id": "ea39062a-1ff5-463a-8414-6069616ec5c7",
   "metadata": {},
   "outputs": [],
   "source": [
    "# %cd monproj"
   ]
  },
  {
   "cell_type": "code",
   "execution_count": 9,
   "id": "2f1a9b61-55a7-443b-8676-49354d7a0bb2",
   "metadata": {},
   "outputs": [
    {
     "name": "stdout",
     "output_type": "stream",
     "text": [
      "\n",
      "Type 'manage.py help <subcommand>' for help on a specific subcommand.\n",
      "\n",
      "Available subcommands:\n",
      "\n",
      "\u001b[31m[auth]\u001b[0m\n",
      "    changepassword\n",
      "    createsuperuser\n",
      "\n",
      "\u001b[31m[contenttypes]\u001b[0m\n",
      "    remove_stale_contenttypes\n",
      "\n",
      "\u001b[31m[django]\u001b[0m\n",
      "    check\n",
      "    compilemessages\n",
      "    createcachetable\n",
      "    dbshell\n",
      "    diffsettings\n",
      "    dumpdata\n",
      "    flush\n",
      "    inspectdb\n",
      "    loaddata\n",
      "    makemessages\n",
      "    makemigrations\n",
      "    migrate\n",
      "    sendtestemail\n",
      "    shell\n",
      "    showmigrations\n",
      "    sqlflush\n",
      "    sqlmigrate\n",
      "    sqlsequencereset\n",
      "    squashmigrations\n",
      "    startapp\n",
      "    startproject\n",
      "    test\n",
      "    testserver\n",
      "\n",
      "\u001b[31m[sessions]\u001b[0m\n",
      "    clearsessions\n",
      "\n",
      "\u001b[31m[staticfiles]\u001b[0m\n",
      "    collectstatic\n",
      "    findstatic\n",
      "    runserver\n"
     ]
    }
   ],
   "source": [
    "!./manage.py help"
   ]
  },
  {
   "cell_type": "code",
   "execution_count": null,
   "id": "c1daffd0-6a35-49f3-a620-ced18046c6a5",
   "metadata": {},
   "outputs": [],
   "source": []
  },
  {
   "cell_type": "code",
   "execution_count": null,
   "id": "d930682a-94cd-405a-b414-6f91b99a4e0a",
   "metadata": {},
   "outputs": [],
   "source": []
  },
  {
   "cell_type": "code",
   "execution_count": null,
   "id": "21837909-cb6b-47b5-916b-ecfbb8e03101",
   "metadata": {},
   "outputs": [],
   "source": []
  },
  {
   "cell_type": "code",
   "execution_count": null,
   "id": "fc2448d2-99bb-4cf5-9fd3-a8d6d6c6f6f9",
   "metadata": {},
   "outputs": [],
   "source": []
  }
 ],
 "metadata": {
  "kernelspec": {
   "display_name": "Python 3 (ipykernel)",
   "language": "python",
   "name": "python3"
  },
  "language_info": {
   "codemirror_mode": {
    "name": "ipython",
    "version": 3
   },
   "file_extension": ".py",
   "mimetype": "text/x-python",
   "name": "python",
   "nbconvert_exporter": "python",
   "pygments_lexer": "ipython3",
   "version": "3.8.13"
  }
 },
 "nbformat": 4,
 "nbformat_minor": 5
}
