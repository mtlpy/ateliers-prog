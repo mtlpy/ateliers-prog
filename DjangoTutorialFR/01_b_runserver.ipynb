{
 "cells": [
  {
   "cell_type": "markdown",
   "id": "606ffc4f-ce9f-4846-9dfa-0aad69244c3d",
   "metadata": {},
   "source": [
    "# Run Django server"
   ]
  },
  {
   "cell_type": "code",
   "execution_count": 1,
   "id": "8aca5f23-c6df-48af-bba4-5cd33e33f5d5",
   "metadata": {},
   "outputs": [
    {
     "data": {
      "text/plain": [
       "'/Users/ivan/Projects/Minireference/software/ateliers-prog/DjangoTutorialFR'"
      ]
     },
     "execution_count": 1,
     "metadata": {},
     "output_type": "execute_result"
    }
   ],
   "source": [
    "%pwd"
   ]
  },
  {
   "cell_type": "code",
   "execution_count": null,
   "id": "7d825914-c6f2-4d3b-8ace-11a8ea32a1eb",
   "metadata": {},
   "outputs": [],
   "source": []
  },
  {
   "cell_type": "code",
   "execution_count": 2,
   "id": "ebe2d23f-ce58-41eb-9839-fb112049eb16",
   "metadata": {},
   "outputs": [
    {
     "name": "stdout",
     "output_type": "stream",
     "text": [
      "/Users/ivan/Projects/Minireference/software/ateliers-prog/DjangoTutorialFR/monproj\n"
     ]
    }
   ],
   "source": [
    "%cd monproj"
   ]
  },
  {
   "cell_type": "code",
   "execution_count": 3,
   "id": "7010d4b4-331b-4bd9-8f2b-928e5e8f5536",
   "metadata": {},
   "outputs": [
    {
     "data": {
      "text/plain": [
       "'/Users/ivan/Projects/Minireference/software/ateliers-prog/DjangoTutorialFR/monproj'"
      ]
     },
     "execution_count": 3,
     "metadata": {},
     "output_type": "execute_result"
    }
   ],
   "source": [
    "%pwd"
   ]
  },
  {
   "cell_type": "code",
   "execution_count": null,
   "id": "9272afd1-99d8-4e59-b434-98337e67f455",
   "metadata": {},
   "outputs": [
    {
     "name": "stdout",
     "output_type": "stream",
     "text": [
      "Performing system checks...\n",
      "\n",
      "System check identified no issues (0 silenced).\n",
      "June 27, 2022 - 03:40:46\n",
      "Django version 1.11.23, using settings 'monproj.settings'\n",
      "Starting development server at http://127.0.0.1:8000/\n",
      "Quit the server with CONTROL-C.\n",
      "[27/Jun/2022 03:40:49] \u001b[m\"GET / HTTP/1.1\" 200 659\u001b[0m\n",
      "[27/Jun/2022 03:41:07] \u001b[m\"GET / HTTP/1.1\" 200 659\u001b[0m\n",
      "Not Found: /books/\n",
      "[27/Jun/2022 03:41:09] \u001b[33m\"GET /books/ HTTP/1.1\" 404 2158\u001b[0m\n",
      "Performing system checks...\n",
      "\n",
      "System check identified no issues (0 silenced).\n",
      "June 27, 2022 - 03:42:16\n",
      "Django version 1.11.23, using settings 'monproj.settings'\n",
      "Starting development server at http://127.0.0.1:8000/\n",
      "Quit the server with CONTROL-C.\n",
      "Performing system checks...\n",
      "\n",
      "System check identified no issues (0 silenced).\n",
      "\u001b[31m\n",
      "You have 1 unapplied migration(s). Your project may not work properly until you apply the migrations for app(s): monsite.\u001b[0m\n",
      "\u001b[31mRun 'python manage.py migrate' to apply them.\n",
      "\u001b[0m\n",
      "June 27, 2022 - 03:42:44\n",
      "Django version 1.11.23, using settings 'monproj.settings'\n",
      "Starting development server at http://127.0.0.1:8000/\n",
      "Quit the server with CONTROL-C.\n",
      "Performing system checks...\n",
      "\n",
      "System check identified no issues (0 silenced).\n",
      "\u001b[31m\n",
      "You have 1 unapplied migration(s). Your project may not work properly until you apply the migrations for app(s): monsite.\u001b[0m\n",
      "\u001b[31mRun 'python manage.py migrate' to apply them.\n",
      "\u001b[0m\n",
      "June 27, 2022 - 03:43:04\n",
      "Django version 1.11.23, using settings 'monproj.settings'\n",
      "Starting development server at http://127.0.0.1:8000/\n",
      "Quit the server with CONTROL-C.\n"
     ]
    }
   ],
   "source": [
    "!./manage.py runserver"
   ]
  },
  {
   "cell_type": "markdown",
   "id": "9d4c5cd5-045a-4f9b-82d5-3cf16a0a53d6",
   "metadata": {},
   "source": [
    "hello \n",
    "```html\n",
    "<!doctype html>\n",
    "<html lang=\"en\">\n",
    "\n",
    "  <head>\n",
    "    <meta charset=\"utf-8\">\n",
    "    <title>Titre de la page</title>\n",
    "    <link rel=\"stylesheet\" href=\"https://cdn.jsdelivr.net/npm/bootstrap@4.4.1/dist/css/bootstrap.min.css\">\n",
    "    <style>\n",
    "        body {\n",
    "          padding-top: 4rem;\n",
    "        }\n",
    "    </style>\n",
    "  </head>\n",
    "\n",
    "  <body>\n",
    "    <main class=\"container\">\n",
    "\n",
    "      <div>\n",
    "        <h1>Titre principal</h1>\n",
    "        <p class=\"lead\">\n",
    "            Texte qui explique l'idée de ton site en deux phrases.<br>\n",
    "            Ceci est un document HTML barebones que nous allons modifier.\n",
    "        </p>\n",
    "      </div>\n",
    "\n",
    "    </main>\n",
    "  </body>\n",
    "\n",
    "</html>\n",
    "```"
   ]
  },
  {
   "cell_type": "code",
   "execution_count": null,
   "id": "56f2c52a-f6ff-4d88-ae0b-3b9fb86b321a",
   "metadata": {},
   "outputs": [],
   "source": [
    "%pwd"
   ]
  },
  {
   "cell_type": "code",
   "execution_count": 7,
   "id": "d0ab388f-dfa2-45cb-ac8d-daddc6c96518",
   "metadata": {},
   "outputs": [
    {
     "name": "stdout",
     "output_type": "stream",
     "text": [
      "\u001b[36;1mMigrations for 'monsite':\u001b[0m\n",
      "  \u001b[1mmonsite/migrations/0001_initial.py\u001b[0m\n",
      "    - Create model Book\n"
     ]
    }
   ],
   "source": [
    "!./manage.py makemigrations"
   ]
  },
  {
   "cell_type": "code",
   "execution_count": 9,
   "id": "2f5430b7-24db-4562-a163-5f7395ac5edd",
   "metadata": {},
   "outputs": [
    {
     "name": "stdout",
     "output_type": "stream",
     "text": [
      "\u001b[36;1mOperations to perform:\u001b[0m\n",
      "\u001b[1m  Apply all migrations: \u001b[0madmin, auth, contenttypes, monsite, sessions\n",
      "\u001b[36;1mRunning migrations:\u001b[0m\n",
      "  Applying contenttypes.0001_initial...\u001b[32;1m OK\u001b[0m\n",
      "  Applying auth.0001_initial...\u001b[32;1m OK\u001b[0m\n",
      "  Applying admin.0001_initial...\u001b[32;1m OK\u001b[0m\n",
      "  Applying admin.0002_logentry_remove_auto_add...\u001b[32;1m OK\u001b[0m\n",
      "  Applying contenttypes.0002_remove_content_type_name...\u001b[32;1m OK\u001b[0m\n",
      "  Applying auth.0002_alter_permission_name_max_length...\u001b[32;1m OK\u001b[0m\n",
      "  Applying auth.0003_alter_user_email_max_length...\u001b[32;1m OK\u001b[0m\n",
      "  Applying auth.0004_alter_user_username_opts...\u001b[32;1m OK\u001b[0m\n",
      "  Applying auth.0005_alter_user_last_login_null...\u001b[32;1m OK\u001b[0m\n",
      "  Applying auth.0006_require_contenttypes_0002...\u001b[32;1m OK\u001b[0m\n",
      "  Applying auth.0007_alter_validators_add_error_messages...\u001b[32;1m OK\u001b[0m\n",
      "  Applying auth.0008_alter_user_username_max_length...\u001b[32;1m OK\u001b[0m\n",
      "  Applying monsite.0001_initial...\u001b[32;1m OK\u001b[0m\n",
      "  Applying sessions.0001_initial...\u001b[32;1m OK\u001b[0m\n"
     ]
    }
   ],
   "source": [
    "!./manage.py migrate"
   ]
  },
  {
   "cell_type": "code",
   "execution_count": 12,
   "id": "2f1a9b61-55a7-443b-8676-49354d7a0bb2",
   "metadata": {},
   "outputs": [
    {
     "name": "stdout",
     "output_type": "stream",
     "text": [
      "\n",
      "Type 'manage.py help <subcommand>' for help on a specific subcommand.\n",
      "\n",
      "Available subcommands:\n",
      "\n",
      "\u001b[31m[auth]\u001b[0m\n",
      "    changepassword\n",
      "    createsuperuser\n",
      "\n",
      "\u001b[31m[contenttypes]\u001b[0m\n",
      "    remove_stale_contenttypes\n",
      "\n",
      "\u001b[31m[django]\u001b[0m\n",
      "    check\n",
      "    compilemessages\n",
      "    createcachetable\n",
      "    dbshell\n",
      "    diffsettings\n",
      "    dumpdata\n",
      "    flush\n",
      "    inspectdb\n",
      "    loaddata\n",
      "    makemessages\n",
      "    makemigrations\n",
      "    migrate\n",
      "    sendtestemail\n",
      "    shell\n",
      "    showmigrations\n",
      "    sqlflush\n",
      "    sqlmigrate\n",
      "    sqlsequencereset\n",
      "    squashmigrations\n",
      "    startapp\n",
      "    startproject\n",
      "    test\n",
      "    testserver\n",
      "\n",
      "\u001b[31m[sessions]\u001b[0m\n",
      "    clearsessions\n",
      "\n",
      "\u001b[31m[staticfiles]\u001b[0m\n",
      "    collectstatic\n",
      "    findstatic\n",
      "    runserver\n"
     ]
    }
   ],
   "source": [
    "!./manage.py help"
   ]
  },
  {
   "cell_type": "code",
   "execution_count": null,
   "id": "c1daffd0-6a35-49f3-a620-ced18046c6a5",
   "metadata": {},
   "outputs": [],
   "source": []
  },
  {
   "cell_type": "code",
   "execution_count": null,
   "id": "ee133681-d59d-40b3-bf47-cbc972d78857",
   "metadata": {},
   "outputs": [],
   "source": []
  },
  {
   "cell_type": "code",
   "execution_count": null,
   "id": "84e6a3f5-b7fe-42de-9b84-902e1a49005e",
   "metadata": {},
   "outputs": [],
   "source": []
  },
  {
   "cell_type": "code",
   "execution_count": 8,
   "id": "1796e987-49c6-4c66-aa07-22d17cd6708d",
   "metadata": {},
   "outputs": [
    {
     "name": "stdout",
     "output_type": "stream",
     "text": [
      "Username (leave blank to use 'ivan'): ^C\n",
      "\n",
      "Operation cancelled.\n"
     ]
    }
   ],
   "source": [
    "!./manage.py createsuperuserah"
   ]
  },
  {
   "cell_type": "code",
   "execution_count": null,
   "id": "74112b21-3dd8-40bb-8cad-b2af72944ce1",
   "metadata": {},
   "outputs": [],
   "source": []
  },
  {
   "cell_type": "code",
   "execution_count": null,
   "id": "d930682a-94cd-405a-b414-6f91b99a4e0a",
   "metadata": {},
   "outputs": [],
   "source": []
  },
  {
   "cell_type": "code",
   "execution_count": null,
   "id": "21837909-cb6b-47b5-916b-ecfbb8e03101",
   "metadata": {},
   "outputs": [],
   "source": []
  },
  {
   "cell_type": "code",
   "execution_count": null,
   "id": "fc2448d2-99bb-4cf5-9fd3-a8d6d6c6f6f9",
   "metadata": {},
   "outputs": [],
   "source": []
  }
 ],
 "metadata": {
  "kernelspec": {
   "display_name": "Python 3 (ipykernel)",
   "language": "python",
   "name": "python3"
  },
  "language_info": {
   "codemirror_mode": {
    "name": "ipython",
    "version": 3
   },
   "file_extension": ".py",
   "mimetype": "text/x-python",
   "name": "python",
   "nbconvert_exporter": "python",
   "pygments_lexer": "ipython3",
   "version": "3.8.13"
  }
 },
 "nbformat": 4,
 "nbformat_minor": 5
}
