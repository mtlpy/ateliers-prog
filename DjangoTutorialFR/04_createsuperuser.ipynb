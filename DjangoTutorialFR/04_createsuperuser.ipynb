{
 "cells": [
  {
   "cell_type": "code",
   "execution_count": 1,
   "id": "7ac79ee9-655b-4d62-8bc9-7167f97bea12",
   "metadata": {},
   "outputs": [],
   "source": [
    "import os\n",
    "import django\n",
    "import sys"
   ]
  },
  {
   "cell_type": "code",
   "execution_count": 6,
   "id": "c21ee9ab-39ad-4872-8afe-b4da34477140",
   "metadata": {},
   "outputs": [
    {
     "data": {
      "text/plain": [
       "'/Users/ivan/Projects/Minireference/software/ateliers-prog/DjangoTutorialFR/monproj'"
      ]
     },
     "execution_count": 6,
     "metadata": {},
     "output_type": "execute_result"
    }
   ],
   "source": [
    "%pwd"
   ]
  },
  {
   "cell_type": "code",
   "execution_count": 3,
   "id": "71106f3a-9d6c-410f-a72a-b2098b4cedb0",
   "metadata": {},
   "outputs": [
    {
     "name": "stdout",
     "output_type": "stream",
     "text": [
      "/Users/ivan/Projects/Minireference/software/ateliers-prog/DjangoTutorialFR/monproj\n"
     ]
    }
   ],
   "source": [
    "%cd monproj"
   ]
  },
  {
   "cell_type": "code",
   "execution_count": 7,
   "id": "cb6831d5-37bb-4715-969b-0cff4e652f01",
   "metadata": {},
   "outputs": [],
   "source": [
    "sys.path.insert(0, os.getenv('PWD'))"
   ]
  },
  {
   "cell_type": "code",
   "execution_count": 8,
   "id": "8a155603-80b7-4847-8a63-986d2d0b1301",
   "metadata": {},
   "outputs": [
    {
     "data": {
      "text/plain": [
       "['/Users/ivan',\n",
       " '/Users/ivan',\n",
       " '/Users/ivan/Projects/Minireference/software/ateliers-prog/DjangoTutorialFR',\n",
       " '/Users/ivan/Library/jupyterlab-desktop/jlab_server/lib/python38.zip',\n",
       " '/Users/ivan/Library/jupyterlab-desktop/jlab_server/lib/python3.8',\n",
       " '/Users/ivan/Library/jupyterlab-desktop/jlab_server/lib/python3.8/lib-dynload',\n",
       " '',\n",
       " '/Users/ivan/.local/lib/python3.8/site-packages',\n",
       " '/Users/ivan/Library/jupyterlab-desktop/jlab_server/lib/python3.8/site-packages']"
      ]
     },
     "execution_count": 8,
     "metadata": {},
     "output_type": "execute_result"
    }
   ],
   "source": [
    "sys.path"
   ]
  },
  {
   "cell_type": "code",
   "execution_count": 9,
   "id": "118a010e-a146-4f43-a226-6c064d6610fa",
   "metadata": {},
   "outputs": [],
   "source": [
    "os.environ[\"DJANGO_SETTINGS_MODULE\"] = \"monproj.settings\"\n",
    "os.environ[\"DJANGO_ALLOW_ASYNC_UNSAFE\"] = \"true\"\n",
    "django.setup()"
   ]
  },
  {
   "cell_type": "code",
   "execution_count": 9,
   "id": "ce9451b3-d73e-49aa-a478-9a4cf1b4ff7c",
   "metadata": {},
   "outputs": [],
   "source": [
    "# from monsite.models import Book"
   ]
  },
  {
   "cell_type": "code",
   "execution_count": 10,
   "id": "c5b343b4-28e4-427c-8ef7-8ac507e1c3d6",
   "metadata": {},
   "outputs": [],
   "source": [
    "from django.contrib.auth import get_user_model\n",
    "\n",
    "User = get_user_model()\n"
   ]
  },
  {
   "cell_type": "code",
   "execution_count": 11,
   "id": "ab7da463-de80-415d-a0aa-01d0ed0f246a",
   "metadata": {},
   "outputs": [
    {
     "data": {
      "text/plain": [
       "<User: admin>"
      ]
     },
     "execution_count": 11,
     "metadata": {},
     "output_type": "execute_result"
    }
   ],
   "source": [
    "User.objects.create_superuser('admin', 'a@b.ca', 'admin123')"
   ]
  },
  {
   "cell_type": "code",
   "execution_count": 12,
   "id": "e6a39d5e-a7e5-4eac-a8fd-8473721aa9d3",
   "metadata": {},
   "outputs": [
    {
     "data": {
      "text/plain": [
       "<QuerySet [<User: admin>]>"
      ]
     },
     "execution_count": 12,
     "metadata": {},
     "output_type": "execute_result"
    }
   ],
   "source": [
    "User.objects.all()"
   ]
  },
  {
   "cell_type": "code",
   "execution_count": null,
   "id": "f3c1d644-f4a1-4b6d-bd21-eed76e7e7dbf",
   "metadata": {},
   "outputs": [],
   "source": []
  }
 ],
 "metadata": {
  "kernelspec": {
   "display_name": "Python 3 (ipykernel)",
   "language": "python",
   "name": "python3"
  },
  "language_info": {
   "codemirror_mode": {
    "name": "ipython",
    "version": 3
   },
   "file_extension": ".py",
   "mimetype": "text/x-python",
   "name": "python",
   "nbconvert_exporter": "python",
   "pygments_lexer": "ipython3",
   "version": "3.8.13"
  }
 },
 "nbformat": 4,
 "nbformat_minor": 5
}
