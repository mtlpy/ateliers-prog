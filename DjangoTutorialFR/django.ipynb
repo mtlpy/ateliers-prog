{
 "cells": [
  {
   "cell_type": "markdown",
   "id": "4eaa67be-9e54-470b-bc8e-f3974f2d6ee6",
   "metadata": {},
   "source": [
    "# Soirée de prog #7: applications web avec Django\n",
    "\n",
    "2022-10-24, 19h00 à 21h00 EDT\n",
    "\n",
    "![](https://www.fullstackpython.com/img/logos/django.png)\n",
    "\n",
    "\n",
    "Voir [ce document](https://docs.google.com/document/d/1VA6s5UpuEk_qc7MACX_XK1KyuGm1IWu7CF4p420vR58/edit) pour le programme détaillé de ce qui nous allons faire aujoud'hui."
   ]
  },
  {
   "cell_type": "markdown",
   "id": "1d81fa79-6bc5-46ff-b7aa-ce5f518e2ed8",
   "metadata": {},
   "source": [
    "Cet atelier portera sur la création de sites Web alimenté par une base de données à l'aide du framework [Django](https://fr.wikipedia.org/wiki/Django_(framework)). Nous verrons les étapes de la création d'une application web simple à partir de zéro.\n",
    "\n",
    "\n",
    "#### Objectif general\n",
    "\n",
    "Chacun de nous va créer un site personnel avec une liste de recommandations de livres.\n"
   ]
  },
  {
   "cell_type": "markdown",
   "id": "ad03f624-020d-4a5a-8800-58bc55cc3acd",
   "metadata": {},
   "source": [
    " "
   ]
  },
  {
   "cell_type": "markdown",
   "id": "b0f41100-84c8-4a3b-a95e-b46131be4b89",
   "metadata": {},
   "source": [
    "### Exemples de commandes"
   ]
  },
  {
   "cell_type": "code",
   "execution_count": 1,
   "id": "50f3e896-4510-4eb1-b4e6-caf543ff0306",
   "metadata": {},
   "outputs": [
    {
     "data": {
      "text/plain": [
       "5"
      ]
     },
     "execution_count": 1,
     "metadata": {},
     "output_type": "execute_result"
    }
   ],
   "source": [
    "# Python\n",
    "2+3"
   ]
  },
  {
   "cell_type": "code",
   "execution_count": 2,
   "id": "eb2d48e3-b1ee-4f6e-a299-249dfd27fb56",
   "metadata": {},
   "outputs": [
    {
     "data": {
      "text/plain": [
       "'/Users/ivan/Desktop/djTMP'"
      ]
     },
     "execution_count": 2,
     "metadata": {},
     "output_type": "execute_result"
    }
   ],
   "source": [
    "# IPython magic\n",
    "%pwd"
   ]
  },
  {
   "cell_type": "code",
   "execution_count": 3,
   "id": "7a85d7e4-b10c-4e0e-aa1c-384149db65df",
   "metadata": {},
   "outputs": [],
   "source": [
    "# System shell command pour créer undossier\n",
    "!mkdir undossier"
   ]
  },
  {
   "cell_type": "code",
   "execution_count": 4,
   "id": "1613c430-9866-405d-b6dd-0af3208da1ee",
   "metadata": {},
   "outputs": [],
   "source": [
    "# System shell command pour effacer undossier\n",
    "!rmdir undossier"
   ]
  },
  {
   "cell_type": "code",
   "execution_count": null,
   "id": "c9abd115-fa7e-451d-b53d-39103d59906d",
   "metadata": {},
   "outputs": [],
   "source": [
    "# make sure we're in the right place\n",
    "import os\n",
    "assert 'DjangoTutorialFR' == os.path.basename(os.getcwd()), \"Vous devez être dans le folder DjangoTutorialFR\""
   ]
  },
  {
   "cell_type": "code",
   "execution_count": null,
   "id": "18c0e326-82a2-4ddb-9b39-b44d2e769832",
   "metadata": {},
   "outputs": [],
   "source": []
  },
  {
   "cell_type": "code",
   "execution_count": null,
   "id": "62d27c3e-5a44-46eb-8b2a-466a4dab0a47",
   "metadata": {},
   "outputs": [],
   "source": []
  },
  {
   "cell_type": "code",
   "execution_count": null,
   "id": "58a88997-60ef-4b1d-b910-a5d28b4598f7",
   "metadata": {},
   "outputs": [],
   "source": []
  },
  {
   "cell_type": "markdown",
   "id": "feaef451-e644-438e-b1df-042c3e48b76c",
   "metadata": {},
   "source": [
    "### Explorez les dossiers, sous-dossiers, et fichiers qui ont été créés dans \"DjangoTutorialFR\""
   ]
  },
  {
   "cell_type": "markdown",
   "id": "f4e639cf-8b51-4bf5-94d0-c07826288e80",
   "metadata": {},
   "source": [
    "* Nous avons déjà mis en place un projet Django monproj et une application qui va contenir le code pour notre site web à l'intérieur du projet.\n",
    "  * Les commandes que j'ai utilisé pour créer ce projet sont:\n",
    "    * !django-admin startproject monproj\n",
    "    * %cd monproj\n",
    "    * !django-admin startapp monsite\n",
    "  * Vous n'avez pas besoin de rouler les commandes plus haut --- on a fait ça pour vous, dans le but que tout le monde ait la même structure des répertoires et pour faciliter l'atelier. Vous pouvez optionellement regarder [cette vidéo](https://www.youtube.com/watch?v=vKdRWgWu3ac&list=PLGmu4KtWiH69NAzGNKMzth66WPf65Urpk&index=3&t=265s) pour plus d'info sur la création de nouveau projet."
   ]
  },
  {
   "cell_type": "markdown",
   "id": "4a6323ea-89f5-4ff4-8903-8b7ef487c374",
   "metadata": {},
   "source": [
    "Voici une fonction `tree` qu'on peut utiliser pour afficher l'arbres des répertoires."
   ]
  },
  {
   "cell_type": "code",
   "execution_count": 6,
   "id": "f6832662-5177-4329-8442-c2b12cdb5527",
   "metadata": {},
   "outputs": [],
   "source": [
    "import os\n",
    "\n",
    "def tree():\n",
    "    \"\"\"Helper function that prints the filesystem tree.\"\"\"\n",
    "    ignorables = [\"__pycache__\", \".gitignore\", \".DS_Store\", \".ipynb_checkpoints\", \".git\", \"venv\"]\n",
    "    for root, dirs, files in os.walk(\".\"):\n",
    "        path = root.split(os.sep)\n",
    "        if any(ign in path for ign in ignorables):\n",
    "            continue\n",
    "        indent = \"    \"\n",
    "        print((len(path) - 1) * indent, os.path.basename(root) + \"/\")\n",
    "        for file in files:\n",
    "            if file in ignorables:\n",
    "                continue\n",
    "            print(len(path) * indent, file)"
   ]
  },
  {
   "cell_type": "code",
   "execution_count": 8,
   "id": "4fb3414f-ba79-4145-93e5-6685b4d6195a",
   "metadata": {},
   "outputs": [],
   "source": [
    "# tree()"
   ]
  },
  {
   "cell_type": "markdown",
   "id": "80151320-444e-4538-9fb7-5178a31b85dd",
   "metadata": {},
   "source": [
    "Explications sur les réperoires..."
   ]
  },
  {
   "cell_type": "code",
   "execution_count": null,
   "id": "a34ed29b-2379-4989-ac37-e995e1f1b7ac",
   "metadata": {},
   "outputs": [],
   "source": []
  },
  {
   "cell_type": "code",
   "execution_count": null,
   "id": "090ef214-efbd-409d-a49f-674b92fa73c7",
   "metadata": {},
   "outputs": [],
   "source": []
  },
  {
   "cell_type": "markdown",
   "id": "26c03b4d-192c-4faa-abc6-c2e315f057f1",
   "metadata": {},
   "source": [
    "## Configurer le notebook pour les commades Django"
   ]
  },
  {
   "cell_type": "markdown",
   "id": "b8a5db71-d98d-407f-b559-baaeeb81a297",
   "metadata": {},
   "source": [
    "Tout d'abord, assurons nous d'être dans le répertoire `DjangoTutorialFR/monproj`."
   ]
  },
  {
   "cell_type": "code",
   "execution_count": 9,
   "id": "6b2b9b17-170a-451a-932d-00011e089aee",
   "metadata": {},
   "outputs": [
    {
     "data": {
      "text/plain": [
       "'/Users/ivan/Desktop/djTMP'"
      ]
     },
     "execution_count": 9,
     "metadata": {},
     "output_type": "execute_result"
    }
   ],
   "source": [
    "%pwd"
   ]
  },
  {
   "cell_type": "code",
   "execution_count": 10,
   "id": "569114be-5b51-46d5-bf49-228d3fe2a218",
   "metadata": {},
   "outputs": [
    {
     "name": "stdout",
     "output_type": "stream",
     "text": [
      "/Users/ivan/Desktop/djTMP/monproj\n"
     ]
    }
   ],
   "source": [
    "%cd monproj"
   ]
  },
  {
   "cell_type": "markdown",
   "id": "249995c3-34ed-43b3-8e7b-38c424debd2a",
   "metadata": {},
   "source": [
    "Les commandes suivantes vont configurer (setup) Djagno pour qu'on puisse utiliser les composantes de Django dans ce notebook."
   ]
  },
  {
   "cell_type": "code",
   "execution_count": 11,
   "id": "35902446-af6f-46b7-ad34-290492a3743d",
   "metadata": {},
   "outputs": [],
   "source": [
    "import django\n",
    "import os\n",
    "import sys\n",
    "\n",
    "sys.path.insert(0, os.getcwd())\n",
    "os.environ[\"DJANGO_SETTINGS_MODULE\"] = \"monproj.settings\"\n",
    "os.environ[\"DJANGO_ALLOW_ASYNC_UNSAFE\"] = \"true\"\n",
    "django.setup()"
   ]
  },
  {
   "cell_type": "markdown",
   "id": "406e7b1d-d639-4724-80cd-450e3559acf8",
   "metadata": {},
   "source": [
    "On va maintenant tester que la commade `django.setup()` a fonctionné en verifiant que `monsite` est dans la liste `settings.INSTALLED_APPS`."
   ]
  },
  {
   "cell_type": "code",
   "execution_count": 12,
   "id": "a2c10516-d970-4b77-bb7d-4484b80bf9b9",
   "metadata": {},
   "outputs": [
    {
     "data": {
      "text/plain": [
       "['django.contrib.admin',\n",
       " 'django.contrib.auth',\n",
       " 'django.contrib.contenttypes',\n",
       " 'django.contrib.sessions',\n",
       " 'django.contrib.messages',\n",
       " 'django.contrib.staticfiles',\n",
       " 'monsite']"
      ]
     },
     "execution_count": 12,
     "metadata": {},
     "output_type": "execute_result"
    }
   ],
   "source": [
    "from django.conf import settings\n",
    "settings.INSTALLED_APPS"
   ]
  },
  {
   "cell_type": "code",
   "execution_count": null,
   "id": "0572eb71-e110-4401-855c-2cccb8752c5a",
   "metadata": {},
   "outputs": [],
   "source": []
  },
  {
   "cell_type": "markdown",
   "id": "94111e63-2a85-4860-baa4-6b72605b79b7",
   "metadata": {},
   "source": [
    "## Étape 2: Création d'une vue"
   ]
  },
  {
   "cell_type": "markdown",
   "id": "42cc113d-1edc-497b-9486-f187577310a7",
   "metadata": {},
   "source": [
    "#### Verifications en utilisant du code\n",
    "\n",
    "La libraries Python `requests` nous permet de faire la même chose que font les fureteurs web dans du code."
   ]
  },
  {
   "cell_type": "code",
   "execution_count": null,
   "id": "b3082e91-0f97-40b4-bc67-9d6f8d4980b2",
   "metadata": {},
   "outputs": [],
   "source": [
    "import requests\n",
    "\n",
    "response = requests.get(\"http://localhost:8000/hello/\")\n",
    "print(response.text)"
   ]
  },
  {
   "cell_type": "code",
   "execution_count": null,
   "id": "bc7a869f-2257-495f-b2bd-08f53aa8c4b9",
   "metadata": {},
   "outputs": [],
   "source": [
    "# response.headers"
   ]
  },
  {
   "cell_type": "markdown",
   "id": "a90aca11-d368-4572-aad1-102336486108",
   "metadata": {},
   "source": [
    "#### Verifications en utilisant Postman\n",
    "\n",
    "(demo si temps)\n"
   ]
  },
  {
   "cell_type": "code",
   "execution_count": null,
   "id": "fcc409d2-9f5f-4c32-8d69-79f2fd58a5b7",
   "metadata": {},
   "outputs": [],
   "source": []
  },
  {
   "cell_type": "code",
   "execution_count": null,
   "id": "3e7a846a-0298-48df-9e98-38ec753dc4d0",
   "metadata": {},
   "outputs": [],
   "source": []
  },
  {
   "cell_type": "markdown",
   "id": "05a09cf6-4686-4ab5-b43a-05f80d7f4cce",
   "metadata": {},
   "source": [
    "Test URLs:Expected:\n",
    "\n",
    "* [http://localhost:8000/hello/?nom=Julie](http://localhost:8000/hello/?nom=Julie)\"Salut Julie\"\n",
    "* [http://localhost:8000/hello/](http://localhost:8000/hello/)\"Salut Montréal!\"\n",
    "* [http://localhost:8000/hello/?aa=ff](http://localhost:8000/hello/?aa=ff)\"Salut Montréal!\"  \n",
    "\n",
    "[Solution pour l'exercice 2](https://github.com/mtlpy/ateliers-prog/commit/7b47c82dec65709c9c0be5c34a335d4737d0ec41)  \n",
    "  \n",
    "  \n",
    "  \n",
    "  \n",
    "  \n",
    "  "
   ]
  },
  {
   "cell_type": "code",
   "execution_count": null,
   "id": "1524cf87-9efd-4e8b-bec4-ae7a4534d21d",
   "metadata": {},
   "outputs": [],
   "source": [
    "import requests\n",
    "\n",
    "response = requests.get(\"http://localhost:8000/hello/?nom=Julie\")\n",
    "print(response.text)"
   ]
  },
  {
   "cell_type": "markdown",
   "id": "3fd6bd71-d7ef-4c91-bf5e-377a416b628b",
   "metadata": {},
   "source": [
    "----"
   ]
  },
  {
   "cell_type": "markdown",
   "id": "c75623d7-f83a-45f3-bd2a-6385c7b6c022",
   "metadata": {},
   "source": [
    "Si vous avez complété l'[Exercice 1](https://docs.google.com/document/d/1VA6s5UpuEk_qc7MACX_XK1KyuGm1IWu7CF4p420vR58/edit#heading=h.xgby6tildtpa) alors vous savez l'essentiel de ce que c'est de créer une application web!\n",
    "\n",
    "Le reste c'est juste des détails!  \n",
    "\n",
    "Nous allons maintenant regarder deux \"détails\" très importants dans les étapes 3 et 4\\.  \n",
    "  \n",
    "  \n",
    "  \n",
    "  "
   ]
  },
  {
   "cell_type": "markdown",
   "id": "951160b4-5a21-4b73-aede-535d8b48537f",
   "metadata": {},
   "source": [
    "## Étape 3: Utiliser les gabarits HTML pour afficher les pages"
   ]
  },
  {
   "cell_type": "markdown",
   "id": "c79020b8-ea01-49cb-b610-d83fd89ab328",
   "metadata": {},
   "source": [
    "#### Test interactif du gabarit `\"homepage.html\"`"
   ]
  },
  {
   "cell_type": "code",
   "execution_count": null,
   "id": "e57b2325-6d85-4808-ba6f-64bb82849a24",
   "metadata": {},
   "outputs": [],
   "source": [
    "from django.template.loader import get_template\n",
    "\n",
    "# aller chercher le template\n",
    "template = get_template(\"homepage.html\")\n",
    "\n",
    "# valeurs pour le remplire\n",
    "context = {\n",
    "    \"title\": \"le titre\",\n",
    "    \"pitch\": \"le pitch\",\n",
    "}\n",
    "\n",
    "# remplir le template avec les veleurs pour obtenir le HTML final\n",
    "html = template.render(context)\n",
    "\n",
    "# print(html)"
   ]
  },
  {
   "cell_type": "markdown",
   "id": "7f260fa4-0c40-4dce-8c6f-42b239fe825d",
   "metadata": {},
   "source": [
    "----"
   ]
  },
  {
   "cell_type": "markdown",
   "id": "6ffeb106-ddc5-406c-8152-0d654c47f694",
   "metadata": {},
   "source": [
    "Le site web de votre liste de livres est quasiment prêt!\n",
    "\n",
    "Il faudrait juste ajouter la liste des livres ;)"
   ]
  },
  {
   "cell_type": "code",
   "execution_count": null,
   "id": "549382f1-bddd-484a-986a-152efd79b48b",
   "metadata": {},
   "outputs": [],
   "source": []
  },
  {
   "cell_type": "code",
   "execution_count": null,
   "id": "f537a779-3cb7-4da4-94e3-2e5fa7a9e4be",
   "metadata": {},
   "outputs": [],
   "source": []
  },
  {
   "cell_type": "code",
   "execution_count": null,
   "id": "4fac31fa-4d1b-4a9f-b1cb-eb9b297032ac",
   "metadata": {},
   "outputs": [],
   "source": []
  },
  {
   "cell_type": "code",
   "execution_count": null,
   "id": "10ab7c77-de47-4722-a9c2-e7331ce0b6e9",
   "metadata": {},
   "outputs": [],
   "source": []
  },
  {
   "cell_type": "markdown",
   "id": "16023d36-537b-48f5-ac24-f51e4853cf23",
   "metadata": {
    "tags": []
   },
   "source": [
    "### Étape 4: Créer et lire des données stockées dans une base de données\n"
   ]
  },
  {
   "cell_type": "markdown",
   "id": "14ba0d89-0cf2-4c36-84d6-1394b89930df",
   "metadata": {},
   "source": [
    "### Un peu de théorie sur les bases de données...\n",
    "\n",
    "* les bases de données (database ou DB en anglais) sont une façon d'enregistrer les données de façon structurée\n",
    "* les bases de données les plus souvent utilisées sont PostgreSQL, MySQL, et sqlite3\n",
    "  * Notez que tous ces noms contiennent \"SQL\" qui est un acronyme pour Structured Query Language --- c'est le langage utilisé pour accéder (SELECT), créer (CREATE), ou modifier (UPDATES) les données\n",
    "* une \"table\" dans une base de données est un peu comme un tableur (penser LibreOffice)\n",
    "  * chaque table est associée à un \"schéma\" qui définit le noms des colonnes et le types d'information qu'on peut y placer  \n",
    "  "
   ]
  },
  {
   "cell_type": "markdown",
   "id": "68338137-e117-4432-aa32-e9174bbf6519",
   "metadata": {},
   "source": [
    "### Créer des objets `Book`"
   ]
  },
  {
   "cell_type": "code",
   "execution_count": null,
   "id": "0dd3a01a-fa98-4b0f-827e-a89389d96cd6",
   "metadata": {},
   "outputs": [],
   "source": [
    "from monsite.models import Book"
   ]
  },
  {
   "cell_type": "code",
   "execution_count": null,
   "id": "8d4b78d9-97e7-4012-847a-27a09ad1e122",
   "metadata": {},
   "outputs": [],
   "source": [
    "Book.objects.all()"
   ]
  },
  {
   "cell_type": "code",
   "execution_count": null,
   "id": "5093e9d5-1ea4-445b-a125-08b67761119b",
   "metadata": {},
   "outputs": [],
   "source": [
    "book1 = Book.objects.create(title=\"Titre du livre\", author=\"Auteur 1\")\n",
    "book1.save()"
   ]
  },
  {
   "cell_type": "code",
   "execution_count": null,
   "id": "8102abaa-cfaa-4bea-9566-52d314d39535",
   "metadata": {},
   "outputs": [],
   "source": [
    "book2 = Book.objects.create(title=\"autre titre\", author=\"Auteur 2\")\n",
    "book2.save()"
   ]
  },
  {
   "cell_type": "code",
   "execution_count": null,
   "id": "a00bcd68-3879-44cf-858f-c4aaabe331e5",
   "metadata": {},
   "outputs": [],
   "source": [
    "book3 = Book.objects.create(title=\"titre 3\", author=\"Auteur 3\", description=\"Ceci est un bon livre\")\n",
    "book3.save()"
   ]
  },
  {
   "cell_type": "code",
   "execution_count": null,
   "id": "c7fe7384-1c81-4f13-bd59-e36cc865f4ab",
   "metadata": {},
   "outputs": [],
   "source": [
    "books = Book.objects.all()\n",
    "books"
   ]
  },
  {
   "cell_type": "code",
   "execution_count": null,
   "id": "e48c4d54-0501-4402-81f0-11eb173d6c00",
   "metadata": {},
   "outputs": [],
   "source": [
    "book = books[2]\n",
    "book"
   ]
  },
  {
   "cell_type": "code",
   "execution_count": null,
   "id": "61153685-984c-475f-bed9-30d515f11ff5",
   "metadata": {},
   "outputs": [],
   "source": [
    "book.title, book.author, book.description"
   ]
  },
  {
   "cell_type": "markdown",
   "id": "091a6201-b99a-4e09-98d6-24bc163b908d",
   "metadata": {},
   "source": [
    "#### Verification\n",
    "Vérifiez que les livres sont créés en roulant les commandes"
   ]
  },
  {
   "cell_type": "code",
   "execution_count": null,
   "id": "b8d864f9-553d-4cc8-b981-766ea7602d3a",
   "metadata": {},
   "outputs": [],
   "source": [
    "books = Book.objects.all()\n",
    "books"
   ]
  },
  {
   "cell_type": "code",
   "execution_count": null,
   "id": "ef82abe2-fdc0-4a12-8283-2fd16ec3e4de",
   "metadata": {},
   "outputs": [],
   "source": []
  },
  {
   "cell_type": "code",
   "execution_count": null,
   "id": "e24aeeb9-e36c-48df-813e-d05e4c71ec97",
   "metadata": {},
   "outputs": [],
   "source": []
  },
  {
   "cell_type": "code",
   "execution_count": null,
   "id": "96f64da9-4d6b-46fb-88af-b6b909e36451",
   "metadata": {},
   "outputs": [],
   "source": []
  },
  {
   "cell_type": "code",
   "execution_count": null,
   "id": "115f42e5-0aff-4de3-97d9-1514a4951a76",
   "metadata": {},
   "outputs": [],
   "source": []
  }
 ],
 "metadata": {
  "kernelspec": {
   "display_name": "Python 3 (ipykernel)",
   "language": "python",
   "name": "python3"
  },
  "language_info": {
   "codemirror_mode": {
    "name": "ipython",
    "version": 3
   },
   "file_extension": ".py",
   "mimetype": "text/x-python",
   "name": "python",
   "nbconvert_exporter": "python",
   "pygments_lexer": "ipython3",
   "version": "3.9.10"
  }
 },
 "nbformat": 4,
 "nbformat_minor": 5
}
