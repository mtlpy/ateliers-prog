{
 "cells": [
  {
   "cell_type": "markdown",
   "id": "4eaa67be-9e54-470b-bc8e-f3974f2d6ee6",
   "metadata": {},
   "source": [
    "\n",
    "# Soirée de prog #5 option B: applications web avec Django\n",
    "\n",
    "2022-06-27, 19h00 à 21h00 EDT\n",
    "\n",
    "![](https://www.fullstackpython.com/img/logos/django.png)\n",
    "\n",
    "\n",
    "\n",
    "Voir [ce document](https://docs.google.com/document/d/1VA6s5UpuEk_qc7MACX_XK1KyuGm1IWu7CF4p420vR58/edit) pour le programme détaillé de ce qui nous allons faire aujoud'hui, et voir [le document parent](https://docs.google.com/document/d/1Thp26TK1AAWGzq_jtIlJ_xTfZq5khTy4NYh_au_A3Qo/edit) pour les infos de l'evenment en general.\n"
   ]
  },
  {
   "cell_type": "markdown",
   "id": "1d81fa79-6bc5-46ff-b7aa-ce5f518e2ed8",
   "metadata": {},
   "source": [
    "Cet atelier portera sur la création de sites Web alimenté par une base de données à l'aide du framework [Django](https://fr.wikipedia.org/wiki/Django_(framework)). Nous verrons les étapes de la création d'une application web simple à partir de zéro.\n",
    "\n",
    "\n",
    "#### Objectif general\n",
    "\n",
    "Chacun de nous va créer un site personnel avec une liste de recommandations de livres.\n",
    "\n",
    "#### Prérequis\n",
    "\n",
    "* Connaissances de base de Python\n",
    "* Poste de travail (desktop ou laptop, windows, linux ou mac)\n",
    "* Fureteur web (eg. Firefox)  \n",
    "* Téléchargez et installez l'application [JupyterLab Desktop](https://github.com/jupyterlab/jupyterlab-desktop#download) sur votre ordinateur\n"
   ]
  },
  {
   "cell_type": "markdown",
   "id": "ad03f624-020d-4a5a-8800-58bc55cc3acd",
   "metadata": {},
   "source": [
    "## Étape 0: Préparation de l'environnement de programmation\n",
    "\n",
    "* Téléchargez et Installez [JupyterLab Desktop](https://github.com/jupyterlab/jupyterlab-desktop#download) (si ce n'a pas déjà été fait)\n",
    "* Ouvrir l'application JupyterLab Desktop\n",
    "* Naviguez en utilisant le menu à gauche vers un dossier où nous allons travailler  \n",
    "  (eg. `C:\\\\Users\\<nom>\\Documents` sous windows our `/home/<nom>/Documents` sous UNIX)\n",
    "* Téléchargez le fichier zip suivant sauvegardez le dans le même dossier\n",
    "* Désarchiver le fichier\n",
    "  * vous devriez voir le dossier \"DjangoTutorialFR\" apparaître (refresh au besoin)\n",
    "* Ouvrez le dossier \"DjangoTutorialFR\" \n",
    "  * vous devriez voir trois notebooks et un répertoire monproj\n",
    "* Ouvrez le notebook django.ipynb\n",
    "  * Le notebook django.ipynb sera notre principal lieu de travail. Nous allons l'utiliser pour exécuter trois sortes de commandes:\n",
    "    * \\[1\\]: `2+3`  (commandes Python)\n",
    "    * \\[1\\]: `%pwd` (commandes «[magiques](https://ipython.readthedocs.io/en/stable/interactive/magics.html)» de IPython)\n",
    "    * \\[1\\]: `!mkdir mondossier` (commandes système)"
   ]
  },
  {
   "cell_type": "markdown",
   "id": "b0f41100-84c8-4a3b-a95e-b46131be4b89",
   "metadata": {},
   "source": [
    "### Exemples de commandes"
   ]
  },
  {
   "cell_type": "code",
   "execution_count": 1,
   "id": "50f3e896-4510-4eb1-b4e6-caf543ff0306",
   "metadata": {},
   "outputs": [
    {
     "data": {
      "text/plain": [
       "5"
      ]
     },
     "execution_count": 1,
     "metadata": {},
     "output_type": "execute_result"
    }
   ],
   "source": [
    "# Python\n",
    "2+3"
   ]
  },
  {
   "cell_type": "code",
   "execution_count": 2,
   "id": "eb2d48e3-b1ee-4f6e-a299-249dfd27fb56",
   "metadata": {},
   "outputs": [
    {
     "data": {
      "text/plain": [
       "'/Users/ivan/Projects/Minireference/software/ateliers-prog/DjangoTutorialFR'"
      ]
     },
     "execution_count": 2,
     "metadata": {},
     "output_type": "execute_result"
    }
   ],
   "source": [
    "# IPython magic\n",
    "%pwd"
   ]
  },
  {
   "cell_type": "code",
   "execution_count": 3,
   "id": "7a85d7e4-b10c-4e0e-aa1c-384149db65df",
   "metadata": {},
   "outputs": [],
   "source": [
    "# System shell command pour créer undossier\n",
    "!mkdir undossier"
   ]
  },
  {
   "cell_type": "code",
   "execution_count": 4,
   "id": "1613c430-9866-405d-b6dd-0af3208da1ee",
   "metadata": {},
   "outputs": [],
   "source": [
    "# System shell command pour effacer undossier\n",
    "!rmdir undossier"
   ]
  },
  {
   "cell_type": "code",
   "execution_count": 5,
   "id": "c9abd115-fa7e-451d-b53d-39103d59906d",
   "metadata": {},
   "outputs": [],
   "source": [
    "# make sure we're in the right place\n",
    "import os\n",
    "assert 'DjangoTutorialFR' == os.path.basename(os.getcwd()), \"Vous devez être dans le folder DjangoTutorialFR\""
   ]
  },
  {
   "cell_type": "code",
   "execution_count": null,
   "id": "18c0e326-82a2-4ddb-9b39-b44d2e769832",
   "metadata": {},
   "outputs": [],
   "source": []
  },
  {
   "cell_type": "code",
   "execution_count": null,
   "id": "62d27c3e-5a44-46eb-8b2a-466a4dab0a47",
   "metadata": {},
   "outputs": [],
   "source": []
  },
  {
   "cell_type": "markdown",
   "id": "fce3695d-e278-4bc6-a9e3-d1c9dc9f3438",
   "metadata": {},
   "source": [
    "## Étape 1: Installation de Django"
   ]
  },
  {
   "cell_type": "markdown",
   "id": "9fededac-f23c-4c0c-9176-6e03c897b53c",
   "metadata": {},
   "source": [
    "### Installer Django\n",
    "Roulez la commande  `%pip install django` pour installer le package django."
   ]
  },
  {
   "cell_type": "code",
   "execution_count": 6,
   "id": "0572eb71-e110-4401-855c-2cccb8752c5a",
   "metadata": {},
   "outputs": [
    {
     "name": "stdout",
     "output_type": "stream",
     "text": [
      "Requirement already satisfied: django in /Users/ivan/.local/lib/python3.8/site-packages (4.0.4)\n",
      "Requirement already satisfied: asgiref<4,>=3.4.1 in /Users/ivan/.local/lib/python3.8/site-packages (from django) (3.5.1)\n",
      "Requirement already satisfied: backports.zoneinfo in /Users/ivan/.local/lib/python3.8/site-packages (from django) (0.2.1)\n",
      "Requirement already satisfied: sqlparse>=0.2.2 in /Users/ivan/.local/lib/python3.8/site-packages (from django) (0.4.2)\n",
      "Note: you may need to restart the kernel to use updated packages.\n"
     ]
    }
   ],
   "source": [
    "%pip install django"
   ]
  },
  {
   "cell_type": "markdown",
   "id": "feaef451-e644-438e-b1df-042c3e48b76c",
   "metadata": {},
   "source": [
    "### Explorez les dossiers, sous-dossiers, et fichiers qui ont été créés dans \"DjangoTutorialFR\""
   ]
  },
  {
   "cell_type": "markdown",
   "id": "f4e639cf-8b51-4bf5-94d0-c07826288e80",
   "metadata": {},
   "source": [
    "* Nous avons déjà mis en place un projet Django monproj et une application qui va contenir le code pour notre site web à l'intérieur du projet.\n",
    "  * Les commandes que j'ai utilisé pour créer ce projet sont:\n",
    "    * !django-admin startproject monproj\n",
    "    * %cd monproj\n",
    "    * !django-admin startapp monsite\n",
    "  * Vous n'avez pas besoin de rouler les commandes plus haut --- on a fait ça pour vous, dans le but que tout le monde ait la même structure des répertoires et pour faciliter l'atelier. Vous pouvez optionellement regarder [cette vidéo](https://www.youtube.com/watch?v=vKdRWgWu3ac&list=PLGmu4KtWiH69NAzGNKMzth66WPf65Urpk&index=3&t=265s) pour plus d'info sur la création de nouveau projet."
   ]
  },
  {
   "cell_type": "markdown",
   "id": "4a6323ea-89f5-4ff4-8903-8b7ef487c374",
   "metadata": {},
   "source": [
    "Voici une fonction `tree` qu'on peut utiliser pour afficher l'arbres des répertoires."
   ]
  },
  {
   "cell_type": "code",
   "execution_count": 7,
   "id": "f6832662-5177-4329-8442-c2b12cdb5527",
   "metadata": {},
   "outputs": [],
   "source": [
    "import os\n",
    "\n",
    "def tree():\n",
    "    \"\"\"Helper function that prints filesystem tree.\"\"\"\n",
    "    ignorables = [\"__pycache__\", \".gitignore\", \".DS_Store\", \".ipynb_checkpoints\", \".git\"]\n",
    "    for root, dirs, files in os.walk(\".\"):\n",
    "        path = root.split(os.sep)\n",
    "        if any(ign in path for ign in ignorables):\n",
    "            continue\n",
    "        indent = \"    \"\n",
    "        print((len(path) - 1) * indent, os.path.basename(root) + \"/\")\n",
    "        for file in files:\n",
    "            if file in ignorables:\n",
    "                continue\n",
    "            print(len(path) * indent, file)"
   ]
  },
  {
   "cell_type": "code",
   "execution_count": 8,
   "id": "4fb3414f-ba79-4145-93e5-6685b4d6195a",
   "metadata": {},
   "outputs": [
    {
     "name": "stdout",
     "output_type": "stream",
     "text": [
      " ./\n",
      "     django.ipynb\n",
      "     01_b_runserver.ipynb\n",
      "     monproj/\n",
      "         db.sqlite3\n",
      "         manage.py\n",
      "         monproj/\n",
      "             __init__.py\n",
      "             settings.py\n",
      "             urls.py\n",
      "             wsgi.py\n",
      "         monsite/\n",
      "             models.py\n",
      "             __init__.py\n",
      "             apps.py\n",
      "             admin.py\n",
      "             tests.py\n",
      "             views.py\n",
      "             migrations/\n",
      "                 __init__.py\n",
      "                 0001_initial.py\n",
      "             templates/\n",
      "                 homepage.html\n",
      "                 books.html\n"
     ]
    }
   ],
   "source": [
    "tree()"
   ]
  },
  {
   "cell_type": "markdown",
   "id": "80151320-444e-4538-9fb7-5178a31b85dd",
   "metadata": {},
   "source": [
    "Explications sur les réperoires..."
   ]
  },
  {
   "cell_type": "markdown",
   "id": "af4cdb64-a0b3-4c71-bbe1-83b7334f2733",
   "metadata": {},
   "source": [
    "#### Exercice 1: rouler la commande \\`runserver\\` sans erreurs\n",
    "\n",
    "Mac et Linux: ouvrez le notebook [01_b_runserver.ipynb](./01_b_runserver.ipynb) et suivez les instructions.\n",
    "\n",
    "Windows: ouvrez un terminal et ecivez la commande `python manage.py runserver`."
   ]
  },
  {
   "cell_type": "code",
   "execution_count": null,
   "id": "a34ed29b-2379-4989-ac37-e995e1f1b7ac",
   "metadata": {},
   "outputs": [],
   "source": []
  },
  {
   "cell_type": "code",
   "execution_count": null,
   "id": "090ef214-efbd-409d-a49f-674b92fa73c7",
   "metadata": {},
   "outputs": [],
   "source": []
  },
  {
   "attachments": {
    "2d78ba97-2354-4355-bb5c-e40f33c4234c.png": {
     "image/png": "[encoded data removed]"
    },
    "c9868c6a-341e-461e-993c-b91274c67c43.png": {
     "image/png": "[encoded data removed]"
    }
   },
   "cell_type": "markdown",
   "id": "6ba8d493-ac25-4985-9bdd-c0780e9d2f5f",
   "metadata": {},
   "source": [
    "### Un peu de théorie sur les applications web ... ... et terminologie de Django   \n",
    "\n",
    "\n",
    "![web_dev_annotated.png](attachment:c9868c6a-341e-461e-993c-b91274c67c43.png) ![Django_flowchart.png](attachment:2d78ba97-2354-4355-bb5c-e40f33c4234c.png)\n",
    "\n",
    "* Site web \"statique\" = fichier HTML que le server web relance lorsqu'un client web (eg. Firefox) le demande.\n",
    "* Sous le capot, la demande que fait Firefox au serveur suit un processus de \"requête - réponse\" (request-response) qui fait partie du protocole HTTP (hypertext transfer protocol).\n",
    "  * Firefox envoie un request GET vers le path /pageweb.html sur monsite.com\n",
    "  * Le serveur web qui roule sur monsite.com recoit la requête et répond avec le contenu de la page (qui est du code HTML la plupart du temps, mais peut être aussi un des données .json dans le contexte d'un API, ou des données binaires comme le contenu d'un autre type de fichier).\n",
    "  * Les détails varient selon les applications, mais l'idée générale reste la même: le client veut le contenu d'un resource e.g. /resources.ext, il fait un request **GET /resources.ext** au serveur, et le serveur lui répond avec ce contenu. \n",
    "  * Il n'y a vraiment pas de magie -- HTTP est juste une façon d'échanger des données entre deux ordinateurs\n",
    "* application web = programme qui répond au requêtes HTTP\n",
    "  * Contrairement aux sites web statiques, une application web peut répondre aux requêtes de façon dynamique, c-à-d n'est pas limitée à offrir la même réponse à chaque fois.\n",
    "  * Par exemple, la requête  **GET /posts**  envoyée le Jan 1st au serveur web du blogue de Julie vous montrera une liste de trous posts: Post3, Post2, Post1 qui sont disponibles à cette date (les pensées de Julie exprimées sans frame bleu oppressant).Le même requête  **GET /posts**  envoyée le Fev 1st montrera quatre posts: Post4, Post3, Post2, Post1, où Post4 est un nouvel article que Julie à écrit durant le mois de janvier.\n",
    "  * Les réponses dynamiques que le serveur renvoie au requêtes  **GET /posts** peuvent être générées en consultant la base de données associée au blog de Julie, qui contient tous les infos pour chaque post dans une \"table\" (structure de données similaire à ce qu'on peut voir dans un tableur comme LibreOffice--des rangées et des colonnes).\n",
    "  * Le processus d'extractions des données d'une base de données pour répondre à une requête web peut être implémenté dans n'importe quel langage de programmation, mais historiquement les langages utilisés le plus souvent sont: PHP, Python, JavaScript, etc. \n",
    "  * Dans cet atelier, nous allons utiliser Python pour écrire des fonctions qui répondent aux requêtes web.\n",
    "  * Le framework Django va nous aider ... chèque ben ça!  "
   ]
  },
  {
   "cell_type": "markdown",
   "id": "3e5caca7-149a-43a0-ba00-c5eafc7c5ee1",
   "metadata": {},
   "source": [
    "## Étape 2: Création d'une vue\n",
    "\n",
    "Création d'une vue = fonction Python dans  views.py qui répond à des request. Nous allons créer une vue qui répond par un message \"Salut Montréal!\" pour voir comment ça marche.\n",
    "\n",
    "* Créer une fonction hello dans [monproj/monproj/views.py](./monproj/monproj/views.py) qui:\n",
    "    - prend un l'objet `request` comme argument\n",
    "    - retourne un `HttpResponse` qui contient le message \"Salut Montréal!\"\n",
    "* Reliez la function hello à l'URL url http://localhost:8000/hello/ (`r'^hello/$'`) dans [monproj/monproj/urls.py](./monproj/monproj/urls.py)\n",
    "  * Le fichier [urls.py](./monproj/monproj/urls.py) agit comme un «[switchboard](http://www.rcsigs.ca/images/9/90/Switchboard_UC_10.jpg)» pour acheminer les requêtes aux fonctions\n",
    "* Voir [ce commit](https://github.com/mtlpy/ateliers-prog/commit/f1353442f166d4b6d4f005e754c1cef60671816f) pour le résultat de ces changements\n",
    "* Retournez dans le notebook [01_b_runserver.ipynb](./01_b_runserver.ipynb)\n",
    "  * assurez vous d'être àà bonne place:\n",
    "    * `%pwd` (doit finir par `DjangoTutorialFR/monproj/`)\n",
    "  * et roulez le serveur django\n",
    "    * `!./manage.py runserver`"
   ]
  },
  {
   "cell_type": "markdown",
   "id": "5b52fa14-9fad-48b7-97b9-f0fa137da75e",
   "metadata": {},
   "source": [
    "#### Verifications dans le fureteur\n",
    "* Ouvrez votre fureteur web à la page [http://localhost:8000/hello/](http://localhost:8000/hello)\n",
    "  * Vous devriez voir \"Salut Montréal!\"\n",
    "* Dans votre fureteur, ouvrez l'onglet «developer console»:\n",
    "  * Dans Firefox: `Ctrl Shift I` (sous Windows) ou `Ctrl Option I` (sous Mac)\n",
    "  * Dans Chrome: `Ctrl Shift J` (sous Windows) ou `Ctrl Option J` (sous Mac)\n",
    "  * Allez dans l'onglet Network et refaites la même requête\n",
    "  * Explorez les sous-onglets Request et Response  "
   ]
  },
  {
   "cell_type": "code",
   "execution_count": null,
   "id": "9665ec28-137e-47ce-84af-637f37dcdfde",
   "metadata": {},
   "outputs": [],
   "source": []
  },
  {
   "cell_type": "markdown",
   "id": "42cc113d-1edc-497b-9486-f187577310a7",
   "metadata": {},
   "source": [
    "#### Verifications en utilisant du code\n",
    "\n",
    "La libraries Python `requests` nous permet de faire la même chose que font les fureteurs web dans du code."
   ]
  },
  {
   "cell_type": "code",
   "execution_count": 18,
   "id": "b3082e91-0f97-40b4-bc67-9d6f8d4980b2",
   "metadata": {},
   "outputs": [
    {
     "name": "stdout",
     "output_type": "stream",
     "text": [
      "Salut Montréal!\n"
     ]
    }
   ],
   "source": [
    "import requests\n",
    "\n",
    "response = requests.get(\"http://localhost:8000/hello/\")\n",
    "print(response.text)"
   ]
  },
  {
   "cell_type": "code",
   "execution_count": 19,
   "id": "bc7a869f-2257-495f-b2bd-08f53aa8c4b9",
   "metadata": {},
   "outputs": [
    {
     "data": {
      "text/plain": [
       "{'Date': 'Mon, 27 Jun 2022 16:32:10 GMT', 'Server': 'WSGIServer/0.2 CPython/3.6.9', 'Content-Type': 'text/html; charset=utf-8', 'X-Frame-Options': 'SAMEORIGIN', 'Content-Length': '16'}"
      ]
     },
     "execution_count": 19,
     "metadata": {},
     "output_type": "execute_result"
    }
   ],
   "source": [
    "response.headers"
   ]
  },
  {
   "cell_type": "markdown",
   "id": "a90aca11-d368-4572-aad1-102336486108",
   "metadata": {},
   "source": [
    "#### Verifications en utilisant Postman\n",
    "\n",
    "(demo si temps)\n"
   ]
  },
  {
   "cell_type": "code",
   "execution_count": null,
   "id": "fcc409d2-9f5f-4c32-8d69-79f2fd58a5b7",
   "metadata": {},
   "outputs": [],
   "source": []
  },
  {
   "cell_type": "code",
   "execution_count": null,
   "id": "3e7a846a-0298-48df-9e98-38ec753dc4d0",
   "metadata": {},
   "outputs": [],
   "source": []
  },
  {
   "cell_type": "markdown",
   "id": "e3fd93a1-470f-4fc4-bcfb-75e41cbc0c25",
   "metadata": {},
   "source": [
    "#### Exercice 2: modifier la fonction hello = /hello/ pour qu'elle accepte un paramètre nom\n",
    "\n",
    "Fonctionnalité désirée:\n",
    "\n",
    "* a requête /hello/?nom=Juliedevrait retourner la réponse \"Salut Julie!\"\n",
    "* la requête /hello/   devrait retourner la réponse par défaut \"Salut Montréal!\"\n",
    "* la requête /hello/?aaa=bbb   devrait aussi retourner la réponse par défaut \"Salut Montréal!\"  \n",
    "\n",
    "Indices:\n",
    "\n",
    "* L'objet request à contient un dictionnaire Python GET qui est continent tout les paramètres dans l'URL de la requête GET,   e.g. si la requête est `/hello/?key=value` alors request.GET sera `{\"key\":\"value\"}`\n",
    "* Vous pouvez accéder les infos dans request.GET comme tout autre dict dans Python (les crochets `[]` pour demander la valeur pour une clé, e.g.  `request.GET[\"key\"]` retournera \"value\"\n",
    "* Une fois que vous avez extrait le nom de la personne, vous pouvez construire le message msg qui va dans la réponse HTTP de plusieures façons:\n",
    "  * `msg = \"Salut \" + nom + \"!\"`\n",
    "  * `msg = \"Salut {nom}!\".format(nom=nom)`\n",
    "  * `msg = f\"Salut {nom}!\"`\n",
    "\n",
    "Test URLs:Expected:\n",
    "\n",
    "* [http://localhost:8000/hello/?nom=Julie](http://localhost:8000/hello/?nom=Julie)\"Salut Julie\"\n",
    "* [http://localhost:8000/hello/](http://localhost:8000/hello/)\"Salut Montréal!\"\n",
    "* [http://localhost:8000/hello/?aa=ff](http://localhost:8000/hello/?aa=ff)\"Salut Montréal!\"  \n",
    "\n",
    "[Solution pour l'exercice 2](https://github.com/mtlpy/ateliers-prog/commit/7b47c82dec65709c9c0be5c34a335d4737d0ec41)  \n",
    "  \n",
    "  \n",
    "  \n",
    "  \n",
    "  \n",
    "  "
   ]
  },
  {
   "cell_type": "markdown",
   "id": "3fd6bd71-d7ef-4c91-bf5e-377a416b628b",
   "metadata": {},
   "source": [
    "----"
   ]
  },
  {
   "cell_type": "markdown",
   "id": "c75623d7-f83a-45f3-bd2a-6385c7b6c022",
   "metadata": {},
   "source": [
    "Si vous avez complété l'[Exercice 1](https://docs.google.com/document/d/1VA6s5UpuEk_qc7MACX_XK1KyuGm1IWu7CF4p420vR58/edit#heading=h.xgby6tildtpa) alors vous savez l'essentiel de ce que c'est de créer une application web!\n",
    "\n",
    "Le reste c'est juste des détails!  \n",
    "\n",
    "Nous allons maintenant regarder deux \"détails\" très importants dans les étapes 3 et 4\\.  \n",
    "  \n",
    "  \n",
    "  \n",
    "  "
   ]
  },
  {
   "cell_type": "markdown",
   "id": "951160b4-5a21-4b73-aede-535d8b48537f",
   "metadata": {},
   "source": [
    "## Étape 3: Utiliser les gabarits HTML pour afficher les pages\n",
    "\n",
    "Les réponses que renvoie notre application web pour l'URL /hello/ sont du texte simple (plain text), mais les sites web sont sensés retourner due code HTML (HypterText Markup Language) qui est le langage que les fureteurs web comprennent pour afficher le contenu riche (contenu structuré, metadata, entêtes, paragraphes, liens, images, etc.).  \n",
    "\n",
    "Nous pouvons utiliser les gabarits HTML (templates) pour créer des reponses HTML aux requêtes:\n",
    "\n",
    "* Créez un nouveau dossier `templates` dans dossier `monproj/monsite`\n",
    "* Sauvegardez le contenu de [ce lien](https://raw.githubusercontent.com/mtlpy/ateliers-prog/main/DjangoTutorialFR/monproj/monsite/templates/homepage.html) dans le fichier [monproj/monsite/templates/homepage.html](./monproj/monsite/templates/homepage.html)"
   ]
  },
  {
   "cell_type": "markdown",
   "id": "e2b76999-057a-4cbd-87f2-6fb2e85fbdd3",
   "metadata": {},
   "source": [
    "### Configurer le notebook pour les commades Django"
   ]
  },
  {
   "cell_type": "markdown",
   "id": "652730c2-fbca-486b-ac96-1819ae2e6357",
   "metadata": {},
   "source": [
    "Tout d'abord, assurons nous d'être dans le répertoire `DjangoTutorialFR/monproj`."
   ]
  },
  {
   "cell_type": "code",
   "execution_count": 20,
   "id": "6b2b9b17-170a-451a-932d-00011e089aee",
   "metadata": {},
   "outputs": [
    {
     "data": {
      "text/plain": [
       "'/Users/ivan/Projects/Minireference/software/ateliers-prog/DjangoTutorialFR'"
      ]
     },
     "execution_count": 20,
     "metadata": {},
     "output_type": "execute_result"
    }
   ],
   "source": [
    "%pwd"
   ]
  },
  {
   "cell_type": "code",
   "execution_count": 21,
   "id": "569114be-5b51-46d5-bf49-228d3fe2a218",
   "metadata": {},
   "outputs": [
    {
     "name": "stdout",
     "output_type": "stream",
     "text": [
      "/Users/ivan/Projects/Minireference/software/ateliers-prog/DjangoTutorialFR/monproj\n"
     ]
    }
   ],
   "source": [
    "%cd monproj"
   ]
  },
  {
   "cell_type": "markdown",
   "id": "b1ce8f09-eb92-4a6b-872b-b9736a529c34",
   "metadata": {},
   "source": [
    "Les commandes suivantes vont configurer (setup) Djagno pour qu'on puisse utiliser les composantes de Django dans ce notebook."
   ]
  },
  {
   "cell_type": "code",
   "execution_count": 22,
   "id": "35902446-af6f-46b7-ad34-290492a3743d",
   "metadata": {},
   "outputs": [],
   "source": [
    "import django\n",
    "import os\n",
    "import sys\n",
    "\n",
    "sys.path.insert(0, os.getcwd())\n",
    "os.environ[\"DJANGO_SETTINGS_MODULE\"] = \"monproj.settings\"\n",
    "os.environ[\"DJANGO_ALLOW_ASYNC_UNSAFE\"] = \"true\"\n",
    "django.setup()"
   ]
  },
  {
   "cell_type": "markdown",
   "id": "b29888e5-de27-4ea4-862d-0439e5014ab9",
   "metadata": {},
   "source": [
    "On va maintenant tester que la commade `django.setup()` a fonctionné en verifiant que `monsite` est dans la liste `settings.INSTALLED_APPS`."
   ]
  },
  {
   "cell_type": "code",
   "execution_count": 23,
   "id": "a2c10516-d970-4b77-bb7d-4484b80bf9b9",
   "metadata": {},
   "outputs": [
    {
     "data": {
      "text/plain": [
       "['django.contrib.admin',\n",
       " 'django.contrib.auth',\n",
       " 'django.contrib.contenttypes',\n",
       " 'django.contrib.sessions',\n",
       " 'django.contrib.messages',\n",
       " 'django.contrib.staticfiles',\n",
       " 'monsite']"
      ]
     },
     "execution_count": 23,
     "metadata": {},
     "output_type": "execute_result"
    }
   ],
   "source": [
    "from django.conf import settings\n",
    "settings.INSTALLED_APPS"
   ]
  },
  {
   "cell_type": "markdown",
   "id": "c79020b8-ea01-49cb-b610-d83fd89ab328",
   "metadata": {},
   "source": [
    "#### Test interactif du gabarit `\"homepage.html\"`"
   ]
  },
  {
   "cell_type": "code",
   "execution_count": 30,
   "id": "e57b2325-6d85-4808-ba6f-64bb82849a24",
   "metadata": {},
   "outputs": [],
   "source": [
    "from django.template.loader import get_template\n",
    "\n",
    "# aller chercher le template\n",
    "template = get_template(\"homepage.html\")\n",
    "\n",
    "# valeurs pour le remplire\n",
    "context = {\n",
    "    \"title\": \"le titre\",\n",
    "    \"pitch\": \"le pitch\",\n",
    "}\n",
    "\n",
    "# remplir le template avec les veleurs pour obtenir le HTML final\n",
    "html = template.render(context)\n",
    "\n",
    "# print(html)"
   ]
  },
  {
   "cell_type": "markdown",
   "id": "a785cfae-7fdb-410b-9266-72b4fd63805f",
   "metadata": {},
   "source": [
    "### Ajoutons la fonction `homepage`\n",
    "* Modifiez le fichier [monproj/monsite/views.py](./monproj/monsite/views.py) pour y ajouter la fonction `homepage`\n",
    "* Modifiez le fichier [monproj/monproj/urls.py pour](./monproj/monproj/urls.py) relier l'URL / (`r'^$'`) à la fonction homepage\n",
    "* Voir [ce commit](https://github.com/mtlpy/ateliers-prog/commit/fdd0b49836868714d1104249943caee3b1373f3b) pour la combinaison de ces changements"
   ]
  },
  {
   "cell_type": "markdown",
   "id": "170fc69c-75ab-4224-b902-6909398ebf5f",
   "metadata": {},
   "source": [
    "#### Verifications\n",
    "\n",
    "* Visitez [http://localhost:8000/](http://localhost:8000/)"
   ]
  },
  {
   "cell_type": "markdown",
   "id": "8f4aa832-86fa-4854-9392-c4a461fe2cd5",
   "metadata": {},
   "source": [
    "#### Exercice 3: modifier la fonction homepage = /  pour y ajouter le titre et le pitch qui décrit vos recommandations de livres\n",
    "\n",
    "* Le gabarit [monproj/monsite/templates/homepage.html](./monproj/monsite/templates/homepage.html) prend comme paramètres les valeurs suivantes:\n",
    "  * title: le nom de la liste de livres\n",
    "  * pitch: une ou deux phrases qui expliquent quels types\n",
    "* En changeant les valeurs dans le dictionnaire context, nous pouvons afficher différentes informations  \n",
    "* Modifiez la fonction homepage dans le fichier [monproj/monsite/views.py](./monproj/monsite/views.py) pour changer les valeurs `title` et `pitch` dans le dictionnaire `context`\n",
    "* Visitez [http://localhost:8000/](http://localhost:8000/) pour voir la résultat de vos changements  \n",
    "  \n",
    "  "
   ]
  },
  {
   "cell_type": "markdown",
   "id": "7f260fa4-0c40-4dce-8c6f-42b239fe825d",
   "metadata": {},
   "source": [
    "----"
   ]
  },
  {
   "cell_type": "markdown",
   "id": "6ffeb106-ddc5-406c-8152-0d654c47f694",
   "metadata": {},
   "source": [
    "Le site web de votre liste de livres est quasiment prêt!\n",
    "\n",
    "Il faudrait juste ajouter la liste des livres ;)"
   ]
  },
  {
   "cell_type": "markdown",
   "id": "c9deb875-d899-4302-90cb-9cd571f9dc03",
   "metadata": {},
   "source": [
    "### Un peu de théorie sur les bases de données...\n",
    "\n",
    "* les bases de données (database ou DB en anglais) sont une façon d'enregistrer les données de façon structurée\n",
    "* les bases de données les plus souvent utilisées sont PostgreSQL, MySQL, et sqlite3\n",
    "  * Notez que tous ces noms contiennent \"SQL\" qui est un acronyme pour Structured Query Language --- c'est le langage utilisé pour accéder (SELECT), créer (CREATE), ou modifier (UPDATES) les données\n",
    "* une \"table\" dans une base de données est un peu comme un tableur (penser LibreOffice)\n",
    "  * chaque table est associée à un \"schéma\" qui définit le noms des colonnes et le types d'information qu'on peut y placer  \n",
    "  "
   ]
  },
  {
   "cell_type": "markdown",
   "id": "16023d36-537b-48f5-ac24-f51e4853cf23",
   "metadata": {
    "tags": []
   },
   "source": [
    "### Étape 4: Créer et lire des données stockées dans une base de données\n",
    "\n",
    "Nous allons maintenant écrire le \"code modèle\" qui nous permet de créer et lire des données stockées dans une base de données. Par convention, le code modèle s'écrit dans dans le fichier models.py, et nous allons créer une classe Python pour chaque type de donnée que nous voulons traiter.\n",
    "\n",
    "* Modifiez le fichier monproj/monsite/models.py pour y ajouter une [le modèle Book](https://github.com/mtlpy/ateliers-prog/commit/24dbb2180df20af8f070096f0ea54e40d2ac5630)\n",
    "* Roulez les commandes:\n",
    "  * !./manage.py makemigrations\n",
    "  * !./manage.py migrate"
   ]
  },
  {
   "cell_type": "markdown",
   "id": "0f5677dc-afcb-4019-8e66-283750f3b399",
   "metadata": {},
   "source": [
    "### Créer le modèle Books\n",
    "\n",
    "Modifiez le fichier [monproj/monsite/models.py](./monproj/monsite/models.py) pour y ajouter les lignes suivantes\n"
   ]
  },
  {
   "cell_type": "markdown",
   "id": "d6fa16d5-aca8-40df-926d-1f7fba471e73",
   "metadata": {},
   "source": [
    "### Créer et appliquer les migrations"
   ]
  },
  {
   "cell_type": "code",
   "execution_count": 34,
   "id": "bcee83e8-9d1d-4002-9911-cdaf5b785a05",
   "metadata": {},
   "outputs": [
    {
     "data": {
      "text/plain": [
       "'/Users/ivan/Projects/Minireference/software/ateliers-prog/DjangoTutorialFR'"
      ]
     },
     "execution_count": 34,
     "metadata": {},
     "output_type": "execute_result"
    }
   ],
   "source": [
    "%pwd"
   ]
  },
  {
   "cell_type": "code",
   "execution_count": 35,
   "id": "6840edf2-20de-4105-a9fe-9b0c61f3e439",
   "metadata": {},
   "outputs": [
    {
     "name": "stdout",
     "output_type": "stream",
     "text": [
      "/Users/ivan/Projects/Minireference/software/ateliers-prog/DjangoTutorialFR/monproj\n"
     ]
    }
   ],
   "source": [
    "%cd monproj"
   ]
  },
  {
   "cell_type": "code",
   "execution_count": 36,
   "id": "337d6324-c91f-4a39-af26-4b0fe404382f",
   "metadata": {},
   "outputs": [
    {
     "name": "stdout",
     "output_type": "stream",
     "text": [
      "No changes detected\n"
     ]
    }
   ],
   "source": [
    "!./manage.py makemigrations"
   ]
  },
  {
   "cell_type": "code",
   "execution_count": 37,
   "id": "708e44c0-1be3-4018-ac11-3d48d53e4f6b",
   "metadata": {},
   "outputs": [
    {
     "name": "stdout",
     "output_type": "stream",
     "text": [
      "Operations to perform:\n",
      "  Apply all migrations: admin, auth, contenttypes, monsite, sessions\n",
      "Running migrations:\n",
      "  Applying monsite.0001_initial... OK\n"
     ]
    }
   ],
   "source": [
    "!./manage.py migrate"
   ]
  },
  {
   "cell_type": "code",
   "execution_count": 38,
   "id": "9440d911-2ced-44f8-8a67-5bd08d0ae7c9",
   "metadata": {},
   "outputs": [
    {
     "name": "stdout",
     "output_type": "stream",
     "text": [
      "/Users/ivan/Projects/Minireference/software/ateliers-prog/DjangoTutorialFR\n"
     ]
    }
   ],
   "source": [
    "%cd .."
   ]
  },
  {
   "cell_type": "markdown",
   "id": "68338137-e117-4432-aa32-e9174bbf6519",
   "metadata": {},
   "source": [
    "### Créer des objets `Book`"
   ]
  },
  {
   "cell_type": "code",
   "execution_count": 39,
   "id": "0dd3a01a-fa98-4b0f-827e-a89389d96cd6",
   "metadata": {},
   "outputs": [],
   "source": [
    "from monsite.models import Book"
   ]
  },
  {
   "cell_type": "code",
   "execution_count": 40,
   "id": "8d4b78d9-97e7-4012-847a-27a09ad1e122",
   "metadata": {},
   "outputs": [
    {
     "data": {
      "text/plain": [
       "<QuerySet []>"
      ]
     },
     "execution_count": 40,
     "metadata": {},
     "output_type": "execute_result"
    }
   ],
   "source": [
    "Book.objects.all()"
   ]
  },
  {
   "cell_type": "code",
   "execution_count": 42,
   "id": "5093e9d5-1ea4-445b-a125-08b67761119b",
   "metadata": {},
   "outputs": [],
   "source": [
    "book1 = Book.objects.create(title=\"Titre du livre\", author=\"Auteur 1\")\n",
    "book1.save()"
   ]
  },
  {
   "cell_type": "code",
   "execution_count": 43,
   "id": "8102abaa-cfaa-4bea-9566-52d314d39535",
   "metadata": {},
   "outputs": [],
   "source": [
    "book2 = Book.objects.create(title=\"autre titre\", author=\"Auteur 2\")\n",
    "book2.save()"
   ]
  },
  {
   "cell_type": "code",
   "execution_count": 41,
   "id": "a00bcd68-3879-44cf-858f-c4aaabe331e5",
   "metadata": {},
   "outputs": [],
   "source": [
    "book3 = Book.objects.create(title=\"titre 3\", author=\"Auteur 3\", description=\"Ceci est un bon livre\")\n",
    "book3.save()"
   ]
  },
  {
   "cell_type": "code",
   "execution_count": 45,
   "id": "c7fe7384-1c81-4f13-bd59-e36cc865f4ab",
   "metadata": {},
   "outputs": [
    {
     "data": {
      "text/plain": [
       "<QuerySet [<Book: Book object (1)>, <Book: Book object (2)>, <Book: Book object (3)>]>"
      ]
     },
     "execution_count": 45,
     "metadata": {},
     "output_type": "execute_result"
    }
   ],
   "source": [
    "books = Book.objects.all()\n",
    "books"
   ]
  },
  {
   "cell_type": "code",
   "execution_count": 47,
   "id": "e48c4d54-0501-4402-81f0-11eb173d6c00",
   "metadata": {},
   "outputs": [
    {
     "data": {
      "text/plain": [
       "<Book: Book object (3)>"
      ]
     },
     "execution_count": 47,
     "metadata": {},
     "output_type": "execute_result"
    }
   ],
   "source": [
    "book = books[2]\n",
    "book"
   ]
  },
  {
   "cell_type": "code",
   "execution_count": 50,
   "id": "61153685-984c-475f-bed9-30d515f11ff5",
   "metadata": {},
   "outputs": [
    {
     "data": {
      "text/plain": [
       "('autre titre', 'Auteur 2', '')"
      ]
     },
     "execution_count": 50,
     "metadata": {},
     "output_type": "execute_result"
    }
   ],
   "source": [
    "book.title, book.author, book.description"
   ]
  },
  {
   "cell_type": "markdown",
   "id": "5e8224ff-19eb-4ca3-87b4-15a064d7d43f",
   "metadata": {},
   "source": [
    "### Interface admin de Django\n",
    "\n",
    "* Setup l'interface admin de Django:\n",
    "  * Ajouter les [lignes suivantes](https://github.com/mtlpy/ateliers-prog/commit/68fd6d90813dbc29304ce8151656e9749a693cad) au fichier  monproj/monsite/admin.py\n",
    "  * Visitez [http://localhost:8000/admin/](http://localhost:8000/admin/) et utilisez \"admin\" et \"admin123\" pour le log in\n",
    "* Créez quelques nouveaux livres en utilisant [http://localhost:8000/admin/monsite/book/add/](http://localhost:8000/admin/monsite/book/add/)"
   ]
  },
  {
   "cell_type": "markdown",
   "id": "091a6201-b99a-4e09-98d6-24bc163b908d",
   "metadata": {},
   "source": [
    "#### Verification\n",
    "Vérifiez que les livres sont créés en roulant les commandes"
   ]
  },
  {
   "cell_type": "code",
   "execution_count": 52,
   "id": "b8d864f9-553d-4cc8-b981-766ea7602d3a",
   "metadata": {},
   "outputs": [
    {
     "data": {
      "text/plain": [
       "<QuerySet [<Book: Book object (1)>, <Book: Book object (2)>, <Book: Book object (3)>]>"
      ]
     },
     "execution_count": 52,
     "metadata": {},
     "output_type": "execute_result"
    }
   ],
   "source": [
    "books = Book.objects.all()\n",
    "books"
   ]
  },
  {
   "cell_type": "code",
   "execution_count": null,
   "id": "e24aeeb9-e36c-48df-813e-d05e4c71ec97",
   "metadata": {},
   "outputs": [],
   "source": []
  },
  {
   "cell_type": "code",
   "execution_count": null,
   "id": "96f64da9-4d6b-46fb-88af-b6b909e36451",
   "metadata": {},
   "outputs": [],
   "source": []
  },
  {
   "cell_type": "markdown",
   "id": "fe3d99ee-c757-4517-a31c-54818036d58a",
   "metadata": {},
   "source": [
    "### Creation de la vue `/books/` qui montre la liste des livres\n",
    "\n",
    "Créons maintenant une nouvelle vue `books` = `/books/` qui retourne une page HTML qui montre la liste des livres que nous avons dans la base de données.\n",
    "\n",
    "* Créez un nouveau gabarit monproj/monsite/templates/books.html en téléchargeant [ce fichier](https://raw.githubusercontent.com/mtlpy/ateliers-prog/9365e7eb4a3eaaf4cbf00c2856c6e5e11b3eccef/DjangoTutorialFR/monproj/monsite/templates/books.html)\n",
    "* Le gabarit [monproj/monsite/templates/books.html](./monproj/monsite/templates/books.html) s'attend à recovoir comme paramètre une liste de livres nomée `books`\n",
    "* Ajoutez la [vue books](https://github.com/mtlpy/ateliers-prog/commit/890a1da92105889adb9d26da919661d9e8843524) dans [monproj/monsite/views.py](./monproj/monsite/views.py)\n",
    "  * Importer le modèle Book dans [monproj/monsite/views.py](./monproj/monsite/views.py) en utilisant\n",
    "    * `from monsite.models import Book`\n",
    "  * Obtenez un queryset iterable de tous les livres utilisant (les queryset c'est un peu comme les listes, càd on peut les utiliser dans des for loop)\n",
    "    * `books = Book.objects.all()`\n",
    "* Modifiez le fichier [monproj/monproj/urls.py](./monproj/monproj/urls.py) pour relier l'URL `/books/` (regex `r'^books/$'`) à la vue `books` que vous venez de créer\n",
    "* Visitez [http://localhost:8000/books/](http://localhost:8000/books/)  \n",
    "  \n",
    "  "
   ]
  },
  {
   "cell_type": "markdown",
   "id": "a13dd73b-daa7-4062-80c5-7486cde4a65b",
   "metadata": {},
   "source": [
    "#### Exercice 4: modifier l'affichage de la liste des livres\n",
    "\n",
    "Fonctionnalité désirée:\n",
    "\n",
    "* on veut que la requête [/books/](http://localhost:8000/books/) retourne le non seulement le titre, mais aussi l'**author**, et la **description** pour chaque livre  \n",
    "\n",
    "Indices:\n",
    "\n",
    "* Vous n'aurez qu'à modifier le gabarit [monproj/monsite/templates/books.html](./monproj/monsite/templates/books.html)\n",
    "* Accéder au propriétés de chaque objet book en utilisant le point (comme les attributs dans Python de base, eg: `book.author`)\n",
    "* Insérez les valeurs dans le HTML en utilisant les accolades `{{ }}`   \n",
    "\n",
    "\n",
    "Test URLs:\n",
    "* [http://localhost:8000/books/](http://localhost:8000/books/) doit montrer les infos pour chaque livre incluant **author** et **description**  \n",
    "\n",
    "[Solution de l'exercice 4](https://github.com/mtlpy/ateliers-prog/commit/33d45eba0dc29bdfa09971489e52886c8c284e54)  \n",
    "\n",
    "\n"
   ]
  },
  {
   "cell_type": "markdown",
   "id": "bba13eeb-0907-40a6-99a9-a8c74f23fe09",
   "metadata": {},
   "source": [
    "## Autres sujets Django (pour une prochaine fois peut-être...):\n",
    "\n",
    "Nous n'avons pas le temps de discuter de ces sujets, mais la doc Django est excellente alors vous pouvez apprendre par vous même là dessus:\n",
    "\n",
    "* [Formulaires](https://docs.djangoproject.com/fr/4.0/topics/forms/) (<form\\> submission envoyée comme une requête de type POST)\n",
    "  * [exemple](https://docs.djangoproject.com/fr/4.0/intro/tutorial04/#write-a-minimal-form)\n",
    "* [Déploiement](https://docs.djangoproject.com/fr/4.0/howto/deployment/) sur un serveur en ligne\n",
    "  * (demo existing site if time)\n",
    "* [Migrations](https://docs.djangoproject.com/fr/4.0/topics/migrations/)\n",
    "* [File uploads](https://docs.djangoproject.com/fr/4.0/topics/http/file-uploads/)\n",
    "* [Vues fondées sur les classes](https://docs.djangoproject.com/fr/4.0/topics/class-based-views/)\n",
    "* [Tests](https://docs.djangoproject.com/fr/4.0/topics/testing/)\n",
    "* [APIs](https://www.django-rest-framework.org/)\n",
    "* [Sécurité](https://docs.djangoproject.com/fr/4.0/topics/security/)\n",
    "  * Connections HTTPS et certificats (des taches faites par le server web)\n",
    "  * CSRF tokens\n",
    "  * Authentication (Session login)\n",
    "  * Authorization (permissions)\n",
    "* [Internationalisation et régionalisation](https://docs.djangoproject.com/fr/4.0/topics/i18n/)  "
   ]
  },
  {
   "cell_type": "markdown",
   "id": "86476756-0b3d-4d99-b733-1c7601a73ddc",
   "metadata": {},
   "source": [
    "## Ressources pour en apprendre plus\n",
    "\n",
    "* [Tutoriel de Django Girls](https://tutorial.djangogirls.org/fr/)\n",
    "* [Django docs](https://docs.djangoproject.com/en/4.0/)\n",
    "  * [Django tutorial](https://docs.djangoproject.com/en/4.0/intro/tutorial01/)\n",
    "  * [Topic guides](https://docs.djangoproject.com/en/4.0/topics/)\n",
    "  * [Django référence](https://docs.djangoproject.com/en/4.0/ref/)\n",
    "* [Apprendre le Développement Web avec Python](https://www.youtube.com/watch?v=vN3_jywhg_E) (vidéo 2h)\n",
    "* [Tutoriel Django (Français) Développement Web avec Python](https://www.youtube.com/playlist?list=PLEn9o0UAh_cCszR1kXFAe-4lxkJjCnAiH) (liste de 6 vidéos)  \n",
    "\n",
    "\n",
    "### Outils pour la programmation web:\n",
    "* Postman [https://www.postman.com/downloads/](https://www.postman.com/downloads/)\n",
    "* VSCode  \n"
   ]
  },
  {
   "cell_type": "code",
   "execution_count": null,
   "id": "115f42e5-0aff-4de3-97d9-1514a4951a76",
   "metadata": {},
   "outputs": [],
   "source": []
  }
 ],
 "metadata": {
  "kernelspec": {
   "display_name": "Python 3 (ipykernel)",
   "language": "python",
   "name": "python3"
  },
  "language_info": {
   "codemirror_mode": {
    "name": "ipython",
    "version": 3
   },
   "file_extension": ".py",
   "mimetype": "text/x-python",
   "name": "python",
   "nbconvert_exporter": "python",
   "pygments_lexer": "ipython3",
   "version": "3.8.13"
  }
 },
 "nbformat": 4,
 "nbformat_minor": 5
}
