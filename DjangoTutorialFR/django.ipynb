{
 "cells": [
  {
   "cell_type": "markdown",
   "id": "4eaa67be-9e54-470b-bc8e-f3974f2d6ee6",
   "metadata": {},
   "source": [
    "# Soirée de prog #5 option B: applications web avec Django\n",
    "\n",
    "2022-06-27, 19h00 à 21h00 EDT\n",
    "\n",
    "Voir [ce document](https://docs.google.com/document/d/1VA6s5UpuEk_qc7MACX_XK1KyuGm1IWu7CF4p420vR58/edit) pour le programme détaillé de ce qui nous allons faire aujoud'hui, et voir [le document parent](https://docs.google.com/document/d/1Thp26TK1AAWGzq_jtIlJ_xTfZq5khTy4NYh_au_A3Qo/edit) pour les infos de l'evenment en general.\n"
   ]
  },
  {
   "cell_type": "markdown",
   "id": "74771ee9-58a7-4360-8d00-084c1cf9dbd0",
   "metadata": {},
   "source": [
    "## Etape 0: Préparation de l'environment de programmation\n"
   ]
  },
  {
   "cell_type": "markdown",
   "id": "632d9cd5-fc03-486e-a0e9-d0faa27549a9",
   "metadata": {},
   "source": [
    "### Exemples de commandes"
   ]
  },
  {
   "cell_type": "code",
   "execution_count": null,
   "id": "50f3e896-4510-4eb1-b4e6-caf543ff0306",
   "metadata": {},
   "outputs": [],
   "source": [
    "# Python\n",
    "2+3"
   ]
  },
  {
   "cell_type": "code",
   "execution_count": 2,
   "id": "eb2d48e3-b1ee-4f6e-a299-249dfd27fb56",
   "metadata": {},
   "outputs": [
    {
     "data": {
      "text/plain": [
       "'/Users/ivan/Projects/Minireference/software/ateliers-prog/DjangoTutorialFR'"
      ]
     },
     "execution_count": 2,
     "metadata": {},
     "output_type": "execute_result"
    }
   ],
   "source": [
    "# IPython magic\n",
    "%pwd"
   ]
  },
  {
   "cell_type": "code",
   "execution_count": null,
   "id": "7a85d7e4-b10c-4e0e-aa1c-384149db65df",
   "metadata": {},
   "outputs": [],
   "source": [
    "# System shell\n",
    "!mkdir undossier"
   ]
  },
  {
   "cell_type": "code",
   "execution_count": null,
   "id": "1613c430-9866-405d-b6dd-0af3208da1ee",
   "metadata": {},
   "outputs": [],
   "source": [
    "!rmdir undossier"
   ]
  },
  {
   "cell_type": "code",
   "execution_count": null,
   "id": "c9abd115-fa7e-451d-b53d-39103d59906d",
   "metadata": {},
   "outputs": [],
   "source": [
    "# make sure we're in the right place\n",
    "import os\n",
    "assert 'DjangoTutorialFR' == os.path.basename(os.getcwd()), \"Vous devez être dans le folder DjangoTutorialFR\""
   ]
  },
  {
   "cell_type": "markdown",
   "id": "4816facc-06fe-460f-85be-7fdf2a5c0f39",
   "metadata": {},
   "source": [
    "### Verifier que tous les notebooks sont là"
   ]
  },
  {
   "cell_type": "code",
   "execution_count": 5,
   "id": "5563266e-083d-4565-ab2d-e4b32fdf6653",
   "metadata": {},
   "outputs": [
    {
     "name": "stdout",
     "output_type": "stream",
     "text": [
      "Notebook django.ipynb exists.\n",
      "Notebook 01_a_install.ipynb exists.\n",
      "Notebook 01_b_runserver.ipynb exists.\n"
     ]
    }
   ],
   "source": [
    "import os\n",
    "\n",
    "notebooks = [\n",
    "    \"django.ipynb\",\n",
    "    \"01_a_install.ipynb\",\n",
    "    \"01_b_runserver.ipynb\",\n",
    "]\n",
    "\n",
    "for notebook in notebooks:\n",
    "    if not os.path.exists(notebook):\n",
    "        print(\"ERROR: Notebook\", notebook, \"is missing.\")\n",
    "        print(\"Are you in the right directory? DjangoTutorialFR\")\n",
    "        print(\"Did you download and extract the .zip file?\")\n",
    "    else:\n",
    "        print(\"Notebook\", notebook, \"exists.\")"
   ]
  },
  {
   "cell_type": "code",
   "execution_count": null,
   "id": "18c0e326-82a2-4ddb-9b39-b44d2e769832",
   "metadata": {},
   "outputs": [],
   "source": []
  },
  {
   "cell_type": "markdown",
   "id": "59defac1-9316-4982-9f18-7f94be99d599",
   "metadata": {},
   "source": [
    "## Étape 1: Installer Django et création du projet Django monproj\n",
    "\n",
    "Ouvrez le notebook [01_a_install.ipynb](./01_a_install.ipynb) et suivez les instructions là dedans.\n",
    "Vous pouvez ensuite fermer le notebook `01_a_install.ipynb` (on a besoin juste pour installer)."
   ]
  },
  {
   "cell_type": "markdown",
   "id": "3b30e33b-6e36-4360-b9dd-40d20098c568",
   "metadata": {},
   "source": [
    "### Rouler le server Django\n",
    "\n",
    "Utilisez le notebook [01_b_runserver.ipynb](./01_b_runserver.ipynb)"
   ]
  },
  {
   "cell_type": "markdown",
   "id": "100fef08-614a-4c62-aedc-2018b41fc549",
   "metadata": {},
   "source": [
    "### Configurer le notebook pour les commades Django\n"
   ]
  },
  {
   "cell_type": "code",
   "execution_count": 1,
   "id": "6b2b9b17-170a-451a-932d-00011e089aee",
   "metadata": {},
   "outputs": [
    {
     "data": {
      "text/plain": [
       "'/Users/ivan/Projects/Minireference/software/ateliers-prog/DjangoTutorialFR'"
      ]
     },
     "execution_count": 1,
     "metadata": {},
     "output_type": "execute_result"
    }
   ],
   "source": [
    "%pwd"
   ]
  },
  {
   "cell_type": "code",
   "execution_count": 2,
   "id": "569114be-5b51-46d5-bf49-228d3fe2a218",
   "metadata": {},
   "outputs": [
    {
     "name": "stdout",
     "output_type": "stream",
     "text": [
      "/Users/ivan/Projects/Minireference/software/ateliers-prog/DjangoTutorialFR/monproj\n"
     ]
    }
   ],
   "source": [
    "%cd monproj"
   ]
  },
  {
   "cell_type": "code",
   "execution_count": 3,
   "id": "35902446-af6f-46b7-ad34-290492a3743d",
   "metadata": {},
   "outputs": [],
   "source": [
    "import django\n",
    "import os\n",
    "import sys\n",
    "\n",
    "sys.path.insert(0, os.getcwd())\n",
    "os.environ[\"DJANGO_SETTINGS_MODULE\"] = \"monproj.settings\"\n",
    "os.environ[\"DJANGO_ALLOW_ASYNC_UNSAFE\"] = \"true\"\n",
    "django.setup()"
   ]
  },
  {
   "cell_type": "markdown",
   "id": "a53fbdc5-aa7d-49e4-b6d8-c44f22061e2a",
   "metadata": {},
   "source": [
    "On va maintenant tester que la commade `django.setup()` a fonctionné en verifiant que `monsite` est dans la liste `settings.INSTALLED_APPS`."
   ]
  },
  {
   "cell_type": "code",
   "execution_count": 4,
   "id": "a2c10516-d970-4b77-bb7d-4484b80bf9b9",
   "metadata": {},
   "outputs": [
    {
     "data": {
      "text/plain": [
       "['django.contrib.admin',\n",
       " 'django.contrib.auth',\n",
       " 'django.contrib.contenttypes',\n",
       " 'django.contrib.sessions',\n",
       " 'django.contrib.messages',\n",
       " 'django.contrib.staticfiles',\n",
       " 'monsite']"
      ]
     },
     "execution_count": 4,
     "metadata": {},
     "output_type": "execute_result"
    }
   ],
   "source": [
    "from django.conf import settings\n",
    "settings.INSTALLED_APPS"
   ]
  },
  {
   "cell_type": "markdown",
   "id": "d705ab3b-fcc3-4858-aec6-d1bef30f0e6b",
   "metadata": {
    "tags": []
   },
   "source": [
    "## Étape 2: Création d'une vue\n"
   ]
  },
  {
   "cell_type": "markdown",
   "id": "d02f64ae-f3b3-42a2-add0-b6d7aa284cb2",
   "metadata": {},
   "source": [
    "Ouvrez le fichier [monproj/monsite/views.py](./monproj/monsite/views.py) et ajouter..."
   ]
  },
  {
   "cell_type": "markdown",
   "id": "2a28dbc8-1928-4e2c-99c7-9b7ac239aa4a",
   "metadata": {},
   "source": [
    "Ouvrez le fichier [monproj/monproj/urls.py](./monproj/monproj/urls.py) et ajouter..."
   ]
  },
  {
   "cell_type": "markdown",
   "id": "d021fb82-14b8-4da1-a983-32cb504f34c8",
   "metadata": {},
   "source": [
    "Ouvrez le fichier [monproj/monproj/settings.py](./monproj/monproj/settings.py) et ajouter..."
   ]
  },
  {
   "cell_type": "code",
   "execution_count": null,
   "id": "37595651-7c1d-4283-b3df-63ef17f1504d",
   "metadata": {},
   "outputs": [],
   "source": []
  },
  {
   "cell_type": "markdown",
   "id": "f62ba8f2-9fc4-4a92-95ed-287c1a206f3b",
   "metadata": {
    "tags": []
   },
   "source": [
    "## Étape 3: Utiliser les gabarits HTML pour afficher les pages\n",
    "\n"
   ]
  },
  {
   "cell_type": "code",
   "execution_count": null,
   "id": "96c28763-c565-47d8-a5d0-626c28b519c6",
   "metadata": {},
   "outputs": [],
   "source": []
  },
  {
   "cell_type": "code",
   "execution_count": 17,
   "id": "e57b2325-6d85-4808-ba6f-64bb82849a24",
   "metadata": {},
   "outputs": [],
   "source": [
    "from django.template.loader import get_template\n",
    "\n",
    "template = get_template(\"homepage.html\")\n",
    "\n",
    "context = {\n",
    "    \"title\": \"le titre\",\n",
    "    \"pitch\": \"le pitch\",\n",
    "}\n",
    "\n",
    "html = template.render(context)\n",
    "\n",
    "# print(html)"
   ]
  },
  {
   "cell_type": "markdown",
   "id": "a5d947cb-ff3f-4246-a5c6-2a43729e10d4",
   "metadata": {},
   "source": [
    "## Étape 4: Créer et lire des données stockées dans une base de données"
   ]
  },
  {
   "cell_type": "markdown",
   "id": "f3facf94-de50-45dc-8834-890b1bc9da39",
   "metadata": {},
   "source": [
    "### Créer le modèle Books\n",
    "\n",
    "Modifiez le fichier [monproj/monsite/models.py](./monproj/monsite/models.py) pour y ajouter les lignes suivantes\n"
   ]
  },
  {
   "cell_type": "markdown",
   "id": "7e445265-648b-47b2-a167-efcc232aab59",
   "metadata": {},
   "source": [
    "### Créer et appliquer les migrations"
   ]
  },
  {
   "cell_type": "code",
   "execution_count": 11,
   "id": "bcee83e8-9d1d-4002-9911-cdaf5b785a05",
   "metadata": {},
   "outputs": [
    {
     "data": {
      "text/plain": [
       "'/Users/ivan/Projects/Minireference/software/ateliers-prog/DjangoTutorialFR'"
      ]
     },
     "execution_count": 11,
     "metadata": {},
     "output_type": "execute_result"
    }
   ],
   "source": [
    "%pwd"
   ]
  },
  {
   "cell_type": "code",
   "execution_count": 12,
   "id": "6840edf2-20de-4105-a9fe-9b0c61f3e439",
   "metadata": {},
   "outputs": [
    {
     "name": "stdout",
     "output_type": "stream",
     "text": [
      "/Users/ivan/Projects/Minireference/software/ateliers-prog/DjangoTutorialFR/monproj\n"
     ]
    }
   ],
   "source": [
    "%cd monproj"
   ]
  },
  {
   "cell_type": "code",
   "execution_count": 13,
   "id": "337d6324-c91f-4a39-af26-4b0fe404382f",
   "metadata": {},
   "outputs": [
    {
     "name": "stdout",
     "output_type": "stream",
     "text": [
      "\u001b[36;1mMigrations for 'monsite':\u001b[0m\n",
      "  \u001b[1mmonsite/migrations/0001_initial.py\u001b[0m\n",
      "    - Create model Book\n"
     ]
    }
   ],
   "source": [
    "#  !./manage.py makemigrations"
   ]
  },
  {
   "cell_type": "code",
   "execution_count": 14,
   "id": "708e44c0-1be3-4018-ac11-3d48d53e4f6b",
   "metadata": {},
   "outputs": [
    {
     "name": "stdout",
     "output_type": "stream",
     "text": [
      "\u001b[36;1mOperations to perform:\u001b[0m\n",
      "\u001b[1m  Apply all migrations: \u001b[0madmin, auth, contenttypes, monsite, sessions\n",
      "\u001b[36;1mRunning migrations:\u001b[0m\n",
      "  Applying contenttypes.0001_initial...\u001b[32;1m OK\u001b[0m\n",
      "  Applying auth.0001_initial...\u001b[32;1m OK\u001b[0m\n",
      "  Applying admin.0001_initial...\u001b[32;1m OK\u001b[0m\n",
      "  Applying admin.0002_logentry_remove_auto_add...\u001b[32;1m OK\u001b[0m\n",
      "  Applying contenttypes.0002_remove_content_type_name...\u001b[32;1m OK\u001b[0m\n",
      "  Applying auth.0002_alter_permission_name_max_length...\u001b[32;1m OK\u001b[0m\n",
      "  Applying auth.0003_alter_user_email_max_length...\u001b[32;1m OK\u001b[0m\n",
      "  Applying auth.0004_alter_user_username_opts...\u001b[32;1m OK\u001b[0m\n",
      "  Applying auth.0005_alter_user_last_login_null...\u001b[32;1m OK\u001b[0m\n",
      "  Applying auth.0006_require_contenttypes_0002...\u001b[32;1m OK\u001b[0m\n",
      "  Applying auth.0007_alter_validators_add_error_messages...\u001b[32;1m OK\u001b[0m\n",
      "  Applying auth.0008_alter_user_username_max_length...\u001b[32;1m OK\u001b[0m\n",
      "  Applying monsite.0001_initial...\u001b[32;1m OK\u001b[0m\n",
      "  Applying sessions.0001_initial...\u001b[32;1m OK\u001b[0m\n"
     ]
    }
   ],
   "source": [
    "!./manage.py migrate"
   ]
  },
  {
   "cell_type": "code",
   "execution_count": null,
   "id": "0e7327b4-b825-49d0-afa8-1c073a16aa2b",
   "metadata": {},
   "outputs": [],
   "source": []
  },
  {
   "cell_type": "markdown",
   "id": "dca599f4-e9a0-42ba-9072-8b6eb416d7c1",
   "metadata": {},
   "source": [
    "### Setup l'inteface admin de Django"
   ]
  },
  {
   "cell_type": "code",
   "execution_count": null,
   "id": "af0869ae-3a0c-422b-93c7-c66902726be5",
   "metadata": {},
   "outputs": [],
   "source": [
    "%pwd"
   ]
  },
  {
   "cell_type": "code",
   "execution_count": null,
   "id": "7694d20b-fe36-449e-816b-d39c9c07b7e1",
   "metadata": {},
   "outputs": [],
   "source": [
    "sys.path"
   ]
  },
  {
   "cell_type": "code",
   "execution_count": 21,
   "id": "0dd3a01a-fa98-4b0f-827e-a89389d96cd6",
   "metadata": {},
   "outputs": [],
   "source": [
    "from monsite.models import Book"
   ]
  },
  {
   "cell_type": "code",
   "execution_count": 22,
   "id": "8d4b78d9-97e7-4012-847a-27a09ad1e122",
   "metadata": {},
   "outputs": [
    {
     "data": {
      "text/plain": [
       "<QuerySet [<Book: Book object (1)>, <Book: Book object (2)>, <Book: Book object (3)>]>"
      ]
     },
     "execution_count": 22,
     "metadata": {},
     "output_type": "execute_result"
    }
   ],
   "source": [
    "Book.objects.all()"
   ]
  },
  {
   "cell_type": "code",
   "execution_count": null,
   "id": "8102abaa-cfaa-4bea-9566-52d314d39535",
   "metadata": {},
   "outputs": [],
   "source": [
    "book2 = Book.objects.create(title=\"autre titre\", author=\"Lauteur\")\n",
    "book2.save()"
   ]
  },
  {
   "cell_type": "code",
   "execution_count": null,
   "id": "a00bcd68-3879-44cf-858f-c4aaabe331e5",
   "metadata": {},
   "outputs": [],
   "source": [
    "book3 = Book.objects.create(title=\"titre 3\", author=\"Lauteur 3\")\n",
    "book3.save()"
   ]
  },
  {
   "cell_type": "code",
   "execution_count": null,
   "id": "6c4f7ebc-c17f-468b-a64d-0a4eb9c913db",
   "metadata": {},
   "outputs": [],
   "source": []
  }
 ],
 "metadata": {
  "kernelspec": {
   "display_name": "Python 3 (ipykernel)",
   "language": "python",
   "name": "python3"
  },
  "language_info": {
   "codemirror_mode": {
    "name": "ipython",
    "version": 3
   },
   "file_extension": ".py",
   "mimetype": "text/x-python",
   "name": "python",
   "nbconvert_exporter": "python",
   "pygments_lexer": "ipython3",
   "version": "3.8.13"
  }
 },
 "nbformat": 4,
 "nbformat_minor": 5
}
