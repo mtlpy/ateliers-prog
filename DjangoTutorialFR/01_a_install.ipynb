{
 "cells": [
  {
   "cell_type": "markdown",
   "id": "606ffc4f-ce9f-4846-9dfa-0aad69244c3d",
   "metadata": {},
   "source": [
    "# Install Django and create project and app"
   ]
  },
  {
   "cell_type": "code",
   "execution_count": 1,
   "id": "8690229c-ed31-4f54-82d8-bf9731bbc369",
   "metadata": {},
   "outputs": [
    {
     "name": "stdout",
     "output_type": "stream",
     "text": [
      "Requirement already satisfied: django in /Users/ivan/.local/lib/python3.8/site-packages (4.0.4)\n",
      "Requirement already satisfied: sqlparse>=0.2.2 in /Users/ivan/.local/lib/python3.8/site-packages (from django) (0.4.2)\n",
      "Requirement already satisfied: backports.zoneinfo in /Users/ivan/.local/lib/python3.8/site-packages (from django) (0.2.1)\n",
      "Requirement already satisfied: asgiref<4,>=3.4.1 in /Users/ivan/.local/lib/python3.8/site-packages (from django) (3.5.1)\n",
      "Note: you may need to restart the kernel to use updated packages.\n"
     ]
    }
   ],
   "source": [
    "%pip install django"
   ]
  },
  {
   "cell_type": "code",
   "execution_count": 2,
   "id": "9b23fc9c-45ba-4f2f-a947-c2a259182b77",
   "metadata": {},
   "outputs": [
    {
     "data": {
      "text/plain": [
       "'/Users/ivan/Projects/Minireference/software/ateliers-prog/DjangoTutorialFR'"
      ]
     },
     "execution_count": 2,
     "metadata": {},
     "output_type": "execute_result"
    }
   ],
   "source": [
    "%pwd"
   ]
  },
  {
   "cell_type": "code",
   "execution_count": 3,
   "id": "39933f71-eb75-4fa0-80b1-0292aa29bb28",
   "metadata": {},
   "outputs": [],
   "source": [
    "!django-admin startproject monproj"
   ]
  },
  {
   "cell_type": "code",
   "execution_count": 4,
   "id": "ae3e98c4-1ca8-4462-84c4-862a4c32d6c2",
   "metadata": {},
   "outputs": [
    {
     "name": "stdout",
     "output_type": "stream",
     "text": [
      "/Users/ivan/Projects/Minireference/software/ateliers-prog/DjangoTutorialFR/monproj\n"
     ]
    }
   ],
   "source": [
    "%cd monproj"
   ]
  },
  {
   "cell_type": "code",
   "execution_count": 5,
   "id": "2d023ca0-ab89-41cc-9e39-5a1e3573266b",
   "metadata": {},
   "outputs": [
    {
     "data": {
      "text/plain": [
       "'/Users/ivan/Projects/Minireference/software/ateliers-prog/DjangoTutorialFR/monproj'"
      ]
     },
     "execution_count": 5,
     "metadata": {},
     "output_type": "execute_result"
    }
   ],
   "source": [
    "%pwd"
   ]
  },
  {
   "cell_type": "code",
   "execution_count": 6,
   "id": "f9887036-f842-4d89-8097-d68de56005b4",
   "metadata": {},
   "outputs": [],
   "source": [
    "!django-admin startapp monsite"
   ]
  },
  {
   "cell_type": "code",
   "execution_count": 7,
   "id": "f6832662-5177-4329-8442-c2b12cdb5527",
   "metadata": {},
   "outputs": [
    {
     "name": "stdout",
     "output_type": "stream",
     "text": [
      "/Users/ivan/Projects/Minireference/software/ateliers-prog/DjangoTutorialFR\n"
     ]
    }
   ],
   "source": [
    "%cd .."
   ]
  },
  {
   "cell_type": "code",
   "execution_count": 8,
   "id": "d8a8af03-cfa8-434c-ae0d-3dd84712f0fe",
   "metadata": {},
   "outputs": [
    {
     "name": "stdout",
     "output_type": "stream",
     "text": [
      " ./\n",
      "     django.ipynb\n",
      "     04_createsuperuser.ipynb\n",
      "     01_b_runserver.ipynb\n",
      "     01_a_install.ipynb\n",
      "     monproj/\n",
      "         manage.py\n",
      "         monproj/\n",
      "             __init__.py\n",
      "             settings.py\n",
      "             urls.py\n",
      "             wsgi.py\n",
      "         monsite/\n",
      "             models.py\n",
      "             __init__.py\n",
      "             apps.py\n",
      "             admin.py\n",
      "             tests.py\n",
      "             views.py\n",
      "             migrations/\n",
      "                 __init__.py\n"
     ]
    }
   ],
   "source": [
    "import os\n",
    "\n",
    "def tree():\n",
    "    \"\"\"Helper function that prints filesystem tree.\"\"\"\n",
    "    ignorables = [\"__pycache__\", \".gitignore\", \".DS_Store\", \".ipynb_checkpoints\", \".git\"]\n",
    "    for root, dirs, files in os.walk(\".\"):\n",
    "        path = root.split(os.sep)\n",
    "        if any(ign in path for ign in ignorables):\n",
    "            continue\n",
    "        indent = \"    \"\n",
    "        print((len(path) - 1) * indent, os.path.basename(root) + \"/\")\n",
    "        for file in files:\n",
    "            if file in ignorables:\n",
    "                continue\n",
    "            print(len(path) * indent, file)\n",
    "tree()"
   ]
  },
  {
   "cell_type": "code",
   "execution_count": null,
   "id": "1d233974-9cf4-4461-bc2e-7ddf6555dc5d",
   "metadata": {},
   "outputs": [],
   "source": []
  },
  {
   "cell_type": "code",
   "execution_count": 9,
   "id": "1a187d58-5210-4ab5-afd1-f29b918fb7e1",
   "metadata": {},
   "outputs": [
    {
     "data": {
      "text/plain": [
       "'/Users/ivan/Projects/Minireference/software/ateliers-prog/DjangoTutorialFR'"
      ]
     },
     "execution_count": 9,
     "metadata": {},
     "output_type": "execute_result"
    }
   ],
   "source": [
    "%pwd"
   ]
  },
  {
   "cell_type": "code",
   "execution_count": 10,
   "id": "ebe2d23f-ce58-41eb-9839-fb112049eb16",
   "metadata": {},
   "outputs": [
    {
     "name": "stdout",
     "output_type": "stream",
     "text": [
      "/Users/ivan/Projects/Minireference/software/ateliers-prog/DjangoTutorialFR/monproj\n"
     ]
    }
   ],
   "source": [
    "%cd monproj"
   ]
  },
  {
   "cell_type": "code",
   "execution_count": 13,
   "id": "cd563d6f-a8dc-4b05-b58b-dd75769f9f7a",
   "metadata": {},
   "outputs": [],
   "source": [
    "# !./manage.py help"
   ]
  },
  {
   "cell_type": "code",
   "execution_count": 15,
   "id": "143a7d06-831d-4d44-a958-b0753b6b662c",
   "metadata": {},
   "outputs": [],
   "source": [
    "# !./manage.py migrate"
   ]
  },
  {
   "cell_type": "code",
   "execution_count": 12,
   "id": "9272afd1-99d8-4e59-b434-98337e67f455",
   "metadata": {},
   "outputs": [
    {
     "name": "stdout",
     "output_type": "stream",
     "text": [
      "Performing system checks...\n",
      "\n",
      "System check identified no issues (0 silenced).\n",
      "June 27, 2022 - 03:16:41\n",
      "Django version 1.11.23, using settings 'monproj.settings'\n",
      "Starting development server at http://127.0.0.1:8000/\n",
      "Quit the server with CONTROL-C.\n",
      "[27/Jun/2022 03:16:43] \u001b[m\"GET / HTTP/1.1\" 200 1716\u001b[0m\n",
      "Performing system checks...\n",
      "\n",
      "System check identified no issues (0 silenced).\n",
      "June 27, 2022 - 03:18:37\n",
      "Django version 1.11.23, using settings 'monproj.settings'\n",
      "Starting development server at http://127.0.0.1:8000/\n",
      "Quit the server with CONTROL-C.\n",
      "^C\n"
     ]
    }
   ],
   "source": [
    "!./manage.py runserver"
   ]
  },
  {
   "cell_type": "markdown",
   "id": "9d4c5cd5-045a-4f9b-82d5-3cf16a0a53d6",
   "metadata": {},
   "source": [
    "hello \n",
    "```html\n",
    "<!doctype html>\n",
    "<html lang=\"en\">\n",
    "\n",
    "  <head>\n",
    "    <meta charset=\"utf-8\">\n",
    "    <title>Titre de la page</title>\n",
    "    <link rel=\"stylesheet\" href=\"https://cdn.jsdelivr.net/npm/bootstrap@4.4.1/dist/css/bootstrap.min.css\">\n",
    "    <style>\n",
    "        body {\n",
    "          padding-top: 4rem;\n",
    "        }\n",
    "    </style>\n",
    "  </head>\n",
    "\n",
    "  <body>\n",
    "    <main class=\"container\">\n",
    "\n",
    "      <div>\n",
    "        <h1>Titre principal</h1>\n",
    "        <p class=\"lead\">\n",
    "            Texte qui explique l'idée de ton site en deux phrases.<br>\n",
    "            Ceci est un document HTML barebones que nous allons modifier.\n",
    "        </p>\n",
    "      </div>\n",
    "\n",
    "    </main>\n",
    "  </body>\n",
    "\n",
    "</html>\n",
    "```"
   ]
  },
  {
   "cell_type": "markdown",
   "id": "445ad620-fcd4-47fd-8646-45f837f5a7f2",
   "metadata": {},
   "source": [
    "Use the stop button in the toolbar to stop the command (square icon)"
   ]
  },
  {
   "cell_type": "code",
   "execution_count": null,
   "id": "cb6c17d6-fcd0-426e-8bc6-61303afe8633",
   "metadata": {},
   "outputs": [],
   "source": []
  }
 ],
 "metadata": {
  "kernelspec": {
   "display_name": "Python 3 (ipykernel)",
   "language": "python",
   "name": "python3"
  },
  "language_info": {
   "codemirror_mode": {
    "name": "ipython",
    "version": 3
   },
   "file_extension": ".py",
   "mimetype": "text/x-python",
   "name": "python",
   "nbconvert_exporter": "python",
   "pygments_lexer": "ipython3",
   "version": "3.8.13"
  }
 },
 "nbformat": 4,
 "nbformat_minor": 5
}
